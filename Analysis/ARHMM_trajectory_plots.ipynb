{
 "cells": [
  {
   "cell_type": "code",
   "execution_count": 1,
   "metadata": {},
   "outputs": [],
   "source": [
    "import pandas as pd\n",
    "import numpy as np\n",
    "import seaborn as sns\n",
    "from ssm.plots import gradient_cmap\n",
    "import plotly.graph_objects as go\n",
    "from IPython.display import HTML , display\n",
    "from plotly import tools\n",
    "from ARHMM_plots import *\n",
    "from matplotlib import cm\n",
    "import plotly.express as px"
   ]
  },
  {
   "cell_type": "code",
   "execution_count": 2,
   "metadata": {},
   "outputs": [],
   "source": [
    "def rgb_to_hex(rgb):\n",
    "    return f'#{int(rgb[0]*256):02x}{int(rgb[1]*256):02x}{int(rgb[2]*256):02x}'\n",
    "\n",
    "def triangulate_histogram(x, y, z):\n",
    "\n",
    "    if len(x)  != len(y) != len(z) :\n",
    "        raise ValueError(\"The  lists x, y, z, must have the same length\")\n",
    "    n = len(x)\n",
    "    \n",
    "    if n % 2 :\n",
    "        raise ValueError(\"The length of lists x, y, z must be an even number\") \n",
    "    \n",
    "    pts3d = np.vstack((x, y, z)).T\n",
    "    pts3dp = np.array([[x[2*k+1], y[2*k+1], 0] for k in range(1, n//2-1)])\n",
    "    pts3d = np.vstack((pts3d, pts3dp))\n",
    "    \n",
    "    #triangulate the histogram bars:\n",
    "    tri = [[0,1,2], [0,2,n]]\n",
    "    \n",
    "    for k, i  in zip(list(range(n, n-3+n//2)), list(range(3, n-4, 2))):\n",
    "        tri.extend([[k, i, i+1], [k, i+1, k+1]])\n",
    "        \n",
    "    tri.extend([[n-3+n//2, n-3, n-2], [n-3+n//2, n-2, n-1]])      \n",
    "    \n",
    "    return pts3d, np.array(tri)\n",
    "\n",
    "def make_histogram_projections(fig,newdf,fig_row,fig_col,bar_color='#e763fa',bins=50):\n",
    "\n",
    "    # data binning and traces\n",
    "    col = 'bl'\n",
    "    a0_bl=np.histogram(newdf[col], bins=bins, density=False)[0].tolist()\n",
    "    a0_bl=np.repeat(a0_bl,2).tolist()\n",
    "    a0_bl.insert(0,0)\n",
    "    a0_bl.pop()\n",
    "    a0_bl[-1]=0\n",
    "    a1_bl=np.histogram(newdf[col], bins=bins-1, density=False)[1].tolist()\n",
    "    a1_bl=np.repeat(a1_bl,2)\n",
    "\n",
    "    verts, tri = triangulate_histogram([ranges['zmin']]*len(a0_bl), a1_bl, a0_bl / np.max(a0_bl))\n",
    "    x_bl, y_bl, z_bl = verts.T\n",
    "    I_bl, J_bl, K_bl = tri.T\n",
    "\n",
    "\n",
    "    col = 'yaw'\n",
    "    a0_yaw=np.histogram(newdf[col], bins=bins, density=False)[0].tolist()\n",
    "    a0_yaw=np.repeat(a0_yaw,2).tolist()\n",
    "    a0_yaw.insert(0,0)\n",
    "    a0_yaw.pop()\n",
    "    a0_yaw[-1]=0\n",
    "    a1_yaw=np.histogram(newdf[col], bins=bins-1, density=False)[1].tolist()\n",
    "    a1_yaw=np.repeat(a1_yaw,2)\n",
    "\n",
    "    verts, tri = triangulate_histogram([ranges['xmin']]*len(a0_yaw), a1_yaw, a0_yaw / np.max(a0_yaw))\n",
    "    x_yaw, y_yaw, z_yaw = verts.T\n",
    "    I_yaw, J_yaw, K_yaw = tri.T\n",
    "\n",
    "    col = 'speed'\n",
    "\n",
    "    a0_speed=np.histogram(newdf[col], bins=bins, density=False)[0].tolist()\n",
    "    a0_speed=np.repeat(a0_speed,2).tolist()\n",
    "    a0_speed.insert(0,0)\n",
    "    a0_speed.pop()\n",
    "    a0_speed[-1]=0\n",
    "    a1_speed=np.histogram(newdf[col], bins=bins-1, density=False)[1].tolist()\n",
    "    a1_speed=np.repeat(a1_speed,2)\n",
    "\n",
    "    verts, tri = triangulate_histogram([ranges['ymin']]*len(a0_speed), a1_speed, a0_speed / np.max(a0_speed))\n",
    "    x_speed, y_speed, z_speed = verts.T\n",
    "    I_speed, J_speed, K_speed = tri.T\n",
    "\n",
    "    newranges = {\n",
    "        'xmin':np.min(newdf['speed']),\n",
    "        'xmax':np.max(newdf['speed']),\n",
    "        'ymin':np.min(newdf['bl']),\n",
    "        'ymax':np.max(newdf['bl']),\n",
    "        'zmin':np.min(newdf['yaw']),\n",
    "        'zmax':np.max(newdf['yaw'])\n",
    "                }\n",
    "\n",
    "    # Speed\n",
    "    fig.add_traces(go.Mesh3d(x=newranges['xmin'] + (y_speed - np.min(y_speed))/(np.max(y_speed) - np.min(y_speed))*(newranges['xmax'] - newranges['xmin']), \n",
    "                             y=ranges['ymin'] + z_speed/np.max(z_speed)*(ranges['ymax'] - ranges['ymin'])*0.5, \n",
    "                             z=x_speed/np.max(x_speed)*ranges['zmin'], \n",
    "                             i=I_speed, j=J_speed, k=K_speed, color=bar_color, opacity=0.7),rows=[fig_row], cols=[fig_col])\n",
    "\n",
    "    # Body length\n",
    "    fig.add_traces(go.Mesh3d(x=x_bl/np.max(x_bl)*ranges['xmin'], \n",
    "                             y=newranges['ymin'] + (y_bl - np.min(y_bl))/(np.max(y_bl) - np.min(y_bl))*(newranges['ymax'] - newranges['ymin']), \n",
    "                             z=ranges['zmin'] + z_bl/np.max(z_bl)*(ranges['zmax'] - ranges['zmin'])*0.5, \n",
    "                             i=I_bl, j=J_bl, k=K_bl, color=bar_color, opacity=0.7),rows=fig_row, cols=fig_col)\n",
    "\n",
    "    # Yaw\n",
    "    fig.add_traces(go.Mesh3d(x=ranges['xmin'] + z_yaw/np.max(z_yaw)*(ranges['xmax'] - ranges['xmin'])*0.5, \n",
    "                             y=ranges['ymin']*x_yaw/np.max(x_yaw), \n",
    "                             z=newranges['zmin'] + (y_yaw - np.min(y_yaw))/(np.max(y_yaw) - np.min(y_yaw))*(newranges['zmax'] - newranges['zmin']), \n",
    "                             i=I_yaw, j=J_yaw, k=K_yaw, color=bar_color, opacity=0.7),rows=fig_row, cols=fig_col)\n",
    "\n",
    "    return fig"
   ]
  },
  {
   "cell_type": "code",
   "execution_count": 3,
   "metadata": {},
   "outputs": [],
   "source": [
    "\n",
    "data_csv = r'c:\\Users\\magnu\\OneDrive\\Dokument\\KI\\KI2020\\New_data_201120\\Mouse_frans\\20201120_behaviour2020_v_frans_1_pose_data.csv'\n",
    "vid_name = r'c:\\Users\\magnu\\OneDrive\\Dokument\\KI\\KI2020\\New_data_201120\\Mouse_frans\\20201120_behaviour2020_v_frans_1_recordingDLC_resnet50_KI2020_TrainingSep19shuffle1_400000_labeled.mp4'\n",
    "\n",
    "interval_start = 3500\n",
    "interval_end = 37755\n",
    "div = 1\n",
    "\n",
    "ARHMM_kwargs={  'kappa':1,\n",
    "                'use_best_K':True, \n",
    "                'K':None,\n",
    "                'epochs':20,\n",
    "                'start_K':1,\n",
    "                'end_K':5}\n",
    "\n",
    "make_vid=True\n",
    "smooth=True\n",
    "box_size=0.6\n",
    "box_pixel=400\n",
    "T=2e-3\n",
    "d=5\n",
    "seed=1\n",
    "\n",
    "\n",
    "timestr = time.strftime(\"%Y%m%d-%H%M%S\")\n",
    "p = os.path.normpath(data_csv)\n",
    "newpath = os.sep.join([os.sep.join(p.split(os.sep)[:-1]), 'results',timestr])\n",
    "\n",
    "Path(newpath).mkdir(parents=True, exist_ok=True)\n",
    "\n",
    "interval = range(interval_start,interval_end,div)\n",
    "\n",
    "df = pd.read_csv(data_csv)\n"
   ]
  },
  {
   "cell_type": "code",
   "execution_count": 4,
   "metadata": {},
   "outputs": [
    {
     "name": "stderr",
     "output_type": "stream",
     "text": [
      "C:\\Users\\magnu\\OneDrive\\Dokument\\KI\\KI2020\\Analysis\\ARHMM_utils.py:97: SettingWithCopyWarning:\n",
      "\n",
      "\n",
      "A value is trying to be set on a copy of a slice from a DataFrame.\n",
      "Try using .loc[row_indexer,col_indexer] = value instead\n",
      "\n",
      "See the caveats in the documentation: https://pandas.pydata.org/pandas-docs/stable/user_guide/indexing.html#returning-a-view-versus-a-copy\n",
      "\n",
      "C:\\Users\\magnu\\OneDrive\\Dokument\\KI\\KI2020\\Analysis\\ARHMM_utils.py:98: SettingWithCopyWarning:\n",
      "\n",
      "\n",
      "A value is trying to be set on a copy of a slice from a DataFrame.\n",
      "Try using .loc[row_indexer,col_indexer] = value instead\n",
      "\n",
      "See the caveats in the documentation: https://pandas.pydata.org/pandas-docs/stable/user_guide/indexing.html#returning-a-view-versus-a-copy\n",
      "\n"
     ]
    },
    {
     "name": "stdout",
     "output_type": "stream",
     "text": [
      "Number of outliers removed: 4223 (0.12329567019941023 %)\n"
     ]
    },
    {
     "ename": "ValueError",
     "evalue": "too many values to unpack (expected 4)",
     "output_type": "error",
     "traceback": [
      "\u001b[1;31m---------------------------------------------------------------------------\u001b[0m",
      "\u001b[1;31mValueError\u001b[0m                                Traceback (most recent call last)",
      "\u001b[1;32m<ipython-input-4-dc5fe5f785a7>\u001b[0m in \u001b[0;36m<module>\u001b[1;34m\u001b[0m\n\u001b[1;32m----> 1\u001b[1;33m \u001b[0mpreproc_data\u001b[0m \u001b[1;33m,\u001b[0m \u001b[0mspeed\u001b[0m \u001b[1;33m,\u001b[0m \u001b[0mhead_body_angle\u001b[0m \u001b[1;33m,\u001b[0m \u001b[0mbody_len\u001b[0m \u001b[1;33m=\u001b[0m \u001b[0mpreprocess_data\u001b[0m\u001b[1;33m(\u001b[0m\u001b[0mdf\u001b[0m\u001b[1;33m,\u001b[0m \u001b[0minterval\u001b[0m\u001b[1;33m,\u001b[0m \u001b[0mdiv\u001b[0m\u001b[1;33m,\u001b[0m \u001b[0msmooth\u001b[0m\u001b[1;33m,\u001b[0m \u001b[0mbox_size\u001b[0m\u001b[1;33m,\u001b[0m \u001b[0mbox_pixel\u001b[0m\u001b[1;33m,\u001b[0m \u001b[0md\u001b[0m\u001b[1;33m,\u001b[0m \u001b[0mT\u001b[0m\u001b[1;33m)\u001b[0m\u001b[1;33m\u001b[0m\u001b[1;33m\u001b[0m\u001b[0m\n\u001b[0m\u001b[0;32m      2\u001b[0m \u001b[1;33m\u001b[0m\u001b[0m\n\u001b[0;32m      3\u001b[0m \u001b[0mhmm\u001b[0m \u001b[1;33m,\u001b[0m \u001b[0mbest_K\u001b[0m \u001b[1;33m,\u001b[0m \u001b[0mnum_states\u001b[0m \u001b[1;33m,\u001b[0m \u001b[0mval_lls\u001b[0m \u001b[1;33m,\u001b[0m \u001b[0mtrain_lls\u001b[0m \u001b[1;33m,\u001b[0m \u001b[0mbest_val_lls\u001b[0m \u001b[1;33m,\u001b[0m \u001b[0mbest_train_lls\u001b[0m \u001b[1;33m=\u001b[0m \u001b[0mproduce_ARHMM_data\u001b[0m\u001b[1;33m(\u001b[0m\u001b[0mpreproc_data\u001b[0m\u001b[1;33m,\u001b[0m \u001b[0mARHMM_kwargs\u001b[0m\u001b[1;33m,\u001b[0m \u001b[0mseed\u001b[0m\u001b[1;33m)\u001b[0m\u001b[1;33m\u001b[0m\u001b[1;33m\u001b[0m\u001b[0m\n\u001b[0;32m      4\u001b[0m \u001b[1;33m\u001b[0m\u001b[0m\n\u001b[0;32m      5\u001b[0m \u001b[0mhmm_z\u001b[0m \u001b[1;33m=\u001b[0m \u001b[0mhmm\u001b[0m\u001b[1;33m.\u001b[0m\u001b[0mmost_likely_states\u001b[0m\u001b[1;33m(\u001b[0m\u001b[0mpreproc_data\u001b[0m\u001b[1;33m,\u001b[0m\u001b[1;33m)\u001b[0m\u001b[1;33m\u001b[0m\u001b[1;33m\u001b[0m\u001b[0m\n",
      "\u001b[1;31mValueError\u001b[0m: too many values to unpack (expected 4)"
     ]
    }
   ],
   "source": [
    "\n",
    "preproc_data , speed , head_body_angle , body_len = preprocess_data(df, interval, div, smooth, box_size, box_pixel, d, T)\n",
    "\n",
    "hmm , best_K , num_states , val_lls , train_lls , best_val_lls , best_train_lls = produce_ARHMM_data(preproc_data, ARHMM_kwargs, seed)\n",
    "\n",
    "hmm_z = hmm.most_likely_states(preproc_data,)\n",
    "\n",
    "print(f'Best K: {best_K}')"
   ]
  },
  {
   "cell_type": "code",
   "execution_count": 5,
   "metadata": {},
   "outputs": [
    {
     "data": {
      "image/png": "[encoded data removed]",
      "text/plain": [
       "<Figure size 432x288 with 1 Axes>"
      ]
     },
     "metadata": {
      "needs_background": "light"
     },
     "output_type": "display_data"
    }
   ],
   "source": [
    "\n",
    "color_names = [\n",
    "    \"windows blue\",\n",
    "    \"red\",\n",
    "    \"amber\",\n",
    "    \"faded green\",\n",
    "    \"dusty purple\",\n",
    "    \"orange\"\n",
    "\n",
    "    ]\n",
    "\n",
    "colors = sns.xkcd_palette(color_names)\n",
    "cmap = gradient_cmap(colors)\n",
    "\n",
    "im = plt.imshow(hmm_z[None,:], aspect=\"auto\", cmap=cmap, vmin=0, vmax=max(hmm_z) + 1)\n",
    "plt.show()\n",
    "\n",
    "values = np.unique(hmm_z)\n",
    "colors = [ im.cmap(im.norm(value))[:-1] for value in values ]\n",
    "\n",
    "df = pd.DataFrame(data={'state':hmm_z,'speed':speed,'bl':body_len,'yaw':head_body_angle})\n",
    "\n",
    "df['state_consec'] = (df.state.diff(1) != 0).astype('int')\n",
    "\n",
    "df['state_appearence'] = df.groupby('state')['state_consec'].cumsum()\n",
    "\n",
    "df['u'] = df.speed.diff(1)\n",
    "df['v'] = df.bl.diff(1)\n",
    "df['w'] = df.yaw.diff(1)\n",
    "\n",
    "df['norms'] = np.sqrt(df['u']**2 + df['v']**2 + df['w']**2)\n",
    "\n",
    "max_appearence = max(df['state_appearence'])\n",
    "state_values = np.unique(df['state_appearence'])\n",
    "\n"
   ]
  },
  {
   "cell_type": "code",
   "execution_count": 40,
   "metadata": {},
   "outputs": [
    {
     "ename": "ModuleNotFoundError",
     "evalue": "No module named 'cmocean'",
     "output_type": "error",
     "traceback": [
      "\u001b[1;31m---------------------------------------------------------------------------\u001b[0m",
      "\u001b[1;31mModuleNotFoundError\u001b[0m                       Traceback (most recent call last)",
      "\u001b[1;32m<ipython-input-40-99fef696d6c8>\u001b[0m in \u001b[0;36m<module>\u001b[1;34m\u001b[0m\n\u001b[1;32m----> 1\u001b[1;33m \u001b[1;32mimport\u001b[0m \u001b[0mcmocean\u001b[0m\u001b[1;33m\u001b[0m\u001b[1;33m\u001b[0m\u001b[0m\n\u001b[0m",
      "\u001b[1;31mModuleNotFoundError\u001b[0m: No module named 'cmocean'"
     ]
    }
   ],
   "source": []
  },
  {
   "cell_type": "code",
   "execution_count": 50,
   "metadata": {},
   "outputs": [
    {
     "name": "stdout",
     "output_type": "stream",
     "text": [
      "row: 0 , row: 0\n"
     ]
    },
    {
     "name": "stderr",
     "output_type": "stream",
     "text": [
      "C:\\Users\\magnu\\anaconda3\\envs\\DLC-GPU\\lib\\site-packages\\ipykernel_launcher.py:62: SettingWithCopyWarning:\n",
      "\n",
      "\n",
      "A value is trying to be set on a copy of a slice from a DataFrame.\n",
      "Try using .loc[row_indexer,col_indexer] = value instead\n",
      "\n",
      "See the caveats in the documentation: https://pandas.pydata.org/pandas-docs/stable/user_guide/indexing.html#returning-a-view-versus-a-copy\n",
      "\n",
      "C:\\Users\\magnu\\anaconda3\\envs\\DLC-GPU\\lib\\site-packages\\ipykernel_launcher.py:63: SettingWithCopyWarning:\n",
      "\n",
      "\n",
      "A value is trying to be set on a copy of a slice from a DataFrame.\n",
      "Try using .loc[row_indexer,col_indexer] = value instead\n",
      "\n",
      "See the caveats in the documentation: https://pandas.pydata.org/pandas-docs/stable/user_guide/indexing.html#returning-a-view-versus-a-copy\n",
      "\n",
      "C:\\Users\\magnu\\anaconda3\\envs\\DLC-GPU\\lib\\site-packages\\ipykernel_launcher.py:64: SettingWithCopyWarning:\n",
      "\n",
      "\n",
      "A value is trying to be set on a copy of a slice from a DataFrame.\n",
      "Try using .loc[row_indexer,col_indexer] = value instead\n",
      "\n",
      "See the caveats in the documentation: https://pandas.pydata.org/pandas-docs/stable/user_guide/indexing.html#returning-a-view-versus-a-copy\n",
      "\n"
     ]
    },
    {
     "name": "stdout",
     "output_type": "stream",
     "text": [
      "row: 0 , row: 1\n",
      "row: 0 , row: 2\n",
      "row: 1 , row: 0\n"
     ]
    },
    {
     "data": {
      "text/plain": [
       "Layout({\n",
       "    'annotations': [{'font': {'size': 16},\n",
       "                     'showarrow': False,\n",
       "                     'text': 'State 0',\n",
       "                     'x': 0.14444444444444446,\n",
       "                     'xanchor': 'center',\n",
       "                     'xref': 'paper',\n",
       "                     'y': 1.0,\n",
       "                     'yanchor': 'bottom',\n",
       "                     'yref': 'paper'},\n",
       "                    {'font': {'size': 16},\n",
       "                     'showarrow': False,\n",
       "                     'text': 'State 1',\n",
       "                     'x': 0.5,\n",
       "                     'xanchor': 'center',\n",
       "                     'xref': 'paper',\n",
       "                     'y': 1.0,\n",
       "                     'yanchor': 'bottom',\n",
       "                     'yref': 'paper'},\n",
       "                    {'font': {'size': 16},\n",
       "                     'showarrow': False,\n",
       "                     'text': 'State 2',\n",
       "                     'x': 0.8555555555555556,\n",
       "                     'xanchor': 'center',\n",
       "                     'xref': 'paper',\n",
       "                     'y': 1.0,\n",
       "                     'yanchor': 'bottom',\n",
       "                     'yref': 'paper'},\n",
       "                    {'font': {'size': 16},\n",
       "                     'showarrow': False,\n",
       "                     'text': 'State 3',\n",
       "                     'x': 0.14444444444444446,\n",
       "                     'xanchor': 'center',\n",
       "                     'xref': 'paper',\n",
       "                     'y': 0.375,\n",
       "                     'yanchor': 'bottom',\n",
       "                     'yref': 'paper'}],\n",
       "    'height': 1000,\n",
       "    'scene': {'domain': {'x': [0.0, 0.3], 'y': [0.50005, 1.0]},\n",
       "              'xaxis': {'backgroundcolor': 'rgb(200,200,230)',\n",
       "                        'nticks': 8,\n",
       "                        'range': [0.0025949636727172964, 0.5],\n",
       "                        'title': {'text': 'Speed (m/sec)'}},\n",
       "              'yaxis': {'backgroundcolor': 'rgb(200,200,230)',\n",
       "                        'nticks': 8,\n",
       "                        'range': [0.0292776889784078, 0.07836515706295802],\n",
       "                        'title': {'text': 'Body length (m)'}},\n",
       "              'zaxis': {'backgroundcolor': 'rgb(200,200,230)',\n",
       "                        'nticks': 8,\n",
       "                        'range': [-40.0, 40.0],\n",
       "                        'title': {'text': 'Yaw (degrees)'}}},\n",
       "    'scene2': {'domain': {'x': [0.35, 0.6499999999999999], 'y': [0.50005, 1.0]},\n",
       "               'xaxis': {'backgroundcolor': 'rgb(200,200,230)',\n",
       "                         'nticks': 8,\n",
       "                         'range': [0.0025949636727172964, 0.5],\n",
       "                         'title': {'text': 'Speed (m/sec)'}},\n",
       "               'yaxis': {'backgroundcolor': 'rgb(200,200,230)',\n",
       "                         'nticks': 8,\n",
       "                         'range': [0.0292776889784078, 0.07836515706295802],\n",
       "                         'title': {'text': 'Body length (m)'}},\n",
       "               'zaxis': {'backgroundcolor': 'rgb(200,200,230)',\n",
       "                         'nticks': 8,\n",
       "                         'range': [-40.0, 40.0],\n",
       "                         'title': {'text': 'Yaw (degrees)'}}},\n",
       "    'scene3': {'domain': {'x': [0.7, 1.0], 'y': [0.50005, 1.0]},\n",
       "               'xaxis': {'backgroundcolor': 'rgb(200,200,230)',\n",
       "                         'nticks': 8,\n",
       "                         'range': [0.0025949636727172964, 0.5],\n",
       "                         'title': {'text': 'Speed (m/sec)'}},\n",
       "               'yaxis': {'backgroundcolor': 'rgb(200,200,230)',\n",
       "                         'nticks': 8,\n",
       "                         'range': [0.0292776889784078, 0.07836515706295802],\n",
       "                         'title': {'text': 'Body length (m)'}},\n",
       "               'zaxis': {'backgroundcolor': 'rgb(200,200,230)',\n",
       "                         'nticks': 8,\n",
       "                         'range': [-40.0, 40.0],\n",
       "                         'title': {'text': 'Yaw (degrees)'}}},\n",
       "    'scene4': {'domain': {'x': [0.0, 0.3], 'y': [0.0, 0.49995]},\n",
       "               'xaxis': {'backgroundcolor': 'rgb(200,200,230)',\n",
       "                         'nticks': 8,\n",
       "                         'range': [0.0025949636727172964, 0.5],\n",
       "                         'title': {'text': 'Speed (m/sec)'}},\n",
       "               'yaxis': {'backgroundcolor': 'rgb(200,200,230)',\n",
       "                         'nticks': 8,\n",
       "                         'range': [0.0292776889784078, 0.07836515706295802],\n",
       "                         'title': {'text': 'Body length (m)'}},\n",
       "               'zaxis': {'backgroundcolor': 'rgb(200,200,230)',\n",
       "                         'nticks': 8,\n",
       "                         'range': [-40.0, 40.0],\n",
       "                         'title': {'text': 'Yaw (degrees)'}}},\n",
       "    'scene5': {'domain': {'x': [0.35, 0.6499999999999999], 'y': [0.0, 0.49995]}},\n",
       "    'scene6': {'domain': {'x': [0.7, 1.0], 'y': [0.0, 0.49995]}},\n",
       "    'template': '...',\n",
       "    'width': 1000\n",
       "})"
      ]
     },
     "execution_count": 50,
     "metadata": {},
     "output_type": "execute_result"
    }
   ],
   "source": [
    "\n",
    "color_names = [\n",
    "    \"windows blue\",\n",
    "    \"red\",\n",
    "    \"amber\",\n",
    "    \"faded green\",\n",
    "    \"dusty purple\",\n",
    "    \"orange\"\n",
    "\n",
    "    ]\n",
    "\n",
    "colors = sns.xkcd_palette(color_names)\n",
    "cmap = gradient_cmap(colors)\n",
    "\n",
    "state_colors = [rgb_to_hex(cmap(value/np.max(values))[:-1]) for value in values ]\n",
    "\n",
    "# Make 3D scatter plot with all variables\n",
    "ranges = {\n",
    "    'xmax':max(df['speed']),\n",
    "    'xmin':min(df['speed']),\n",
    "    'ymax':max(df['bl']),\n",
    "    'ymin':min(df['bl']),\n",
    "    'zmax':max(df['yaw']),\n",
    "    'zmin':min(df['yaw'])}\n",
    "\n",
    "titles = {'x':'Speed (m/sec)' ,\n",
    "         'y':'Body length (m)',\n",
    "         'z':'Yaw (degrees)'}\n",
    "\n",
    "n = len(values)\n",
    "ncols = 3\n",
    "nrows = n // ncols + 1\n",
    "\n",
    "cmap_trace = cm.get_cmap('CMRmap')\n",
    "\n",
    "#colors = sns.xkcd_palette(color_names)\n",
    "#cmap = gradient_cmap(colors)\n",
    "\n",
    "specs = [[{'is_3d':True} for _ in range(ncols)] for _ in range(nrows)]\n",
    "fig = make_subplots(\n",
    "    rows=nrows, cols=ncols,\n",
    "    specs=specs,\n",
    "     vertical_spacing=0.0001,\n",
    "    horizontal_spacing=0.05)\n",
    "\n",
    "# Plotting tracjectories\n",
    "\n",
    "# For each state\n",
    "for i,k in enumerate(values):\n",
    "    newdf = df[df['state'] == k]\n",
    "    occurences = np.unique(newdf['state_appearence'])\n",
    "    curr_row = i // ncols + 1\n",
    "    curr_col = i % ncols + 1\n",
    "        \n",
    "    make_histogram_projections(fig,newdf,curr_row,curr_col,bar_color=state_colors[i])\n",
    "\n",
    "    print(f'row: {i // ncols} , row: {i % ncols}')\n",
    "    for occurence in occurences:\n",
    "        tmpdf = newdf[newdf['state_appearence'] == occurence]\n",
    "\n",
    "        colors = [ cmap_trace(j/len(tmpdf)) for j in range(len(tmpdf) + 1) ]\n",
    "\n",
    "        tmpdf['x'] = tmpdf.speed.rolling(2).sum() / 2\n",
    "        tmpdf['y'] = tmpdf.bl.rolling(2).sum() / 2\n",
    "        tmpdf['z'] = tmpdf.yaw.rolling(2).sum() / 2\n",
    "\n",
    "        fig.add_trace(go.Scatter3d(\n",
    "            x=tmpdf['speed'],\n",
    "            y=tmpdf['bl'],\n",
    "            z=tmpdf['yaw'],\n",
    "            name = f'O:{occurence}',\n",
    "            mode= 'lines',\n",
    "            \n",
    "#           marker = dict(color=colors, size=0,\n",
    "#                         line=dict(\n",
    "#                color='Black',\n",
    "#                width=0\n",
    "#            )),\n",
    "            showlegend = False,\n",
    "            line = dict(color=colors,width=4),\n",
    "        ),\n",
    "                     row = curr_row, col = curr_col)\n",
    "        \n",
    "        fig.add_trace(go.Scatter3d(\n",
    "            x=[tmpdf['speed'].iloc[0]],\n",
    "            y=[tmpdf['bl'].iloc[0]],\n",
    "            z=[tmpdf['yaw'].iloc[0]],\n",
    "            name = f'Start O:{occurence}',\n",
    "            opacity = 0.7,\n",
    "            showlegend = False,\n",
    "            marker = dict(color=colors[0], size=3)\n",
    "        ),\n",
    "                     row = curr_row, col = curr_col)\n",
    "        \n",
    "        fig.add_trace(go.Scatter3d(\n",
    "            x=[tmpdf['speed'].iloc[-1]],\n",
    "            y=[tmpdf['bl'].iloc[-1]],\n",
    "            z=[tmpdf['yaw'].iloc[-1]],\n",
    "            name = f'End O:{occurence}',\n",
    "            opacity = 0.7,\n",
    "            showlegend = False,\n",
    "            marker = dict(color=colors[-1], size=3)\n",
    "        ),\n",
    "                      row = curr_row, col = curr_col)\n",
    "        \n",
    "        \n",
    "        \n",
    "        for xyz in ['x','y','z']:\n",
    "            fig['layout'][f'scene{i+1}'][f'{xyz}axis']['backgroundcolor'] = 'rgb(200,200,230)'\n",
    "            fig['layout'][f'scene{i+1}'][f'{xyz}axis']['range'] = [ranges[f'{xyz}min'],ranges[f'{xyz}max']]\n",
    "            fig['layout'][f'scene{i+1}'][f'{xyz}axis']['title'] = titles[xyz]\n",
    "            fig['layout'][f'scene{i+1}'][f'{xyz}axis']['nticks'] = 8\n",
    "\n",
    "    \n",
    "    fig.update_layout(height=1000 , width=1000)\n",
    "\n",
    "    \n",
    "        \n",
    "annotations = tools.make_subplots(rows=nrows, cols=ncols, \n",
    "                                  subplot_titles=[f'State {i}' for i in values],\n",
    "                                  shared_xaxes=True, shared_yaxes=True)['layout']['annotations']\n",
    "\n",
    "fig['layout'].update(annotations=annotations)\n"
   ]
  },
  {
   "cell_type": "code",
   "execution_count": 51,
   "metadata": {
    "scrolled": true
   },
   "outputs": [],
   "source": [
    "fig.write_html(get_savestr(newpath, f'3d_trajectories_{best_K}','.html'))"
   ]
  },
  {
   "cell_type": "code",
   "execution_count": 49,
   "metadata": {},
   "outputs": [
    {
     "data": {
      "text/plain": [
       "(0.03137254901960784, 0.11372549019607843, 0.34509803921568627, 1.0)"
      ]
     },
     "execution_count": 49,
     "metadata": {},
     "output_type": "execute_result"
    }
   ],
   "source": [
    "cmap_trace = cm.get_cmap('YlGnBu')\n",
    "cmap_trace(256)"
   ]
  },
  {
   "cell_type": "code",
   "execution_count": 3,
   "metadata": {},
   "outputs": [
    {
     "name": "stderr",
     "output_type": "stream",
     "text": [
      "C:\\Users\\magnu\\OneDrive\\Dokument\\KI\\KI2020\\Analysis\\ARHMM_utils.py:97: SettingWithCopyWarning:\n",
      "\n",
      "\n",
      "A value is trying to be set on a copy of a slice from a DataFrame.\n",
      "Try using .loc[row_indexer,col_indexer] = value instead\n",
      "\n",
      "See the caveats in the documentation: https://pandas.pydata.org/pandas-docs/stable/user_guide/indexing.html#returning-a-view-versus-a-copy\n",
      "\n",
      "C:\\Users\\magnu\\OneDrive\\Dokument\\KI\\KI2020\\Analysis\\ARHMM_utils.py:98: SettingWithCopyWarning:\n",
      "\n",
      "\n",
      "A value is trying to be set on a copy of a slice from a DataFrame.\n",
      "Try using .loc[row_indexer,col_indexer] = value instead\n",
      "\n",
      "See the caveats in the documentation: https://pandas.pydata.org/pandas-docs/stable/user_guide/indexing.html#returning-a-view-versus-a-copy\n",
      "\n"
     ]
    },
    {
     "name": "stdout",
     "output_type": "stream",
     "text": [
      "Number of outliers removed: 285 (0.012954545454545455 %)\n"
     ]
    }
   ],
   "source": [
    "data_csv = r'c:\\Users\\magnu\\OneDrive\\Dokument\\KTH\\2020HT\\DD2430_-_Project_Course_in_Data_Science\\sharing\\New_data_201120\\Mouse_2050\\20201120_behaviour2020_v_2050_for_frans_1_pose_data.csv'\n",
    "hmm_csv = r'c:\\Users\\magnu\\OneDrive\\Dokument\\KTH\\2020HT\\DD2430_-_Project_Course_in_Data_Science\\mouse_data\\mouse_data\\mouse_2053_20201214-161435\\hmm_model_13_states_1_kappa.p'\n",
    "\n",
    "interval_start = 0\n",
    "interval_end = 220000\n",
    "d = 5\n",
    "div = 10\n",
    "if interval_end in ['end',-1]:\n",
    "    interval_end = len(data_frame) - 1\n",
    "\n",
    "interval = range(interval_start,interval_end)\n",
    "\n",
    "timestr = time.strftime(\"%Y%m%d-%H%M%S\")\n",
    "p = os.path.normpath(data_csv)\n",
    "newpath = os.sep.join([os.sep.join(p.split(os.sep)[:-1]), 'results',timestr])\n",
    "Path(newpath).mkdir(parents=True, exist_ok=True)\n",
    "\n",
    "\n",
    "data_frame = pd.read_csv(data_csv)\n",
    "\n",
    "with open(hmm_csv,'rb') as f:\n",
    "    hmm = pickle.load(f)\n",
    "\n",
    "data_to_use , df , speed , head_body_angle , body_len , outliers = preprocess_data(data_frame, interval, div=div, d=d)\n",
    "\n",
    "interval = np.linspace(interval_start + d,interval_end-len(outliers),len(speed))\n",
    "\n",
    "hmm_z = hmm.most_likely_states(data_to_use)\n",
    "\n",
    "df['state'] = hmm_z\n"
   ]
  },
  {
   "cell_type": "code",
   "execution_count": 4,
   "metadata": {},
   "outputs": [
    {
     "name": "stdout",
     "output_type": "stream",
     "text": [
      "Number of outliers removed: 12968 (5.902594446973145 %)\n"
     ]
    }
   ],
   "source": [
    "\n",
    "data_frame = pd.read_csv(data_csv)\n",
    "\n",
    "with open(hmm_csv,'rb') as f:\n",
    "    hmm = pickle.load(f)\n",
    "\n",
    "data_to_use , df , speed , head_body_angle , body_len , outliers = preprocess_data(data_frame, interval, div=div, d=d)\n",
    "\n",
    "interval = np.linspace(interval_start + d,interval_end-len(outliers),len(speed))\n",
    "\n",
    "hmm_z = hmm.most_likely_states(data_to_use)\n",
    "\n",
    "df['state'] = hmm_z"
   ]
  },
  {
   "cell_type": "code",
   "execution_count": 5,
   "metadata": {},
   "outputs": [],
   "source": [
    "from hmm_3d_trajectories import make_histogram_projections"
   ]
  },
  {
   "cell_type": "code",
   "execution_count": 26,
   "metadata": {},
   "outputs": [
    {
     "name": "stdout",
     "output_type": "stream",
     "text": [
      "0\n",
      "1\n",
      "2\n",
      "3\n",
      "4\n",
      "5\n",
      "6\n",
      "7\n"
     ]
    }
   ],
   "source": [
    "\n",
    "df['state_consec'] = (df.state.diff(1) != 0).astype('int')\n",
    "\n",
    "df['state_appearence'] = df.groupby('state')['state_consec'].cumsum()\n",
    "\n",
    "values = np.unique(df['state'])\n",
    "\n",
    "color_names = [\n",
    "\"windows blue\",\n",
    "\"red\",\n",
    "\"amber\",\n",
    "\"faded green\",\n",
    "\"dusty purple\",\n",
    "\"orange\",\n",
    "\"dark navy\",\n",
    "\"light urple\",\n",
    "\"rosa\",\n",
    "\"cinnamon\",\n",
    "\"bruise\",\n",
    "\"dark sage\"\n",
    "]\n",
    "\n",
    "colors = sns.xkcd_palette(color_names)\n",
    "cmap = gradient_cmap(colors)\n",
    "\n",
    "state_colors = [rgb_to_hex(cmap(value/np.max(values))[:-1]) for value in values]\n",
    "\n",
    "# Make 3D scatter plot with all variables\n",
    "ranges = {\n",
    "    'xmax':max(df['speed']),\n",
    "    'xmin':min(df['speed']),\n",
    "    'ymax':max(df['bl']),\n",
    "    'ymin':min(df['bl']),\n",
    "    'zmax':max(df['yaw']),\n",
    "    'zmin':min(df['yaw'])}\n",
    "\n",
    "titles = {'x':'Speed (m/sec)' ,\n",
    "     'y':'Body length (m)',\n",
    "     'z':'Yaw (radians)'}\n",
    "\n",
    "n = len(values)\n",
    "\n",
    "ncols = 1\n",
    "nrows = 1\n",
    "\n",
    "cmap_trace = cm.get_cmap('CMRmap')\n",
    "\n",
    "specs = [[{'is_3d':True} for _ in range(ncols)] for _ in range(nrows)]\n",
    "\n",
    "    #vertical_spacing=0.0001,\n",
    "    #horizontal_spacing=0.05)\n",
    "\n",
    "#fig.update_layout(height=1000,width=1000)\n",
    "\n",
    "max_occ = []\n",
    "\n",
    "for i,k in enumerate(values):\n",
    "    print(i)\n",
    "    savename = f'3d_trajectory_{k}.html'\n",
    "    \n",
    "    fig = make_subplots(\n",
    "    rows=nrows, cols=ncols,\n",
    "    specs=specs)\n",
    "\n",
    "    newdf = df[df['state'] == k]\n",
    "    occurences = np.unique(newdf['state_appearence'])\n",
    "    curr_row = 1\n",
    "    curr_col = 1\n",
    "\n",
    "    make_histogram_projections(fig,newdf,ranges,curr_row,curr_col,bar_color=state_colors[i])\n",
    "\n",
    "    if len(occurences) > 0:\n",
    "        max_occ.append(max(occurences))\n",
    "    else:\n",
    "        max_occ.append(0)\n",
    "\n",
    "    for occurence in occurences:\n",
    "        tmpdf = newdf[newdf['state_appearence'] == occurence]\n",
    "\n",
    "        colors = [ cmap_trace(j/len(tmpdf)) for j in range(len(tmpdf)) ]\n",
    "\n",
    "        fig.add_trace(go.Scatter3d(\n",
    "            x=tmpdf['speed'],\n",
    "            y=tmpdf['bl'],\n",
    "            z=tmpdf['yaw'],\n",
    "            name = f'O:{occurence}',\n",
    "            mode= 'lines',\n",
    "            showlegend = False,\n",
    "            line = dict(color=colors,width=4),\n",
    "            ),\n",
    "                 row = curr_row, col = curr_col)\n",
    "\n",
    "        # Add start and end points to each trajectory\n",
    "        fig.add_trace(go.Scatter3d(\n",
    "            x=[tmpdf['speed'].iloc[0]],\n",
    "            y=[tmpdf['bl'].iloc[0]],\n",
    "            z=[tmpdf['yaw'].iloc[0]],\n",
    "            name = f'Start O:{occurence}',\n",
    "            opacity = 0.7,\n",
    "            showlegend = False,\n",
    "            marker = dict(color=colors[0], size=3)\n",
    "            ),\n",
    "                    row = curr_row, col = curr_col)\n",
    "\n",
    "        fig.add_trace(go.Scatter3d(\n",
    "            x=[tmpdf['speed'].iloc[-1]],\n",
    "            y=[tmpdf['bl'].iloc[-1]],\n",
    "            z=[tmpdf['yaw'].iloc[-1]],\n",
    "            name = f'End O:{occurence}',\n",
    "            opacity = 0.7,\n",
    "            showlegend = False,\n",
    "            marker = dict(color=colors[-1], size=3)\n",
    "            ),\n",
    "                    row = curr_row, col = curr_col)\n",
    "\n",
    "    for xyz in ['x','y','z']:\n",
    "        fig['layout'][f'scene'][f'{xyz}axis']['backgroundcolor'] = 'rgb(200,200,230)'\n",
    "        fig['layout'][f'scene'][f'{xyz}axis']['range'] = [ranges[f'{xyz}min'],ranges[f'{xyz}max']]\n",
    "        fig['layout'][f'scene'][f'{xyz}axis']['title'] = titles[xyz]\n",
    "        #fig['layout'][f'scene'][f'{xyz}axis']['title']['font'] = {'size':5}\n",
    "        fig['layout'][f'scene'][f'{xyz}axis']['nticks'] = 8\n",
    "        fig.layout['scene']['camera'] = dict(eye=dict(x=1.7, y=1.7, z=1.7))\n",
    "    \n",
    "\n",
    "    annotations = tools.make_subplots(rows=nrows, cols=ncols,\n",
    "    subplot_titles=[f'State {values[i]} , {max_occ[i]} trajectories']\n",
    "            )['layout']['annotations']\n",
    "\n",
    "    fig['layout'].update(annotations=annotations)\n",
    "\n",
    "    fig.write_html(savename)\n",
    "    \n",
    "    name , ext = os.path.splitext(savename)\n",
    "    newname = name + '.pdf'\n",
    "    fig.write_image(newname)\n",
    "    "
   ]
  },
  {
   "cell_type": "code",
   "execution_count": 21,
   "metadata": {},
   "outputs": [
    {
     "data": {
      "application/vnd.plotly.v1+json": {
       "config": {
        "plotlyServerURL": "https://plot.ly"
       },
       "data": [
        {
         "color": "#9ab25a",
         "i": [
          0,
          0,
          100,
          100,
          101,
          101,
          102,
          102,
          103,
          103,
          104,
          104,
          105,
          105,
          106,
          106,
          107,
          107,
          108,
          108,
          109,
          109,
          110,
          110,
          111,
          111,
          112,
          112,
          113,
          113,
          114,
          114,
          115,
          115,
          116,
          116,
          117,
          117,
          118,
          118,
          119,
          119,
          120,
          120,
          121,
          121,
          122,
          122,
          123,
          123,
          124,
          124,
          125,
          125,
          126,
          126,
          127,
          127,
          128,
          128,
          129,
          129,
          130,
          130,
          131,
          131,
          132,
          132,
          133,
          133,
          134,
          134,
          135,
          135,
          136,
          136,
          137,
          137,
          138,
          138,
          139,
          139,
          140,
          140,
          141,
          141,
          142,
          142,
          143,
          143,
          144,
          144,
          145,
          145,
          146,
          146,
          147,
          147
         ],
         "j": [
          1,
          2,
          3,
          4,
          5,
          6,
          7,
          8,
          9,
          10,
          11,
          12,
          13,
          14,
          15,
          16,
          17,
          18,
          19,
          20,
          21,
          22,
          23,
          24,
          25,
          26,
          27,
          28,
          29,
          30,
          31,
          32,
          33,
          34,
          35,
          36,
          37,
          38,
          39,
          40,
          41,
          42,
          43,
          44,
          45,
          46,
          47,
          48,
          49,
          50,
          51,
          52,
          53,
          54,
          55,
          56,
          57,
          58,
          59,
          60,
          61,
          62,
          63,
          64,
          65,
          66,
          67,
          68,
          69,
          70,
          71,
          72,
          73,
          74,
          75,
          76,
          77,
          78,
          79,
          80,
          81,
          82,
          83,
          84,
          85,
          86,
          87,
          88,
          89,
          90,
          91,
          92,
          93,
          94,
          95,
          96,
          97,
          98
         ],
         "k": [
          2,
          100,
          4,
          101,
          6,
          102,
          8,
          103,
          10,
          104,
          12,
          105,
          14,
          106,
          16,
          107,
          18,
          108,
          20,
          109,
          22,
          110,
          24,
          111,
          26,
          112,
          28,
          113,
          30,
          114,
          32,
          115,
          34,
          116,
          36,
          117,
          38,
          118,
          40,
          119,
          42,
          120,
          44,
          121,
          46,
          122,
          48,
          123,
          50,
          124,
          52,
          125,
          54,
          126,
          56,
          127,
          58,
          128,
          60,
          129,
          62,
          130,
          64,
          131,
          66,
          132,
          68,
          133,
          70,
          134,
          72,
          135,
          74,
          136,
          76,
          137,
          78,
          138,
          80,
          139,
          82,
          140,
          84,
          141,
          86,
          142,
          88,
          143,
          90,
          144,
          92,
          145,
          94,
          146,
          96,
          147,
          98,
          99
         ],
         "opacity": 0.7,
         "scene": "scene",
         "type": "mesh3d",
         "x": [
          0.010083809923455343,
          0.010083809923455343,
          0.01542086788661404,
          0.01542086788661404,
          0.020757925849772742,
          0.020757925849772742,
          0.02609498381293144,
          0.02609498381293144,
          0.03143204177609014,
          0.03143204177609014,
          0.036769099739248835,
          0.036769099739248835,
          0.04210615770240754,
          0.04210615770240754,
          0.04744321566556624,
          0.04744321566556624,
          0.052780273628724936,
          0.052780273628724936,
          0.058117331591883634,
          0.058117331591883634,
          0.06345438955504233,
          0.06345438955504233,
          0.06879144751820103,
          0.06879144751820103,
          0.07412850548135973,
          0.07412850548135973,
          0.07946556344451843,
          0.07946556344451843,
          0.08480262140767712,
          0.08480262140767712,
          0.09013967937083582,
          0.09013967937083582,
          0.09547673733399452,
          0.09547673733399452,
          0.10081379529715322,
          0.10081379529715322,
          0.10615085326031191,
          0.10615085326031191,
          0.11148791122347061,
          0.11148791122347061,
          0.11682496918662931,
          0.11682496918662931,
          0.12216202714978801,
          0.12216202714978801,
          0.12749908511294672,
          0.12749908511294672,
          0.13283614307610542,
          0.13283614307610542,
          0.13817320103926412,
          0.13817320103926412,
          0.1435102590024228,
          0.1435102590024228,
          0.1488473169655815,
          0.1488473169655815,
          0.1541843749287402,
          0.1541843749287402,
          0.1595214328918989,
          0.1595214328918989,
          0.1648584908550576,
          0.1648584908550576,
          0.1701955488182163,
          0.1701955488182163,
          0.175532606781375,
          0.175532606781375,
          0.1808696647445337,
          0.1808696647445337,
          0.1862067227076924,
          0.1862067227076924,
          0.1915437806708511,
          0.1915437806708511,
          0.1968808386340098,
          0.1968808386340098,
          0.2022178965971685,
          0.2022178965971685,
          0.2075549545603272,
          0.2075549545603272,
          0.21289201252348589,
          0.21289201252348589,
          0.21822907048664458,
          0.21822907048664458,
          0.22356612844980328,
          0.22356612844980328,
          0.22890318641296198,
          0.22890318641296198,
          0.23424024437612068,
          0.23424024437612068,
          0.2395773023392794,
          0.2395773023392794,
          0.24491436030243807,
          0.24491436030243807,
          0.25025141826559677,
          0.25025141826559677,
          0.25558847622875547,
          0.25558847622875547,
          0.2609255341919142,
          0.2609255341919142,
          0.2662625921550729,
          0.2662625921550729,
          0.2715996501182316,
          0.2715996501182316,
          0.01542086788661404,
          0.020757925849772742,
          0.02609498381293144,
          0.03143204177609014,
          0.036769099739248835,
          0.04210615770240754,
          0.04744321566556624,
          0.052780273628724936,
          0.058117331591883634,
          0.06345438955504233,
          0.06879144751820103,
          0.07412850548135973,
          0.07946556344451843,
          0.08480262140767712,
          0.09013967937083582,
          0.09547673733399452,
          0.10081379529715322,
          0.10615085326031191,
          0.11148791122347061,
          0.11682496918662931,
          0.12216202714978801,
          0.12749908511294672,
          0.13283614307610542,
          0.13817320103926412,
          0.1435102590024228,
          0.1488473169655815,
          0.1541843749287402,
          0.1595214328918989,
          0.1648584908550576,
          0.1701955488182163,
          0.175532606781375,
          0.1808696647445337,
          0.1862067227076924,
          0.1915437806708511,
          0.1968808386340098,
          0.2022178965971685,
          0.2075549545603272,
          0.21289201252348589,
          0.21822907048664458,
          0.22356612844980328,
          0.22890318641296198,
          0.23424024437612068,
          0.2395773023392794,
          0.24491436030243807,
          0.25025141826559677,
          0.25558847622875547,
          0.2609255341919142,
          0.2662625921550729
         ],
         "y": [
          0.027941978003324642,
          0.03838909207972434,
          0.03838909207972434,
          0.027941978003324642,
          0.027941978003324642,
          0.048836206156124023,
          0.048836206156124023,
          0.027941978003324642,
          0.027941978003324642,
          0.027941978003324642,
          0.027941978003324642,
          0.027941978003324642,
          0.027941978003324642,
          0.03838909207972434,
          0.03838909207972434,
          0.03838909207972434,
          0.03838909207972434,
          0.03838909207972434,
          0.03838909207972434,
          0.048836206156124023,
          0.048836206156124023,
          0.03838909207972434,
          0.03838909207972434,
          0.03838909207972434,
          0.03838909207972434,
          0.027941978003324642,
          0.027941978003324642,
          0.03838909207972434,
          0.03838909207972434,
          0.027941978003324642,
          0.027941978003324642,
          0.048836206156124023,
          0.048836206156124023,
          0.027941978003324642,
          0.027941978003324642,
          0.027941978003324642,
          0.027941978003324642,
          0.027941978003324642,
          0.027941978003324642,
          0.027941978003324642,
          0.027941978003324642,
          0.027941978003324642,
          0.027941978003324642,
          0.027941978003324642,
          0.027941978003324642,
          0.027941978003324642,
          0.027941978003324642,
          0.027941978003324642,
          0.027941978003324642,
          0.027941978003324642,
          0.027941978003324642,
          0.027941978003324642,
          0.027941978003324642,
          0.027941978003324642,
          0.027941978003324642,
          0.027941978003324642,
          0.027941978003324642,
          0.027941978003324642,
          0.027941978003324642,
          0.027941978003324642,
          0.027941978003324642,
          0.027941978003324642,
          0.027941978003324642,
          0.027941978003324642,
          0.027941978003324642,
          0.027941978003324642,
          0.027941978003324642,
          0.027941978003324642,
          0.027941978003324642,
          0.027941978003324642,
          0.027941978003324642,
          0.027941978003324642,
          0.027941978003324642,
          0.027941978003324642,
          0.027941978003324642,
          0.027941978003324642,
          0.027941978003324642,
          0.027941978003324642,
          0.027941978003324642,
          0.027941978003324642,
          0.027941978003324642,
          0.027941978003324642,
          0.027941978003324642,
          0.027941978003324642,
          0.027941978003324642,
          0.027941978003324642,
          0.027941978003324642,
          0.027941978003324642,
          0.027941978003324642,
          0.027941978003324642,
          0.027941978003324642,
          0.027941978003324642,
          0.027941978003324642,
          0.027941978003324642,
          0.027941978003324642,
          0.027941978003324642,
          0.027941978003324642,
          0.027941978003324642,
          0.027941978003324642,
          0.027941978003324642,
          0.027941978003324642,
          0.027941978003324642,
          0.027941978003324642,
          0.027941978003324642,
          0.027941978003324642,
          0.027941978003324642,
          0.027941978003324642,
          0.027941978003324642,
          0.027941978003324642,
          0.027941978003324642,
          0.027941978003324642,
          0.027941978003324642,
          0.027941978003324642,
          0.027941978003324642,
          0.027941978003324642,
          0.027941978003324642,
          0.027941978003324642,
          0.027941978003324642,
          0.027941978003324642,
          0.027941978003324642,
          0.027941978003324642,
          0.027941978003324642,
          0.027941978003324642,
          0.027941978003324642,
          0.027941978003324642,
          0.027941978003324642,
          0.027941978003324642,
          0.027941978003324642,
          0.027941978003324642,
          0.027941978003324642,
          0.027941978003324642,
          0.027941978003324642,
          0.027941978003324642,
          0.027941978003324642,
          0.027941978003324642,
          0.027941978003324642,
          0.027941978003324642,
          0.027941978003324642,
          0.027941978003324642,
          0.027941978003324642,
          0.027941978003324642,
          0.027941978003324642,
          0.027941978003324642,
          0.027941978003324642,
          0.027941978003324642,
          0.027941978003324642,
          0.027941978003324642,
          0.027941978003324642
         ],
         "z": [
          -1.242047943593212,
          -1.242047943593212,
          -1.242047943593212,
          -1.242047943593212,
          -1.242047943593212,
          -1.242047943593212,
          -1.242047943593212,
          -1.242047943593212,
          -1.242047943593212,
          -1.242047943593212,
          -1.242047943593212,
          -1.242047943593212,
          -1.242047943593212,
          -1.242047943593212,
          -1.242047943593212,
          -1.242047943593212,
          -1.242047943593212,
          -1.242047943593212,
          -1.242047943593212,
          -1.242047943593212,
          -1.242047943593212,
          -1.242047943593212,
          -1.242047943593212,
          -1.242047943593212,
          -1.242047943593212,
          -1.242047943593212,
          -1.242047943593212,
          -1.242047943593212,
          -1.242047943593212,
          -1.242047943593212,
          -1.242047943593212,
          -1.242047943593212,
          -1.242047943593212,
          -1.242047943593212,
          -1.242047943593212,
          -1.242047943593212,
          -1.242047943593212,
          -1.242047943593212,
          -1.242047943593212,
          -1.242047943593212,
          -1.242047943593212,
          -1.242047943593212,
          -1.242047943593212,
          -1.242047943593212,
          -1.242047943593212,
          -1.242047943593212,
          -1.242047943593212,
          -1.242047943593212,
          -1.242047943593212,
          -1.242047943593212,
          -1.242047943593212,
          -1.242047943593212,
          -1.242047943593212,
          -1.242047943593212,
          -1.242047943593212,
          -1.242047943593212,
          -1.242047943593212,
          -1.242047943593212,
          -1.242047943593212,
          -1.242047943593212,
          -1.242047943593212,
          -1.242047943593212,
          -1.242047943593212,
          -1.242047943593212,
          -1.242047943593212,
          -1.242047943593212,
          -1.242047943593212,
          -1.242047943593212,
          -1.242047943593212,
          -1.242047943593212,
          -1.242047943593212,
          -1.242047943593212,
          -1.242047943593212,
          -1.242047943593212,
          -1.242047943593212,
          -1.242047943593212,
          -1.242047943593212,
          -1.242047943593212,
          -1.242047943593212,
          -1.242047943593212,
          -1.242047943593212,
          -1.242047943593212,
          -1.242047943593212,
          -1.242047943593212,
          -1.242047943593212,
          -1.242047943593212,
          -1.242047943593212,
          -1.242047943593212,
          -1.242047943593212,
          -1.242047943593212,
          -1.242047943593212,
          -1.242047943593212,
          -1.242047943593212,
          -1.242047943593212,
          -1.242047943593212,
          -1.242047943593212,
          -1.242047943593212,
          -1.242047943593212,
          -1.242047943593212,
          -1.242047943593212,
          -1.242047943593212,
          -1.242047943593212,
          -1.242047943593212,
          -1.242047943593212,
          -1.242047943593212,
          -1.242047943593212,
          -1.242047943593212,
          -1.242047943593212,
          -1.242047943593212,
          -1.242047943593212,
          -1.242047943593212,
          -1.242047943593212,
          -1.242047943593212,
          -1.242047943593212,
          -1.242047943593212,
          -1.242047943593212,
          -1.242047943593212,
          -1.242047943593212,
          -1.242047943593212,
          -1.242047943593212,
          -1.242047943593212,
          -1.242047943593212,
          -1.242047943593212,
          -1.242047943593212,
          -1.242047943593212,
          -1.242047943593212,
          -1.242047943593212,
          -1.242047943593212,
          -1.242047943593212,
          -1.242047943593212,
          -1.242047943593212,
          -1.242047943593212,
          -1.242047943593212,
          -1.242047943593212,
          -1.242047943593212,
          -1.242047943593212,
          -1.242047943593212,
          -1.242047943593212,
          -1.242047943593212,
          -1.242047943593212,
          -1.242047943593212,
          -1.242047943593212,
          -1.242047943593212,
          -1.242047943593212,
          -1.242047943593212,
          -1.242047943593212,
          -1.242047943593212,
          -1.242047943593212
         ]
        },
        {
         "color": "#9ab25a",
         "i": [
          0,
          0,
          100,
          100,
          101,
          101,
          102,
          102,
          103,
          103,
          104,
          104,
          105,
          105,
          106,
          106,
          107,
          107,
          108,
          108,
          109,
          109,
          110,
          110,
          111,
          111,
          112,
          112,
          113,
          113,
          114,
          114,
          115,
          115,
          116,
          116,
          117,
          117,
          118,
          118,
          119,
          119,
          120,
          120,
          121,
          121,
          122,
          122,
          123,
          123,
          124,
          124,
          125,
          125,
          126,
          126,
          127,
          127,
          128,
          128,
          129,
          129,
          130,
          130,
          131,
          131,
          132,
          132,
          133,
          133,
          134,
          134,
          135,
          135,
          136,
          136,
          137,
          137,
          138,
          138,
          139,
          139,
          140,
          140,
          141,
          141,
          142,
          142,
          143,
          143,
          144,
          144,
          145,
          145,
          146,
          146,
          147,
          147
         ],
         "j": [
          1,
          2,
          3,
          4,
          5,
          6,
          7,
          8,
          9,
          10,
          11,
          12,
          13,
          14,
          15,
          16,
          17,
          18,
          19,
          20,
          21,
          22,
          23,
          24,
          25,
          26,
          27,
          28,
          29,
          30,
          31,
          32,
          33,
          34,
          35,
          36,
          37,
          38,
          39,
          40,
          41,
          42,
          43,
          44,
          45,
          46,
          47,
          48,
          49,
          50,
          51,
          52,
          53,
          54,
          55,
          56,
          57,
          58,
          59,
          60,
          61,
          62,
          63,
          64,
          65,
          66,
          67,
          68,
          69,
          70,
          71,
          72,
          73,
          74,
          75,
          76,
          77,
          78,
          79,
          80,
          81,
          82,
          83,
          84,
          85,
          86,
          87,
          88,
          89,
          90,
          91,
          92,
          93,
          94,
          95,
          96,
          97,
          98
         ],
         "k": [
          2,
          100,
          4,
          101,
          6,
          102,
          8,
          103,
          10,
          104,
          12,
          105,
          14,
          106,
          16,
          107,
          18,
          108,
          20,
          109,
          22,
          110,
          24,
          111,
          26,
          112,
          28,
          113,
          30,
          114,
          32,
          115,
          34,
          116,
          36,
          117,
          38,
          118,
          40,
          119,
          42,
          120,
          44,
          121,
          46,
          122,
          48,
          123,
          50,
          124,
          52,
          125,
          54,
          126,
          56,
          127,
          58,
          128,
          60,
          129,
          62,
          130,
          64,
          131,
          66,
          132,
          68,
          133,
          70,
          134,
          72,
          135,
          74,
          136,
          76,
          137,
          78,
          138,
          80,
          139,
          82,
          140,
          84,
          141,
          86,
          142,
          88,
          143,
          90,
          144,
          92,
          145,
          94,
          146,
          96,
          147,
          98,
          99
         ],
         "opacity": 0.7,
         "scene": "scene",
         "type": "mesh3d",
         "x": [
          0.007539870156857132,
          0.007539870156857132,
          0.007539870156857132,
          0.007539870156857132,
          0.007539870156857132,
          0.007539870156857132,
          0.007539870156857132,
          0.007539870156857132,
          0.007539870156857132,
          0.007539870156857132,
          0.007539870156857132,
          0.007539870156857132,
          0.007539870156857132,
          0.007539870156857132,
          0.007539870156857132,
          0.007539870156857132,
          0.007539870156857132,
          0.007539870156857132,
          0.007539870156857132,
          0.007539870156857132,
          0.007539870156857132,
          0.007539870156857132,
          0.007539870156857132,
          0.007539870156857132,
          0.007539870156857132,
          0.007539870156857132,
          0.007539870156857132,
          0.007539870156857132,
          0.007539870156857132,
          0.007539870156857132,
          0.007539870156857132,
          0.007539870156857132,
          0.007539870156857132,
          0.007539870156857132,
          0.007539870156857132,
          0.007539870156857132,
          0.007539870156857132,
          0.007539870156857132,
          0.007539870156857132,
          0.007539870156857132,
          0.007539870156857132,
          0.007539870156857132,
          0.007539870156857132,
          0.007539870156857132,
          0.007539870156857132,
          0.007539870156857132,
          0.007539870156857132,
          0.007539870156857132,
          0.007539870156857132,
          0.007539870156857132,
          0.007539870156857132,
          0.007539870156857132,
          0.007539870156857132,
          0.007539870156857132,
          0.007539870156857132,
          0.007539870156857132,
          0.007539870156857132,
          0.007539870156857132,
          0.007539870156857132,
          0.007539870156857132,
          0.007539870156857132,
          0.007539870156857132,
          0.007539870156857132,
          0.007539870156857132,
          0.007539870156857132,
          0.007539870156857132,
          0.007539870156857132,
          0.007539870156857132,
          0.007539870156857132,
          0.007539870156857132,
          0.007539870156857132,
          0.007539870156857132,
          0.007539870156857132,
          0.007539870156857132,
          0.007539870156857132,
          0.007539870156857132,
          0.007539870156857132,
          0.007539870156857132,
          0.007539870156857132,
          0.007539870156857132,
          0.007539870156857132,
          0.007539870156857132,
          0.007539870156857132,
          0.007539870156857132,
          0.007539870156857132,
          0.007539870156857132,
          0.007539870156857132,
          0.007539870156857132,
          0.007539870156857132,
          0.007539870156857132,
          0.007539870156857132,
          0.007539870156857132,
          0.007539870156857132,
          0.007539870156857132,
          0.007539870156857132,
          0.007539870156857132,
          0.007539870156857132,
          0.007539870156857132,
          0.007539870156857132,
          0.007539870156857132,
          0.007539870156857132,
          0.007539870156857132,
          0.007539870156857132,
          0.007539870156857132,
          0.007539870156857132,
          0.007539870156857132,
          0.007539870156857132,
          0.007539870156857132,
          0.007539870156857132,
          0.007539870156857132,
          0.007539870156857132,
          0.007539870156857132,
          0.007539870156857132,
          0.007539870156857132,
          0.007539870156857132,
          0.007539870156857132,
          0.007539870156857132,
          0.007539870156857132,
          0.007539870156857132,
          0.007539870156857132,
          0.007539870156857132,
          0.007539870156857132,
          0.007539870156857132,
          0.007539870156857132,
          0.007539870156857132,
          0.007539870156857132,
          0.007539870156857132,
          0.007539870156857132,
          0.007539870156857132,
          0.007539870156857132,
          0.007539870156857132,
          0.007539870156857132,
          0.007539870156857132,
          0.007539870156857132,
          0.007539870156857132,
          0.007539870156857132,
          0.007539870156857132,
          0.007539870156857132,
          0.007539870156857132,
          0.007539870156857132,
          0.007539870156857132,
          0.007539870156857132,
          0.007539870156857132,
          0.007539870156857132,
          0.007539870156857132,
          0.007539870156857132,
          0.007539870156857132,
          0.007539870156857132
         ],
         "y": [
          0.03460306564877418,
          0.03460306564877418,
          0.03483216741502575,
          0.03483216741502575,
          0.03506126918127732,
          0.03506126918127732,
          0.03529037094752888,
          0.03529037094752888,
          0.035519472713780455,
          0.035519472713780455,
          0.03574857448003202,
          0.03574857448003202,
          0.03597767624628359,
          0.03597767624628359,
          0.036206778012535155,
          0.036206778012535155,
          0.03643587977878673,
          0.03643587977878673,
          0.03666498154503829,
          0.03666498154503829,
          0.03689408331128986,
          0.03689408331128986,
          0.03712318507754143,
          0.03712318507754143,
          0.037352286843793,
          0.037352286843793,
          0.037581388610044564,
          0.037581388610044564,
          0.037810490376296135,
          0.037810490376296135,
          0.0380395921425477,
          0.0380395921425477,
          0.03826869390879927,
          0.03826869390879927,
          0.038497795675050836,
          0.038497795675050836,
          0.03872689744130241,
          0.03872689744130241,
          0.03895599920755397,
          0.03895599920755397,
          0.039185100973805544,
          0.039185100973805544,
          0.03941420274005711,
          0.03941420274005711,
          0.03964330450630868,
          0.03964330450630868,
          0.039872406272560244,
          0.039872406272560244,
          0.040101508038811816,
          0.040101508038811816,
          0.04033060980506338,
          0.04033060980506338,
          0.04055971157131495,
          0.04055971157131495,
          0.04078881333756652,
          0.04078881333756652,
          0.04101791510381809,
          0.04101791510381809,
          0.04124701687006965,
          0.04124701687006965,
          0.041476118636321224,
          0.041476118636321224,
          0.04170522040257279,
          0.04170522040257279,
          0.04193432216882436,
          0.04193432216882436,
          0.042163423935075925,
          0.042163423935075925,
          0.042392525701327496,
          0.042392525701327496,
          0.04262162746757906,
          0.04262162746757906,
          0.042850729233830626,
          0.042850729233830626,
          0.0430798310000822,
          0.0430798310000822,
          0.04330893276633377,
          0.04330893276633377,
          0.04353803453258533,
          0.04353803453258533,
          0.0437671362988369,
          0.0437671362988369,
          0.04399623806508847,
          0.04399623806508847,
          0.04422533983134004,
          0.04422533983134004,
          0.044454441597591605,
          0.044454441597591605,
          0.04468354336384317,
          0.04468354336384317,
          0.04491264513009474,
          0.04491264513009474,
          0.04514174689634631,
          0.04514174689634631,
          0.04537084866259788,
          0.04537084866259788,
          0.04559995042884944,
          0.04559995042884944,
          0.045829052195101014,
          0.045829052195101014,
          0.03483216741502575,
          0.03506126918127732,
          0.03529037094752888,
          0.035519472713780455,
          0.03574857448003202,
          0.03597767624628359,
          0.036206778012535155,
          0.03643587977878673,
          0.03666498154503829,
          0.03689408331128986,
          0.03712318507754143,
          0.037352286843793,
          0.037581388610044564,
          0.037810490376296135,
          0.0380395921425477,
          0.03826869390879927,
          0.038497795675050836,
          0.03872689744130241,
          0.03895599920755397,
          0.039185100973805544,
          0.03941420274005711,
          0.03964330450630868,
          0.039872406272560244,
          0.040101508038811816,
          0.04033060980506338,
          0.04055971157131495,
          0.04078881333756652,
          0.04101791510381809,
          0.04124701687006965,
          0.041476118636321224,
          0.04170522040257279,
          0.04193432216882436,
          0.042163423935075925,
          0.042392525701327496,
          0.04262162746757906,
          0.042850729233830626,
          0.0430798310000822,
          0.04330893276633377,
          0.04353803453258533,
          0.0437671362988369,
          0.04399623806508847,
          0.04422533983134004,
          0.044454441597591605,
          0.04468354336384317,
          0.04491264513009474,
          0.04514174689634631,
          0.04537084866259788,
          0.04559995042884944
         ],
         "z": [
          -1.242047943593212,
          -0.6481683845140701,
          -0.6481683845140701,
          -1.242047943593212,
          -1.242047943593212,
          -1.242047943593212,
          -1.242047943593212,
          -1.242047943593212,
          -1.242047943593212,
          -0.6481683845140701,
          -0.6481683845140701,
          -1.242047943593212,
          -1.242047943593212,
          -1.242047943593212,
          -1.242047943593212,
          -1.242047943593212,
          -1.242047943593212,
          -1.242047943593212,
          -1.242047943593212,
          -1.242047943593212,
          -1.242047943593212,
          -1.242047943593212,
          -1.242047943593212,
          -0.6481683845140701,
          -0.6481683845140701,
          -1.242047943593212,
          -1.242047943593212,
          -1.242047943593212,
          -1.242047943593212,
          -0.6481683845140701,
          -0.6481683845140701,
          -0.6481683845140701,
          -0.6481683845140701,
          -1.242047943593212,
          -1.242047943593212,
          -0.6481683845140701,
          -0.6481683845140701,
          -0.6481683845140701,
          -0.6481683845140701,
          -1.242047943593212,
          -1.242047943593212,
          -0.6481683845140701,
          -0.6481683845140701,
          -1.242047943593212,
          -1.242047943593212,
          -0.6481683845140701,
          -0.6481683845140701,
          -0.6481683845140701,
          -0.6481683845140701,
          -1.242047943593212,
          -1.242047943593212,
          -1.242047943593212,
          -1.242047943593212,
          -1.242047943593212,
          -1.242047943593212,
          -1.242047943593212,
          -1.242047943593212,
          -1.242047943593212,
          -1.242047943593212,
          -0.6481683845140701,
          -0.6481683845140701,
          -1.242047943593212,
          -1.242047943593212,
          -1.242047943593212,
          -1.242047943593212,
          -1.242047943593212,
          -1.242047943593212,
          -1.242047943593212,
          -1.242047943593212,
          -1.242047943593212,
          -1.242047943593212,
          -1.242047943593212,
          -1.242047943593212,
          -1.242047943593212,
          -1.242047943593212,
          -1.242047943593212,
          -1.242047943593212,
          -1.242047943593212,
          -1.242047943593212,
          -0.0542888254349283,
          -0.0542888254349283,
          -1.242047943593212,
          -1.242047943593212,
          -1.242047943593212,
          -1.242047943593212,
          -1.242047943593212,
          -1.242047943593212,
          -1.242047943593212,
          -1.242047943593212,
          -1.242047943593212,
          -1.242047943593212,
          -1.242047943593212,
          -1.242047943593212,
          -1.242047943593212,
          -1.242047943593212,
          -1.242047943593212,
          -1.242047943593212,
          -1.242047943593212,
          -1.242047943593212,
          -1.242047943593212,
          -1.242047943593212,
          -1.242047943593212,
          -1.242047943593212,
          -1.242047943593212,
          -1.242047943593212,
          -1.242047943593212,
          -1.242047943593212,
          -1.242047943593212,
          -1.242047943593212,
          -1.242047943593212,
          -1.242047943593212,
          -1.242047943593212,
          -1.242047943593212,
          -1.242047943593212,
          -1.242047943593212,
          -1.242047943593212,
          -1.242047943593212,
          -1.242047943593212,
          -1.242047943593212,
          -1.242047943593212,
          -1.242047943593212,
          -1.242047943593212,
          -1.242047943593212,
          -1.242047943593212,
          -1.242047943593212,
          -1.242047943593212,
          -1.242047943593212,
          -1.242047943593212,
          -1.242047943593212,
          -1.242047943593212,
          -1.242047943593212,
          -1.242047943593212,
          -1.242047943593212,
          -1.242047943593212,
          -1.242047943593212,
          -1.242047943593212,
          -1.242047943593212,
          -1.242047943593212,
          -1.242047943593212,
          -1.242047943593212,
          -1.242047943593212,
          -1.242047943593212,
          -1.242047943593212,
          -1.242047943593212,
          -1.242047943593212,
          -1.242047943593212,
          -1.242047943593212,
          -1.242047943593212
         ]
        },
        {
         "color": "#9ab25a",
         "i": [
          0,
          0,
          100,
          100,
          101,
          101,
          102,
          102,
          103,
          103,
          104,
          104,
          105,
          105,
          106,
          106,
          107,
          107,
          108,
          108,
          109,
          109,
          110,
          110,
          111,
          111,
          112,
          112,
          113,
          113,
          114,
          114,
          115,
          115,
          116,
          116,
          117,
          117,
          118,
          118,
          119,
          119,
          120,
          120,
          121,
          121,
          122,
          122,
          123,
          123,
          124,
          124,
          125,
          125,
          126,
          126,
          127,
          127,
          128,
          128,
          129,
          129,
          130,
          130,
          131,
          131,
          132,
          132,
          133,
          133,
          134,
          134,
          135,
          135,
          136,
          136,
          137,
          137,
          138,
          138,
          139,
          139,
          140,
          140,
          141,
          141,
          142,
          142,
          143,
          143,
          144,
          144,
          145,
          145,
          146,
          146,
          147,
          147
         ],
         "j": [
          1,
          2,
          3,
          4,
          5,
          6,
          7,
          8,
          9,
          10,
          11,
          12,
          13,
          14,
          15,
          16,
          17,
          18,
          19,
          20,
          21,
          22,
          23,
          24,
          25,
          26,
          27,
          28,
          29,
          30,
          31,
          32,
          33,
          34,
          35,
          36,
          37,
          38,
          39,
          40,
          41,
          42,
          43,
          44,
          45,
          46,
          47,
          48,
          49,
          50,
          51,
          52,
          53,
          54,
          55,
          56,
          57,
          58,
          59,
          60,
          61,
          62,
          63,
          64,
          65,
          66,
          67,
          68,
          69,
          70,
          71,
          72,
          73,
          74,
          75,
          76,
          77,
          78,
          79,
          80,
          81,
          82,
          83,
          84,
          85,
          86,
          87,
          88,
          89,
          90,
          91,
          92,
          93,
          94,
          95,
          96,
          97,
          98
         ],
         "k": [
          2,
          100,
          4,
          101,
          6,
          102,
          8,
          103,
          10,
          104,
          12,
          105,
          14,
          106,
          16,
          107,
          18,
          108,
          20,
          109,
          22,
          110,
          24,
          111,
          26,
          112,
          28,
          113,
          30,
          114,
          32,
          115,
          34,
          116,
          36,
          117,
          38,
          118,
          40,
          119,
          42,
          120,
          44,
          121,
          46,
          122,
          48,
          123,
          50,
          124,
          52,
          125,
          54,
          126,
          56,
          127,
          58,
          128,
          60,
          129,
          62,
          130,
          64,
          131,
          66,
          132,
          68,
          133,
          70,
          134,
          72,
          135,
          74,
          136,
          76,
          137,
          78,
          138,
          80,
          139,
          82,
          140,
          84,
          141,
          86,
          142,
          88,
          143,
          90,
          144,
          92,
          145,
          94,
          146,
          96,
          147,
          98,
          99
         ],
         "opacity": 0.7,
         "scene": "scene",
         "type": "mesh3d",
         "x": [
          0.007539870156857132,
          0.07117760311432053,
          0.07117760311432053,
          0.007539870156857132,
          0.007539870156857132,
          0.007539870156857132,
          0.007539870156857132,
          0.13481533607178395,
          0.13481533607178395,
          0.007539870156857132,
          0.007539870156857132,
          0.007539870156857132,
          0.007539870156857132,
          0.007539870156857132,
          0.007539870156857132,
          0.007539870156857132,
          0.007539870156857132,
          0.07117760311432053,
          0.07117760311432053,
          0.007539870156857132,
          0.007539870156857132,
          0.007539870156857132,
          0.007539870156857132,
          0.007539870156857132,
          0.007539870156857132,
          0.007539870156857132,
          0.007539870156857132,
          0.007539870156857132,
          0.007539870156857132,
          0.007539870156857132,
          0.007539870156857132,
          0.007539870156857132,
          0.007539870156857132,
          0.007539870156857132,
          0.007539870156857132,
          0.007539870156857132,
          0.007539870156857132,
          0.007539870156857132,
          0.007539870156857132,
          0.007539870156857132,
          0.007539870156857132,
          0.007539870156857132,
          0.007539870156857132,
          0.007539870156857132,
          0.007539870156857132,
          0.19845306902924736,
          0.19845306902924736,
          0.13481533607178395,
          0.13481533607178395,
          0.007539870156857132,
          0.007539870156857132,
          0.007539870156857132,
          0.007539870156857132,
          0.007539870156857132,
          0.007539870156857132,
          0.007539870156857132,
          0.007539870156857132,
          0.007539870156857132,
          0.007539870156857132,
          0.007539870156857132,
          0.007539870156857132,
          0.007539870156857132,
          0.007539870156857132,
          0.007539870156857132,
          0.007539870156857132,
          0.007539870156857132,
          0.007539870156857132,
          0.07117760311432053,
          0.07117760311432053,
          0.007539870156857132,
          0.007539870156857132,
          0.007539870156857132,
          0.007539870156857132,
          0.07117760311432053,
          0.07117760311432053,
          0.007539870156857132,
          0.007539870156857132,
          0.007539870156857132,
          0.007539870156857132,
          0.007539870156857132,
          0.007539870156857132,
          0.007539870156857132,
          0.007539870156857132,
          0.007539870156857132,
          0.007539870156857132,
          0.007539870156857132,
          0.007539870156857132,
          0.007539870156857132,
          0.007539870156857132,
          0.007539870156857132,
          0.007539870156857132,
          0.07117760311432053,
          0.07117760311432053,
          0.007539870156857132,
          0.007539870156857132,
          0.007539870156857132,
          0.007539870156857132,
          0.07117760311432053,
          0.07117760311432053,
          0.007539870156857132,
          0.007539870156857132,
          0.007539870156857132,
          0.007539870156857132,
          0.007539870156857132,
          0.007539870156857132,
          0.007539870156857132,
          0.007539870156857132,
          0.007539870156857132,
          0.007539870156857132,
          0.007539870156857132,
          0.007539870156857132,
          0.007539870156857132,
          0.007539870156857132,
          0.007539870156857132,
          0.007539870156857132,
          0.007539870156857132,
          0.007539870156857132,
          0.007539870156857132,
          0.007539870156857132,
          0.007539870156857132,
          0.007539870156857132,
          0.007539870156857132,
          0.007539870156857132,
          0.007539870156857132,
          0.007539870156857132,
          0.007539870156857132,
          0.007539870156857132,
          0.007539870156857132,
          0.007539870156857132,
          0.007539870156857132,
          0.007539870156857132,
          0.007539870156857132,
          0.007539870156857132,
          0.007539870156857132,
          0.007539870156857132,
          0.007539870156857132,
          0.007539870156857132,
          0.007539870156857132,
          0.007539870156857132,
          0.007539870156857132,
          0.007539870156857132,
          0.007539870156857132,
          0.007539870156857132,
          0.007539870156857132,
          0.007539870156857132,
          0.007539870156857132,
          0.007539870156857132,
          0.007539870156857132
         ],
         "y": [
          0.027941978003324642,
          0.027941978003324642,
          0.027941978003324642,
          0.027941978003324642,
          0.027941978003324642,
          0.027941978003324642,
          0.027941978003324642,
          0.027941978003324642,
          0.027941978003324642,
          0.027941978003324642,
          0.027941978003324642,
          0.027941978003324642,
          0.027941978003324642,
          0.027941978003324642,
          0.027941978003324642,
          0.027941978003324642,
          0.027941978003324642,
          0.027941978003324642,
          0.027941978003324642,
          0.027941978003324642,
          0.027941978003324642,
          0.027941978003324642,
          0.027941978003324642,
          0.027941978003324642,
          0.027941978003324642,
          0.027941978003324642,
          0.027941978003324642,
          0.027941978003324642,
          0.027941978003324642,
          0.027941978003324642,
          0.027941978003324642,
          0.027941978003324642,
          0.027941978003324642,
          0.027941978003324642,
          0.027941978003324642,
          0.027941978003324642,
          0.027941978003324642,
          0.027941978003324642,
          0.027941978003324642,
          0.027941978003324642,
          0.027941978003324642,
          0.027941978003324642,
          0.027941978003324642,
          0.027941978003324642,
          0.027941978003324642,
          0.027941978003324642,
          0.027941978003324642,
          0.027941978003324642,
          0.027941978003324642,
          0.027941978003324642,
          0.027941978003324642,
          0.027941978003324642,
          0.027941978003324642,
          0.027941978003324642,
          0.027941978003324642,
          0.027941978003324642,
          0.027941978003324642,
          0.027941978003324642,
          0.027941978003324642,
          0.027941978003324642,
          0.027941978003324642,
          0.027941978003324642,
          0.027941978003324642,
          0.027941978003324642,
          0.027941978003324642,
          0.027941978003324642,
          0.027941978003324642,
          0.027941978003324642,
          0.027941978003324642,
          0.027941978003324642,
          0.027941978003324642,
          0.027941978003324642,
          0.027941978003324642,
          0.027941978003324642,
          0.027941978003324642,
          0.027941978003324642,
          0.027941978003324642,
          0.027941978003324642,
          0.027941978003324642,
          0.027941978003324642,
          0.027941978003324642,
          0.027941978003324642,
          0.027941978003324642,
          0.027941978003324642,
          0.027941978003324642,
          0.027941978003324642,
          0.027941978003324642,
          0.027941978003324642,
          0.027941978003324642,
          0.027941978003324642,
          0.027941978003324642,
          0.027941978003324642,
          0.027941978003324642,
          0.027941978003324642,
          0.027941978003324642,
          0.027941978003324642,
          0.027941978003324642,
          0.027941978003324642,
          0.027941978003324642,
          0.027941978003324642,
          0.027941978003324642,
          0.027941978003324642,
          0.027941978003324642,
          0.027941978003324642,
          0.027941978003324642,
          0.027941978003324642,
          0.027941978003324642,
          0.027941978003324642,
          0.027941978003324642,
          0.027941978003324642,
          0.027941978003324642,
          0.027941978003324642,
          0.027941978003324642,
          0.027941978003324642,
          0.027941978003324642,
          0.027941978003324642,
          0.027941978003324642,
          0.027941978003324642,
          0.027941978003324642,
          0.027941978003324642,
          0.027941978003324642,
          0.027941978003324642,
          0.027941978003324642,
          0.027941978003324642,
          0.027941978003324642,
          0.027941978003324642,
          0.027941978003324642,
          0.027941978003324642,
          0.027941978003324642,
          0.027941978003324642,
          0.027941978003324642,
          0.027941978003324642,
          0.027941978003324642,
          0.027941978003324642,
          0.027941978003324642,
          0.027941978003324642,
          0.027941978003324642,
          0.027941978003324642,
          0.027941978003324642,
          0.027941978003324642,
          0.027941978003324642,
          0.027941978003324642,
          0.027941978003324642,
          0.027941978003324642,
          0.027941978003324642,
          0.027941978003324642,
          0.027941978003324642,
          0.027941978003324642
         ],
         "z": [
          -0.3938250918236297,
          -0.3938250918236297,
          -0.3823137708823276,
          -0.3823137708823276,
          -0.3708024499410255,
          -0.3708024499410255,
          -0.3592911289997234,
          -0.3592911289997234,
          -0.3477798080584213,
          -0.3477798080584213,
          -0.3362684871171192,
          -0.3362684871171192,
          -0.3247571661758171,
          -0.3247571661758171,
          -0.31324584523451504,
          -0.31324584523451504,
          -0.3017345242932129,
          -0.3017345242932129,
          -0.2902232033519108,
          -0.2902232033519108,
          -0.27871188241060874,
          -0.27871188241060874,
          -0.26720056146930665,
          -0.26720056146930665,
          -0.25568924052800457,
          -0.25568924052800457,
          -0.24417791958670246,
          -0.24417791958670246,
          -0.23266659864540037,
          -0.23266659864540037,
          -0.22115527770409826,
          -0.22115527770409826,
          -0.20964395676279618,
          -0.20964395676279618,
          -0.1981326358214941,
          -0.1981326358214941,
          -0.18662131488019199,
          -0.18662131488019199,
          -0.1751099939388899,
          -0.1751099939388899,
          -0.1635986729975878,
          -0.1635986729975878,
          -0.1520873520562857,
          -0.1520873520562857,
          -0.14057603111498362,
          -0.14057603111498362,
          -0.12906471017368154,
          -0.12906471017368154,
          -0.11755338923237946,
          -0.11755338923237946,
          -0.10604206829107732,
          -0.10604206829107732,
          -0.09453074734977523,
          -0.09453074734977523,
          -0.0830194264084731,
          -0.0830194264084731,
          -0.07150810546717107,
          -0.07150810546717107,
          -0.059996784525868985,
          -0.059996784525868985,
          -0.048485463584566846,
          -0.048485463584566846,
          -0.03697414264326476,
          -0.03697414264326476,
          -0.02546282170196268,
          -0.02546282170196268,
          -0.013951500760660596,
          -0.013951500760660596,
          -0.0024401798193585122,
          -0.0024401798193585122,
          0.009071141121943627,
          0.009071141121943627,
          0.02058246206324571,
          0.02058246206324571,
          0.03209378300454779,
          0.03209378300454779,
          0.04360510394584988,
          0.04360510394584988,
          0.05511642488715196,
          0.05511642488715196,
          0.0666277458284541,
          0.0666277458284541,
          0.07813906676975618,
          0.07813906676975618,
          0.08965038771105827,
          0.08965038771105827,
          0.10116170865236035,
          0.10116170865236035,
          0.11267302959366243,
          0.11267302959366243,
          0.12418435053496457,
          0.12418435053496457,
          0.1356956714762666,
          0.1356956714762666,
          0.14720699241756874,
          0.14720699241756874,
          0.15871831335887077,
          0.15871831335887077,
          0.1702296343001729,
          0.1702296343001729,
          -0.3823137708823276,
          -0.3708024499410255,
          -0.3592911289997234,
          -0.3477798080584213,
          -0.3362684871171192,
          -0.3247571661758171,
          -0.31324584523451504,
          -0.3017345242932129,
          -0.2902232033519108,
          -0.27871188241060874,
          -0.26720056146930665,
          -0.25568924052800457,
          -0.24417791958670246,
          -0.23266659864540037,
          -0.22115527770409826,
          -0.20964395676279618,
          -0.1981326358214941,
          -0.18662131488019199,
          -0.1751099939388899,
          -0.1635986729975878,
          -0.1520873520562857,
          -0.14057603111498362,
          -0.12906471017368154,
          -0.11755338923237946,
          -0.10604206829107732,
          -0.09453074734977523,
          -0.0830194264084731,
          -0.07150810546717107,
          -0.059996784525868985,
          -0.048485463584566846,
          -0.03697414264326476,
          -0.02546282170196268,
          -0.013951500760660596,
          -0.0024401798193585122,
          0.009071141121943627,
          0.02058246206324571,
          0.03209378300454779,
          0.04360510394584988,
          0.05511642488715196,
          0.0666277458284541,
          0.07813906676975618,
          0.08965038771105827,
          0.10116170865236035,
          0.11267302959366243,
          0.12418435053496457,
          0.1356956714762666,
          0.14720699241756874,
          0.15871831335887077
         ]
        },
        {
         "line": {
          "color": [
           [
            0,
            0,
            0,
            1
           ]
          ],
          "width": 4
         },
         "mode": "lines",
         "name": "O:1",
         "scene": "scene",
         "showlegend": false,
         "type": "scatter3d",
         "x": [
          0.2715996501182316
         ],
         "y": [
          0.045829052195101014
         ],
         "z": [
          -0.13963727927784184
         ]
        },
        {
         "marker": {
          "color": [
           0,
           0,
           0,
           1
          ],
          "size": 3
         },
         "name": "Start O:1",
         "opacity": 0.7,
         "scene": "scene",
         "showlegend": false,
         "type": "scatter3d",
         "x": [
          0.2715996501182316
         ],
         "y": [
          0.045829052195101014
         ],
         "z": [
          -0.13963727927784184
         ]
        },
        {
         "marker": {
          "color": [
           0,
           0,
           0,
           1
          ],
          "size": 3
         },
         "name": "End O:1",
         "opacity": 0.7,
         "scene": "scene",
         "showlegend": false,
         "type": "scatter3d",
         "x": [
          0.2715996501182316
         ],
         "y": [
          0.045829052195101014
         ],
         "z": [
          -0.13963727927784184
         ]
        },
        {
         "line": {
          "color": [
           [
            0,
            0,
            0,
            1
           ],
           [
            0.5,
            0.18333333333333335,
            0.5833333333333334,
            1
           ],
           [
            0.9,
            0.5833333333333334,
            0.03333333333333333,
            1
           ]
          ],
          "width": 4
         },
         "mode": "lines",
         "name": "O:2",
         "scene": "scene",
         "showlegend": false,
         "type": "scatter3d",
         "x": [
          0.09287515114772646,
          0.0583227587527637,
          0.060141963247945344
         ],
         "y": [
          0.037765260037078696,
          0.037287541260057934,
          0.035514430526239336
         ],
         "z": [
          -0.35465863513434936,
          -0.35922949002697235,
          -0.2930502061050577
         ]
        },
        {
         "marker": {
          "color": [
           0,
           0,
           0,
           1
          ],
          "size": 3
         },
         "name": "Start O:2",
         "opacity": 0.7,
         "scene": "scene",
         "showlegend": false,
         "type": "scatter3d",
         "x": [
          0.09287515114772646
         ],
         "y": [
          0.037765260037078696
         ],
         "z": [
          -0.35465863513434936
         ]
        },
        {
         "marker": {
          "color": [
           0.9,
           0.5833333333333334,
           0.03333333333333333,
           1
          ],
          "size": 3
         },
         "name": "End O:2",
         "opacity": 0.7,
         "scene": "scene",
         "showlegend": false,
         "type": "scatter3d",
         "x": [
          0.060141963247945344
         ],
         "y": [
          0.035514430526239336
         ],
         "z": [
          -0.2930502061050577
         ]
        },
        {
         "line": {
          "color": [
           [
            0,
            0,
            0,
            1
           ]
          ],
          "width": 4
         },
         "mode": "lines",
         "name": "O:3",
         "scene": "scene",
         "showlegend": false,
         "type": "scatter3d",
         "x": [
          0.06532612226163786
         ],
         "y": [
          0.03460306564877418
         ],
         "z": [
          -0.3938250918236297
         ]
        },
        {
         "marker": {
          "color": [
           0,
           0,
           0,
           1
          ],
          "size": 3
         },
         "name": "Start O:3",
         "opacity": 0.7,
         "scene": "scene",
         "showlegend": false,
         "type": "scatter3d",
         "x": [
          0.06532612226163786
         ],
         "y": [
          0.03460306564877418
         ],
         "z": [
          -0.3938250918236297
         ]
        },
        {
         "marker": {
          "color": [
           0,
           0,
           0,
           1
          ],
          "size": 3
         },
         "name": "End O:3",
         "opacity": 0.7,
         "scene": "scene",
         "showlegend": false,
         "type": "scatter3d",
         "x": [
          0.06532612226163786
         ],
         "y": [
          0.03460306564877418
         ],
         "z": [
          -0.3938250918236297
         ]
        },
        {
         "line": {
          "color": [
           [
            0,
            0,
            0,
            1
           ],
           [
            0.5,
            0.18333333333333335,
            0.5833333333333334,
            1
           ],
           [
            0.9,
            0.5833333333333334,
            0.03333333333333333,
            1
           ]
          ],
          "width": 4
         },
         "mode": "lines",
         "name": "O:4",
         "scene": "scene",
         "showlegend": false,
         "type": "scatter3d",
         "x": [
          0.02239647191445357,
          0.023335751382753168,
          0.055518250986920245
         ],
         "y": [
          0.03985800842785346,
          0.03969088141352066,
          0.03923113903133026
         ],
         "z": [
          -0.1286364281562316,
          -0.141216172532007,
          -0.1347803398023403
         ]
        },
        {
         "marker": {
          "color": [
           0,
           0,
           0,
           1
          ],
          "size": 3
         },
         "name": "Start O:4",
         "opacity": 0.7,
         "scene": "scene",
         "showlegend": false,
         "type": "scatter3d",
         "x": [
          0.02239647191445357
         ],
         "y": [
          0.03985800842785346
         ],
         "z": [
          -0.1286364281562316
         ]
        },
        {
         "marker": {
          "color": [
           0.9,
           0.5833333333333334,
           0.03333333333333333,
           1
          ],
          "size": 3
         },
         "name": "End O:4",
         "opacity": 0.7,
         "scene": "scene",
         "showlegend": false,
         "type": "scatter3d",
         "x": [
          0.055518250986920245
         ],
         "y": [
          0.03923113903133026
         ],
         "z": [
          -0.1347803398023403
         ]
        },
        {
         "line": {
          "color": [
           [
            0,
            0,
            0,
            1
           ],
           [
            0.5,
            0.18333333333333335,
            0.5833333333333334,
            1
           ],
           [
            0.9,
            0.5833333333333334,
            0.03333333333333333,
            1
           ]
          ],
          "width": 4
         },
         "mode": "lines",
         "name": "O:5",
         "scene": "scene",
         "showlegend": false,
         "type": "scatter3d",
         "x": [
          0.09308826449933766,
          0.05188504835900448,
          0.010083809923455343
         ],
         "y": [
          0.03881317581788537,
          0.03846142462928953,
          0.03803547760334979
         ],
         "z": [
          0.1702296343001729,
          0.15442414447583686,
          0.12316961372972357
         ]
        },
        {
         "marker": {
          "color": [
           0,
           0,
           0,
           1
          ],
          "size": 3
         },
         "name": "Start O:5",
         "opacity": 0.7,
         "scene": "scene",
         "showlegend": false,
         "type": "scatter3d",
         "x": [
          0.09308826449933766
         ],
         "y": [
          0.03881317581788537
         ],
         "z": [
          0.1702296343001729
         ]
        },
        {
         "marker": {
          "color": [
           0.9,
           0.5833333333333334,
           0.03333333333333333,
           1
          ],
          "size": 3
         },
         "name": "End O:5",
         "opacity": 0.7,
         "scene": "scene",
         "showlegend": false,
         "type": "scatter3d",
         "x": [
          0.010083809923455343
         ],
         "y": [
          0.03803547760334979
         ],
         "z": [
          0.12316961372972357
         ]
        },
        {
         "line": {
          "color": [
           [
            0,
            0,
            0,
            1
           ],
           [
            0.9984313725490196,
            0.25392156862745097,
            0.1476470588235294,
            1
           ]
          ],
          "width": 4
         },
         "mode": "lines",
         "name": "O:6",
         "scene": "scene",
         "showlegend": false,
         "type": "scatter3d",
         "x": [
          0.08091611184531691,
          0.06910893228231779
         ],
         "y": [
          0.04340213150111064,
          0.043533973352359104
         ],
         "z": [
          -0.015347347324869445,
          0.014569309639924461
         ]
        },
        {
         "marker": {
          "color": [
           0,
           0,
           0,
           1
          ],
          "size": 3
         },
         "name": "Start O:6",
         "opacity": 0.7,
         "scene": "scene",
         "showlegend": false,
         "type": "scatter3d",
         "x": [
          0.08091611184531691
         ],
         "y": [
          0.04340213150111064
         ],
         "z": [
          -0.015347347324869445
         ]
        },
        {
         "marker": {
          "color": [
           0.9984313725490196,
           0.25392156862745097,
           0.1476470588235294,
           1
          ],
          "size": 3
         },
         "name": "End O:6",
         "opacity": 0.7,
         "scene": "scene",
         "showlegend": false,
         "type": "scatter3d",
         "x": [
          0.06910893228231779
         ],
         "y": [
          0.043533973352359104
         ],
         "z": [
          0.014569309639924461
         ]
        },
        {
         "line": {
          "color": [
           [
            0,
            0,
            0,
            1
           ]
          ],
          "width": 4
         },
         "mode": "lines",
         "name": "O:7",
         "scene": "scene",
         "showlegend": false,
         "type": "scatter3d",
         "x": [
          0.045703474079982744
         ],
         "y": [
          0.04120668668096845
         ],
         "z": [
          -0.12867052162759793
         ]
        },
        {
         "marker": {
          "color": [
           0,
           0,
           0,
           1
          ],
          "size": 3
         },
         "name": "Start O:7",
         "opacity": 0.7,
         "scene": "scene",
         "showlegend": false,
         "type": "scatter3d",
         "x": [
          0.045703474079982744
         ],
         "y": [
          0.04120668668096845
         ],
         "z": [
          -0.12867052162759793
         ]
        },
        {
         "marker": {
          "color": [
           0,
           0,
           0,
           1
          ],
          "size": 3
         },
         "name": "End O:7",
         "opacity": 0.7,
         "scene": "scene",
         "showlegend": false,
         "type": "scatter3d",
         "x": [
          0.045703474079982744
         ],
         "y": [
          0.04120668668096845
         ],
         "z": [
          -0.12867052162759793
         ]
        }
       ],
       "layout": {
        "annotations": [
         {
          "font": {
           "size": 16
          },
          "showarrow": false,
          "text": "State 3 , 7 trajectories",
          "x": 0.5,
          "xanchor": "center",
          "xref": "paper",
          "y": 1,
          "yanchor": "bottom",
          "yref": "paper"
         }
        ],
        "scene": {
         "camera": {
          "eye": {
           "x": 1.6,
           "y": 1.6,
           "z": 1.6
          }
         },
         "domain": {
          "x": [
           0,
           1
          ],
          "y": [
           0,
           1
          ]
         },
         "xaxis": {
          "backgroundcolor": "rgb(200,200,230)",
          "nticks": 8,
          "range": [
           0.007539870156857132,
           0.3893662679016376
          ],
          "title": {
           "text": "Speed (m/sec)"
          }
         },
         "yaxis": {
          "backgroundcolor": "rgb(200,200,230)",
          "nticks": 8,
          "range": [
           0.027941978003324642,
           0.06973043430892341
          ],
          "title": {
           "text": "Body length (m)"
          }
         },
         "zaxis": {
          "backgroundcolor": "rgb(200,200,230)",
          "nticks": 8,
          "range": [
           -1.242047943593212,
           1.1334702927233553
          ],
          "title": {
           "text": "Yaw (radians)"
          }
         }
        },
        "template": {
         "data": {
          "bar": [
           {
            "error_x": {
             "color": "#2a3f5f"
            },
            "error_y": {
             "color": "#2a3f5f"
            },
            "marker": {
             "line": {
              "color": "#E5ECF6",
              "width": 0.5
             }
            },
            "type": "bar"
           }
          ],
          "barpolar": [
           {
            "marker": {
             "line": {
              "color": "#E5ECF6",
              "width": 0.5
             }
            },
            "type": "barpolar"
           }
          ],
          "carpet": [
           {
            "aaxis": {
             "endlinecolor": "#2a3f5f",
             "gridcolor": "white",
             "linecolor": "white",
             "minorgridcolor": "white",
             "startlinecolor": "#2a3f5f"
            },
            "baxis": {
             "endlinecolor": "#2a3f5f",
             "gridcolor": "white",
             "linecolor": "white",
             "minorgridcolor": "white",
             "startlinecolor": "#2a3f5f"
            },
            "type": "carpet"
           }
          ],
          "choropleth": [
           {
            "colorbar": {
             "outlinewidth": 0,
             "ticks": ""
            },
            "type": "choropleth"
           }
          ],
          "contour": [
           {
            "colorbar": {
             "outlinewidth": 0,
             "ticks": ""
            },
            "colorscale": [
             [
              0,
              "#0d0887"
             ],
             [
              0.1111111111111111,
              "#46039f"
             ],
             [
              0.2222222222222222,
              "#7201a8"
             ],
             [
              0.3333333333333333,
              "#9c179e"
             ],
             [
              0.4444444444444444,
              "#bd3786"
             ],
             [
              0.5555555555555556,
              "#d8576b"
             ],
             [
              0.6666666666666666,
              "#ed7953"
             ],
             [
              0.7777777777777778,
              "#fb9f3a"
             ],
             [
              0.8888888888888888,
              "#fdca26"
             ],
             [
              1,
              "#f0f921"
             ]
            ],
            "type": "contour"
           }
          ],
          "contourcarpet": [
           {
            "colorbar": {
             "outlinewidth": 0,
             "ticks": ""
            },
            "type": "contourcarpet"
           }
          ],
          "heatmap": [
           {
            "colorbar": {
             "outlinewidth": 0,
             "ticks": ""
            },
            "colorscale": [
             [
              0,
              "#0d0887"
             ],
             [
              0.1111111111111111,
              "#46039f"
             ],
             [
              0.2222222222222222,
              "#7201a8"
             ],
             [
              0.3333333333333333,
              "#9c179e"
             ],
             [
              0.4444444444444444,
              "#bd3786"
             ],
             [
              0.5555555555555556,
              "#d8576b"
             ],
             [
              0.6666666666666666,
              "#ed7953"
             ],
             [
              0.7777777777777778,
              "#fb9f3a"
             ],
             [
              0.8888888888888888,
              "#fdca26"
             ],
             [
              1,
              "#f0f921"
             ]
            ],
            "type": "heatmap"
           }
          ],
          "heatmapgl": [
           {
            "colorbar": {
             "outlinewidth": 0,
             "ticks": ""
            },
            "colorscale": [
             [
              0,
              "#0d0887"
             ],
             [
              0.1111111111111111,
              "#46039f"
             ],
             [
              0.2222222222222222,
              "#7201a8"
             ],
             [
              0.3333333333333333,
              "#9c179e"
             ],
             [
              0.4444444444444444,
              "#bd3786"
             ],
             [
              0.5555555555555556,
              "#d8576b"
             ],
             [
              0.6666666666666666,
              "#ed7953"
             ],
             [
              0.7777777777777778,
              "#fb9f3a"
             ],
             [
              0.8888888888888888,
              "#fdca26"
             ],
             [
              1,
              "#f0f921"
             ]
            ],
            "type": "heatmapgl"
           }
          ],
          "histogram": [
           {
            "marker": {
             "colorbar": {
              "outlinewidth": 0,
              "ticks": ""
             }
            },
            "type": "histogram"
           }
          ],
          "histogram2d": [
           {
            "colorbar": {
             "outlinewidth": 0,
             "ticks": ""
            },
            "colorscale": [
             [
              0,
              "#0d0887"
             ],
             [
              0.1111111111111111,
              "#46039f"
             ],
             [
              0.2222222222222222,
              "#7201a8"
             ],
             [
              0.3333333333333333,
              "#9c179e"
             ],
             [
              0.4444444444444444,
              "#bd3786"
             ],
             [
              0.5555555555555556,
              "#d8576b"
             ],
             [
              0.6666666666666666,
              "#ed7953"
             ],
             [
              0.7777777777777778,
              "#fb9f3a"
             ],
             [
              0.8888888888888888,
              "#fdca26"
             ],
             [
              1,
              "#f0f921"
             ]
            ],
            "type": "histogram2d"
           }
          ],
          "histogram2dcontour": [
           {
            "colorbar": {
             "outlinewidth": 0,
             "ticks": ""
            },
            "colorscale": [
             [
              0,
              "#0d0887"
             ],
             [
              0.1111111111111111,
              "#46039f"
             ],
             [
              0.2222222222222222,
              "#7201a8"
             ],
             [
              0.3333333333333333,
              "#9c179e"
             ],
             [
              0.4444444444444444,
              "#bd3786"
             ],
             [
              0.5555555555555556,
              "#d8576b"
             ],
             [
              0.6666666666666666,
              "#ed7953"
             ],
             [
              0.7777777777777778,
              "#fb9f3a"
             ],
             [
              0.8888888888888888,
              "#fdca26"
             ],
             [
              1,
              "#f0f921"
             ]
            ],
            "type": "histogram2dcontour"
           }
          ],
          "mesh3d": [
           {
            "colorbar": {
             "outlinewidth": 0,
             "ticks": ""
            },
            "type": "mesh3d"
           }
          ],
          "parcoords": [
           {
            "line": {
             "colorbar": {
              "outlinewidth": 0,
              "ticks": ""
             }
            },
            "type": "parcoords"
           }
          ],
          "pie": [
           {
            "automargin": true,
            "type": "pie"
           }
          ],
          "scatter": [
           {
            "marker": {
             "colorbar": {
              "outlinewidth": 0,
              "ticks": ""
             }
            },
            "type": "scatter"
           }
          ],
          "scatter3d": [
           {
            "line": {
             "colorbar": {
              "outlinewidth": 0,
              "ticks": ""
             }
            },
            "marker": {
             "colorbar": {
              "outlinewidth": 0,
              "ticks": ""
             }
            },
            "type": "scatter3d"
           }
          ],
          "scattercarpet": [
           {
            "marker": {
             "colorbar": {
              "outlinewidth": 0,
              "ticks": ""
             }
            },
            "type": "scattercarpet"
           }
          ],
          "scattergeo": [
           {
            "marker": {
             "colorbar": {
              "outlinewidth": 0,
              "ticks": ""
             }
            },
            "type": "scattergeo"
           }
          ],
          "scattergl": [
           {
            "marker": {
             "colorbar": {
              "outlinewidth": 0,
              "ticks": ""
             }
            },
            "type": "scattergl"
           }
          ],
          "scattermapbox": [
           {
            "marker": {
             "colorbar": {
              "outlinewidth": 0,
              "ticks": ""
             }
            },
            "type": "scattermapbox"
           }
          ],
          "scatterpolar": [
           {
            "marker": {
             "colorbar": {
              "outlinewidth": 0,
              "ticks": ""
             }
            },
            "type": "scatterpolar"
           }
          ],
          "scatterpolargl": [
           {
            "marker": {
             "colorbar": {
              "outlinewidth": 0,
              "ticks": ""
             }
            },
            "type": "scatterpolargl"
           }
          ],
          "scatterternary": [
           {
            "marker": {
             "colorbar": {
              "outlinewidth": 0,
              "ticks": ""
             }
            },
            "type": "scatterternary"
           }
          ],
          "surface": [
           {
            "colorbar": {
             "outlinewidth": 0,
             "ticks": ""
            },
            "colorscale": [
             [
              0,
              "#0d0887"
             ],
             [
              0.1111111111111111,
              "#46039f"
             ],
             [
              0.2222222222222222,
              "#7201a8"
             ],
             [
              0.3333333333333333,
              "#9c179e"
             ],
             [
              0.4444444444444444,
              "#bd3786"
             ],
             [
              0.5555555555555556,
              "#d8576b"
             ],
             [
              0.6666666666666666,
              "#ed7953"
             ],
             [
              0.7777777777777778,
              "#fb9f3a"
             ],
             [
              0.8888888888888888,
              "#fdca26"
             ],
             [
              1,
              "#f0f921"
             ]
            ],
            "type": "surface"
           }
          ],
          "table": [
           {
            "cells": {
             "fill": {
              "color": "#EBF0F8"
             },
             "line": {
              "color": "white"
             }
            },
            "header": {
             "fill": {
              "color": "#C8D4E3"
             },
             "line": {
              "color": "white"
             }
            },
            "type": "table"
           }
          ]
         },
         "layout": {
          "annotationdefaults": {
           "arrowcolor": "#2a3f5f",
           "arrowhead": 0,
           "arrowwidth": 1
          },
          "coloraxis": {
           "colorbar": {
            "outlinewidth": 0,
            "ticks": ""
           }
          },
          "colorscale": {
           "diverging": [
            [
             0,
             "#8e0152"
            ],
            [
             0.1,
             "#c51b7d"
            ],
            [
             0.2,
             "#de77ae"
            ],
            [
             0.3,
             "#f1b6da"
            ],
            [
             0.4,
             "#fde0ef"
            ],
            [
             0.5,
             "#f7f7f7"
            ],
            [
             0.6,
             "#e6f5d0"
            ],
            [
             0.7,
             "#b8e186"
            ],
            [
             0.8,
             "#7fbc41"
            ],
            [
             0.9,
             "#4d9221"
            ],
            [
             1,
             "#276419"
            ]
           ],
           "sequential": [
            [
             0,
             "#0d0887"
            ],
            [
             0.1111111111111111,
             "#46039f"
            ],
            [
             0.2222222222222222,
             "#7201a8"
            ],
            [
             0.3333333333333333,
             "#9c179e"
            ],
            [
             0.4444444444444444,
             "#bd3786"
            ],
            [
             0.5555555555555556,
             "#d8576b"
            ],
            [
             0.6666666666666666,
             "#ed7953"
            ],
            [
             0.7777777777777778,
             "#fb9f3a"
            ],
            [
             0.8888888888888888,
             "#fdca26"
            ],
            [
             1,
             "#f0f921"
            ]
           ],
           "sequentialminus": [
            [
             0,
             "#0d0887"
            ],
            [
             0.1111111111111111,
             "#46039f"
            ],
            [
             0.2222222222222222,
             "#7201a8"
            ],
            [
             0.3333333333333333,
             "#9c179e"
            ],
            [
             0.4444444444444444,
             "#bd3786"
            ],
            [
             0.5555555555555556,
             "#d8576b"
            ],
            [
             0.6666666666666666,
             "#ed7953"
            ],
            [
             0.7777777777777778,
             "#fb9f3a"
            ],
            [
             0.8888888888888888,
             "#fdca26"
            ],
            [
             1,
             "#f0f921"
            ]
           ]
          },
          "colorway": [
           "#636efa",
           "#EF553B",
           "#00cc96",
           "#ab63fa",
           "#FFA15A",
           "#19d3f3",
           "#FF6692",
           "#B6E880",
           "#FF97FF",
           "#FECB52"
          ],
          "font": {
           "color": "#2a3f5f"
          },
          "geo": {
           "bgcolor": "white",
           "lakecolor": "white",
           "landcolor": "#E5ECF6",
           "showlakes": true,
           "showland": true,
           "subunitcolor": "white"
          },
          "hoverlabel": {
           "align": "left"
          },
          "hovermode": "closest",
          "mapbox": {
           "style": "light"
          },
          "paper_bgcolor": "white",
          "plot_bgcolor": "#E5ECF6",
          "polar": {
           "angularaxis": {
            "gridcolor": "white",
            "linecolor": "white",
            "ticks": ""
           },
           "bgcolor": "#E5ECF6",
           "radialaxis": {
            "gridcolor": "white",
            "linecolor": "white",
            "ticks": ""
           }
          },
          "scene": {
           "xaxis": {
            "backgroundcolor": "#E5ECF6",
            "gridcolor": "white",
            "gridwidth": 2,
            "linecolor": "white",
            "showbackground": true,
            "ticks": "",
            "zerolinecolor": "white"
           },
           "yaxis": {
            "backgroundcolor": "#E5ECF6",
            "gridcolor": "white",
            "gridwidth": 2,
            "linecolor": "white",
            "showbackground": true,
            "ticks": "",
            "zerolinecolor": "white"
           },
           "zaxis": {
            "backgroundcolor": "#E5ECF6",
            "gridcolor": "white",
            "gridwidth": 2,
            "linecolor": "white",
            "showbackground": true,
            "ticks": "",
            "zerolinecolor": "white"
           }
          },
          "shapedefaults": {
           "line": {
            "color": "#2a3f5f"
           }
          },
          "ternary": {
           "aaxis": {
            "gridcolor": "white",
            "linecolor": "white",
            "ticks": ""
           },
           "baxis": {
            "gridcolor": "white",
            "linecolor": "white",
            "ticks": ""
           },
           "bgcolor": "#E5ECF6",
           "caxis": {
            "gridcolor": "white",
            "linecolor": "white",
            "ticks": ""
           }
          },
          "title": {
           "x": 0.05
          },
          "xaxis": {
           "automargin": true,
           "gridcolor": "white",
           "linecolor": "white",
           "ticks": "",
           "title": {
            "standoff": 15
           },
           "zerolinecolor": "white",
           "zerolinewidth": 2
          },
          "yaxis": {
           "automargin": true,
           "gridcolor": "white",
           "linecolor": "white",
           "ticks": "",
           "title": {
            "standoff": 15
           },
           "zerolinecolor": "white",
           "zerolinewidth": 2
          }
         }
        }
       }
      },
      "text/html": [
       "<div>                            <div id=\"5a69b87a-cc86-4a57-a872-f75c2424e476\" class=\"plotly-graph-div\" style=\"height:525px; width:100%;\"></div>            <script type=\"text/javascript\">                require([\"plotly\"], function(Plotly) {                    window.PLOTLYENV=window.PLOTLYENV || {};                                    if (document.getElementById(\"5a69b87a-cc86-4a57-a872-f75c2424e476\")) {                    Plotly.newPlot(                        \"5a69b87a-cc86-4a57-a872-f75c2424e476\",                        [{\"color\": \"#9ab25a\", \"i\": [0, 0, 100, 100, 101, 101, 102, 102, 103, 103, 104, 104, 105, 105, 106, 106, 107, 107, 108, 108, 109, 109, 110, 110, 111, 111, 112, 112, 113, 113, 114, 114, 115, 115, 116, 116, 117, 117, 118, 118, 119, 119, 120, 120, 121, 121, 122, 122, 123, 123, 124, 124, 125, 125, 126, 126, 127, 127, 128, 128, 129, 129, 130, 130, 131, 131, 132, 132, 133, 133, 134, 134, 135, 135, 136, 136, 137, 137, 138, 138, 139, 139, 140, 140, 141, 141, 142, 142, 143, 143, 144, 144, 145, 145, 146, 146, 147, 147], \"j\": [1, 2, 3, 4, 5, 6, 7, 8, 9, 10, 11, 12, 13, 14, 15, 16, 17, 18, 19, 20, 21, 22, 23, 24, 25, 26, 27, 28, 29, 30, 31, 32, 33, 34, 35, 36, 37, 38, 39, 40, 41, 42, 43, 44, 45, 46, 47, 48, 49, 50, 51, 52, 53, 54, 55, 56, 57, 58, 59, 60, 61, 62, 63, 64, 65, 66, 67, 68, 69, 70, 71, 72, 73, 74, 75, 76, 77, 78, 79, 80, 81, 82, 83, 84, 85, 86, 87, 88, 89, 90, 91, 92, 93, 94, 95, 96, 97, 98], \"k\": [2, 100, 4, 101, 6, 102, 8, 103, 10, 104, 12, 105, 14, 106, 16, 107, 18, 108, 20, 109, 22, 110, 24, 111, 26, 112, 28, 113, 30, 114, 32, 115, 34, 116, 36, 117, 38, 118, 40, 119, 42, 120, 44, 121, 46, 122, 48, 123, 50, 124, 52, 125, 54, 126, 56, 127, 58, 128, 60, 129, 62, 130, 64, 131, 66, 132, 68, 133, 70, 134, 72, 135, 74, 136, 76, 137, 78, 138, 80, 139, 82, 140, 84, 141, 86, 142, 88, 143, 90, 144, 92, 145, 94, 146, 96, 147, 98, 99], \"opacity\": 0.7, \"scene\": \"scene\", \"type\": \"mesh3d\", \"x\": [0.010083809923455343, 0.010083809923455343, 0.01542086788661404, 0.01542086788661404, 0.020757925849772742, 0.020757925849772742, 0.02609498381293144, 0.02609498381293144, 0.03143204177609014, 0.03143204177609014, 0.036769099739248835, 0.036769099739248835, 0.04210615770240754, 0.04210615770240754, 0.04744321566556624, 0.04744321566556624, 0.052780273628724936, 0.052780273628724936, 0.058117331591883634, 0.058117331591883634, 0.06345438955504233, 0.06345438955504233, 0.06879144751820103, 0.06879144751820103, 0.07412850548135973, 0.07412850548135973, 0.07946556344451843, 0.07946556344451843, 0.08480262140767712, 0.08480262140767712, 0.09013967937083582, 0.09013967937083582, 0.09547673733399452, 0.09547673733399452, 0.10081379529715322, 0.10081379529715322, 0.10615085326031191, 0.10615085326031191, 0.11148791122347061, 0.11148791122347061, 0.11682496918662931, 0.11682496918662931, 0.12216202714978801, 0.12216202714978801, 0.12749908511294672, 0.12749908511294672, 0.13283614307610542, 0.13283614307610542, 0.13817320103926412, 0.13817320103926412, 0.1435102590024228, 0.1435102590024228, 0.1488473169655815, 0.1488473169655815, 0.1541843749287402, 0.1541843749287402, 0.1595214328918989, 0.1595214328918989, 0.1648584908550576, 0.1648584908550576, 0.1701955488182163, 0.1701955488182163, 0.175532606781375, 0.175532606781375, 0.1808696647445337, 0.1808696647445337, 0.1862067227076924, 0.1862067227076924, 0.1915437806708511, 0.1915437806708511, 0.1968808386340098, 0.1968808386340098, 0.2022178965971685, 0.2022178965971685, 0.2075549545603272, 0.2075549545603272, 0.21289201252348589, 0.21289201252348589, 0.21822907048664458, 0.21822907048664458, 0.22356612844980328, 0.22356612844980328, 0.22890318641296198, 0.22890318641296198, 0.23424024437612068, 0.23424024437612068, 0.2395773023392794, 0.2395773023392794, 0.24491436030243807, 0.24491436030243807, 0.25025141826559677, 0.25025141826559677, 0.25558847622875547, 0.25558847622875547, 0.2609255341919142, 0.2609255341919142, 0.2662625921550729, 0.2662625921550729, 0.2715996501182316, 0.2715996501182316, 0.01542086788661404, 0.020757925849772742, 0.02609498381293144, 0.03143204177609014, 0.036769099739248835, 0.04210615770240754, 0.04744321566556624, 0.052780273628724936, 0.058117331591883634, 0.06345438955504233, 0.06879144751820103, 0.07412850548135973, 0.07946556344451843, 0.08480262140767712, 0.09013967937083582, 0.09547673733399452, 0.10081379529715322, 0.10615085326031191, 0.11148791122347061, 0.11682496918662931, 0.12216202714978801, 0.12749908511294672, 0.13283614307610542, 0.13817320103926412, 0.1435102590024228, 0.1488473169655815, 0.1541843749287402, 0.1595214328918989, 0.1648584908550576, 0.1701955488182163, 0.175532606781375, 0.1808696647445337, 0.1862067227076924, 0.1915437806708511, 0.1968808386340098, 0.2022178965971685, 0.2075549545603272, 0.21289201252348589, 0.21822907048664458, 0.22356612844980328, 0.22890318641296198, 0.23424024437612068, 0.2395773023392794, 0.24491436030243807, 0.25025141826559677, 0.25558847622875547, 0.2609255341919142, 0.2662625921550729], \"y\": [0.027941978003324642, 0.03838909207972434, 0.03838909207972434, 0.027941978003324642, 0.027941978003324642, 0.048836206156124023, 0.048836206156124023, 0.027941978003324642, 0.027941978003324642, 0.027941978003324642, 0.027941978003324642, 0.027941978003324642, 0.027941978003324642, 0.03838909207972434, 0.03838909207972434, 0.03838909207972434, 0.03838909207972434, 0.03838909207972434, 0.03838909207972434, 0.048836206156124023, 0.048836206156124023, 0.03838909207972434, 0.03838909207972434, 0.03838909207972434, 0.03838909207972434, 0.027941978003324642, 0.027941978003324642, 0.03838909207972434, 0.03838909207972434, 0.027941978003324642, 0.027941978003324642, 0.048836206156124023, 0.048836206156124023, 0.027941978003324642, 0.027941978003324642, 0.027941978003324642, 0.027941978003324642, 0.027941978003324642, 0.027941978003324642, 0.027941978003324642, 0.027941978003324642, 0.027941978003324642, 0.027941978003324642, 0.027941978003324642, 0.027941978003324642, 0.027941978003324642, 0.027941978003324642, 0.027941978003324642, 0.027941978003324642, 0.027941978003324642, 0.027941978003324642, 0.027941978003324642, 0.027941978003324642, 0.027941978003324642, 0.027941978003324642, 0.027941978003324642, 0.027941978003324642, 0.027941978003324642, 0.027941978003324642, 0.027941978003324642, 0.027941978003324642, 0.027941978003324642, 0.027941978003324642, 0.027941978003324642, 0.027941978003324642, 0.027941978003324642, 0.027941978003324642, 0.027941978003324642, 0.027941978003324642, 0.027941978003324642, 0.027941978003324642, 0.027941978003324642, 0.027941978003324642, 0.027941978003324642, 0.027941978003324642, 0.027941978003324642, 0.027941978003324642, 0.027941978003324642, 0.027941978003324642, 0.027941978003324642, 0.027941978003324642, 0.027941978003324642, 0.027941978003324642, 0.027941978003324642, 0.027941978003324642, 0.027941978003324642, 0.027941978003324642, 0.027941978003324642, 0.027941978003324642, 0.027941978003324642, 0.027941978003324642, 0.027941978003324642, 0.027941978003324642, 0.027941978003324642, 0.027941978003324642, 0.027941978003324642, 0.027941978003324642, 0.027941978003324642, 0.027941978003324642, 0.027941978003324642, 0.027941978003324642, 0.027941978003324642, 0.027941978003324642, 0.027941978003324642, 0.027941978003324642, 0.027941978003324642, 0.027941978003324642, 0.027941978003324642, 0.027941978003324642, 0.027941978003324642, 0.027941978003324642, 0.027941978003324642, 0.027941978003324642, 0.027941978003324642, 0.027941978003324642, 0.027941978003324642, 0.027941978003324642, 0.027941978003324642, 0.027941978003324642, 0.027941978003324642, 0.027941978003324642, 0.027941978003324642, 0.027941978003324642, 0.027941978003324642, 0.027941978003324642, 0.027941978003324642, 0.027941978003324642, 0.027941978003324642, 0.027941978003324642, 0.027941978003324642, 0.027941978003324642, 0.027941978003324642, 0.027941978003324642, 0.027941978003324642, 0.027941978003324642, 0.027941978003324642, 0.027941978003324642, 0.027941978003324642, 0.027941978003324642, 0.027941978003324642, 0.027941978003324642, 0.027941978003324642, 0.027941978003324642, 0.027941978003324642, 0.027941978003324642, 0.027941978003324642, 0.027941978003324642, 0.027941978003324642], \"z\": [-1.242047943593212, -1.242047943593212, -1.242047943593212, -1.242047943593212, -1.242047943593212, -1.242047943593212, -1.242047943593212, -1.242047943593212, -1.242047943593212, -1.242047943593212, -1.242047943593212, -1.242047943593212, -1.242047943593212, -1.242047943593212, -1.242047943593212, -1.242047943593212, -1.242047943593212, -1.242047943593212, -1.242047943593212, -1.242047943593212, -1.242047943593212, -1.242047943593212, -1.242047943593212, -1.242047943593212, -1.242047943593212, -1.242047943593212, -1.242047943593212, -1.242047943593212, -1.242047943593212, -1.242047943593212, -1.242047943593212, -1.242047943593212, -1.242047943593212, -1.242047943593212, -1.242047943593212, -1.242047943593212, -1.242047943593212, -1.242047943593212, -1.242047943593212, -1.242047943593212, -1.242047943593212, -1.242047943593212, -1.242047943593212, -1.242047943593212, -1.242047943593212, -1.242047943593212, -1.242047943593212, -1.242047943593212, -1.242047943593212, -1.242047943593212, -1.242047943593212, -1.242047943593212, -1.242047943593212, -1.242047943593212, -1.242047943593212, -1.242047943593212, -1.242047943593212, -1.242047943593212, -1.242047943593212, -1.242047943593212, -1.242047943593212, -1.242047943593212, -1.242047943593212, -1.242047943593212, -1.242047943593212, -1.242047943593212, -1.242047943593212, -1.242047943593212, -1.242047943593212, -1.242047943593212, -1.242047943593212, -1.242047943593212, -1.242047943593212, -1.242047943593212, -1.242047943593212, -1.242047943593212, -1.242047943593212, -1.242047943593212, -1.242047943593212, -1.242047943593212, -1.242047943593212, -1.242047943593212, -1.242047943593212, -1.242047943593212, -1.242047943593212, -1.242047943593212, -1.242047943593212, -1.242047943593212, -1.242047943593212, -1.242047943593212, -1.242047943593212, -1.242047943593212, -1.242047943593212, -1.242047943593212, -1.242047943593212, -1.242047943593212, -1.242047943593212, -1.242047943593212, -1.242047943593212, -1.242047943593212, -1.242047943593212, -1.242047943593212, -1.242047943593212, -1.242047943593212, -1.242047943593212, -1.242047943593212, -1.242047943593212, -1.242047943593212, -1.242047943593212, -1.242047943593212, -1.242047943593212, -1.242047943593212, -1.242047943593212, -1.242047943593212, -1.242047943593212, -1.242047943593212, -1.242047943593212, -1.242047943593212, -1.242047943593212, -1.242047943593212, -1.242047943593212, -1.242047943593212, -1.242047943593212, -1.242047943593212, -1.242047943593212, -1.242047943593212, -1.242047943593212, -1.242047943593212, -1.242047943593212, -1.242047943593212, -1.242047943593212, -1.242047943593212, -1.242047943593212, -1.242047943593212, -1.242047943593212, -1.242047943593212, -1.242047943593212, -1.242047943593212, -1.242047943593212, -1.242047943593212, -1.242047943593212, -1.242047943593212, -1.242047943593212, -1.242047943593212, -1.242047943593212, -1.242047943593212, -1.242047943593212, -1.242047943593212]}, {\"color\": \"#9ab25a\", \"i\": [0, 0, 100, 100, 101, 101, 102, 102, 103, 103, 104, 104, 105, 105, 106, 106, 107, 107, 108, 108, 109, 109, 110, 110, 111, 111, 112, 112, 113, 113, 114, 114, 115, 115, 116, 116, 117, 117, 118, 118, 119, 119, 120, 120, 121, 121, 122, 122, 123, 123, 124, 124, 125, 125, 126, 126, 127, 127, 128, 128, 129, 129, 130, 130, 131, 131, 132, 132, 133, 133, 134, 134, 135, 135, 136, 136, 137, 137, 138, 138, 139, 139, 140, 140, 141, 141, 142, 142, 143, 143, 144, 144, 145, 145, 146, 146, 147, 147], \"j\": [1, 2, 3, 4, 5, 6, 7, 8, 9, 10, 11, 12, 13, 14, 15, 16, 17, 18, 19, 20, 21, 22, 23, 24, 25, 26, 27, 28, 29, 30, 31, 32, 33, 34, 35, 36, 37, 38, 39, 40, 41, 42, 43, 44, 45, 46, 47, 48, 49, 50, 51, 52, 53, 54, 55, 56, 57, 58, 59, 60, 61, 62, 63, 64, 65, 66, 67, 68, 69, 70, 71, 72, 73, 74, 75, 76, 77, 78, 79, 80, 81, 82, 83, 84, 85, 86, 87, 88, 89, 90, 91, 92, 93, 94, 95, 96, 97, 98], \"k\": [2, 100, 4, 101, 6, 102, 8, 103, 10, 104, 12, 105, 14, 106, 16, 107, 18, 108, 20, 109, 22, 110, 24, 111, 26, 112, 28, 113, 30, 114, 32, 115, 34, 116, 36, 117, 38, 118, 40, 119, 42, 120, 44, 121, 46, 122, 48, 123, 50, 124, 52, 125, 54, 126, 56, 127, 58, 128, 60, 129, 62, 130, 64, 131, 66, 132, 68, 133, 70, 134, 72, 135, 74, 136, 76, 137, 78, 138, 80, 139, 82, 140, 84, 141, 86, 142, 88, 143, 90, 144, 92, 145, 94, 146, 96, 147, 98, 99], \"opacity\": 0.7, \"scene\": \"scene\", \"type\": \"mesh3d\", \"x\": [0.007539870156857132, 0.007539870156857132, 0.007539870156857132, 0.007539870156857132, 0.007539870156857132, 0.007539870156857132, 0.007539870156857132, 0.007539870156857132, 0.007539870156857132, 0.007539870156857132, 0.007539870156857132, 0.007539870156857132, 0.007539870156857132, 0.007539870156857132, 0.007539870156857132, 0.007539870156857132, 0.007539870156857132, 0.007539870156857132, 0.007539870156857132, 0.007539870156857132, 0.007539870156857132, 0.007539870156857132, 0.007539870156857132, 0.007539870156857132, 0.007539870156857132, 0.007539870156857132, 0.007539870156857132, 0.007539870156857132, 0.007539870156857132, 0.007539870156857132, 0.007539870156857132, 0.007539870156857132, 0.007539870156857132, 0.007539870156857132, 0.007539870156857132, 0.007539870156857132, 0.007539870156857132, 0.007539870156857132, 0.007539870156857132, 0.007539870156857132, 0.007539870156857132, 0.007539870156857132, 0.007539870156857132, 0.007539870156857132, 0.007539870156857132, 0.007539870156857132, 0.007539870156857132, 0.007539870156857132, 0.007539870156857132, 0.007539870156857132, 0.007539870156857132, 0.007539870156857132, 0.007539870156857132, 0.007539870156857132, 0.007539870156857132, 0.007539870156857132, 0.007539870156857132, 0.007539870156857132, 0.007539870156857132, 0.007539870156857132, 0.007539870156857132, 0.007539870156857132, 0.007539870156857132, 0.007539870156857132, 0.007539870156857132, 0.007539870156857132, 0.007539870156857132, 0.007539870156857132, 0.007539870156857132, 0.007539870156857132, 0.007539870156857132, 0.007539870156857132, 0.007539870156857132, 0.007539870156857132, 0.007539870156857132, 0.007539870156857132, 0.007539870156857132, 0.007539870156857132, 0.007539870156857132, 0.007539870156857132, 0.007539870156857132, 0.007539870156857132, 0.007539870156857132, 0.007539870156857132, 0.007539870156857132, 0.007539870156857132, 0.007539870156857132, 0.007539870156857132, 0.007539870156857132, 0.007539870156857132, 0.007539870156857132, 0.007539870156857132, 0.007539870156857132, 0.007539870156857132, 0.007539870156857132, 0.007539870156857132, 0.007539870156857132, 0.007539870156857132, 0.007539870156857132, 0.007539870156857132, 0.007539870156857132, 0.007539870156857132, 0.007539870156857132, 0.007539870156857132, 0.007539870156857132, 0.007539870156857132, 0.007539870156857132, 0.007539870156857132, 0.007539870156857132, 0.007539870156857132, 0.007539870156857132, 0.007539870156857132, 0.007539870156857132, 0.007539870156857132, 0.007539870156857132, 0.007539870156857132, 0.007539870156857132, 0.007539870156857132, 0.007539870156857132, 0.007539870156857132, 0.007539870156857132, 0.007539870156857132, 0.007539870156857132, 0.007539870156857132, 0.007539870156857132, 0.007539870156857132, 0.007539870156857132, 0.007539870156857132, 0.007539870156857132, 0.007539870156857132, 0.007539870156857132, 0.007539870156857132, 0.007539870156857132, 0.007539870156857132, 0.007539870156857132, 0.007539870156857132, 0.007539870156857132, 0.007539870156857132, 0.007539870156857132, 0.007539870156857132, 0.007539870156857132, 0.007539870156857132, 0.007539870156857132, 0.007539870156857132, 0.007539870156857132, 0.007539870156857132, 0.007539870156857132, 0.007539870156857132], \"y\": [0.03460306564877418, 0.03460306564877418, 0.03483216741502575, 0.03483216741502575, 0.03506126918127732, 0.03506126918127732, 0.03529037094752888, 0.03529037094752888, 0.035519472713780455, 0.035519472713780455, 0.03574857448003202, 0.03574857448003202, 0.03597767624628359, 0.03597767624628359, 0.036206778012535155, 0.036206778012535155, 0.03643587977878673, 0.03643587977878673, 0.03666498154503829, 0.03666498154503829, 0.03689408331128986, 0.03689408331128986, 0.03712318507754143, 0.03712318507754143, 0.037352286843793, 0.037352286843793, 0.037581388610044564, 0.037581388610044564, 0.037810490376296135, 0.037810490376296135, 0.0380395921425477, 0.0380395921425477, 0.03826869390879927, 0.03826869390879927, 0.038497795675050836, 0.038497795675050836, 0.03872689744130241, 0.03872689744130241, 0.03895599920755397, 0.03895599920755397, 0.039185100973805544, 0.039185100973805544, 0.03941420274005711, 0.03941420274005711, 0.03964330450630868, 0.03964330450630868, 0.039872406272560244, 0.039872406272560244, 0.040101508038811816, 0.040101508038811816, 0.04033060980506338, 0.04033060980506338, 0.04055971157131495, 0.04055971157131495, 0.04078881333756652, 0.04078881333756652, 0.04101791510381809, 0.04101791510381809, 0.04124701687006965, 0.04124701687006965, 0.041476118636321224, 0.041476118636321224, 0.04170522040257279, 0.04170522040257279, 0.04193432216882436, 0.04193432216882436, 0.042163423935075925, 0.042163423935075925, 0.042392525701327496, 0.042392525701327496, 0.04262162746757906, 0.04262162746757906, 0.042850729233830626, 0.042850729233830626, 0.0430798310000822, 0.0430798310000822, 0.04330893276633377, 0.04330893276633377, 0.04353803453258533, 0.04353803453258533, 0.0437671362988369, 0.0437671362988369, 0.04399623806508847, 0.04399623806508847, 0.04422533983134004, 0.04422533983134004, 0.044454441597591605, 0.044454441597591605, 0.04468354336384317, 0.04468354336384317, 0.04491264513009474, 0.04491264513009474, 0.04514174689634631, 0.04514174689634631, 0.04537084866259788, 0.04537084866259788, 0.04559995042884944, 0.04559995042884944, 0.045829052195101014, 0.045829052195101014, 0.03483216741502575, 0.03506126918127732, 0.03529037094752888, 0.035519472713780455, 0.03574857448003202, 0.03597767624628359, 0.036206778012535155, 0.03643587977878673, 0.03666498154503829, 0.03689408331128986, 0.03712318507754143, 0.037352286843793, 0.037581388610044564, 0.037810490376296135, 0.0380395921425477, 0.03826869390879927, 0.038497795675050836, 0.03872689744130241, 0.03895599920755397, 0.039185100973805544, 0.03941420274005711, 0.03964330450630868, 0.039872406272560244, 0.040101508038811816, 0.04033060980506338, 0.04055971157131495, 0.04078881333756652, 0.04101791510381809, 0.04124701687006965, 0.041476118636321224, 0.04170522040257279, 0.04193432216882436, 0.042163423935075925, 0.042392525701327496, 0.04262162746757906, 0.042850729233830626, 0.0430798310000822, 0.04330893276633377, 0.04353803453258533, 0.0437671362988369, 0.04399623806508847, 0.04422533983134004, 0.044454441597591605, 0.04468354336384317, 0.04491264513009474, 0.04514174689634631, 0.04537084866259788, 0.04559995042884944], \"z\": [-1.242047943593212, -0.6481683845140701, -0.6481683845140701, -1.242047943593212, -1.242047943593212, -1.242047943593212, -1.242047943593212, -1.242047943593212, -1.242047943593212, -0.6481683845140701, -0.6481683845140701, -1.242047943593212, -1.242047943593212, -1.242047943593212, -1.242047943593212, -1.242047943593212, -1.242047943593212, -1.242047943593212, -1.242047943593212, -1.242047943593212, -1.242047943593212, -1.242047943593212, -1.242047943593212, -0.6481683845140701, -0.6481683845140701, -1.242047943593212, -1.242047943593212, -1.242047943593212, -1.242047943593212, -0.6481683845140701, -0.6481683845140701, -0.6481683845140701, -0.6481683845140701, -1.242047943593212, -1.242047943593212, -0.6481683845140701, -0.6481683845140701, -0.6481683845140701, -0.6481683845140701, -1.242047943593212, -1.242047943593212, -0.6481683845140701, -0.6481683845140701, -1.242047943593212, -1.242047943593212, -0.6481683845140701, -0.6481683845140701, -0.6481683845140701, -0.6481683845140701, -1.242047943593212, -1.242047943593212, -1.242047943593212, -1.242047943593212, -1.242047943593212, -1.242047943593212, -1.242047943593212, -1.242047943593212, -1.242047943593212, -1.242047943593212, -0.6481683845140701, -0.6481683845140701, -1.242047943593212, -1.242047943593212, -1.242047943593212, -1.242047943593212, -1.242047943593212, -1.242047943593212, -1.242047943593212, -1.242047943593212, -1.242047943593212, -1.242047943593212, -1.242047943593212, -1.242047943593212, -1.242047943593212, -1.242047943593212, -1.242047943593212, -1.242047943593212, -1.242047943593212, -1.242047943593212, -0.0542888254349283, -0.0542888254349283, -1.242047943593212, -1.242047943593212, -1.242047943593212, -1.242047943593212, -1.242047943593212, -1.242047943593212, -1.242047943593212, -1.242047943593212, -1.242047943593212, -1.242047943593212, -1.242047943593212, -1.242047943593212, -1.242047943593212, -1.242047943593212, -1.242047943593212, -1.242047943593212, -1.242047943593212, -1.242047943593212, -1.242047943593212, -1.242047943593212, -1.242047943593212, -1.242047943593212, -1.242047943593212, -1.242047943593212, -1.242047943593212, -1.242047943593212, -1.242047943593212, -1.242047943593212, -1.242047943593212, -1.242047943593212, -1.242047943593212, -1.242047943593212, -1.242047943593212, -1.242047943593212, -1.242047943593212, -1.242047943593212, -1.242047943593212, -1.242047943593212, -1.242047943593212, -1.242047943593212, -1.242047943593212, -1.242047943593212, -1.242047943593212, -1.242047943593212, -1.242047943593212, -1.242047943593212, -1.242047943593212, -1.242047943593212, -1.242047943593212, -1.242047943593212, -1.242047943593212, -1.242047943593212, -1.242047943593212, -1.242047943593212, -1.242047943593212, -1.242047943593212, -1.242047943593212, -1.242047943593212, -1.242047943593212, -1.242047943593212, -1.242047943593212, -1.242047943593212, -1.242047943593212, -1.242047943593212, -1.242047943593212, -1.242047943593212, -1.242047943593212]}, {\"color\": \"#9ab25a\", \"i\": [0, 0, 100, 100, 101, 101, 102, 102, 103, 103, 104, 104, 105, 105, 106, 106, 107, 107, 108, 108, 109, 109, 110, 110, 111, 111, 112, 112, 113, 113, 114, 114, 115, 115, 116, 116, 117, 117, 118, 118, 119, 119, 120, 120, 121, 121, 122, 122, 123, 123, 124, 124, 125, 125, 126, 126, 127, 127, 128, 128, 129, 129, 130, 130, 131, 131, 132, 132, 133, 133, 134, 134, 135, 135, 136, 136, 137, 137, 138, 138, 139, 139, 140, 140, 141, 141, 142, 142, 143, 143, 144, 144, 145, 145, 146, 146, 147, 147], \"j\": [1, 2, 3, 4, 5, 6, 7, 8, 9, 10, 11, 12, 13, 14, 15, 16, 17, 18, 19, 20, 21, 22, 23, 24, 25, 26, 27, 28, 29, 30, 31, 32, 33, 34, 35, 36, 37, 38, 39, 40, 41, 42, 43, 44, 45, 46, 47, 48, 49, 50, 51, 52, 53, 54, 55, 56, 57, 58, 59, 60, 61, 62, 63, 64, 65, 66, 67, 68, 69, 70, 71, 72, 73, 74, 75, 76, 77, 78, 79, 80, 81, 82, 83, 84, 85, 86, 87, 88, 89, 90, 91, 92, 93, 94, 95, 96, 97, 98], \"k\": [2, 100, 4, 101, 6, 102, 8, 103, 10, 104, 12, 105, 14, 106, 16, 107, 18, 108, 20, 109, 22, 110, 24, 111, 26, 112, 28, 113, 30, 114, 32, 115, 34, 116, 36, 117, 38, 118, 40, 119, 42, 120, 44, 121, 46, 122, 48, 123, 50, 124, 52, 125, 54, 126, 56, 127, 58, 128, 60, 129, 62, 130, 64, 131, 66, 132, 68, 133, 70, 134, 72, 135, 74, 136, 76, 137, 78, 138, 80, 139, 82, 140, 84, 141, 86, 142, 88, 143, 90, 144, 92, 145, 94, 146, 96, 147, 98, 99], \"opacity\": 0.7, \"scene\": \"scene\", \"type\": \"mesh3d\", \"x\": [0.007539870156857132, 0.07117760311432053, 0.07117760311432053, 0.007539870156857132, 0.007539870156857132, 0.007539870156857132, 0.007539870156857132, 0.13481533607178395, 0.13481533607178395, 0.007539870156857132, 0.007539870156857132, 0.007539870156857132, 0.007539870156857132, 0.007539870156857132, 0.007539870156857132, 0.007539870156857132, 0.007539870156857132, 0.07117760311432053, 0.07117760311432053, 0.007539870156857132, 0.007539870156857132, 0.007539870156857132, 0.007539870156857132, 0.007539870156857132, 0.007539870156857132, 0.007539870156857132, 0.007539870156857132, 0.007539870156857132, 0.007539870156857132, 0.007539870156857132, 0.007539870156857132, 0.007539870156857132, 0.007539870156857132, 0.007539870156857132, 0.007539870156857132, 0.007539870156857132, 0.007539870156857132, 0.007539870156857132, 0.007539870156857132, 0.007539870156857132, 0.007539870156857132, 0.007539870156857132, 0.007539870156857132, 0.007539870156857132, 0.007539870156857132, 0.19845306902924736, 0.19845306902924736, 0.13481533607178395, 0.13481533607178395, 0.007539870156857132, 0.007539870156857132, 0.007539870156857132, 0.007539870156857132, 0.007539870156857132, 0.007539870156857132, 0.007539870156857132, 0.007539870156857132, 0.007539870156857132, 0.007539870156857132, 0.007539870156857132, 0.007539870156857132, 0.007539870156857132, 0.007539870156857132, 0.007539870156857132, 0.007539870156857132, 0.007539870156857132, 0.007539870156857132, 0.07117760311432053, 0.07117760311432053, 0.007539870156857132, 0.007539870156857132, 0.007539870156857132, 0.007539870156857132, 0.07117760311432053, 0.07117760311432053, 0.007539870156857132, 0.007539870156857132, 0.007539870156857132, 0.007539870156857132, 0.007539870156857132, 0.007539870156857132, 0.007539870156857132, 0.007539870156857132, 0.007539870156857132, 0.007539870156857132, 0.007539870156857132, 0.007539870156857132, 0.007539870156857132, 0.007539870156857132, 0.007539870156857132, 0.007539870156857132, 0.07117760311432053, 0.07117760311432053, 0.007539870156857132, 0.007539870156857132, 0.007539870156857132, 0.007539870156857132, 0.07117760311432053, 0.07117760311432053, 0.007539870156857132, 0.007539870156857132, 0.007539870156857132, 0.007539870156857132, 0.007539870156857132, 0.007539870156857132, 0.007539870156857132, 0.007539870156857132, 0.007539870156857132, 0.007539870156857132, 0.007539870156857132, 0.007539870156857132, 0.007539870156857132, 0.007539870156857132, 0.007539870156857132, 0.007539870156857132, 0.007539870156857132, 0.007539870156857132, 0.007539870156857132, 0.007539870156857132, 0.007539870156857132, 0.007539870156857132, 0.007539870156857132, 0.007539870156857132, 0.007539870156857132, 0.007539870156857132, 0.007539870156857132, 0.007539870156857132, 0.007539870156857132, 0.007539870156857132, 0.007539870156857132, 0.007539870156857132, 0.007539870156857132, 0.007539870156857132, 0.007539870156857132, 0.007539870156857132, 0.007539870156857132, 0.007539870156857132, 0.007539870156857132, 0.007539870156857132, 0.007539870156857132, 0.007539870156857132, 0.007539870156857132, 0.007539870156857132, 0.007539870156857132, 0.007539870156857132, 0.007539870156857132, 0.007539870156857132, 0.007539870156857132], \"y\": [0.027941978003324642, 0.027941978003324642, 0.027941978003324642, 0.027941978003324642, 0.027941978003324642, 0.027941978003324642, 0.027941978003324642, 0.027941978003324642, 0.027941978003324642, 0.027941978003324642, 0.027941978003324642, 0.027941978003324642, 0.027941978003324642, 0.027941978003324642, 0.027941978003324642, 0.027941978003324642, 0.027941978003324642, 0.027941978003324642, 0.027941978003324642, 0.027941978003324642, 0.027941978003324642, 0.027941978003324642, 0.027941978003324642, 0.027941978003324642, 0.027941978003324642, 0.027941978003324642, 0.027941978003324642, 0.027941978003324642, 0.027941978003324642, 0.027941978003324642, 0.027941978003324642, 0.027941978003324642, 0.027941978003324642, 0.027941978003324642, 0.027941978003324642, 0.027941978003324642, 0.027941978003324642, 0.027941978003324642, 0.027941978003324642, 0.027941978003324642, 0.027941978003324642, 0.027941978003324642, 0.027941978003324642, 0.027941978003324642, 0.027941978003324642, 0.027941978003324642, 0.027941978003324642, 0.027941978003324642, 0.027941978003324642, 0.027941978003324642, 0.027941978003324642, 0.027941978003324642, 0.027941978003324642, 0.027941978003324642, 0.027941978003324642, 0.027941978003324642, 0.027941978003324642, 0.027941978003324642, 0.027941978003324642, 0.027941978003324642, 0.027941978003324642, 0.027941978003324642, 0.027941978003324642, 0.027941978003324642, 0.027941978003324642, 0.027941978003324642, 0.027941978003324642, 0.027941978003324642, 0.027941978003324642, 0.027941978003324642, 0.027941978003324642, 0.027941978003324642, 0.027941978003324642, 0.027941978003324642, 0.027941978003324642, 0.027941978003324642, 0.027941978003324642, 0.027941978003324642, 0.027941978003324642, 0.027941978003324642, 0.027941978003324642, 0.027941978003324642, 0.027941978003324642, 0.027941978003324642, 0.027941978003324642, 0.027941978003324642, 0.027941978003324642, 0.027941978003324642, 0.027941978003324642, 0.027941978003324642, 0.027941978003324642, 0.027941978003324642, 0.027941978003324642, 0.027941978003324642, 0.027941978003324642, 0.027941978003324642, 0.027941978003324642, 0.027941978003324642, 0.027941978003324642, 0.027941978003324642, 0.027941978003324642, 0.027941978003324642, 0.027941978003324642, 0.027941978003324642, 0.027941978003324642, 0.027941978003324642, 0.027941978003324642, 0.027941978003324642, 0.027941978003324642, 0.027941978003324642, 0.027941978003324642, 0.027941978003324642, 0.027941978003324642, 0.027941978003324642, 0.027941978003324642, 0.027941978003324642, 0.027941978003324642, 0.027941978003324642, 0.027941978003324642, 0.027941978003324642, 0.027941978003324642, 0.027941978003324642, 0.027941978003324642, 0.027941978003324642, 0.027941978003324642, 0.027941978003324642, 0.027941978003324642, 0.027941978003324642, 0.027941978003324642, 0.027941978003324642, 0.027941978003324642, 0.027941978003324642, 0.027941978003324642, 0.027941978003324642, 0.027941978003324642, 0.027941978003324642, 0.027941978003324642, 0.027941978003324642, 0.027941978003324642, 0.027941978003324642, 0.027941978003324642, 0.027941978003324642, 0.027941978003324642, 0.027941978003324642, 0.027941978003324642, 0.027941978003324642, 0.027941978003324642, 0.027941978003324642], \"z\": [-0.3938250918236297, -0.3938250918236297, -0.3823137708823276, -0.3823137708823276, -0.3708024499410255, -0.3708024499410255, -0.3592911289997234, -0.3592911289997234, -0.3477798080584213, -0.3477798080584213, -0.3362684871171192, -0.3362684871171192, -0.3247571661758171, -0.3247571661758171, -0.31324584523451504, -0.31324584523451504, -0.3017345242932129, -0.3017345242932129, -0.2902232033519108, -0.2902232033519108, -0.27871188241060874, -0.27871188241060874, -0.26720056146930665, -0.26720056146930665, -0.25568924052800457, -0.25568924052800457, -0.24417791958670246, -0.24417791958670246, -0.23266659864540037, -0.23266659864540037, -0.22115527770409826, -0.22115527770409826, -0.20964395676279618, -0.20964395676279618, -0.1981326358214941, -0.1981326358214941, -0.18662131488019199, -0.18662131488019199, -0.1751099939388899, -0.1751099939388899, -0.1635986729975878, -0.1635986729975878, -0.1520873520562857, -0.1520873520562857, -0.14057603111498362, -0.14057603111498362, -0.12906471017368154, -0.12906471017368154, -0.11755338923237946, -0.11755338923237946, -0.10604206829107732, -0.10604206829107732, -0.09453074734977523, -0.09453074734977523, -0.0830194264084731, -0.0830194264084731, -0.07150810546717107, -0.07150810546717107, -0.059996784525868985, -0.059996784525868985, -0.048485463584566846, -0.048485463584566846, -0.03697414264326476, -0.03697414264326476, -0.02546282170196268, -0.02546282170196268, -0.013951500760660596, -0.013951500760660596, -0.0024401798193585122, -0.0024401798193585122, 0.009071141121943627, 0.009071141121943627, 0.02058246206324571, 0.02058246206324571, 0.03209378300454779, 0.03209378300454779, 0.04360510394584988, 0.04360510394584988, 0.05511642488715196, 0.05511642488715196, 0.0666277458284541, 0.0666277458284541, 0.07813906676975618, 0.07813906676975618, 0.08965038771105827, 0.08965038771105827, 0.10116170865236035, 0.10116170865236035, 0.11267302959366243, 0.11267302959366243, 0.12418435053496457, 0.12418435053496457, 0.1356956714762666, 0.1356956714762666, 0.14720699241756874, 0.14720699241756874, 0.15871831335887077, 0.15871831335887077, 0.1702296343001729, 0.1702296343001729, -0.3823137708823276, -0.3708024499410255, -0.3592911289997234, -0.3477798080584213, -0.3362684871171192, -0.3247571661758171, -0.31324584523451504, -0.3017345242932129, -0.2902232033519108, -0.27871188241060874, -0.26720056146930665, -0.25568924052800457, -0.24417791958670246, -0.23266659864540037, -0.22115527770409826, -0.20964395676279618, -0.1981326358214941, -0.18662131488019199, -0.1751099939388899, -0.1635986729975878, -0.1520873520562857, -0.14057603111498362, -0.12906471017368154, -0.11755338923237946, -0.10604206829107732, -0.09453074734977523, -0.0830194264084731, -0.07150810546717107, -0.059996784525868985, -0.048485463584566846, -0.03697414264326476, -0.02546282170196268, -0.013951500760660596, -0.0024401798193585122, 0.009071141121943627, 0.02058246206324571, 0.03209378300454779, 0.04360510394584988, 0.05511642488715196, 0.0666277458284541, 0.07813906676975618, 0.08965038771105827, 0.10116170865236035, 0.11267302959366243, 0.12418435053496457, 0.1356956714762666, 0.14720699241756874, 0.15871831335887077]}, {\"line\": {\"color\": [[0.0, 0.0, 0.0, 1.0]], \"width\": 4}, \"mode\": \"lines\", \"name\": \"O:1\", \"scene\": \"scene\", \"showlegend\": false, \"type\": \"scatter3d\", \"x\": [0.2715996501182316], \"y\": [0.045829052195101014], \"z\": [-0.13963727927784184]}, {\"marker\": {\"color\": [0.0, 0.0, 0.0, 1.0], \"size\": 3}, \"name\": \"Start O:1\", \"opacity\": 0.7, \"scene\": \"scene\", \"showlegend\": false, \"type\": \"scatter3d\", \"x\": [0.2715996501182316], \"y\": [0.045829052195101014], \"z\": [-0.13963727927784184]}, {\"marker\": {\"color\": [0.0, 0.0, 0.0, 1.0], \"size\": 3}, \"name\": \"End O:1\", \"opacity\": 0.7, \"scene\": \"scene\", \"showlegend\": false, \"type\": \"scatter3d\", \"x\": [0.2715996501182316], \"y\": [0.045829052195101014], \"z\": [-0.13963727927784184]}, {\"line\": {\"color\": [[0.0, 0.0, 0.0, 1.0], [0.5, 0.18333333333333335, 0.5833333333333334, 1.0], [0.9, 0.5833333333333334, 0.03333333333333333, 1.0]], \"width\": 4}, \"mode\": \"lines\", \"name\": \"O:2\", \"scene\": \"scene\", \"showlegend\": false, \"type\": \"scatter3d\", \"x\": [0.09287515114772646, 0.0583227587527637, 0.060141963247945344], \"y\": [0.037765260037078696, 0.037287541260057934, 0.035514430526239336], \"z\": [-0.35465863513434936, -0.35922949002697235, -0.2930502061050577]}, {\"marker\": {\"color\": [0.0, 0.0, 0.0, 1.0], \"size\": 3}, \"name\": \"Start O:2\", \"opacity\": 0.7, \"scene\": \"scene\", \"showlegend\": false, \"type\": \"scatter3d\", \"x\": [0.09287515114772646], \"y\": [0.037765260037078696], \"z\": [-0.35465863513434936]}, {\"marker\": {\"color\": [0.9, 0.5833333333333334, 0.03333333333333333, 1.0], \"size\": 3}, \"name\": \"End O:2\", \"opacity\": 0.7, \"scene\": \"scene\", \"showlegend\": false, \"type\": \"scatter3d\", \"x\": [0.060141963247945344], \"y\": [0.035514430526239336], \"z\": [-0.2930502061050577]}, {\"line\": {\"color\": [[0.0, 0.0, 0.0, 1.0]], \"width\": 4}, \"mode\": \"lines\", \"name\": \"O:3\", \"scene\": \"scene\", \"showlegend\": false, \"type\": \"scatter3d\", \"x\": [0.06532612226163786], \"y\": [0.03460306564877418], \"z\": [-0.3938250918236297]}, {\"marker\": {\"color\": [0.0, 0.0, 0.0, 1.0], \"size\": 3}, \"name\": \"Start O:3\", \"opacity\": 0.7, \"scene\": \"scene\", \"showlegend\": false, \"type\": \"scatter3d\", \"x\": [0.06532612226163786], \"y\": [0.03460306564877418], \"z\": [-0.3938250918236297]}, {\"marker\": {\"color\": [0.0, 0.0, 0.0, 1.0], \"size\": 3}, \"name\": \"End O:3\", \"opacity\": 0.7, \"scene\": \"scene\", \"showlegend\": false, \"type\": \"scatter3d\", \"x\": [0.06532612226163786], \"y\": [0.03460306564877418], \"z\": [-0.3938250918236297]}, {\"line\": {\"color\": [[0.0, 0.0, 0.0, 1.0], [0.5, 0.18333333333333335, 0.5833333333333334, 1.0], [0.9, 0.5833333333333334, 0.03333333333333333, 1.0]], \"width\": 4}, \"mode\": \"lines\", \"name\": \"O:4\", \"scene\": \"scene\", \"showlegend\": false, \"type\": \"scatter3d\", \"x\": [0.02239647191445357, 0.023335751382753168, 0.055518250986920245], \"y\": [0.03985800842785346, 0.03969088141352066, 0.03923113903133026], \"z\": [-0.1286364281562316, -0.141216172532007, -0.1347803398023403]}, {\"marker\": {\"color\": [0.0, 0.0, 0.0, 1.0], \"size\": 3}, \"name\": \"Start O:4\", \"opacity\": 0.7, \"scene\": \"scene\", \"showlegend\": false, \"type\": \"scatter3d\", \"x\": [0.02239647191445357], \"y\": [0.03985800842785346], \"z\": [-0.1286364281562316]}, {\"marker\": {\"color\": [0.9, 0.5833333333333334, 0.03333333333333333, 1.0], \"size\": 3}, \"name\": \"End O:4\", \"opacity\": 0.7, \"scene\": \"scene\", \"showlegend\": false, \"type\": \"scatter3d\", \"x\": [0.055518250986920245], \"y\": [0.03923113903133026], \"z\": [-0.1347803398023403]}, {\"line\": {\"color\": [[0.0, 0.0, 0.0, 1.0], [0.5, 0.18333333333333335, 0.5833333333333334, 1.0], [0.9, 0.5833333333333334, 0.03333333333333333, 1.0]], \"width\": 4}, \"mode\": \"lines\", \"name\": \"O:5\", \"scene\": \"scene\", \"showlegend\": false, \"type\": \"scatter3d\", \"x\": [0.09308826449933766, 0.05188504835900448, 0.010083809923455343], \"y\": [0.03881317581788537, 0.03846142462928953, 0.03803547760334979], \"z\": [0.1702296343001729, 0.15442414447583686, 0.12316961372972357]}, {\"marker\": {\"color\": [0.0, 0.0, 0.0, 1.0], \"size\": 3}, \"name\": \"Start O:5\", \"opacity\": 0.7, \"scene\": \"scene\", \"showlegend\": false, \"type\": \"scatter3d\", \"x\": [0.09308826449933766], \"y\": [0.03881317581788537], \"z\": [0.1702296343001729]}, {\"marker\": {\"color\": [0.9, 0.5833333333333334, 0.03333333333333333, 1.0], \"size\": 3}, \"name\": \"End O:5\", \"opacity\": 0.7, \"scene\": \"scene\", \"showlegend\": false, \"type\": \"scatter3d\", \"x\": [0.010083809923455343], \"y\": [0.03803547760334979], \"z\": [0.12316961372972357]}, {\"line\": {\"color\": [[0.0, 0.0, 0.0, 1.0], [0.9984313725490196, 0.25392156862745097, 0.1476470588235294, 1.0]], \"width\": 4}, \"mode\": \"lines\", \"name\": \"O:6\", \"scene\": \"scene\", \"showlegend\": false, \"type\": \"scatter3d\", \"x\": [0.08091611184531691, 0.06910893228231779], \"y\": [0.04340213150111064, 0.043533973352359104], \"z\": [-0.015347347324869445, 0.014569309639924461]}, {\"marker\": {\"color\": [0.0, 0.0, 0.0, 1.0], \"size\": 3}, \"name\": \"Start O:6\", \"opacity\": 0.7, \"scene\": \"scene\", \"showlegend\": false, \"type\": \"scatter3d\", \"x\": [0.08091611184531691], \"y\": [0.04340213150111064], \"z\": [-0.015347347324869445]}, {\"marker\": {\"color\": [0.9984313725490196, 0.25392156862745097, 0.1476470588235294, 1.0], \"size\": 3}, \"name\": \"End O:6\", \"opacity\": 0.7, \"scene\": \"scene\", \"showlegend\": false, \"type\": \"scatter3d\", \"x\": [0.06910893228231779], \"y\": [0.043533973352359104], \"z\": [0.014569309639924461]}, {\"line\": {\"color\": [[0.0, 0.0, 0.0, 1.0]], \"width\": 4}, \"mode\": \"lines\", \"name\": \"O:7\", \"scene\": \"scene\", \"showlegend\": false, \"type\": \"scatter3d\", \"x\": [0.045703474079982744], \"y\": [0.04120668668096845], \"z\": [-0.12867052162759793]}, {\"marker\": {\"color\": [0.0, 0.0, 0.0, 1.0], \"size\": 3}, \"name\": \"Start O:7\", \"opacity\": 0.7, \"scene\": \"scene\", \"showlegend\": false, \"type\": \"scatter3d\", \"x\": [0.045703474079982744], \"y\": [0.04120668668096845], \"z\": [-0.12867052162759793]}, {\"marker\": {\"color\": [0.0, 0.0, 0.0, 1.0], \"size\": 3}, \"name\": \"End O:7\", \"opacity\": 0.7, \"scene\": \"scene\", \"showlegend\": false, \"type\": \"scatter3d\", \"x\": [0.045703474079982744], \"y\": [0.04120668668096845], \"z\": [-0.12867052162759793]}],                        {\"annotations\": [{\"font\": {\"size\": 16}, \"showarrow\": false, \"text\": \"State 3 , 7 trajectories\", \"x\": 0.5, \"xanchor\": \"center\", \"xref\": \"paper\", \"y\": 1.0, \"yanchor\": \"bottom\", \"yref\": \"paper\"}], \"scene\": {\"camera\": {\"eye\": {\"x\": 1.6, \"y\": 1.6, \"z\": 1.6}}, \"domain\": {\"x\": [0.0, 1.0], \"y\": [0.0, 1.0]}, \"xaxis\": {\"backgroundcolor\": \"rgb(200,200,230)\", \"nticks\": 8, \"range\": [0.007539870156857132, 0.3893662679016376], \"title\": {\"text\": \"Speed (m/sec)\"}}, \"yaxis\": {\"backgroundcolor\": \"rgb(200,200,230)\", \"nticks\": 8, \"range\": [0.027941978003324642, 0.06973043430892341], \"title\": {\"text\": \"Body length (m)\"}}, \"zaxis\": {\"backgroundcolor\": \"rgb(200,200,230)\", \"nticks\": 8, \"range\": [-1.242047943593212, 1.1334702927233553], \"title\": {\"text\": \"Yaw (radians)\"}}}, \"template\": {\"data\": {\"bar\": [{\"error_x\": {\"color\": \"#2a3f5f\"}, \"error_y\": {\"color\": \"#2a3f5f\"}, \"marker\": {\"line\": {\"color\": \"#E5ECF6\", \"width\": 0.5}}, \"type\": \"bar\"}], \"barpolar\": [{\"marker\": {\"line\": {\"color\": \"#E5ECF6\", \"width\": 0.5}}, \"type\": \"barpolar\"}], \"carpet\": [{\"aaxis\": {\"endlinecolor\": \"#2a3f5f\", \"gridcolor\": \"white\", \"linecolor\": \"white\", \"minorgridcolor\": \"white\", \"startlinecolor\": \"#2a3f5f\"}, \"baxis\": {\"endlinecolor\": \"#2a3f5f\", \"gridcolor\": \"white\", \"linecolor\": \"white\", \"minorgridcolor\": \"white\", \"startlinecolor\": \"#2a3f5f\"}, \"type\": \"carpet\"}], \"choropleth\": [{\"colorbar\": {\"outlinewidth\": 0, \"ticks\": \"\"}, \"type\": \"choropleth\"}], \"contour\": [{\"colorbar\": {\"outlinewidth\": 0, \"ticks\": \"\"}, \"colorscale\": [[0.0, \"#0d0887\"], [0.1111111111111111, \"#46039f\"], [0.2222222222222222, \"#7201a8\"], [0.3333333333333333, \"#9c179e\"], [0.4444444444444444, \"#bd3786\"], [0.5555555555555556, \"#d8576b\"], [0.6666666666666666, \"#ed7953\"], [0.7777777777777778, \"#fb9f3a\"], [0.8888888888888888, \"#fdca26\"], [1.0, \"#f0f921\"]], \"type\": \"contour\"}], \"contourcarpet\": [{\"colorbar\": {\"outlinewidth\": 0, \"ticks\": \"\"}, \"type\": \"contourcarpet\"}], \"heatmap\": [{\"colorbar\": {\"outlinewidth\": 0, \"ticks\": \"\"}, \"colorscale\": [[0.0, \"#0d0887\"], [0.1111111111111111, \"#46039f\"], [0.2222222222222222, \"#7201a8\"], [0.3333333333333333, \"#9c179e\"], [0.4444444444444444, \"#bd3786\"], [0.5555555555555556, \"#d8576b\"], [0.6666666666666666, \"#ed7953\"], [0.7777777777777778, \"#fb9f3a\"], [0.8888888888888888, \"#fdca26\"], [1.0, \"#f0f921\"]], \"type\": \"heatmap\"}], \"heatmapgl\": [{\"colorbar\": {\"outlinewidth\": 0, \"ticks\": \"\"}, \"colorscale\": [[0.0, \"#0d0887\"], [0.1111111111111111, \"#46039f\"], [0.2222222222222222, \"#7201a8\"], [0.3333333333333333, \"#9c179e\"], [0.4444444444444444, \"#bd3786\"], [0.5555555555555556, \"#d8576b\"], [0.6666666666666666, \"#ed7953\"], [0.7777777777777778, \"#fb9f3a\"], [0.8888888888888888, \"#fdca26\"], [1.0, \"#f0f921\"]], \"type\": \"heatmapgl\"}], \"histogram\": [{\"marker\": {\"colorbar\": {\"outlinewidth\": 0, \"ticks\": \"\"}}, \"type\": \"histogram\"}], \"histogram2d\": [{\"colorbar\": {\"outlinewidth\": 0, \"ticks\": \"\"}, \"colorscale\": [[0.0, \"#0d0887\"], [0.1111111111111111, \"#46039f\"], [0.2222222222222222, \"#7201a8\"], [0.3333333333333333, \"#9c179e\"], [0.4444444444444444, \"#bd3786\"], [0.5555555555555556, \"#d8576b\"], [0.6666666666666666, \"#ed7953\"], [0.7777777777777778, \"#fb9f3a\"], [0.8888888888888888, \"#fdca26\"], [1.0, \"#f0f921\"]], \"type\": \"histogram2d\"}], \"histogram2dcontour\": [{\"colorbar\": {\"outlinewidth\": 0, \"ticks\": \"\"}, \"colorscale\": [[0.0, \"#0d0887\"], [0.1111111111111111, \"#46039f\"], [0.2222222222222222, \"#7201a8\"], [0.3333333333333333, \"#9c179e\"], [0.4444444444444444, \"#bd3786\"], [0.5555555555555556, \"#d8576b\"], [0.6666666666666666, \"#ed7953\"], [0.7777777777777778, \"#fb9f3a\"], [0.8888888888888888, \"#fdca26\"], [1.0, \"#f0f921\"]], \"type\": \"histogram2dcontour\"}], \"mesh3d\": [{\"colorbar\": {\"outlinewidth\": 0, \"ticks\": \"\"}, \"type\": \"mesh3d\"}], \"parcoords\": [{\"line\": {\"colorbar\": {\"outlinewidth\": 0, \"ticks\": \"\"}}, \"type\": \"parcoords\"}], \"pie\": [{\"automargin\": true, \"type\": \"pie\"}], \"scatter\": [{\"marker\": {\"colorbar\": {\"outlinewidth\": 0, \"ticks\": \"\"}}, \"type\": \"scatter\"}], \"scatter3d\": [{\"line\": {\"colorbar\": {\"outlinewidth\": 0, \"ticks\": \"\"}}, \"marker\": {\"colorbar\": {\"outlinewidth\": 0, \"ticks\": \"\"}}, \"type\": \"scatter3d\"}], \"scattercarpet\": [{\"marker\": {\"colorbar\": {\"outlinewidth\": 0, \"ticks\": \"\"}}, \"type\": \"scattercarpet\"}], \"scattergeo\": [{\"marker\": {\"colorbar\": {\"outlinewidth\": 0, \"ticks\": \"\"}}, \"type\": \"scattergeo\"}], \"scattergl\": [{\"marker\": {\"colorbar\": {\"outlinewidth\": 0, \"ticks\": \"\"}}, \"type\": \"scattergl\"}], \"scattermapbox\": [{\"marker\": {\"colorbar\": {\"outlinewidth\": 0, \"ticks\": \"\"}}, \"type\": \"scattermapbox\"}], \"scatterpolar\": [{\"marker\": {\"colorbar\": {\"outlinewidth\": 0, \"ticks\": \"\"}}, \"type\": \"scatterpolar\"}], \"scatterpolargl\": [{\"marker\": {\"colorbar\": {\"outlinewidth\": 0, \"ticks\": \"\"}}, \"type\": \"scatterpolargl\"}], \"scatterternary\": [{\"marker\": {\"colorbar\": {\"outlinewidth\": 0, \"ticks\": \"\"}}, \"type\": \"scatterternary\"}], \"surface\": [{\"colorbar\": {\"outlinewidth\": 0, \"ticks\": \"\"}, \"colorscale\": [[0.0, \"#0d0887\"], [0.1111111111111111, \"#46039f\"], [0.2222222222222222, \"#7201a8\"], [0.3333333333333333, \"#9c179e\"], [0.4444444444444444, \"#bd3786\"], [0.5555555555555556, \"#d8576b\"], [0.6666666666666666, \"#ed7953\"], [0.7777777777777778, \"#fb9f3a\"], [0.8888888888888888, \"#fdca26\"], [1.0, \"#f0f921\"]], \"type\": \"surface\"}], \"table\": [{\"cells\": {\"fill\": {\"color\": \"#EBF0F8\"}, \"line\": {\"color\": \"white\"}}, \"header\": {\"fill\": {\"color\": \"#C8D4E3\"}, \"line\": {\"color\": \"white\"}}, \"type\": \"table\"}]}, \"layout\": {\"annotationdefaults\": {\"arrowcolor\": \"#2a3f5f\", \"arrowhead\": 0, \"arrowwidth\": 1}, \"coloraxis\": {\"colorbar\": {\"outlinewidth\": 0, \"ticks\": \"\"}}, \"colorscale\": {\"diverging\": [[0, \"#8e0152\"], [0.1, \"#c51b7d\"], [0.2, \"#de77ae\"], [0.3, \"#f1b6da\"], [0.4, \"#fde0ef\"], [0.5, \"#f7f7f7\"], [0.6, \"#e6f5d0\"], [0.7, \"#b8e186\"], [0.8, \"#7fbc41\"], [0.9, \"#4d9221\"], [1, \"#276419\"]], \"sequential\": [[0.0, \"#0d0887\"], [0.1111111111111111, \"#46039f\"], [0.2222222222222222, \"#7201a8\"], [0.3333333333333333, \"#9c179e\"], [0.4444444444444444, \"#bd3786\"], [0.5555555555555556, \"#d8576b\"], [0.6666666666666666, \"#ed7953\"], [0.7777777777777778, \"#fb9f3a\"], [0.8888888888888888, \"#fdca26\"], [1.0, \"#f0f921\"]], \"sequentialminus\": [[0.0, \"#0d0887\"], [0.1111111111111111, \"#46039f\"], [0.2222222222222222, \"#7201a8\"], [0.3333333333333333, \"#9c179e\"], [0.4444444444444444, \"#bd3786\"], [0.5555555555555556, \"#d8576b\"], [0.6666666666666666, \"#ed7953\"], [0.7777777777777778, \"#fb9f3a\"], [0.8888888888888888, \"#fdca26\"], [1.0, \"#f0f921\"]]}, \"colorway\": [\"#636efa\", \"#EF553B\", \"#00cc96\", \"#ab63fa\", \"#FFA15A\", \"#19d3f3\", \"#FF6692\", \"#B6E880\", \"#FF97FF\", \"#FECB52\"], \"font\": {\"color\": \"#2a3f5f\"}, \"geo\": {\"bgcolor\": \"white\", \"lakecolor\": \"white\", \"landcolor\": \"#E5ECF6\", \"showlakes\": true, \"showland\": true, \"subunitcolor\": \"white\"}, \"hoverlabel\": {\"align\": \"left\"}, \"hovermode\": \"closest\", \"mapbox\": {\"style\": \"light\"}, \"paper_bgcolor\": \"white\", \"plot_bgcolor\": \"#E5ECF6\", \"polar\": {\"angularaxis\": {\"gridcolor\": \"white\", \"linecolor\": \"white\", \"ticks\": \"\"}, \"bgcolor\": \"#E5ECF6\", \"radialaxis\": {\"gridcolor\": \"white\", \"linecolor\": \"white\", \"ticks\": \"\"}}, \"scene\": {\"xaxis\": {\"backgroundcolor\": \"#E5ECF6\", \"gridcolor\": \"white\", \"gridwidth\": 2, \"linecolor\": \"white\", \"showbackground\": true, \"ticks\": \"\", \"zerolinecolor\": \"white\"}, \"yaxis\": {\"backgroundcolor\": \"#E5ECF6\", \"gridcolor\": \"white\", \"gridwidth\": 2, \"linecolor\": \"white\", \"showbackground\": true, \"ticks\": \"\", \"zerolinecolor\": \"white\"}, \"zaxis\": {\"backgroundcolor\": \"#E5ECF6\", \"gridcolor\": \"white\", \"gridwidth\": 2, \"linecolor\": \"white\", \"showbackground\": true, \"ticks\": \"\", \"zerolinecolor\": \"white\"}}, \"shapedefaults\": {\"line\": {\"color\": \"#2a3f5f\"}}, \"ternary\": {\"aaxis\": {\"gridcolor\": \"white\", \"linecolor\": \"white\", \"ticks\": \"\"}, \"baxis\": {\"gridcolor\": \"white\", \"linecolor\": \"white\", \"ticks\": \"\"}, \"bgcolor\": \"#E5ECF6\", \"caxis\": {\"gridcolor\": \"white\", \"linecolor\": \"white\", \"ticks\": \"\"}}, \"title\": {\"x\": 0.05}, \"xaxis\": {\"automargin\": true, \"gridcolor\": \"white\", \"linecolor\": \"white\", \"ticks\": \"\", \"title\": {\"standoff\": 15}, \"zerolinecolor\": \"white\", \"zerolinewidth\": 2}, \"yaxis\": {\"automargin\": true, \"gridcolor\": \"white\", \"linecolor\": \"white\", \"ticks\": \"\", \"title\": {\"standoff\": 15}, \"zerolinecolor\": \"white\", \"zerolinewidth\": 2}}}},                        {\"responsive\": true}                    ).then(function(){\n",
       "                            \n",
       "var gd = document.getElementById('5a69b87a-cc86-4a57-a872-f75c2424e476');\n",
       "var x = new MutationObserver(function (mutations, observer) {{\n",
       "        var display = window.getComputedStyle(gd).display;\n",
       "        if (!display || display === 'none') {{\n",
       "            console.log([gd, 'removed!']);\n",
       "            Plotly.purge(gd);\n",
       "            observer.disconnect();\n",
       "        }}\n",
       "}});\n",
       "\n",
       "// Listen for the removal of the full notebook cells\n",
       "var notebookContainer = gd.closest('#notebook-container');\n",
       "if (notebookContainer) {{\n",
       "    x.observe(notebookContainer, {childList: true});\n",
       "}}\n",
       "\n",
       "// Listen for the clearing of the current output cell\n",
       "var outputEl = gd.closest('.output');\n",
       "if (outputEl) {{\n",
       "    x.observe(outputEl, {childList: true});\n",
       "}}\n",
       "\n",
       "                        })                };                });            </script>        </div>"
      ]
     },
     "metadata": {},
     "output_type": "display_data"
    }
   ],
   "source": [
    "fig.layout['scene']['camera'] = dict(\n",
    "    eye=dict(x=1.6, y=1.6, z=1.6)\n",
    ")\n",
    "fig"
   ]
  },
  {
   "cell_type": "code",
   "execution_count": 18,
   "metadata": {},
   "outputs": [
    {
     "data": {
      "application/vnd.plotly.v1+json": {
       "config": {
        "plotlyServerURL": "https://plot.ly"
       },
       "data": [
        {
         "color": "#9ab25a",
         "i": [
          0,
          0,
          100,
          100,
          101,
          101,
          102,
          102,
          103,
          103,
          104,
          104,
          105,
          105,
          106,
          106,
          107,
          107,
          108,
          108,
          109,
          109,
          110,
          110,
          111,
          111,
          112,
          112,
          113,
          113,
          114,
          114,
          115,
          115,
          116,
          116,
          117,
          117,
          118,
          118,
          119,
          119,
          120,
          120,
          121,
          121,
          122,
          122,
          123,
          123,
          124,
          124,
          125,
          125,
          126,
          126,
          127,
          127,
          128,
          128,
          129,
          129,
          130,
          130,
          131,
          131,
          132,
          132,
          133,
          133,
          134,
          134,
          135,
          135,
          136,
          136,
          137,
          137,
          138,
          138,
          139,
          139,
          140,
          140,
          141,
          141,
          142,
          142,
          143,
          143,
          144,
          144,
          145,
          145,
          146,
          146,
          147,
          147
         ],
         "j": [
          1,
          2,
          3,
          4,
          5,
          6,
          7,
          8,
          9,
          10,
          11,
          12,
          13,
          14,
          15,
          16,
          17,
          18,
          19,
          20,
          21,
          22,
          23,
          24,
          25,
          26,
          27,
          28,
          29,
          30,
          31,
          32,
          33,
          34,
          35,
          36,
          37,
          38,
          39,
          40,
          41,
          42,
          43,
          44,
          45,
          46,
          47,
          48,
          49,
          50,
          51,
          52,
          53,
          54,
          55,
          56,
          57,
          58,
          59,
          60,
          61,
          62,
          63,
          64,
          65,
          66,
          67,
          68,
          69,
          70,
          71,
          72,
          73,
          74,
          75,
          76,
          77,
          78,
          79,
          80,
          81,
          82,
          83,
          84,
          85,
          86,
          87,
          88,
          89,
          90,
          91,
          92,
          93,
          94,
          95,
          96,
          97,
          98
         ],
         "k": [
          2,
          100,
          4,
          101,
          6,
          102,
          8,
          103,
          10,
          104,
          12,
          105,
          14,
          106,
          16,
          107,
          18,
          108,
          20,
          109,
          22,
          110,
          24,
          111,
          26,
          112,
          28,
          113,
          30,
          114,
          32,
          115,
          34,
          116,
          36,
          117,
          38,
          118,
          40,
          119,
          42,
          120,
          44,
          121,
          46,
          122,
          48,
          123,
          50,
          124,
          52,
          125,
          54,
          126,
          56,
          127,
          58,
          128,
          60,
          129,
          62,
          130,
          64,
          131,
          66,
          132,
          68,
          133,
          70,
          134,
          72,
          135,
          74,
          136,
          76,
          137,
          78,
          138,
          80,
          139,
          82,
          140,
          84,
          141,
          86,
          142,
          88,
          143,
          90,
          144,
          92,
          145,
          94,
          146,
          96,
          147,
          98,
          99
         ],
         "opacity": 0.7,
         "scene": "scene",
         "type": "mesh3d",
         "x": [
          0.010083809923455343,
          0.010083809923455343,
          0.01542086788661404,
          0.01542086788661404,
          0.020757925849772742,
          0.020757925849772742,
          0.02609498381293144,
          0.02609498381293144,
          0.03143204177609014,
          0.03143204177609014,
          0.036769099739248835,
          0.036769099739248835,
          0.04210615770240754,
          0.04210615770240754,
          0.04744321566556624,
          0.04744321566556624,
          0.052780273628724936,
          0.052780273628724936,
          0.058117331591883634,
          0.058117331591883634,
          0.06345438955504233,
          0.06345438955504233,
          0.06879144751820103,
          0.06879144751820103,
          0.07412850548135973,
          0.07412850548135973,
          0.07946556344451843,
          0.07946556344451843,
          0.08480262140767712,
          0.08480262140767712,
          0.09013967937083582,
          0.09013967937083582,
          0.09547673733399452,
          0.09547673733399452,
          0.10081379529715322,
          0.10081379529715322,
          0.10615085326031191,
          0.10615085326031191,
          0.11148791122347061,
          0.11148791122347061,
          0.11682496918662931,
          0.11682496918662931,
          0.12216202714978801,
          0.12216202714978801,
          0.12749908511294672,
          0.12749908511294672,
          0.13283614307610542,
          0.13283614307610542,
          0.13817320103926412,
          0.13817320103926412,
          0.1435102590024228,
          0.1435102590024228,
          0.1488473169655815,
          0.1488473169655815,
          0.1541843749287402,
          0.1541843749287402,
          0.1595214328918989,
          0.1595214328918989,
          0.1648584908550576,
          0.1648584908550576,
          0.1701955488182163,
          0.1701955488182163,
          0.175532606781375,
          0.175532606781375,
          0.1808696647445337,
          0.1808696647445337,
          0.1862067227076924,
          0.1862067227076924,
          0.1915437806708511,
          0.1915437806708511,
          0.1968808386340098,
          0.1968808386340098,
          0.2022178965971685,
          0.2022178965971685,
          0.2075549545603272,
          0.2075549545603272,
          0.21289201252348589,
          0.21289201252348589,
          0.21822907048664458,
          0.21822907048664458,
          0.22356612844980328,
          0.22356612844980328,
          0.22890318641296198,
          0.22890318641296198,
          0.23424024437612068,
          0.23424024437612068,
          0.2395773023392794,
          0.2395773023392794,
          0.24491436030243807,
          0.24491436030243807,
          0.25025141826559677,
          0.25025141826559677,
          0.25558847622875547,
          0.25558847622875547,
          0.2609255341919142,
          0.2609255341919142,
          0.2662625921550729,
          0.2662625921550729,
          0.2715996501182316,
          0.2715996501182316,
          0.01542086788661404,
          0.020757925849772742,
          0.02609498381293144,
          0.03143204177609014,
          0.036769099739248835,
          0.04210615770240754,
          0.04744321566556624,
          0.052780273628724936,
          0.058117331591883634,
          0.06345438955504233,
          0.06879144751820103,
          0.07412850548135973,
          0.07946556344451843,
          0.08480262140767712,
          0.09013967937083582,
          0.09547673733399452,
          0.10081379529715322,
          0.10615085326031191,
          0.11148791122347061,
          0.11682496918662931,
          0.12216202714978801,
          0.12749908511294672,
          0.13283614307610542,
          0.13817320103926412,
          0.1435102590024228,
          0.1488473169655815,
          0.1541843749287402,
          0.1595214328918989,
          0.1648584908550576,
          0.1701955488182163,
          0.175532606781375,
          0.1808696647445337,
          0.1862067227076924,
          0.1915437806708511,
          0.1968808386340098,
          0.2022178965971685,
          0.2075549545603272,
          0.21289201252348589,
          0.21822907048664458,
          0.22356612844980328,
          0.22890318641296198,
          0.23424024437612068,
          0.2395773023392794,
          0.24491436030243807,
          0.25025141826559677,
          0.25558847622875547,
          0.2609255341919142,
          0.2662625921550729
         ],
         "y": [
          0.027941978003324642,
          0.03838909207972434,
          0.03838909207972434,
          0.027941978003324642,
          0.027941978003324642,
          0.048836206156124023,
          0.048836206156124023,
          0.027941978003324642,
          0.027941978003324642,
          0.027941978003324642,
          0.027941978003324642,
          0.027941978003324642,
          0.027941978003324642,
          0.03838909207972434,
          0.03838909207972434,
          0.03838909207972434,
          0.03838909207972434,
          0.03838909207972434,
          0.03838909207972434,
          0.048836206156124023,
          0.048836206156124023,
          0.03838909207972434,
          0.03838909207972434,
          0.03838909207972434,
          0.03838909207972434,
          0.027941978003324642,
          0.027941978003324642,
          0.03838909207972434,
          0.03838909207972434,
          0.027941978003324642,
          0.027941978003324642,
          0.048836206156124023,
          0.048836206156124023,
          0.027941978003324642,
          0.027941978003324642,
          0.027941978003324642,
          0.027941978003324642,
          0.027941978003324642,
          0.027941978003324642,
          0.027941978003324642,
          0.027941978003324642,
          0.027941978003324642,
          0.027941978003324642,
          0.027941978003324642,
          0.027941978003324642,
          0.027941978003324642,
          0.027941978003324642,
          0.027941978003324642,
          0.027941978003324642,
          0.027941978003324642,
          0.027941978003324642,
          0.027941978003324642,
          0.027941978003324642,
          0.027941978003324642,
          0.027941978003324642,
          0.027941978003324642,
          0.027941978003324642,
          0.027941978003324642,
          0.027941978003324642,
          0.027941978003324642,
          0.027941978003324642,
          0.027941978003324642,
          0.027941978003324642,
          0.027941978003324642,
          0.027941978003324642,
          0.027941978003324642,
          0.027941978003324642,
          0.027941978003324642,
          0.027941978003324642,
          0.027941978003324642,
          0.027941978003324642,
          0.027941978003324642,
          0.027941978003324642,
          0.027941978003324642,
          0.027941978003324642,
          0.027941978003324642,
          0.027941978003324642,
          0.027941978003324642,
          0.027941978003324642,
          0.027941978003324642,
          0.027941978003324642,
          0.027941978003324642,
          0.027941978003324642,
          0.027941978003324642,
          0.027941978003324642,
          0.027941978003324642,
          0.027941978003324642,
          0.027941978003324642,
          0.027941978003324642,
          0.027941978003324642,
          0.027941978003324642,
          0.027941978003324642,
          0.027941978003324642,
          0.027941978003324642,
          0.027941978003324642,
          0.027941978003324642,
          0.027941978003324642,
          0.027941978003324642,
          0.027941978003324642,
          0.027941978003324642,
          0.027941978003324642,
          0.027941978003324642,
          0.027941978003324642,
          0.027941978003324642,
          0.027941978003324642,
          0.027941978003324642,
          0.027941978003324642,
          0.027941978003324642,
          0.027941978003324642,
          0.027941978003324642,
          0.027941978003324642,
          0.027941978003324642,
          0.027941978003324642,
          0.027941978003324642,
          0.027941978003324642,
          0.027941978003324642,
          0.027941978003324642,
          0.027941978003324642,
          0.027941978003324642,
          0.027941978003324642,
          0.027941978003324642,
          0.027941978003324642,
          0.027941978003324642,
          0.027941978003324642,
          0.027941978003324642,
          0.027941978003324642,
          0.027941978003324642,
          0.027941978003324642,
          0.027941978003324642,
          0.027941978003324642,
          0.027941978003324642,
          0.027941978003324642,
          0.027941978003324642,
          0.027941978003324642,
          0.027941978003324642,
          0.027941978003324642,
          0.027941978003324642,
          0.027941978003324642,
          0.027941978003324642,
          0.027941978003324642,
          0.027941978003324642,
          0.027941978003324642,
          0.027941978003324642,
          0.027941978003324642,
          0.027941978003324642,
          0.027941978003324642,
          0.027941978003324642,
          0.027941978003324642
         ],
         "z": [
          -1.242047943593212,
          -1.242047943593212,
          -1.242047943593212,
          -1.242047943593212,
          -1.242047943593212,
          -1.242047943593212,
          -1.242047943593212,
          -1.242047943593212,
          -1.242047943593212,
          -1.242047943593212,
          -1.242047943593212,
          -1.242047943593212,
          -1.242047943593212,
          -1.242047943593212,
          -1.242047943593212,
          -1.242047943593212,
          -1.242047943593212,
          -1.242047943593212,
          -1.242047943593212,
          -1.242047943593212,
          -1.242047943593212,
          -1.242047943593212,
          -1.242047943593212,
          -1.242047943593212,
          -1.242047943593212,
          -1.242047943593212,
          -1.242047943593212,
          -1.242047943593212,
          -1.242047943593212,
          -1.242047943593212,
          -1.242047943593212,
          -1.242047943593212,
          -1.242047943593212,
          -1.242047943593212,
          -1.242047943593212,
          -1.242047943593212,
          -1.242047943593212,
          -1.242047943593212,
          -1.242047943593212,
          -1.242047943593212,
          -1.242047943593212,
          -1.242047943593212,
          -1.242047943593212,
          -1.242047943593212,
          -1.242047943593212,
          -1.242047943593212,
          -1.242047943593212,
          -1.242047943593212,
          -1.242047943593212,
          -1.242047943593212,
          -1.242047943593212,
          -1.242047943593212,
          -1.242047943593212,
          -1.242047943593212,
          -1.242047943593212,
          -1.242047943593212,
          -1.242047943593212,
          -1.242047943593212,
          -1.242047943593212,
          -1.242047943593212,
          -1.242047943593212,
          -1.242047943593212,
          -1.242047943593212,
          -1.242047943593212,
          -1.242047943593212,
          -1.242047943593212,
          -1.242047943593212,
          -1.242047943593212,
          -1.242047943593212,
          -1.242047943593212,
          -1.242047943593212,
          -1.242047943593212,
          -1.242047943593212,
          -1.242047943593212,
          -1.242047943593212,
          -1.242047943593212,
          -1.242047943593212,
          -1.242047943593212,
          -1.242047943593212,
          -1.242047943593212,
          -1.242047943593212,
          -1.242047943593212,
          -1.242047943593212,
          -1.242047943593212,
          -1.242047943593212,
          -1.242047943593212,
          -1.242047943593212,
          -1.242047943593212,
          -1.242047943593212,
          -1.242047943593212,
          -1.242047943593212,
          -1.242047943593212,
          -1.242047943593212,
          -1.242047943593212,
          -1.242047943593212,
          -1.242047943593212,
          -1.242047943593212,
          -1.242047943593212,
          -1.242047943593212,
          -1.242047943593212,
          -1.242047943593212,
          -1.242047943593212,
          -1.242047943593212,
          -1.242047943593212,
          -1.242047943593212,
          -1.242047943593212,
          -1.242047943593212,
          -1.242047943593212,
          -1.242047943593212,
          -1.242047943593212,
          -1.242047943593212,
          -1.242047943593212,
          -1.242047943593212,
          -1.242047943593212,
          -1.242047943593212,
          -1.242047943593212,
          -1.242047943593212,
          -1.242047943593212,
          -1.242047943593212,
          -1.242047943593212,
          -1.242047943593212,
          -1.242047943593212,
          -1.242047943593212,
          -1.242047943593212,
          -1.242047943593212,
          -1.242047943593212,
          -1.242047943593212,
          -1.242047943593212,
          -1.242047943593212,
          -1.242047943593212,
          -1.242047943593212,
          -1.242047943593212,
          -1.242047943593212,
          -1.242047943593212,
          -1.242047943593212,
          -1.242047943593212,
          -1.242047943593212,
          -1.242047943593212,
          -1.242047943593212,
          -1.242047943593212,
          -1.242047943593212,
          -1.242047943593212,
          -1.242047943593212,
          -1.242047943593212,
          -1.242047943593212,
          -1.242047943593212,
          -1.242047943593212,
          -1.242047943593212
         ]
        },
        {
         "color": "#9ab25a",
         "i": [
          0,
          0,
          100,
          100,
          101,
          101,
          102,
          102,
          103,
          103,
          104,
          104,
          105,
          105,
          106,
          106,
          107,
          107,
          108,
          108,
          109,
          109,
          110,
          110,
          111,
          111,
          112,
          112,
          113,
          113,
          114,
          114,
          115,
          115,
          116,
          116,
          117,
          117,
          118,
          118,
          119,
          119,
          120,
          120,
          121,
          121,
          122,
          122,
          123,
          123,
          124,
          124,
          125,
          125,
          126,
          126,
          127,
          127,
          128,
          128,
          129,
          129,
          130,
          130,
          131,
          131,
          132,
          132,
          133,
          133,
          134,
          134,
          135,
          135,
          136,
          136,
          137,
          137,
          138,
          138,
          139,
          139,
          140,
          140,
          141,
          141,
          142,
          142,
          143,
          143,
          144,
          144,
          145,
          145,
          146,
          146,
          147,
          147
         ],
         "j": [
          1,
          2,
          3,
          4,
          5,
          6,
          7,
          8,
          9,
          10,
          11,
          12,
          13,
          14,
          15,
          16,
          17,
          18,
          19,
          20,
          21,
          22,
          23,
          24,
          25,
          26,
          27,
          28,
          29,
          30,
          31,
          32,
          33,
          34,
          35,
          36,
          37,
          38,
          39,
          40,
          41,
          42,
          43,
          44,
          45,
          46,
          47,
          48,
          49,
          50,
          51,
          52,
          53,
          54,
          55,
          56,
          57,
          58,
          59,
          60,
          61,
          62,
          63,
          64,
          65,
          66,
          67,
          68,
          69,
          70,
          71,
          72,
          73,
          74,
          75,
          76,
          77,
          78,
          79,
          80,
          81,
          82,
          83,
          84,
          85,
          86,
          87,
          88,
          89,
          90,
          91,
          92,
          93,
          94,
          95,
          96,
          97,
          98
         ],
         "k": [
          2,
          100,
          4,
          101,
          6,
          102,
          8,
          103,
          10,
          104,
          12,
          105,
          14,
          106,
          16,
          107,
          18,
          108,
          20,
          109,
          22,
          110,
          24,
          111,
          26,
          112,
          28,
          113,
          30,
          114,
          32,
          115,
          34,
          116,
          36,
          117,
          38,
          118,
          40,
          119,
          42,
          120,
          44,
          121,
          46,
          122,
          48,
          123,
          50,
          124,
          52,
          125,
          54,
          126,
          56,
          127,
          58,
          128,
          60,
          129,
          62,
          130,
          64,
          131,
          66,
          132,
          68,
          133,
          70,
          134,
          72,
          135,
          74,
          136,
          76,
          137,
          78,
          138,
          80,
          139,
          82,
          140,
          84,
          141,
          86,
          142,
          88,
          143,
          90,
          144,
          92,
          145,
          94,
          146,
          96,
          147,
          98,
          99
         ],
         "opacity": 0.7,
         "scene": "scene",
         "type": "mesh3d",
         "x": [
          0.007539870156857132,
          0.007539870156857132,
          0.007539870156857132,
          0.007539870156857132,
          0.007539870156857132,
          0.007539870156857132,
          0.007539870156857132,
          0.007539870156857132,
          0.007539870156857132,
          0.007539870156857132,
          0.007539870156857132,
          0.007539870156857132,
          0.007539870156857132,
          0.007539870156857132,
          0.007539870156857132,
          0.007539870156857132,
          0.007539870156857132,
          0.007539870156857132,
          0.007539870156857132,
          0.007539870156857132,
          0.007539870156857132,
          0.007539870156857132,
          0.007539870156857132,
          0.007539870156857132,
          0.007539870156857132,
          0.007539870156857132,
          0.007539870156857132,
          0.007539870156857132,
          0.007539870156857132,
          0.007539870156857132,
          0.007539870156857132,
          0.007539870156857132,
          0.007539870156857132,
          0.007539870156857132,
          0.007539870156857132,
          0.007539870156857132,
          0.007539870156857132,
          0.007539870156857132,
          0.007539870156857132,
          0.007539870156857132,
          0.007539870156857132,
          0.007539870156857132,
          0.007539870156857132,
          0.007539870156857132,
          0.007539870156857132,
          0.007539870156857132,
          0.007539870156857132,
          0.007539870156857132,
          0.007539870156857132,
          0.007539870156857132,
          0.007539870156857132,
          0.007539870156857132,
          0.007539870156857132,
          0.007539870156857132,
          0.007539870156857132,
          0.007539870156857132,
          0.007539870156857132,
          0.007539870156857132,
          0.007539870156857132,
          0.007539870156857132,
          0.007539870156857132,
          0.007539870156857132,
          0.007539870156857132,
          0.007539870156857132,
          0.007539870156857132,
          0.007539870156857132,
          0.007539870156857132,
          0.007539870156857132,
          0.007539870156857132,
          0.007539870156857132,
          0.007539870156857132,
          0.007539870156857132,
          0.007539870156857132,
          0.007539870156857132,
          0.007539870156857132,
          0.007539870156857132,
          0.007539870156857132,
          0.007539870156857132,
          0.007539870156857132,
          0.007539870156857132,
          0.007539870156857132,
          0.007539870156857132,
          0.007539870156857132,
          0.007539870156857132,
          0.007539870156857132,
          0.007539870156857132,
          0.007539870156857132,
          0.007539870156857132,
          0.007539870156857132,
          0.007539870156857132,
          0.007539870156857132,
          0.007539870156857132,
          0.007539870156857132,
          0.007539870156857132,
          0.007539870156857132,
          0.007539870156857132,
          0.007539870156857132,
          0.007539870156857132,
          0.007539870156857132,
          0.007539870156857132,
          0.007539870156857132,
          0.007539870156857132,
          0.007539870156857132,
          0.007539870156857132,
          0.007539870156857132,
          0.007539870156857132,
          0.007539870156857132,
          0.007539870156857132,
          0.007539870156857132,
          0.007539870156857132,
          0.007539870156857132,
          0.007539870156857132,
          0.007539870156857132,
          0.007539870156857132,
          0.007539870156857132,
          0.007539870156857132,
          0.007539870156857132,
          0.007539870156857132,
          0.007539870156857132,
          0.007539870156857132,
          0.007539870156857132,
          0.007539870156857132,
          0.007539870156857132,
          0.007539870156857132,
          0.007539870156857132,
          0.007539870156857132,
          0.007539870156857132,
          0.007539870156857132,
          0.007539870156857132,
          0.007539870156857132,
          0.007539870156857132,
          0.007539870156857132,
          0.007539870156857132,
          0.007539870156857132,
          0.007539870156857132,
          0.007539870156857132,
          0.007539870156857132,
          0.007539870156857132,
          0.007539870156857132,
          0.007539870156857132,
          0.007539870156857132,
          0.007539870156857132,
          0.007539870156857132,
          0.007539870156857132,
          0.007539870156857132,
          0.007539870156857132,
          0.007539870156857132,
          0.007539870156857132
         ],
         "y": [
          0.03460306564877418,
          0.03460306564877418,
          0.03483216741502575,
          0.03483216741502575,
          0.03506126918127732,
          0.03506126918127732,
          0.03529037094752888,
          0.03529037094752888,
          0.035519472713780455,
          0.035519472713780455,
          0.03574857448003202,
          0.03574857448003202,
          0.03597767624628359,
          0.03597767624628359,
          0.036206778012535155,
          0.036206778012535155,
          0.03643587977878673,
          0.03643587977878673,
          0.03666498154503829,
          0.03666498154503829,
          0.03689408331128986,
          0.03689408331128986,
          0.03712318507754143,
          0.03712318507754143,
          0.037352286843793,
          0.037352286843793,
          0.037581388610044564,
          0.037581388610044564,
          0.037810490376296135,
          0.037810490376296135,
          0.0380395921425477,
          0.0380395921425477,
          0.03826869390879927,
          0.03826869390879927,
          0.038497795675050836,
          0.038497795675050836,
          0.03872689744130241,
          0.03872689744130241,
          0.03895599920755397,
          0.03895599920755397,
          0.039185100973805544,
          0.039185100973805544,
          0.03941420274005711,
          0.03941420274005711,
          0.03964330450630868,
          0.03964330450630868,
          0.039872406272560244,
          0.039872406272560244,
          0.040101508038811816,
          0.040101508038811816,
          0.04033060980506338,
          0.04033060980506338,
          0.04055971157131495,
          0.04055971157131495,
          0.04078881333756652,
          0.04078881333756652,
          0.04101791510381809,
          0.04101791510381809,
          0.04124701687006965,
          0.04124701687006965,
          0.041476118636321224,
          0.041476118636321224,
          0.04170522040257279,
          0.04170522040257279,
          0.04193432216882436,
          0.04193432216882436,
          0.042163423935075925,
          0.042163423935075925,
          0.042392525701327496,
          0.042392525701327496,
          0.04262162746757906,
          0.04262162746757906,
          0.042850729233830626,
          0.042850729233830626,
          0.0430798310000822,
          0.0430798310000822,
          0.04330893276633377,
          0.04330893276633377,
          0.04353803453258533,
          0.04353803453258533,
          0.0437671362988369,
          0.0437671362988369,
          0.04399623806508847,
          0.04399623806508847,
          0.04422533983134004,
          0.04422533983134004,
          0.044454441597591605,
          0.044454441597591605,
          0.04468354336384317,
          0.04468354336384317,
          0.04491264513009474,
          0.04491264513009474,
          0.04514174689634631,
          0.04514174689634631,
          0.04537084866259788,
          0.04537084866259788,
          0.04559995042884944,
          0.04559995042884944,
          0.045829052195101014,
          0.045829052195101014,
          0.03483216741502575,
          0.03506126918127732,
          0.03529037094752888,
          0.035519472713780455,
          0.03574857448003202,
          0.03597767624628359,
          0.036206778012535155,
          0.03643587977878673,
          0.03666498154503829,
          0.03689408331128986,
          0.03712318507754143,
          0.037352286843793,
          0.037581388610044564,
          0.037810490376296135,
          0.0380395921425477,
          0.03826869390879927,
          0.038497795675050836,
          0.03872689744130241,
          0.03895599920755397,
          0.039185100973805544,
          0.03941420274005711,
          0.03964330450630868,
          0.039872406272560244,
          0.040101508038811816,
          0.04033060980506338,
          0.04055971157131495,
          0.04078881333756652,
          0.04101791510381809,
          0.04124701687006965,
          0.041476118636321224,
          0.04170522040257279,
          0.04193432216882436,
          0.042163423935075925,
          0.042392525701327496,
          0.04262162746757906,
          0.042850729233830626,
          0.0430798310000822,
          0.04330893276633377,
          0.04353803453258533,
          0.0437671362988369,
          0.04399623806508847,
          0.04422533983134004,
          0.044454441597591605,
          0.04468354336384317,
          0.04491264513009474,
          0.04514174689634631,
          0.04537084866259788,
          0.04559995042884944
         ],
         "z": [
          -1.242047943593212,
          -0.6481683845140701,
          -0.6481683845140701,
          -1.242047943593212,
          -1.242047943593212,
          -1.242047943593212,
          -1.242047943593212,
          -1.242047943593212,
          -1.242047943593212,
          -0.6481683845140701,
          -0.6481683845140701,
          -1.242047943593212,
          -1.242047943593212,
          -1.242047943593212,
          -1.242047943593212,
          -1.242047943593212,
          -1.242047943593212,
          -1.242047943593212,
          -1.242047943593212,
          -1.242047943593212,
          -1.242047943593212,
          -1.242047943593212,
          -1.242047943593212,
          -0.6481683845140701,
          -0.6481683845140701,
          -1.242047943593212,
          -1.242047943593212,
          -1.242047943593212,
          -1.242047943593212,
          -0.6481683845140701,
          -0.6481683845140701,
          -0.6481683845140701,
          -0.6481683845140701,
          -1.242047943593212,
          -1.242047943593212,
          -0.6481683845140701,
          -0.6481683845140701,
          -0.6481683845140701,
          -0.6481683845140701,
          -1.242047943593212,
          -1.242047943593212,
          -0.6481683845140701,
          -0.6481683845140701,
          -1.242047943593212,
          -1.242047943593212,
          -0.6481683845140701,
          -0.6481683845140701,
          -0.6481683845140701,
          -0.6481683845140701,
          -1.242047943593212,
          -1.242047943593212,
          -1.242047943593212,
          -1.242047943593212,
          -1.242047943593212,
          -1.242047943593212,
          -1.242047943593212,
          -1.242047943593212,
          -1.242047943593212,
          -1.242047943593212,
          -0.6481683845140701,
          -0.6481683845140701,
          -1.242047943593212,
          -1.242047943593212,
          -1.242047943593212,
          -1.242047943593212,
          -1.242047943593212,
          -1.242047943593212,
          -1.242047943593212,
          -1.242047943593212,
          -1.242047943593212,
          -1.242047943593212,
          -1.242047943593212,
          -1.242047943593212,
          -1.242047943593212,
          -1.242047943593212,
          -1.242047943593212,
          -1.242047943593212,
          -1.242047943593212,
          -1.242047943593212,
          -0.0542888254349283,
          -0.0542888254349283,
          -1.242047943593212,
          -1.242047943593212,
          -1.242047943593212,
          -1.242047943593212,
          -1.242047943593212,
          -1.242047943593212,
          -1.242047943593212,
          -1.242047943593212,
          -1.242047943593212,
          -1.242047943593212,
          -1.242047943593212,
          -1.242047943593212,
          -1.242047943593212,
          -1.242047943593212,
          -1.242047943593212,
          -1.242047943593212,
          -1.242047943593212,
          -1.242047943593212,
          -1.242047943593212,
          -1.242047943593212,
          -1.242047943593212,
          -1.242047943593212,
          -1.242047943593212,
          -1.242047943593212,
          -1.242047943593212,
          -1.242047943593212,
          -1.242047943593212,
          -1.242047943593212,
          -1.242047943593212,
          -1.242047943593212,
          -1.242047943593212,
          -1.242047943593212,
          -1.242047943593212,
          -1.242047943593212,
          -1.242047943593212,
          -1.242047943593212,
          -1.242047943593212,
          -1.242047943593212,
          -1.242047943593212,
          -1.242047943593212,
          -1.242047943593212,
          -1.242047943593212,
          -1.242047943593212,
          -1.242047943593212,
          -1.242047943593212,
          -1.242047943593212,
          -1.242047943593212,
          -1.242047943593212,
          -1.242047943593212,
          -1.242047943593212,
          -1.242047943593212,
          -1.242047943593212,
          -1.242047943593212,
          -1.242047943593212,
          -1.242047943593212,
          -1.242047943593212,
          -1.242047943593212,
          -1.242047943593212,
          -1.242047943593212,
          -1.242047943593212,
          -1.242047943593212,
          -1.242047943593212,
          -1.242047943593212,
          -1.242047943593212,
          -1.242047943593212,
          -1.242047943593212,
          -1.242047943593212
         ]
        },
        {
         "color": "#9ab25a",
         "i": [
          0,
          0,
          100,
          100,
          101,
          101,
          102,
          102,
          103,
          103,
          104,
          104,
          105,
          105,
          106,
          106,
          107,
          107,
          108,
          108,
          109,
          109,
          110,
          110,
          111,
          111,
          112,
          112,
          113,
          113,
          114,
          114,
          115,
          115,
          116,
          116,
          117,
          117,
          118,
          118,
          119,
          119,
          120,
          120,
          121,
          121,
          122,
          122,
          123,
          123,
          124,
          124,
          125,
          125,
          126,
          126,
          127,
          127,
          128,
          128,
          129,
          129,
          130,
          130,
          131,
          131,
          132,
          132,
          133,
          133,
          134,
          134,
          135,
          135,
          136,
          136,
          137,
          137,
          138,
          138,
          139,
          139,
          140,
          140,
          141,
          141,
          142,
          142,
          143,
          143,
          144,
          144,
          145,
          145,
          146,
          146,
          147,
          147
         ],
         "j": [
          1,
          2,
          3,
          4,
          5,
          6,
          7,
          8,
          9,
          10,
          11,
          12,
          13,
          14,
          15,
          16,
          17,
          18,
          19,
          20,
          21,
          22,
          23,
          24,
          25,
          26,
          27,
          28,
          29,
          30,
          31,
          32,
          33,
          34,
          35,
          36,
          37,
          38,
          39,
          40,
          41,
          42,
          43,
          44,
          45,
          46,
          47,
          48,
          49,
          50,
          51,
          52,
          53,
          54,
          55,
          56,
          57,
          58,
          59,
          60,
          61,
          62,
          63,
          64,
          65,
          66,
          67,
          68,
          69,
          70,
          71,
          72,
          73,
          74,
          75,
          76,
          77,
          78,
          79,
          80,
          81,
          82,
          83,
          84,
          85,
          86,
          87,
          88,
          89,
          90,
          91,
          92,
          93,
          94,
          95,
          96,
          97,
          98
         ],
         "k": [
          2,
          100,
          4,
          101,
          6,
          102,
          8,
          103,
          10,
          104,
          12,
          105,
          14,
          106,
          16,
          107,
          18,
          108,
          20,
          109,
          22,
          110,
          24,
          111,
          26,
          112,
          28,
          113,
          30,
          114,
          32,
          115,
          34,
          116,
          36,
          117,
          38,
          118,
          40,
          119,
          42,
          120,
          44,
          121,
          46,
          122,
          48,
          123,
          50,
          124,
          52,
          125,
          54,
          126,
          56,
          127,
          58,
          128,
          60,
          129,
          62,
          130,
          64,
          131,
          66,
          132,
          68,
          133,
          70,
          134,
          72,
          135,
          74,
          136,
          76,
          137,
          78,
          138,
          80,
          139,
          82,
          140,
          84,
          141,
          86,
          142,
          88,
          143,
          90,
          144,
          92,
          145,
          94,
          146,
          96,
          147,
          98,
          99
         ],
         "opacity": 0.7,
         "scene": "scene",
         "type": "mesh3d",
         "x": [
          0.007539870156857132,
          0.07117760311432053,
          0.07117760311432053,
          0.007539870156857132,
          0.007539870156857132,
          0.007539870156857132,
          0.007539870156857132,
          0.13481533607178395,
          0.13481533607178395,
          0.007539870156857132,
          0.007539870156857132,
          0.007539870156857132,
          0.007539870156857132,
          0.007539870156857132,
          0.007539870156857132,
          0.007539870156857132,
          0.007539870156857132,
          0.07117760311432053,
          0.07117760311432053,
          0.007539870156857132,
          0.007539870156857132,
          0.007539870156857132,
          0.007539870156857132,
          0.007539870156857132,
          0.007539870156857132,
          0.007539870156857132,
          0.007539870156857132,
          0.007539870156857132,
          0.007539870156857132,
          0.007539870156857132,
          0.007539870156857132,
          0.007539870156857132,
          0.007539870156857132,
          0.007539870156857132,
          0.007539870156857132,
          0.007539870156857132,
          0.007539870156857132,
          0.007539870156857132,
          0.007539870156857132,
          0.007539870156857132,
          0.007539870156857132,
          0.007539870156857132,
          0.007539870156857132,
          0.007539870156857132,
          0.007539870156857132,
          0.19845306902924736,
          0.19845306902924736,
          0.13481533607178395,
          0.13481533607178395,
          0.007539870156857132,
          0.007539870156857132,
          0.007539870156857132,
          0.007539870156857132,
          0.007539870156857132,
          0.007539870156857132,
          0.007539870156857132,
          0.007539870156857132,
          0.007539870156857132,
          0.007539870156857132,
          0.007539870156857132,
          0.007539870156857132,
          0.007539870156857132,
          0.007539870156857132,
          0.007539870156857132,
          0.007539870156857132,
          0.007539870156857132,
          0.007539870156857132,
          0.07117760311432053,
          0.07117760311432053,
          0.007539870156857132,
          0.007539870156857132,
          0.007539870156857132,
          0.007539870156857132,
          0.07117760311432053,
          0.07117760311432053,
          0.007539870156857132,
          0.007539870156857132,
          0.007539870156857132,
          0.007539870156857132,
          0.007539870156857132,
          0.007539870156857132,
          0.007539870156857132,
          0.007539870156857132,
          0.007539870156857132,
          0.007539870156857132,
          0.007539870156857132,
          0.007539870156857132,
          0.007539870156857132,
          0.007539870156857132,
          0.007539870156857132,
          0.007539870156857132,
          0.07117760311432053,
          0.07117760311432053,
          0.007539870156857132,
          0.007539870156857132,
          0.007539870156857132,
          0.007539870156857132,
          0.07117760311432053,
          0.07117760311432053,
          0.007539870156857132,
          0.007539870156857132,
          0.007539870156857132,
          0.007539870156857132,
          0.007539870156857132,
          0.007539870156857132,
          0.007539870156857132,
          0.007539870156857132,
          0.007539870156857132,
          0.007539870156857132,
          0.007539870156857132,
          0.007539870156857132,
          0.007539870156857132,
          0.007539870156857132,
          0.007539870156857132,
          0.007539870156857132,
          0.007539870156857132,
          0.007539870156857132,
          0.007539870156857132,
          0.007539870156857132,
          0.007539870156857132,
          0.007539870156857132,
          0.007539870156857132,
          0.007539870156857132,
          0.007539870156857132,
          0.007539870156857132,
          0.007539870156857132,
          0.007539870156857132,
          0.007539870156857132,
          0.007539870156857132,
          0.007539870156857132,
          0.007539870156857132,
          0.007539870156857132,
          0.007539870156857132,
          0.007539870156857132,
          0.007539870156857132,
          0.007539870156857132,
          0.007539870156857132,
          0.007539870156857132,
          0.007539870156857132,
          0.007539870156857132,
          0.007539870156857132,
          0.007539870156857132,
          0.007539870156857132,
          0.007539870156857132,
          0.007539870156857132,
          0.007539870156857132,
          0.007539870156857132,
          0.007539870156857132
         ],
         "y": [
          0.027941978003324642,
          0.027941978003324642,
          0.027941978003324642,
          0.027941978003324642,
          0.027941978003324642,
          0.027941978003324642,
          0.027941978003324642,
          0.027941978003324642,
          0.027941978003324642,
          0.027941978003324642,
          0.027941978003324642,
          0.027941978003324642,
          0.027941978003324642,
          0.027941978003324642,
          0.027941978003324642,
          0.027941978003324642,
          0.027941978003324642,
          0.027941978003324642,
          0.027941978003324642,
          0.027941978003324642,
          0.027941978003324642,
          0.027941978003324642,
          0.027941978003324642,
          0.027941978003324642,
          0.027941978003324642,
          0.027941978003324642,
          0.027941978003324642,
          0.027941978003324642,
          0.027941978003324642,
          0.027941978003324642,
          0.027941978003324642,
          0.027941978003324642,
          0.027941978003324642,
          0.027941978003324642,
          0.027941978003324642,
          0.027941978003324642,
          0.027941978003324642,
          0.027941978003324642,
          0.027941978003324642,
          0.027941978003324642,
          0.027941978003324642,
          0.027941978003324642,
          0.027941978003324642,
          0.027941978003324642,
          0.027941978003324642,
          0.027941978003324642,
          0.027941978003324642,
          0.027941978003324642,
          0.027941978003324642,
          0.027941978003324642,
          0.027941978003324642,
          0.027941978003324642,
          0.027941978003324642,
          0.027941978003324642,
          0.027941978003324642,
          0.027941978003324642,
          0.027941978003324642,
          0.027941978003324642,
          0.027941978003324642,
          0.027941978003324642,
          0.027941978003324642,
          0.027941978003324642,
          0.027941978003324642,
          0.027941978003324642,
          0.027941978003324642,
          0.027941978003324642,
          0.027941978003324642,
          0.027941978003324642,
          0.027941978003324642,
          0.027941978003324642,
          0.027941978003324642,
          0.027941978003324642,
          0.027941978003324642,
          0.027941978003324642,
          0.027941978003324642,
          0.027941978003324642,
          0.027941978003324642,
          0.027941978003324642,
          0.027941978003324642,
          0.027941978003324642,
          0.027941978003324642,
          0.027941978003324642,
          0.027941978003324642,
          0.027941978003324642,
          0.027941978003324642,
          0.027941978003324642,
          0.027941978003324642,
          0.027941978003324642,
          0.027941978003324642,
          0.027941978003324642,
          0.027941978003324642,
          0.027941978003324642,
          0.027941978003324642,
          0.027941978003324642,
          0.027941978003324642,
          0.027941978003324642,
          0.027941978003324642,
          0.027941978003324642,
          0.027941978003324642,
          0.027941978003324642,
          0.027941978003324642,
          0.027941978003324642,
          0.027941978003324642,
          0.027941978003324642,
          0.027941978003324642,
          0.027941978003324642,
          0.027941978003324642,
          0.027941978003324642,
          0.027941978003324642,
          0.027941978003324642,
          0.027941978003324642,
          0.027941978003324642,
          0.027941978003324642,
          0.027941978003324642,
          0.027941978003324642,
          0.027941978003324642,
          0.027941978003324642,
          0.027941978003324642,
          0.027941978003324642,
          0.027941978003324642,
          0.027941978003324642,
          0.027941978003324642,
          0.027941978003324642,
          0.027941978003324642,
          0.027941978003324642,
          0.027941978003324642,
          0.027941978003324642,
          0.027941978003324642,
          0.027941978003324642,
          0.027941978003324642,
          0.027941978003324642,
          0.027941978003324642,
          0.027941978003324642,
          0.027941978003324642,
          0.027941978003324642,
          0.027941978003324642,
          0.027941978003324642,
          0.027941978003324642,
          0.027941978003324642,
          0.027941978003324642,
          0.027941978003324642,
          0.027941978003324642,
          0.027941978003324642,
          0.027941978003324642,
          0.027941978003324642,
          0.027941978003324642,
          0.027941978003324642,
          0.027941978003324642
         ],
         "z": [
          -0.3938250918236297,
          -0.3938250918236297,
          -0.3823137708823276,
          -0.3823137708823276,
          -0.3708024499410255,
          -0.3708024499410255,
          -0.3592911289997234,
          -0.3592911289997234,
          -0.3477798080584213,
          -0.3477798080584213,
          -0.3362684871171192,
          -0.3362684871171192,
          -0.3247571661758171,
          -0.3247571661758171,
          -0.31324584523451504,
          -0.31324584523451504,
          -0.3017345242932129,
          -0.3017345242932129,
          -0.2902232033519108,
          -0.2902232033519108,
          -0.27871188241060874,
          -0.27871188241060874,
          -0.26720056146930665,
          -0.26720056146930665,
          -0.25568924052800457,
          -0.25568924052800457,
          -0.24417791958670246,
          -0.24417791958670246,
          -0.23266659864540037,
          -0.23266659864540037,
          -0.22115527770409826,
          -0.22115527770409826,
          -0.20964395676279618,
          -0.20964395676279618,
          -0.1981326358214941,
          -0.1981326358214941,
          -0.18662131488019199,
          -0.18662131488019199,
          -0.1751099939388899,
          -0.1751099939388899,
          -0.1635986729975878,
          -0.1635986729975878,
          -0.1520873520562857,
          -0.1520873520562857,
          -0.14057603111498362,
          -0.14057603111498362,
          -0.12906471017368154,
          -0.12906471017368154,
          -0.11755338923237946,
          -0.11755338923237946,
          -0.10604206829107732,
          -0.10604206829107732,
          -0.09453074734977523,
          -0.09453074734977523,
          -0.0830194264084731,
          -0.0830194264084731,
          -0.07150810546717107,
          -0.07150810546717107,
          -0.059996784525868985,
          -0.059996784525868985,
          -0.048485463584566846,
          -0.048485463584566846,
          -0.03697414264326476,
          -0.03697414264326476,
          -0.02546282170196268,
          -0.02546282170196268,
          -0.013951500760660596,
          -0.013951500760660596,
          -0.0024401798193585122,
          -0.0024401798193585122,
          0.009071141121943627,
          0.009071141121943627,
          0.02058246206324571,
          0.02058246206324571,
          0.03209378300454779,
          0.03209378300454779,
          0.04360510394584988,
          0.04360510394584988,
          0.05511642488715196,
          0.05511642488715196,
          0.0666277458284541,
          0.0666277458284541,
          0.07813906676975618,
          0.07813906676975618,
          0.08965038771105827,
          0.08965038771105827,
          0.10116170865236035,
          0.10116170865236035,
          0.11267302959366243,
          0.11267302959366243,
          0.12418435053496457,
          0.12418435053496457,
          0.1356956714762666,
          0.1356956714762666,
          0.14720699241756874,
          0.14720699241756874,
          0.15871831335887077,
          0.15871831335887077,
          0.1702296343001729,
          0.1702296343001729,
          -0.3823137708823276,
          -0.3708024499410255,
          -0.3592911289997234,
          -0.3477798080584213,
          -0.3362684871171192,
          -0.3247571661758171,
          -0.31324584523451504,
          -0.3017345242932129,
          -0.2902232033519108,
          -0.27871188241060874,
          -0.26720056146930665,
          -0.25568924052800457,
          -0.24417791958670246,
          -0.23266659864540037,
          -0.22115527770409826,
          -0.20964395676279618,
          -0.1981326358214941,
          -0.18662131488019199,
          -0.1751099939388899,
          -0.1635986729975878,
          -0.1520873520562857,
          -0.14057603111498362,
          -0.12906471017368154,
          -0.11755338923237946,
          -0.10604206829107732,
          -0.09453074734977523,
          -0.0830194264084731,
          -0.07150810546717107,
          -0.059996784525868985,
          -0.048485463584566846,
          -0.03697414264326476,
          -0.02546282170196268,
          -0.013951500760660596,
          -0.0024401798193585122,
          0.009071141121943627,
          0.02058246206324571,
          0.03209378300454779,
          0.04360510394584988,
          0.05511642488715196,
          0.0666277458284541,
          0.07813906676975618,
          0.08965038771105827,
          0.10116170865236035,
          0.11267302959366243,
          0.12418435053496457,
          0.1356956714762666,
          0.14720699241756874,
          0.15871831335887077
         ]
        },
        {
         "line": {
          "color": [
           [
            0,
            0,
            0,
            1
           ]
          ],
          "width": 4
         },
         "mode": "lines",
         "name": "O:1",
         "scene": "scene",
         "showlegend": false,
         "type": "scatter3d",
         "x": [
          0.2715996501182316
         ],
         "y": [
          0.045829052195101014
         ],
         "z": [
          -0.13963727927784184
         ]
        },
        {
         "marker": {
          "color": [
           0,
           0,
           0,
           1
          ],
          "size": 3
         },
         "name": "Start O:1",
         "opacity": 0.7,
         "scene": "scene",
         "showlegend": false,
         "type": "scatter3d",
         "x": [
          0.2715996501182316
         ],
         "y": [
          0.045829052195101014
         ],
         "z": [
          -0.13963727927784184
         ]
        },
        {
         "marker": {
          "color": [
           0,
           0,
           0,
           1
          ],
          "size": 3
         },
         "name": "End O:1",
         "opacity": 0.7,
         "scene": "scene",
         "showlegend": false,
         "type": "scatter3d",
         "x": [
          0.2715996501182316
         ],
         "y": [
          0.045829052195101014
         ],
         "z": [
          -0.13963727927784184
         ]
        },
        {
         "line": {
          "color": [
           [
            0,
            0,
            0,
            1
           ],
           [
            0.5,
            0.18333333333333335,
            0.5833333333333334,
            1
           ],
           [
            0.9,
            0.5833333333333334,
            0.03333333333333333,
            1
           ]
          ],
          "width": 4
         },
         "mode": "lines",
         "name": "O:2",
         "scene": "scene",
         "showlegend": false,
         "type": "scatter3d",
         "x": [
          0.09287515114772646,
          0.0583227587527637,
          0.060141963247945344
         ],
         "y": [
          0.037765260037078696,
          0.037287541260057934,
          0.035514430526239336
         ],
         "z": [
          -0.35465863513434936,
          -0.35922949002697235,
          -0.2930502061050577
         ]
        },
        {
         "marker": {
          "color": [
           0,
           0,
           0,
           1
          ],
          "size": 3
         },
         "name": "Start O:2",
         "opacity": 0.7,
         "scene": "scene",
         "showlegend": false,
         "type": "scatter3d",
         "x": [
          0.09287515114772646
         ],
         "y": [
          0.037765260037078696
         ],
         "z": [
          -0.35465863513434936
         ]
        },
        {
         "marker": {
          "color": [
           0.9,
           0.5833333333333334,
           0.03333333333333333,
           1
          ],
          "size": 3
         },
         "name": "End O:2",
         "opacity": 0.7,
         "scene": "scene",
         "showlegend": false,
         "type": "scatter3d",
         "x": [
          0.060141963247945344
         ],
         "y": [
          0.035514430526239336
         ],
         "z": [
          -0.2930502061050577
         ]
        },
        {
         "line": {
          "color": [
           [
            0,
            0,
            0,
            1
           ]
          ],
          "width": 4
         },
         "mode": "lines",
         "name": "O:3",
         "scene": "scene",
         "showlegend": false,
         "type": "scatter3d",
         "x": [
          0.06532612226163786
         ],
         "y": [
          0.03460306564877418
         ],
         "z": [
          -0.3938250918236297
         ]
        },
        {
         "marker": {
          "color": [
           0,
           0,
           0,
           1
          ],
          "size": 3
         },
         "name": "Start O:3",
         "opacity": 0.7,
         "scene": "scene",
         "showlegend": false,
         "type": "scatter3d",
         "x": [
          0.06532612226163786
         ],
         "y": [
          0.03460306564877418
         ],
         "z": [
          -0.3938250918236297
         ]
        },
        {
         "marker": {
          "color": [
           0,
           0,
           0,
           1
          ],
          "size": 3
         },
         "name": "End O:3",
         "opacity": 0.7,
         "scene": "scene",
         "showlegend": false,
         "type": "scatter3d",
         "x": [
          0.06532612226163786
         ],
         "y": [
          0.03460306564877418
         ],
         "z": [
          -0.3938250918236297
         ]
        },
        {
         "line": {
          "color": [
           [
            0,
            0,
            0,
            1
           ],
           [
            0.5,
            0.18333333333333335,
            0.5833333333333334,
            1
           ],
           [
            0.9,
            0.5833333333333334,
            0.03333333333333333,
            1
           ]
          ],
          "width": 4
         },
         "mode": "lines",
         "name": "O:4",
         "scene": "scene",
         "showlegend": false,
         "type": "scatter3d",
         "x": [
          0.02239647191445357,
          0.023335751382753168,
          0.055518250986920245
         ],
         "y": [
          0.03985800842785346,
          0.03969088141352066,
          0.03923113903133026
         ],
         "z": [
          -0.1286364281562316,
          -0.141216172532007,
          -0.1347803398023403
         ]
        },
        {
         "marker": {
          "color": [
           0,
           0,
           0,
           1
          ],
          "size": 3
         },
         "name": "Start O:4",
         "opacity": 0.7,
         "scene": "scene",
         "showlegend": false,
         "type": "scatter3d",
         "x": [
          0.02239647191445357
         ],
         "y": [
          0.03985800842785346
         ],
         "z": [
          -0.1286364281562316
         ]
        },
        {
         "marker": {
          "color": [
           0.9,
           0.5833333333333334,
           0.03333333333333333,
           1
          ],
          "size": 3
         },
         "name": "End O:4",
         "opacity": 0.7,
         "scene": "scene",
         "showlegend": false,
         "type": "scatter3d",
         "x": [
          0.055518250986920245
         ],
         "y": [
          0.03923113903133026
         ],
         "z": [
          -0.1347803398023403
         ]
        },
        {
         "line": {
          "color": [
           [
            0,
            0,
            0,
            1
           ],
           [
            0.5,
            0.18333333333333335,
            0.5833333333333334,
            1
           ],
           [
            0.9,
            0.5833333333333334,
            0.03333333333333333,
            1
           ]
          ],
          "width": 4
         },
         "mode": "lines",
         "name": "O:5",
         "scene": "scene",
         "showlegend": false,
         "type": "scatter3d",
         "x": [
          0.09308826449933766,
          0.05188504835900448,
          0.010083809923455343
         ],
         "y": [
          0.03881317581788537,
          0.03846142462928953,
          0.03803547760334979
         ],
         "z": [
          0.1702296343001729,
          0.15442414447583686,
          0.12316961372972357
         ]
        },
        {
         "marker": {
          "color": [
           0,
           0,
           0,
           1
          ],
          "size": 3
         },
         "name": "Start O:5",
         "opacity": 0.7,
         "scene": "scene",
         "showlegend": false,
         "type": "scatter3d",
         "x": [
          0.09308826449933766
         ],
         "y": [
          0.03881317581788537
         ],
         "z": [
          0.1702296343001729
         ]
        },
        {
         "marker": {
          "color": [
           0.9,
           0.5833333333333334,
           0.03333333333333333,
           1
          ],
          "size": 3
         },
         "name": "End O:5",
         "opacity": 0.7,
         "scene": "scene",
         "showlegend": false,
         "type": "scatter3d",
         "x": [
          0.010083809923455343
         ],
         "y": [
          0.03803547760334979
         ],
         "z": [
          0.12316961372972357
         ]
        },
        {
         "line": {
          "color": [
           [
            0,
            0,
            0,
            1
           ],
           [
            0.9984313725490196,
            0.25392156862745097,
            0.1476470588235294,
            1
           ]
          ],
          "width": 4
         },
         "mode": "lines",
         "name": "O:6",
         "scene": "scene",
         "showlegend": false,
         "type": "scatter3d",
         "x": [
          0.08091611184531691,
          0.06910893228231779
         ],
         "y": [
          0.04340213150111064,
          0.043533973352359104
         ],
         "z": [
          -0.015347347324869445,
          0.014569309639924461
         ]
        },
        {
         "marker": {
          "color": [
           0,
           0,
           0,
           1
          ],
          "size": 3
         },
         "name": "Start O:6",
         "opacity": 0.7,
         "scene": "scene",
         "showlegend": false,
         "type": "scatter3d",
         "x": [
          0.08091611184531691
         ],
         "y": [
          0.04340213150111064
         ],
         "z": [
          -0.015347347324869445
         ]
        },
        {
         "marker": {
          "color": [
           0.9984313725490196,
           0.25392156862745097,
           0.1476470588235294,
           1
          ],
          "size": 3
         },
         "name": "End O:6",
         "opacity": 0.7,
         "scene": "scene",
         "showlegend": false,
         "type": "scatter3d",
         "x": [
          0.06910893228231779
         ],
         "y": [
          0.043533973352359104
         ],
         "z": [
          0.014569309639924461
         ]
        },
        {
         "line": {
          "color": [
           [
            0,
            0,
            0,
            1
           ]
          ],
          "width": 4
         },
         "mode": "lines",
         "name": "O:7",
         "scene": "scene",
         "showlegend": false,
         "type": "scatter3d",
         "x": [
          0.045703474079982744
         ],
         "y": [
          0.04120668668096845
         ],
         "z": [
          -0.12867052162759793
         ]
        },
        {
         "marker": {
          "color": [
           0,
           0,
           0,
           1
          ],
          "size": 3
         },
         "name": "Start O:7",
         "opacity": 0.7,
         "scene": "scene",
         "showlegend": false,
         "type": "scatter3d",
         "x": [
          0.045703474079982744
         ],
         "y": [
          0.04120668668096845
         ],
         "z": [
          -0.12867052162759793
         ]
        },
        {
         "marker": {
          "color": [
           0,
           0,
           0,
           1
          ],
          "size": 3
         },
         "name": "End O:7",
         "opacity": 0.7,
         "scene": "scene",
         "showlegend": false,
         "type": "scatter3d",
         "x": [
          0.045703474079982744
         ],
         "y": [
          0.04120668668096845
         ],
         "z": [
          -0.12867052162759793
         ]
        }
       ],
       "layout": {
        "annotations": [
         {
          "font": {
           "size": 16
          },
          "showarrow": false,
          "text": "State 3 , 7 trajectories",
          "x": 0.5,
          "xanchor": "center",
          "xref": "paper",
          "y": 1,
          "yanchor": "bottom",
          "yref": "paper"
         }
        ],
        "scene": {
         "camera": {
          "eye": {
           "x": 0.9,
           "y": 0.9,
           "z": 0.9
          }
         },
         "domain": {
          "x": [
           0,
           1
          ],
          "y": [
           0,
           1
          ]
         },
         "xaxis": {
          "backgroundcolor": "rgb(200,200,230)",
          "nticks": 8,
          "range": [
           0.007539870156857132,
           0.3893662679016376
          ],
          "title": {
           "text": "Speed (m/sec)"
          }
         },
         "yaxis": {
          "backgroundcolor": "rgb(200,200,230)",
          "nticks": 8,
          "range": [
           0.027941978003324642,
           0.06973043430892341
          ],
          "title": {
           "text": "Body length (m)"
          }
         },
         "zaxis": {
          "backgroundcolor": "rgb(200,200,230)",
          "nticks": 8,
          "range": [
           -1.242047943593212,
           1.1334702927233553
          ],
          "title": {
           "text": "Yaw (radians)"
          }
         }
        },
        "template": {
         "data": {
          "bar": [
           {
            "error_x": {
             "color": "#2a3f5f"
            },
            "error_y": {
             "color": "#2a3f5f"
            },
            "marker": {
             "line": {
              "color": "#E5ECF6",
              "width": 0.5
             }
            },
            "type": "bar"
           }
          ],
          "barpolar": [
           {
            "marker": {
             "line": {
              "color": "#E5ECF6",
              "width": 0.5
             }
            },
            "type": "barpolar"
           }
          ],
          "carpet": [
           {
            "aaxis": {
             "endlinecolor": "#2a3f5f",
             "gridcolor": "white",
             "linecolor": "white",
             "minorgridcolor": "white",
             "startlinecolor": "#2a3f5f"
            },
            "baxis": {
             "endlinecolor": "#2a3f5f",
             "gridcolor": "white",
             "linecolor": "white",
             "minorgridcolor": "white",
             "startlinecolor": "#2a3f5f"
            },
            "type": "carpet"
           }
          ],
          "choropleth": [
           {
            "colorbar": {
             "outlinewidth": 0,
             "ticks": ""
            },
            "type": "choropleth"
           }
          ],
          "contour": [
           {
            "colorbar": {
             "outlinewidth": 0,
             "ticks": ""
            },
            "colorscale": [
             [
              0,
              "#0d0887"
             ],
             [
              0.1111111111111111,
              "#46039f"
             ],
             [
              0.2222222222222222,
              "#7201a8"
             ],
             [
              0.3333333333333333,
              "#9c179e"
             ],
             [
              0.4444444444444444,
              "#bd3786"
             ],
             [
              0.5555555555555556,
              "#d8576b"
             ],
             [
              0.6666666666666666,
              "#ed7953"
             ],
             [
              0.7777777777777778,
              "#fb9f3a"
             ],
             [
              0.8888888888888888,
              "#fdca26"
             ],
             [
              1,
              "#f0f921"
             ]
            ],
            "type": "contour"
           }
          ],
          "contourcarpet": [
           {
            "colorbar": {
             "outlinewidth": 0,
             "ticks": ""
            },
            "type": "contourcarpet"
           }
          ],
          "heatmap": [
           {
            "colorbar": {
             "outlinewidth": 0,
             "ticks": ""
            },
            "colorscale": [
             [
              0,
              "#0d0887"
             ],
             [
              0.1111111111111111,
              "#46039f"
             ],
             [
              0.2222222222222222,
              "#7201a8"
             ],
             [
              0.3333333333333333,
              "#9c179e"
             ],
             [
              0.4444444444444444,
              "#bd3786"
             ],
             [
              0.5555555555555556,
              "#d8576b"
             ],
             [
              0.6666666666666666,
              "#ed7953"
             ],
             [
              0.7777777777777778,
              "#fb9f3a"
             ],
             [
              0.8888888888888888,
              "#fdca26"
             ],
             [
              1,
              "#f0f921"
             ]
            ],
            "type": "heatmap"
           }
          ],
          "heatmapgl": [
           {
            "colorbar": {
             "outlinewidth": 0,
             "ticks": ""
            },
            "colorscale": [
             [
              0,
              "#0d0887"
             ],
             [
              0.1111111111111111,
              "#46039f"
             ],
             [
              0.2222222222222222,
              "#7201a8"
             ],
             [
              0.3333333333333333,
              "#9c179e"
             ],
             [
              0.4444444444444444,
              "#bd3786"
             ],
             [
              0.5555555555555556,
              "#d8576b"
             ],
             [
              0.6666666666666666,
              "#ed7953"
             ],
             [
              0.7777777777777778,
              "#fb9f3a"
             ],
             [
              0.8888888888888888,
              "#fdca26"
             ],
             [
              1,
              "#f0f921"
             ]
            ],
            "type": "heatmapgl"
           }
          ],
          "histogram": [
           {
            "marker": {
             "colorbar": {
              "outlinewidth": 0,
              "ticks": ""
             }
            },
            "type": "histogram"
           }
          ],
          "histogram2d": [
           {
            "colorbar": {
             "outlinewidth": 0,
             "ticks": ""
            },
            "colorscale": [
             [
              0,
              "#0d0887"
             ],
             [
              0.1111111111111111,
              "#46039f"
             ],
             [
              0.2222222222222222,
              "#7201a8"
             ],
             [
              0.3333333333333333,
              "#9c179e"
             ],
             [
              0.4444444444444444,
              "#bd3786"
             ],
             [
              0.5555555555555556,
              "#d8576b"
             ],
             [
              0.6666666666666666,
              "#ed7953"
             ],
             [
              0.7777777777777778,
              "#fb9f3a"
             ],
             [
              0.8888888888888888,
              "#fdca26"
             ],
             [
              1,
              "#f0f921"
             ]
            ],
            "type": "histogram2d"
           }
          ],
          "histogram2dcontour": [
           {
            "colorbar": {
             "outlinewidth": 0,
             "ticks": ""
            },
            "colorscale": [
             [
              0,
              "#0d0887"
             ],
             [
              0.1111111111111111,
              "#46039f"
             ],
             [
              0.2222222222222222,
              "#7201a8"
             ],
             [
              0.3333333333333333,
              "#9c179e"
             ],
             [
              0.4444444444444444,
              "#bd3786"
             ],
             [
              0.5555555555555556,
              "#d8576b"
             ],
             [
              0.6666666666666666,
              "#ed7953"
             ],
             [
              0.7777777777777778,
              "#fb9f3a"
             ],
             [
              0.8888888888888888,
              "#fdca26"
             ],
             [
              1,
              "#f0f921"
             ]
            ],
            "type": "histogram2dcontour"
           }
          ],
          "mesh3d": [
           {
            "colorbar": {
             "outlinewidth": 0,
             "ticks": ""
            },
            "type": "mesh3d"
           }
          ],
          "parcoords": [
           {
            "line": {
             "colorbar": {
              "outlinewidth": 0,
              "ticks": ""
             }
            },
            "type": "parcoords"
           }
          ],
          "pie": [
           {
            "automargin": true,
            "type": "pie"
           }
          ],
          "scatter": [
           {
            "marker": {
             "colorbar": {
              "outlinewidth": 0,
              "ticks": ""
             }
            },
            "type": "scatter"
           }
          ],
          "scatter3d": [
           {
            "line": {
             "colorbar": {
              "outlinewidth": 0,
              "ticks": ""
             }
            },
            "marker": {
             "colorbar": {
              "outlinewidth": 0,
              "ticks": ""
             }
            },
            "type": "scatter3d"
           }
          ],
          "scattercarpet": [
           {
            "marker": {
             "colorbar": {
              "outlinewidth": 0,
              "ticks": ""
             }
            },
            "type": "scattercarpet"
           }
          ],
          "scattergeo": [
           {
            "marker": {
             "colorbar": {
              "outlinewidth": 0,
              "ticks": ""
             }
            },
            "type": "scattergeo"
           }
          ],
          "scattergl": [
           {
            "marker": {
             "colorbar": {
              "outlinewidth": 0,
              "ticks": ""
             }
            },
            "type": "scattergl"
           }
          ],
          "scattermapbox": [
           {
            "marker": {
             "colorbar": {
              "outlinewidth": 0,
              "ticks": ""
             }
            },
            "type": "scattermapbox"
           }
          ],
          "scatterpolar": [
           {
            "marker": {
             "colorbar": {
              "outlinewidth": 0,
              "ticks": ""
             }
            },
            "type": "scatterpolar"
           }
          ],
          "scatterpolargl": [
           {
            "marker": {
             "colorbar": {
              "outlinewidth": 0,
              "ticks": ""
             }
            },
            "type": "scatterpolargl"
           }
          ],
          "scatterternary": [
           {
            "marker": {
             "colorbar": {
              "outlinewidth": 0,
              "ticks": ""
             }
            },
            "type": "scatterternary"
           }
          ],
          "surface": [
           {
            "colorbar": {
             "outlinewidth": 0,
             "ticks": ""
            },
            "colorscale": [
             [
              0,
              "#0d0887"
             ],
             [
              0.1111111111111111,
              "#46039f"
             ],
             [
              0.2222222222222222,
              "#7201a8"
             ],
             [
              0.3333333333333333,
              "#9c179e"
             ],
             [
              0.4444444444444444,
              "#bd3786"
             ],
             [
              0.5555555555555556,
              "#d8576b"
             ],
             [
              0.6666666666666666,
              "#ed7953"
             ],
             [
              0.7777777777777778,
              "#fb9f3a"
             ],
             [
              0.8888888888888888,
              "#fdca26"
             ],
             [
              1,
              "#f0f921"
             ]
            ],
            "type": "surface"
           }
          ],
          "table": [
           {
            "cells": {
             "fill": {
              "color": "#EBF0F8"
             },
             "line": {
              "color": "white"
             }
            },
            "header": {
             "fill": {
              "color": "#C8D4E3"
             },
             "line": {
              "color": "white"
             }
            },
            "type": "table"
           }
          ]
         },
         "layout": {
          "annotationdefaults": {
           "arrowcolor": "#2a3f5f",
           "arrowhead": 0,
           "arrowwidth": 1
          },
          "coloraxis": {
           "colorbar": {
            "outlinewidth": 0,
            "ticks": ""
           }
          },
          "colorscale": {
           "diverging": [
            [
             0,
             "#8e0152"
            ],
            [
             0.1,
             "#c51b7d"
            ],
            [
             0.2,
             "#de77ae"
            ],
            [
             0.3,
             "#f1b6da"
            ],
            [
             0.4,
             "#fde0ef"
            ],
            [
             0.5,
             "#f7f7f7"
            ],
            [
             0.6,
             "#e6f5d0"
            ],
            [
             0.7,
             "#b8e186"
            ],
            [
             0.8,
             "#7fbc41"
            ],
            [
             0.9,
             "#4d9221"
            ],
            [
             1,
             "#276419"
            ]
           ],
           "sequential": [
            [
             0,
             "#0d0887"
            ],
            [
             0.1111111111111111,
             "#46039f"
            ],
            [
             0.2222222222222222,
             "#7201a8"
            ],
            [
             0.3333333333333333,
             "#9c179e"
            ],
            [
             0.4444444444444444,
             "#bd3786"
            ],
            [
             0.5555555555555556,
             "#d8576b"
            ],
            [
             0.6666666666666666,
             "#ed7953"
            ],
            [
             0.7777777777777778,
             "#fb9f3a"
            ],
            [
             0.8888888888888888,
             "#fdca26"
            ],
            [
             1,
             "#f0f921"
            ]
           ],
           "sequentialminus": [
            [
             0,
             "#0d0887"
            ],
            [
             0.1111111111111111,
             "#46039f"
            ],
            [
             0.2222222222222222,
             "#7201a8"
            ],
            [
             0.3333333333333333,
             "#9c179e"
            ],
            [
             0.4444444444444444,
             "#bd3786"
            ],
            [
             0.5555555555555556,
             "#d8576b"
            ],
            [
             0.6666666666666666,
             "#ed7953"
            ],
            [
             0.7777777777777778,
             "#fb9f3a"
            ],
            [
             0.8888888888888888,
             "#fdca26"
            ],
            [
             1,
             "#f0f921"
            ]
           ]
          },
          "colorway": [
           "#636efa",
           "#EF553B",
           "#00cc96",
           "#ab63fa",
           "#FFA15A",
           "#19d3f3",
           "#FF6692",
           "#B6E880",
           "#FF97FF",
           "#FECB52"
          ],
          "font": {
           "color": "#2a3f5f"
          },
          "geo": {
           "bgcolor": "white",
           "lakecolor": "white",
           "landcolor": "#E5ECF6",
           "showlakes": true,
           "showland": true,
           "subunitcolor": "white"
          },
          "hoverlabel": {
           "align": "left"
          },
          "hovermode": "closest",
          "mapbox": {
           "style": "light"
          },
          "paper_bgcolor": "white",
          "plot_bgcolor": "#E5ECF6",
          "polar": {
           "angularaxis": {
            "gridcolor": "white",
            "linecolor": "white",
            "ticks": ""
           },
           "bgcolor": "#E5ECF6",
           "radialaxis": {
            "gridcolor": "white",
            "linecolor": "white",
            "ticks": ""
           }
          },
          "scene": {
           "xaxis": {
            "backgroundcolor": "#E5ECF6",
            "gridcolor": "white",
            "gridwidth": 2,
            "linecolor": "white",
            "showbackground": true,
            "ticks": "",
            "zerolinecolor": "white"
           },
           "yaxis": {
            "backgroundcolor": "#E5ECF6",
            "gridcolor": "white",
            "gridwidth": 2,
            "linecolor": "white",
            "showbackground": true,
            "ticks": "",
            "zerolinecolor": "white"
           },
           "zaxis": {
            "backgroundcolor": "#E5ECF6",
            "gridcolor": "white",
            "gridwidth": 2,
            "linecolor": "white",
            "showbackground": true,
            "ticks": "",
            "zerolinecolor": "white"
           }
          },
          "shapedefaults": {
           "line": {
            "color": "#2a3f5f"
           }
          },
          "ternary": {
           "aaxis": {
            "gridcolor": "white",
            "linecolor": "white",
            "ticks": ""
           },
           "baxis": {
            "gridcolor": "white",
            "linecolor": "white",
            "ticks": ""
           },
           "bgcolor": "#E5ECF6",
           "caxis": {
            "gridcolor": "white",
            "linecolor": "white",
            "ticks": ""
           }
          },
          "title": {
           "x": 0.05
          },
          "xaxis": {
           "automargin": true,
           "gridcolor": "white",
           "linecolor": "white",
           "ticks": "",
           "title": {
            "standoff": 15
           },
           "zerolinecolor": "white",
           "zerolinewidth": 2
          },
          "yaxis": {
           "automargin": true,
           "gridcolor": "white",
           "linecolor": "white",
           "ticks": "",
           "title": {
            "standoff": 15
           },
           "zerolinecolor": "white",
           "zerolinewidth": 2
          }
         }
        }
       }
      },
      "text/html": [
       "<div>                            <div id=\"70af0832-9f01-462a-800c-b6c82ffc73e3\" class=\"plotly-graph-div\" style=\"height:525px; width:100%;\"></div>            <script type=\"text/javascript\">                require([\"plotly\"], function(Plotly) {                    window.PLOTLYENV=window.PLOTLYENV || {};                                    if (document.getElementById(\"70af0832-9f01-462a-800c-b6c82ffc73e3\")) {                    Plotly.newPlot(                        \"70af0832-9f01-462a-800c-b6c82ffc73e3\",                        [{\"color\": \"#9ab25a\", \"i\": [0, 0, 100, 100, 101, 101, 102, 102, 103, 103, 104, 104, 105, 105, 106, 106, 107, 107, 108, 108, 109, 109, 110, 110, 111, 111, 112, 112, 113, 113, 114, 114, 115, 115, 116, 116, 117, 117, 118, 118, 119, 119, 120, 120, 121, 121, 122, 122, 123, 123, 124, 124, 125, 125, 126, 126, 127, 127, 128, 128, 129, 129, 130, 130, 131, 131, 132, 132, 133, 133, 134, 134, 135, 135, 136, 136, 137, 137, 138, 138, 139, 139, 140, 140, 141, 141, 142, 142, 143, 143, 144, 144, 145, 145, 146, 146, 147, 147], \"j\": [1, 2, 3, 4, 5, 6, 7, 8, 9, 10, 11, 12, 13, 14, 15, 16, 17, 18, 19, 20, 21, 22, 23, 24, 25, 26, 27, 28, 29, 30, 31, 32, 33, 34, 35, 36, 37, 38, 39, 40, 41, 42, 43, 44, 45, 46, 47, 48, 49, 50, 51, 52, 53, 54, 55, 56, 57, 58, 59, 60, 61, 62, 63, 64, 65, 66, 67, 68, 69, 70, 71, 72, 73, 74, 75, 76, 77, 78, 79, 80, 81, 82, 83, 84, 85, 86, 87, 88, 89, 90, 91, 92, 93, 94, 95, 96, 97, 98], \"k\": [2, 100, 4, 101, 6, 102, 8, 103, 10, 104, 12, 105, 14, 106, 16, 107, 18, 108, 20, 109, 22, 110, 24, 111, 26, 112, 28, 113, 30, 114, 32, 115, 34, 116, 36, 117, 38, 118, 40, 119, 42, 120, 44, 121, 46, 122, 48, 123, 50, 124, 52, 125, 54, 126, 56, 127, 58, 128, 60, 129, 62, 130, 64, 131, 66, 132, 68, 133, 70, 134, 72, 135, 74, 136, 76, 137, 78, 138, 80, 139, 82, 140, 84, 141, 86, 142, 88, 143, 90, 144, 92, 145, 94, 146, 96, 147, 98, 99], \"opacity\": 0.7, \"scene\": \"scene\", \"type\": \"mesh3d\", \"x\": [0.010083809923455343, 0.010083809923455343, 0.01542086788661404, 0.01542086788661404, 0.020757925849772742, 0.020757925849772742, 0.02609498381293144, 0.02609498381293144, 0.03143204177609014, 0.03143204177609014, 0.036769099739248835, 0.036769099739248835, 0.04210615770240754, 0.04210615770240754, 0.04744321566556624, 0.04744321566556624, 0.052780273628724936, 0.052780273628724936, 0.058117331591883634, 0.058117331591883634, 0.06345438955504233, 0.06345438955504233, 0.06879144751820103, 0.06879144751820103, 0.07412850548135973, 0.07412850548135973, 0.07946556344451843, 0.07946556344451843, 0.08480262140767712, 0.08480262140767712, 0.09013967937083582, 0.09013967937083582, 0.09547673733399452, 0.09547673733399452, 0.10081379529715322, 0.10081379529715322, 0.10615085326031191, 0.10615085326031191, 0.11148791122347061, 0.11148791122347061, 0.11682496918662931, 0.11682496918662931, 0.12216202714978801, 0.12216202714978801, 0.12749908511294672, 0.12749908511294672, 0.13283614307610542, 0.13283614307610542, 0.13817320103926412, 0.13817320103926412, 0.1435102590024228, 0.1435102590024228, 0.1488473169655815, 0.1488473169655815, 0.1541843749287402, 0.1541843749287402, 0.1595214328918989, 0.1595214328918989, 0.1648584908550576, 0.1648584908550576, 0.1701955488182163, 0.1701955488182163, 0.175532606781375, 0.175532606781375, 0.1808696647445337, 0.1808696647445337, 0.1862067227076924, 0.1862067227076924, 0.1915437806708511, 0.1915437806708511, 0.1968808386340098, 0.1968808386340098, 0.2022178965971685, 0.2022178965971685, 0.2075549545603272, 0.2075549545603272, 0.21289201252348589, 0.21289201252348589, 0.21822907048664458, 0.21822907048664458, 0.22356612844980328, 0.22356612844980328, 0.22890318641296198, 0.22890318641296198, 0.23424024437612068, 0.23424024437612068, 0.2395773023392794, 0.2395773023392794, 0.24491436030243807, 0.24491436030243807, 0.25025141826559677, 0.25025141826559677, 0.25558847622875547, 0.25558847622875547, 0.2609255341919142, 0.2609255341919142, 0.2662625921550729, 0.2662625921550729, 0.2715996501182316, 0.2715996501182316, 0.01542086788661404, 0.020757925849772742, 0.02609498381293144, 0.03143204177609014, 0.036769099739248835, 0.04210615770240754, 0.04744321566556624, 0.052780273628724936, 0.058117331591883634, 0.06345438955504233, 0.06879144751820103, 0.07412850548135973, 0.07946556344451843, 0.08480262140767712, 0.09013967937083582, 0.09547673733399452, 0.10081379529715322, 0.10615085326031191, 0.11148791122347061, 0.11682496918662931, 0.12216202714978801, 0.12749908511294672, 0.13283614307610542, 0.13817320103926412, 0.1435102590024228, 0.1488473169655815, 0.1541843749287402, 0.1595214328918989, 0.1648584908550576, 0.1701955488182163, 0.175532606781375, 0.1808696647445337, 0.1862067227076924, 0.1915437806708511, 0.1968808386340098, 0.2022178965971685, 0.2075549545603272, 0.21289201252348589, 0.21822907048664458, 0.22356612844980328, 0.22890318641296198, 0.23424024437612068, 0.2395773023392794, 0.24491436030243807, 0.25025141826559677, 0.25558847622875547, 0.2609255341919142, 0.2662625921550729], \"y\": [0.027941978003324642, 0.03838909207972434, 0.03838909207972434, 0.027941978003324642, 0.027941978003324642, 0.048836206156124023, 0.048836206156124023, 0.027941978003324642, 0.027941978003324642, 0.027941978003324642, 0.027941978003324642, 0.027941978003324642, 0.027941978003324642, 0.03838909207972434, 0.03838909207972434, 0.03838909207972434, 0.03838909207972434, 0.03838909207972434, 0.03838909207972434, 0.048836206156124023, 0.048836206156124023, 0.03838909207972434, 0.03838909207972434, 0.03838909207972434, 0.03838909207972434, 0.027941978003324642, 0.027941978003324642, 0.03838909207972434, 0.03838909207972434, 0.027941978003324642, 0.027941978003324642, 0.048836206156124023, 0.048836206156124023, 0.027941978003324642, 0.027941978003324642, 0.027941978003324642, 0.027941978003324642, 0.027941978003324642, 0.027941978003324642, 0.027941978003324642, 0.027941978003324642, 0.027941978003324642, 0.027941978003324642, 0.027941978003324642, 0.027941978003324642, 0.027941978003324642, 0.027941978003324642, 0.027941978003324642, 0.027941978003324642, 0.027941978003324642, 0.027941978003324642, 0.027941978003324642, 0.027941978003324642, 0.027941978003324642, 0.027941978003324642, 0.027941978003324642, 0.027941978003324642, 0.027941978003324642, 0.027941978003324642, 0.027941978003324642, 0.027941978003324642, 0.027941978003324642, 0.027941978003324642, 0.027941978003324642, 0.027941978003324642, 0.027941978003324642, 0.027941978003324642, 0.027941978003324642, 0.027941978003324642, 0.027941978003324642, 0.027941978003324642, 0.027941978003324642, 0.027941978003324642, 0.027941978003324642, 0.027941978003324642, 0.027941978003324642, 0.027941978003324642, 0.027941978003324642, 0.027941978003324642, 0.027941978003324642, 0.027941978003324642, 0.027941978003324642, 0.027941978003324642, 0.027941978003324642, 0.027941978003324642, 0.027941978003324642, 0.027941978003324642, 0.027941978003324642, 0.027941978003324642, 0.027941978003324642, 0.027941978003324642, 0.027941978003324642, 0.027941978003324642, 0.027941978003324642, 0.027941978003324642, 0.027941978003324642, 0.027941978003324642, 0.027941978003324642, 0.027941978003324642, 0.027941978003324642, 0.027941978003324642, 0.027941978003324642, 0.027941978003324642, 0.027941978003324642, 0.027941978003324642, 0.027941978003324642, 0.027941978003324642, 0.027941978003324642, 0.027941978003324642, 0.027941978003324642, 0.027941978003324642, 0.027941978003324642, 0.027941978003324642, 0.027941978003324642, 0.027941978003324642, 0.027941978003324642, 0.027941978003324642, 0.027941978003324642, 0.027941978003324642, 0.027941978003324642, 0.027941978003324642, 0.027941978003324642, 0.027941978003324642, 0.027941978003324642, 0.027941978003324642, 0.027941978003324642, 0.027941978003324642, 0.027941978003324642, 0.027941978003324642, 0.027941978003324642, 0.027941978003324642, 0.027941978003324642, 0.027941978003324642, 0.027941978003324642, 0.027941978003324642, 0.027941978003324642, 0.027941978003324642, 0.027941978003324642, 0.027941978003324642, 0.027941978003324642, 0.027941978003324642, 0.027941978003324642, 0.027941978003324642, 0.027941978003324642, 0.027941978003324642, 0.027941978003324642, 0.027941978003324642, 0.027941978003324642], \"z\": [-1.242047943593212, -1.242047943593212, -1.242047943593212, -1.242047943593212, -1.242047943593212, -1.242047943593212, -1.242047943593212, -1.242047943593212, -1.242047943593212, -1.242047943593212, -1.242047943593212, -1.242047943593212, -1.242047943593212, -1.242047943593212, -1.242047943593212, -1.242047943593212, -1.242047943593212, -1.242047943593212, -1.242047943593212, -1.242047943593212, -1.242047943593212, -1.242047943593212, -1.242047943593212, -1.242047943593212, -1.242047943593212, -1.242047943593212, -1.242047943593212, -1.242047943593212, -1.242047943593212, -1.242047943593212, -1.242047943593212, -1.242047943593212, -1.242047943593212, -1.242047943593212, -1.242047943593212, -1.242047943593212, -1.242047943593212, -1.242047943593212, -1.242047943593212, -1.242047943593212, -1.242047943593212, -1.242047943593212, -1.242047943593212, -1.242047943593212, -1.242047943593212, -1.242047943593212, -1.242047943593212, -1.242047943593212, -1.242047943593212, -1.242047943593212, -1.242047943593212, -1.242047943593212, -1.242047943593212, -1.242047943593212, -1.242047943593212, -1.242047943593212, -1.242047943593212, -1.242047943593212, -1.242047943593212, -1.242047943593212, -1.242047943593212, -1.242047943593212, -1.242047943593212, -1.242047943593212, -1.242047943593212, -1.242047943593212, -1.242047943593212, -1.242047943593212, -1.242047943593212, -1.242047943593212, -1.242047943593212, -1.242047943593212, -1.242047943593212, -1.242047943593212, -1.242047943593212, -1.242047943593212, -1.242047943593212, -1.242047943593212, -1.242047943593212, -1.242047943593212, -1.242047943593212, -1.242047943593212, -1.242047943593212, -1.242047943593212, -1.242047943593212, -1.242047943593212, -1.242047943593212, -1.242047943593212, -1.242047943593212, -1.242047943593212, -1.242047943593212, -1.242047943593212, -1.242047943593212, -1.242047943593212, -1.242047943593212, -1.242047943593212, -1.242047943593212, -1.242047943593212, -1.242047943593212, -1.242047943593212, -1.242047943593212, -1.242047943593212, -1.242047943593212, -1.242047943593212, -1.242047943593212, -1.242047943593212, -1.242047943593212, -1.242047943593212, -1.242047943593212, -1.242047943593212, -1.242047943593212, -1.242047943593212, -1.242047943593212, -1.242047943593212, -1.242047943593212, -1.242047943593212, -1.242047943593212, -1.242047943593212, -1.242047943593212, -1.242047943593212, -1.242047943593212, -1.242047943593212, -1.242047943593212, -1.242047943593212, -1.242047943593212, -1.242047943593212, -1.242047943593212, -1.242047943593212, -1.242047943593212, -1.242047943593212, -1.242047943593212, -1.242047943593212, -1.242047943593212, -1.242047943593212, -1.242047943593212, -1.242047943593212, -1.242047943593212, -1.242047943593212, -1.242047943593212, -1.242047943593212, -1.242047943593212, -1.242047943593212, -1.242047943593212, -1.242047943593212, -1.242047943593212, -1.242047943593212, -1.242047943593212, -1.242047943593212]}, {\"color\": \"#9ab25a\", \"i\": [0, 0, 100, 100, 101, 101, 102, 102, 103, 103, 104, 104, 105, 105, 106, 106, 107, 107, 108, 108, 109, 109, 110, 110, 111, 111, 112, 112, 113, 113, 114, 114, 115, 115, 116, 116, 117, 117, 118, 118, 119, 119, 120, 120, 121, 121, 122, 122, 123, 123, 124, 124, 125, 125, 126, 126, 127, 127, 128, 128, 129, 129, 130, 130, 131, 131, 132, 132, 133, 133, 134, 134, 135, 135, 136, 136, 137, 137, 138, 138, 139, 139, 140, 140, 141, 141, 142, 142, 143, 143, 144, 144, 145, 145, 146, 146, 147, 147], \"j\": [1, 2, 3, 4, 5, 6, 7, 8, 9, 10, 11, 12, 13, 14, 15, 16, 17, 18, 19, 20, 21, 22, 23, 24, 25, 26, 27, 28, 29, 30, 31, 32, 33, 34, 35, 36, 37, 38, 39, 40, 41, 42, 43, 44, 45, 46, 47, 48, 49, 50, 51, 52, 53, 54, 55, 56, 57, 58, 59, 60, 61, 62, 63, 64, 65, 66, 67, 68, 69, 70, 71, 72, 73, 74, 75, 76, 77, 78, 79, 80, 81, 82, 83, 84, 85, 86, 87, 88, 89, 90, 91, 92, 93, 94, 95, 96, 97, 98], \"k\": [2, 100, 4, 101, 6, 102, 8, 103, 10, 104, 12, 105, 14, 106, 16, 107, 18, 108, 20, 109, 22, 110, 24, 111, 26, 112, 28, 113, 30, 114, 32, 115, 34, 116, 36, 117, 38, 118, 40, 119, 42, 120, 44, 121, 46, 122, 48, 123, 50, 124, 52, 125, 54, 126, 56, 127, 58, 128, 60, 129, 62, 130, 64, 131, 66, 132, 68, 133, 70, 134, 72, 135, 74, 136, 76, 137, 78, 138, 80, 139, 82, 140, 84, 141, 86, 142, 88, 143, 90, 144, 92, 145, 94, 146, 96, 147, 98, 99], \"opacity\": 0.7, \"scene\": \"scene\", \"type\": \"mesh3d\", \"x\": [0.007539870156857132, 0.007539870156857132, 0.007539870156857132, 0.007539870156857132, 0.007539870156857132, 0.007539870156857132, 0.007539870156857132, 0.007539870156857132, 0.007539870156857132, 0.007539870156857132, 0.007539870156857132, 0.007539870156857132, 0.007539870156857132, 0.007539870156857132, 0.007539870156857132, 0.007539870156857132, 0.007539870156857132, 0.007539870156857132, 0.007539870156857132, 0.007539870156857132, 0.007539870156857132, 0.007539870156857132, 0.007539870156857132, 0.007539870156857132, 0.007539870156857132, 0.007539870156857132, 0.007539870156857132, 0.007539870156857132, 0.007539870156857132, 0.007539870156857132, 0.007539870156857132, 0.007539870156857132, 0.007539870156857132, 0.007539870156857132, 0.007539870156857132, 0.007539870156857132, 0.007539870156857132, 0.007539870156857132, 0.007539870156857132, 0.007539870156857132, 0.007539870156857132, 0.007539870156857132, 0.007539870156857132, 0.007539870156857132, 0.007539870156857132, 0.007539870156857132, 0.007539870156857132, 0.007539870156857132, 0.007539870156857132, 0.007539870156857132, 0.007539870156857132, 0.007539870156857132, 0.007539870156857132, 0.007539870156857132, 0.007539870156857132, 0.007539870156857132, 0.007539870156857132, 0.007539870156857132, 0.007539870156857132, 0.007539870156857132, 0.007539870156857132, 0.007539870156857132, 0.007539870156857132, 0.007539870156857132, 0.007539870156857132, 0.007539870156857132, 0.007539870156857132, 0.007539870156857132, 0.007539870156857132, 0.007539870156857132, 0.007539870156857132, 0.007539870156857132, 0.007539870156857132, 0.007539870156857132, 0.007539870156857132, 0.007539870156857132, 0.007539870156857132, 0.007539870156857132, 0.007539870156857132, 0.007539870156857132, 0.007539870156857132, 0.007539870156857132, 0.007539870156857132, 0.007539870156857132, 0.007539870156857132, 0.007539870156857132, 0.007539870156857132, 0.007539870156857132, 0.007539870156857132, 0.007539870156857132, 0.007539870156857132, 0.007539870156857132, 0.007539870156857132, 0.007539870156857132, 0.007539870156857132, 0.007539870156857132, 0.007539870156857132, 0.007539870156857132, 0.007539870156857132, 0.007539870156857132, 0.007539870156857132, 0.007539870156857132, 0.007539870156857132, 0.007539870156857132, 0.007539870156857132, 0.007539870156857132, 0.007539870156857132, 0.007539870156857132, 0.007539870156857132, 0.007539870156857132, 0.007539870156857132, 0.007539870156857132, 0.007539870156857132, 0.007539870156857132, 0.007539870156857132, 0.007539870156857132, 0.007539870156857132, 0.007539870156857132, 0.007539870156857132, 0.007539870156857132, 0.007539870156857132, 0.007539870156857132, 0.007539870156857132, 0.007539870156857132, 0.007539870156857132, 0.007539870156857132, 0.007539870156857132, 0.007539870156857132, 0.007539870156857132, 0.007539870156857132, 0.007539870156857132, 0.007539870156857132, 0.007539870156857132, 0.007539870156857132, 0.007539870156857132, 0.007539870156857132, 0.007539870156857132, 0.007539870156857132, 0.007539870156857132, 0.007539870156857132, 0.007539870156857132, 0.007539870156857132, 0.007539870156857132, 0.007539870156857132, 0.007539870156857132, 0.007539870156857132, 0.007539870156857132, 0.007539870156857132], \"y\": [0.03460306564877418, 0.03460306564877418, 0.03483216741502575, 0.03483216741502575, 0.03506126918127732, 0.03506126918127732, 0.03529037094752888, 0.03529037094752888, 0.035519472713780455, 0.035519472713780455, 0.03574857448003202, 0.03574857448003202, 0.03597767624628359, 0.03597767624628359, 0.036206778012535155, 0.036206778012535155, 0.03643587977878673, 0.03643587977878673, 0.03666498154503829, 0.03666498154503829, 0.03689408331128986, 0.03689408331128986, 0.03712318507754143, 0.03712318507754143, 0.037352286843793, 0.037352286843793, 0.037581388610044564, 0.037581388610044564, 0.037810490376296135, 0.037810490376296135, 0.0380395921425477, 0.0380395921425477, 0.03826869390879927, 0.03826869390879927, 0.038497795675050836, 0.038497795675050836, 0.03872689744130241, 0.03872689744130241, 0.03895599920755397, 0.03895599920755397, 0.039185100973805544, 0.039185100973805544, 0.03941420274005711, 0.03941420274005711, 0.03964330450630868, 0.03964330450630868, 0.039872406272560244, 0.039872406272560244, 0.040101508038811816, 0.040101508038811816, 0.04033060980506338, 0.04033060980506338, 0.04055971157131495, 0.04055971157131495, 0.04078881333756652, 0.04078881333756652, 0.04101791510381809, 0.04101791510381809, 0.04124701687006965, 0.04124701687006965, 0.041476118636321224, 0.041476118636321224, 0.04170522040257279, 0.04170522040257279, 0.04193432216882436, 0.04193432216882436, 0.042163423935075925, 0.042163423935075925, 0.042392525701327496, 0.042392525701327496, 0.04262162746757906, 0.04262162746757906, 0.042850729233830626, 0.042850729233830626, 0.0430798310000822, 0.0430798310000822, 0.04330893276633377, 0.04330893276633377, 0.04353803453258533, 0.04353803453258533, 0.0437671362988369, 0.0437671362988369, 0.04399623806508847, 0.04399623806508847, 0.04422533983134004, 0.04422533983134004, 0.044454441597591605, 0.044454441597591605, 0.04468354336384317, 0.04468354336384317, 0.04491264513009474, 0.04491264513009474, 0.04514174689634631, 0.04514174689634631, 0.04537084866259788, 0.04537084866259788, 0.04559995042884944, 0.04559995042884944, 0.045829052195101014, 0.045829052195101014, 0.03483216741502575, 0.03506126918127732, 0.03529037094752888, 0.035519472713780455, 0.03574857448003202, 0.03597767624628359, 0.036206778012535155, 0.03643587977878673, 0.03666498154503829, 0.03689408331128986, 0.03712318507754143, 0.037352286843793, 0.037581388610044564, 0.037810490376296135, 0.0380395921425477, 0.03826869390879927, 0.038497795675050836, 0.03872689744130241, 0.03895599920755397, 0.039185100973805544, 0.03941420274005711, 0.03964330450630868, 0.039872406272560244, 0.040101508038811816, 0.04033060980506338, 0.04055971157131495, 0.04078881333756652, 0.04101791510381809, 0.04124701687006965, 0.041476118636321224, 0.04170522040257279, 0.04193432216882436, 0.042163423935075925, 0.042392525701327496, 0.04262162746757906, 0.042850729233830626, 0.0430798310000822, 0.04330893276633377, 0.04353803453258533, 0.0437671362988369, 0.04399623806508847, 0.04422533983134004, 0.044454441597591605, 0.04468354336384317, 0.04491264513009474, 0.04514174689634631, 0.04537084866259788, 0.04559995042884944], \"z\": [-1.242047943593212, -0.6481683845140701, -0.6481683845140701, -1.242047943593212, -1.242047943593212, -1.242047943593212, -1.242047943593212, -1.242047943593212, -1.242047943593212, -0.6481683845140701, -0.6481683845140701, -1.242047943593212, -1.242047943593212, -1.242047943593212, -1.242047943593212, -1.242047943593212, -1.242047943593212, -1.242047943593212, -1.242047943593212, -1.242047943593212, -1.242047943593212, -1.242047943593212, -1.242047943593212, -0.6481683845140701, -0.6481683845140701, -1.242047943593212, -1.242047943593212, -1.242047943593212, -1.242047943593212, -0.6481683845140701, -0.6481683845140701, -0.6481683845140701, -0.6481683845140701, -1.242047943593212, -1.242047943593212, -0.6481683845140701, -0.6481683845140701, -0.6481683845140701, -0.6481683845140701, -1.242047943593212, -1.242047943593212, -0.6481683845140701, -0.6481683845140701, -1.242047943593212, -1.242047943593212, -0.6481683845140701, -0.6481683845140701, -0.6481683845140701, -0.6481683845140701, -1.242047943593212, -1.242047943593212, -1.242047943593212, -1.242047943593212, -1.242047943593212, -1.242047943593212, -1.242047943593212, -1.242047943593212, -1.242047943593212, -1.242047943593212, -0.6481683845140701, -0.6481683845140701, -1.242047943593212, -1.242047943593212, -1.242047943593212, -1.242047943593212, -1.242047943593212, -1.242047943593212, -1.242047943593212, -1.242047943593212, -1.242047943593212, -1.242047943593212, -1.242047943593212, -1.242047943593212, -1.242047943593212, -1.242047943593212, -1.242047943593212, -1.242047943593212, -1.242047943593212, -1.242047943593212, -0.0542888254349283, -0.0542888254349283, -1.242047943593212, -1.242047943593212, -1.242047943593212, -1.242047943593212, -1.242047943593212, -1.242047943593212, -1.242047943593212, -1.242047943593212, -1.242047943593212, -1.242047943593212, -1.242047943593212, -1.242047943593212, -1.242047943593212, -1.242047943593212, -1.242047943593212, -1.242047943593212, -1.242047943593212, -1.242047943593212, -1.242047943593212, -1.242047943593212, -1.242047943593212, -1.242047943593212, -1.242047943593212, -1.242047943593212, -1.242047943593212, -1.242047943593212, -1.242047943593212, -1.242047943593212, -1.242047943593212, -1.242047943593212, -1.242047943593212, -1.242047943593212, -1.242047943593212, -1.242047943593212, -1.242047943593212, -1.242047943593212, -1.242047943593212, -1.242047943593212, -1.242047943593212, -1.242047943593212, -1.242047943593212, -1.242047943593212, -1.242047943593212, -1.242047943593212, -1.242047943593212, -1.242047943593212, -1.242047943593212, -1.242047943593212, -1.242047943593212, -1.242047943593212, -1.242047943593212, -1.242047943593212, -1.242047943593212, -1.242047943593212, -1.242047943593212, -1.242047943593212, -1.242047943593212, -1.242047943593212, -1.242047943593212, -1.242047943593212, -1.242047943593212, -1.242047943593212, -1.242047943593212, -1.242047943593212, -1.242047943593212, -1.242047943593212, -1.242047943593212]}, {\"color\": \"#9ab25a\", \"i\": [0, 0, 100, 100, 101, 101, 102, 102, 103, 103, 104, 104, 105, 105, 106, 106, 107, 107, 108, 108, 109, 109, 110, 110, 111, 111, 112, 112, 113, 113, 114, 114, 115, 115, 116, 116, 117, 117, 118, 118, 119, 119, 120, 120, 121, 121, 122, 122, 123, 123, 124, 124, 125, 125, 126, 126, 127, 127, 128, 128, 129, 129, 130, 130, 131, 131, 132, 132, 133, 133, 134, 134, 135, 135, 136, 136, 137, 137, 138, 138, 139, 139, 140, 140, 141, 141, 142, 142, 143, 143, 144, 144, 145, 145, 146, 146, 147, 147], \"j\": [1, 2, 3, 4, 5, 6, 7, 8, 9, 10, 11, 12, 13, 14, 15, 16, 17, 18, 19, 20, 21, 22, 23, 24, 25, 26, 27, 28, 29, 30, 31, 32, 33, 34, 35, 36, 37, 38, 39, 40, 41, 42, 43, 44, 45, 46, 47, 48, 49, 50, 51, 52, 53, 54, 55, 56, 57, 58, 59, 60, 61, 62, 63, 64, 65, 66, 67, 68, 69, 70, 71, 72, 73, 74, 75, 76, 77, 78, 79, 80, 81, 82, 83, 84, 85, 86, 87, 88, 89, 90, 91, 92, 93, 94, 95, 96, 97, 98], \"k\": [2, 100, 4, 101, 6, 102, 8, 103, 10, 104, 12, 105, 14, 106, 16, 107, 18, 108, 20, 109, 22, 110, 24, 111, 26, 112, 28, 113, 30, 114, 32, 115, 34, 116, 36, 117, 38, 118, 40, 119, 42, 120, 44, 121, 46, 122, 48, 123, 50, 124, 52, 125, 54, 126, 56, 127, 58, 128, 60, 129, 62, 130, 64, 131, 66, 132, 68, 133, 70, 134, 72, 135, 74, 136, 76, 137, 78, 138, 80, 139, 82, 140, 84, 141, 86, 142, 88, 143, 90, 144, 92, 145, 94, 146, 96, 147, 98, 99], \"opacity\": 0.7, \"scene\": \"scene\", \"type\": \"mesh3d\", \"x\": [0.007539870156857132, 0.07117760311432053, 0.07117760311432053, 0.007539870156857132, 0.007539870156857132, 0.007539870156857132, 0.007539870156857132, 0.13481533607178395, 0.13481533607178395, 0.007539870156857132, 0.007539870156857132, 0.007539870156857132, 0.007539870156857132, 0.007539870156857132, 0.007539870156857132, 0.007539870156857132, 0.007539870156857132, 0.07117760311432053, 0.07117760311432053, 0.007539870156857132, 0.007539870156857132, 0.007539870156857132, 0.007539870156857132, 0.007539870156857132, 0.007539870156857132, 0.007539870156857132, 0.007539870156857132, 0.007539870156857132, 0.007539870156857132, 0.007539870156857132, 0.007539870156857132, 0.007539870156857132, 0.007539870156857132, 0.007539870156857132, 0.007539870156857132, 0.007539870156857132, 0.007539870156857132, 0.007539870156857132, 0.007539870156857132, 0.007539870156857132, 0.007539870156857132, 0.007539870156857132, 0.007539870156857132, 0.007539870156857132, 0.007539870156857132, 0.19845306902924736, 0.19845306902924736, 0.13481533607178395, 0.13481533607178395, 0.007539870156857132, 0.007539870156857132, 0.007539870156857132, 0.007539870156857132, 0.007539870156857132, 0.007539870156857132, 0.007539870156857132, 0.007539870156857132, 0.007539870156857132, 0.007539870156857132, 0.007539870156857132, 0.007539870156857132, 0.007539870156857132, 0.007539870156857132, 0.007539870156857132, 0.007539870156857132, 0.007539870156857132, 0.007539870156857132, 0.07117760311432053, 0.07117760311432053, 0.007539870156857132, 0.007539870156857132, 0.007539870156857132, 0.007539870156857132, 0.07117760311432053, 0.07117760311432053, 0.007539870156857132, 0.007539870156857132, 0.007539870156857132, 0.007539870156857132, 0.007539870156857132, 0.007539870156857132, 0.007539870156857132, 0.007539870156857132, 0.007539870156857132, 0.007539870156857132, 0.007539870156857132, 0.007539870156857132, 0.007539870156857132, 0.007539870156857132, 0.007539870156857132, 0.007539870156857132, 0.07117760311432053, 0.07117760311432053, 0.007539870156857132, 0.007539870156857132, 0.007539870156857132, 0.007539870156857132, 0.07117760311432053, 0.07117760311432053, 0.007539870156857132, 0.007539870156857132, 0.007539870156857132, 0.007539870156857132, 0.007539870156857132, 0.007539870156857132, 0.007539870156857132, 0.007539870156857132, 0.007539870156857132, 0.007539870156857132, 0.007539870156857132, 0.007539870156857132, 0.007539870156857132, 0.007539870156857132, 0.007539870156857132, 0.007539870156857132, 0.007539870156857132, 0.007539870156857132, 0.007539870156857132, 0.007539870156857132, 0.007539870156857132, 0.007539870156857132, 0.007539870156857132, 0.007539870156857132, 0.007539870156857132, 0.007539870156857132, 0.007539870156857132, 0.007539870156857132, 0.007539870156857132, 0.007539870156857132, 0.007539870156857132, 0.007539870156857132, 0.007539870156857132, 0.007539870156857132, 0.007539870156857132, 0.007539870156857132, 0.007539870156857132, 0.007539870156857132, 0.007539870156857132, 0.007539870156857132, 0.007539870156857132, 0.007539870156857132, 0.007539870156857132, 0.007539870156857132, 0.007539870156857132, 0.007539870156857132, 0.007539870156857132, 0.007539870156857132, 0.007539870156857132], \"y\": [0.027941978003324642, 0.027941978003324642, 0.027941978003324642, 0.027941978003324642, 0.027941978003324642, 0.027941978003324642, 0.027941978003324642, 0.027941978003324642, 0.027941978003324642, 0.027941978003324642, 0.027941978003324642, 0.027941978003324642, 0.027941978003324642, 0.027941978003324642, 0.027941978003324642, 0.027941978003324642, 0.027941978003324642, 0.027941978003324642, 0.027941978003324642, 0.027941978003324642, 0.027941978003324642, 0.027941978003324642, 0.027941978003324642, 0.027941978003324642, 0.027941978003324642, 0.027941978003324642, 0.027941978003324642, 0.027941978003324642, 0.027941978003324642, 0.027941978003324642, 0.027941978003324642, 0.027941978003324642, 0.027941978003324642, 0.027941978003324642, 0.027941978003324642, 0.027941978003324642, 0.027941978003324642, 0.027941978003324642, 0.027941978003324642, 0.027941978003324642, 0.027941978003324642, 0.027941978003324642, 0.027941978003324642, 0.027941978003324642, 0.027941978003324642, 0.027941978003324642, 0.027941978003324642, 0.027941978003324642, 0.027941978003324642, 0.027941978003324642, 0.027941978003324642, 0.027941978003324642, 0.027941978003324642, 0.027941978003324642, 0.027941978003324642, 0.027941978003324642, 0.027941978003324642, 0.027941978003324642, 0.027941978003324642, 0.027941978003324642, 0.027941978003324642, 0.027941978003324642, 0.027941978003324642, 0.027941978003324642, 0.027941978003324642, 0.027941978003324642, 0.027941978003324642, 0.027941978003324642, 0.027941978003324642, 0.027941978003324642, 0.027941978003324642, 0.027941978003324642, 0.027941978003324642, 0.027941978003324642, 0.027941978003324642, 0.027941978003324642, 0.027941978003324642, 0.027941978003324642, 0.027941978003324642, 0.027941978003324642, 0.027941978003324642, 0.027941978003324642, 0.027941978003324642, 0.027941978003324642, 0.027941978003324642, 0.027941978003324642, 0.027941978003324642, 0.027941978003324642, 0.027941978003324642, 0.027941978003324642, 0.027941978003324642, 0.027941978003324642, 0.027941978003324642, 0.027941978003324642, 0.027941978003324642, 0.027941978003324642, 0.027941978003324642, 0.027941978003324642, 0.027941978003324642, 0.027941978003324642, 0.027941978003324642, 0.027941978003324642, 0.027941978003324642, 0.027941978003324642, 0.027941978003324642, 0.027941978003324642, 0.027941978003324642, 0.027941978003324642, 0.027941978003324642, 0.027941978003324642, 0.027941978003324642, 0.027941978003324642, 0.027941978003324642, 0.027941978003324642, 0.027941978003324642, 0.027941978003324642, 0.027941978003324642, 0.027941978003324642, 0.027941978003324642, 0.027941978003324642, 0.027941978003324642, 0.027941978003324642, 0.027941978003324642, 0.027941978003324642, 0.027941978003324642, 0.027941978003324642, 0.027941978003324642, 0.027941978003324642, 0.027941978003324642, 0.027941978003324642, 0.027941978003324642, 0.027941978003324642, 0.027941978003324642, 0.027941978003324642, 0.027941978003324642, 0.027941978003324642, 0.027941978003324642, 0.027941978003324642, 0.027941978003324642, 0.027941978003324642, 0.027941978003324642, 0.027941978003324642, 0.027941978003324642, 0.027941978003324642, 0.027941978003324642, 0.027941978003324642, 0.027941978003324642, 0.027941978003324642], \"z\": [-0.3938250918236297, -0.3938250918236297, -0.3823137708823276, -0.3823137708823276, -0.3708024499410255, -0.3708024499410255, -0.3592911289997234, -0.3592911289997234, -0.3477798080584213, -0.3477798080584213, -0.3362684871171192, -0.3362684871171192, -0.3247571661758171, -0.3247571661758171, -0.31324584523451504, -0.31324584523451504, -0.3017345242932129, -0.3017345242932129, -0.2902232033519108, -0.2902232033519108, -0.27871188241060874, -0.27871188241060874, -0.26720056146930665, -0.26720056146930665, -0.25568924052800457, -0.25568924052800457, -0.24417791958670246, -0.24417791958670246, -0.23266659864540037, -0.23266659864540037, -0.22115527770409826, -0.22115527770409826, -0.20964395676279618, -0.20964395676279618, -0.1981326358214941, -0.1981326358214941, -0.18662131488019199, -0.18662131488019199, -0.1751099939388899, -0.1751099939388899, -0.1635986729975878, -0.1635986729975878, -0.1520873520562857, -0.1520873520562857, -0.14057603111498362, -0.14057603111498362, -0.12906471017368154, -0.12906471017368154, -0.11755338923237946, -0.11755338923237946, -0.10604206829107732, -0.10604206829107732, -0.09453074734977523, -0.09453074734977523, -0.0830194264084731, -0.0830194264084731, -0.07150810546717107, -0.07150810546717107, -0.059996784525868985, -0.059996784525868985, -0.048485463584566846, -0.048485463584566846, -0.03697414264326476, -0.03697414264326476, -0.02546282170196268, -0.02546282170196268, -0.013951500760660596, -0.013951500760660596, -0.0024401798193585122, -0.0024401798193585122, 0.009071141121943627, 0.009071141121943627, 0.02058246206324571, 0.02058246206324571, 0.03209378300454779, 0.03209378300454779, 0.04360510394584988, 0.04360510394584988, 0.05511642488715196, 0.05511642488715196, 0.0666277458284541, 0.0666277458284541, 0.07813906676975618, 0.07813906676975618, 0.08965038771105827, 0.08965038771105827, 0.10116170865236035, 0.10116170865236035, 0.11267302959366243, 0.11267302959366243, 0.12418435053496457, 0.12418435053496457, 0.1356956714762666, 0.1356956714762666, 0.14720699241756874, 0.14720699241756874, 0.15871831335887077, 0.15871831335887077, 0.1702296343001729, 0.1702296343001729, -0.3823137708823276, -0.3708024499410255, -0.3592911289997234, -0.3477798080584213, -0.3362684871171192, -0.3247571661758171, -0.31324584523451504, -0.3017345242932129, -0.2902232033519108, -0.27871188241060874, -0.26720056146930665, -0.25568924052800457, -0.24417791958670246, -0.23266659864540037, -0.22115527770409826, -0.20964395676279618, -0.1981326358214941, -0.18662131488019199, -0.1751099939388899, -0.1635986729975878, -0.1520873520562857, -0.14057603111498362, -0.12906471017368154, -0.11755338923237946, -0.10604206829107732, -0.09453074734977523, -0.0830194264084731, -0.07150810546717107, -0.059996784525868985, -0.048485463584566846, -0.03697414264326476, -0.02546282170196268, -0.013951500760660596, -0.0024401798193585122, 0.009071141121943627, 0.02058246206324571, 0.03209378300454779, 0.04360510394584988, 0.05511642488715196, 0.0666277458284541, 0.07813906676975618, 0.08965038771105827, 0.10116170865236035, 0.11267302959366243, 0.12418435053496457, 0.1356956714762666, 0.14720699241756874, 0.15871831335887077]}, {\"line\": {\"color\": [[0.0, 0.0, 0.0, 1.0]], \"width\": 4}, \"mode\": \"lines\", \"name\": \"O:1\", \"scene\": \"scene\", \"showlegend\": false, \"type\": \"scatter3d\", \"x\": [0.2715996501182316], \"y\": [0.045829052195101014], \"z\": [-0.13963727927784184]}, {\"marker\": {\"color\": [0.0, 0.0, 0.0, 1.0], \"size\": 3}, \"name\": \"Start O:1\", \"opacity\": 0.7, \"scene\": \"scene\", \"showlegend\": false, \"type\": \"scatter3d\", \"x\": [0.2715996501182316], \"y\": [0.045829052195101014], \"z\": [-0.13963727927784184]}, {\"marker\": {\"color\": [0.0, 0.0, 0.0, 1.0], \"size\": 3}, \"name\": \"End O:1\", \"opacity\": 0.7, \"scene\": \"scene\", \"showlegend\": false, \"type\": \"scatter3d\", \"x\": [0.2715996501182316], \"y\": [0.045829052195101014], \"z\": [-0.13963727927784184]}, {\"line\": {\"color\": [[0.0, 0.0, 0.0, 1.0], [0.5, 0.18333333333333335, 0.5833333333333334, 1.0], [0.9, 0.5833333333333334, 0.03333333333333333, 1.0]], \"width\": 4}, \"mode\": \"lines\", \"name\": \"O:2\", \"scene\": \"scene\", \"showlegend\": false, \"type\": \"scatter3d\", \"x\": [0.09287515114772646, 0.0583227587527637, 0.060141963247945344], \"y\": [0.037765260037078696, 0.037287541260057934, 0.035514430526239336], \"z\": [-0.35465863513434936, -0.35922949002697235, -0.2930502061050577]}, {\"marker\": {\"color\": [0.0, 0.0, 0.0, 1.0], \"size\": 3}, \"name\": \"Start O:2\", \"opacity\": 0.7, \"scene\": \"scene\", \"showlegend\": false, \"type\": \"scatter3d\", \"x\": [0.09287515114772646], \"y\": [0.037765260037078696], \"z\": [-0.35465863513434936]}, {\"marker\": {\"color\": [0.9, 0.5833333333333334, 0.03333333333333333, 1.0], \"size\": 3}, \"name\": \"End O:2\", \"opacity\": 0.7, \"scene\": \"scene\", \"showlegend\": false, \"type\": \"scatter3d\", \"x\": [0.060141963247945344], \"y\": [0.035514430526239336], \"z\": [-0.2930502061050577]}, {\"line\": {\"color\": [[0.0, 0.0, 0.0, 1.0]], \"width\": 4}, \"mode\": \"lines\", \"name\": \"O:3\", \"scene\": \"scene\", \"showlegend\": false, \"type\": \"scatter3d\", \"x\": [0.06532612226163786], \"y\": [0.03460306564877418], \"z\": [-0.3938250918236297]}, {\"marker\": {\"color\": [0.0, 0.0, 0.0, 1.0], \"size\": 3}, \"name\": \"Start O:3\", \"opacity\": 0.7, \"scene\": \"scene\", \"showlegend\": false, \"type\": \"scatter3d\", \"x\": [0.06532612226163786], \"y\": [0.03460306564877418], \"z\": [-0.3938250918236297]}, {\"marker\": {\"color\": [0.0, 0.0, 0.0, 1.0], \"size\": 3}, \"name\": \"End O:3\", \"opacity\": 0.7, \"scene\": \"scene\", \"showlegend\": false, \"type\": \"scatter3d\", \"x\": [0.06532612226163786], \"y\": [0.03460306564877418], \"z\": [-0.3938250918236297]}, {\"line\": {\"color\": [[0.0, 0.0, 0.0, 1.0], [0.5, 0.18333333333333335, 0.5833333333333334, 1.0], [0.9, 0.5833333333333334, 0.03333333333333333, 1.0]], \"width\": 4}, \"mode\": \"lines\", \"name\": \"O:4\", \"scene\": \"scene\", \"showlegend\": false, \"type\": \"scatter3d\", \"x\": [0.02239647191445357, 0.023335751382753168, 0.055518250986920245], \"y\": [0.03985800842785346, 0.03969088141352066, 0.03923113903133026], \"z\": [-0.1286364281562316, -0.141216172532007, -0.1347803398023403]}, {\"marker\": {\"color\": [0.0, 0.0, 0.0, 1.0], \"size\": 3}, \"name\": \"Start O:4\", \"opacity\": 0.7, \"scene\": \"scene\", \"showlegend\": false, \"type\": \"scatter3d\", \"x\": [0.02239647191445357], \"y\": [0.03985800842785346], \"z\": [-0.1286364281562316]}, {\"marker\": {\"color\": [0.9, 0.5833333333333334, 0.03333333333333333, 1.0], \"size\": 3}, \"name\": \"End O:4\", \"opacity\": 0.7, \"scene\": \"scene\", \"showlegend\": false, \"type\": \"scatter3d\", \"x\": [0.055518250986920245], \"y\": [0.03923113903133026], \"z\": [-0.1347803398023403]}, {\"line\": {\"color\": [[0.0, 0.0, 0.0, 1.0], [0.5, 0.18333333333333335, 0.5833333333333334, 1.0], [0.9, 0.5833333333333334, 0.03333333333333333, 1.0]], \"width\": 4}, \"mode\": \"lines\", \"name\": \"O:5\", \"scene\": \"scene\", \"showlegend\": false, \"type\": \"scatter3d\", \"x\": [0.09308826449933766, 0.05188504835900448, 0.010083809923455343], \"y\": [0.03881317581788537, 0.03846142462928953, 0.03803547760334979], \"z\": [0.1702296343001729, 0.15442414447583686, 0.12316961372972357]}, {\"marker\": {\"color\": [0.0, 0.0, 0.0, 1.0], \"size\": 3}, \"name\": \"Start O:5\", \"opacity\": 0.7, \"scene\": \"scene\", \"showlegend\": false, \"type\": \"scatter3d\", \"x\": [0.09308826449933766], \"y\": [0.03881317581788537], \"z\": [0.1702296343001729]}, {\"marker\": {\"color\": [0.9, 0.5833333333333334, 0.03333333333333333, 1.0], \"size\": 3}, \"name\": \"End O:5\", \"opacity\": 0.7, \"scene\": \"scene\", \"showlegend\": false, \"type\": \"scatter3d\", \"x\": [0.010083809923455343], \"y\": [0.03803547760334979], \"z\": [0.12316961372972357]}, {\"line\": {\"color\": [[0.0, 0.0, 0.0, 1.0], [0.9984313725490196, 0.25392156862745097, 0.1476470588235294, 1.0]], \"width\": 4}, \"mode\": \"lines\", \"name\": \"O:6\", \"scene\": \"scene\", \"showlegend\": false, \"type\": \"scatter3d\", \"x\": [0.08091611184531691, 0.06910893228231779], \"y\": [0.04340213150111064, 0.043533973352359104], \"z\": [-0.015347347324869445, 0.014569309639924461]}, {\"marker\": {\"color\": [0.0, 0.0, 0.0, 1.0], \"size\": 3}, \"name\": \"Start O:6\", \"opacity\": 0.7, \"scene\": \"scene\", \"showlegend\": false, \"type\": \"scatter3d\", \"x\": [0.08091611184531691], \"y\": [0.04340213150111064], \"z\": [-0.015347347324869445]}, {\"marker\": {\"color\": [0.9984313725490196, 0.25392156862745097, 0.1476470588235294, 1.0], \"size\": 3}, \"name\": \"End O:6\", \"opacity\": 0.7, \"scene\": \"scene\", \"showlegend\": false, \"type\": \"scatter3d\", \"x\": [0.06910893228231779], \"y\": [0.043533973352359104], \"z\": [0.014569309639924461]}, {\"line\": {\"color\": [[0.0, 0.0, 0.0, 1.0]], \"width\": 4}, \"mode\": \"lines\", \"name\": \"O:7\", \"scene\": \"scene\", \"showlegend\": false, \"type\": \"scatter3d\", \"x\": [0.045703474079982744], \"y\": [0.04120668668096845], \"z\": [-0.12867052162759793]}, {\"marker\": {\"color\": [0.0, 0.0, 0.0, 1.0], \"size\": 3}, \"name\": \"Start O:7\", \"opacity\": 0.7, \"scene\": \"scene\", \"showlegend\": false, \"type\": \"scatter3d\", \"x\": [0.045703474079982744], \"y\": [0.04120668668096845], \"z\": [-0.12867052162759793]}, {\"marker\": {\"color\": [0.0, 0.0, 0.0, 1.0], \"size\": 3}, \"name\": \"End O:7\", \"opacity\": 0.7, \"scene\": \"scene\", \"showlegend\": false, \"type\": \"scatter3d\", \"x\": [0.045703474079982744], \"y\": [0.04120668668096845], \"z\": [-0.12867052162759793]}],                        {\"annotations\": [{\"font\": {\"size\": 16}, \"showarrow\": false, \"text\": \"State 3 , 7 trajectories\", \"x\": 0.5, \"xanchor\": \"center\", \"xref\": \"paper\", \"y\": 1.0, \"yanchor\": \"bottom\", \"yref\": \"paper\"}], \"scene\": {\"camera\": {\"eye\": {\"x\": 0.9, \"y\": 0.9, \"z\": 0.9}}, \"domain\": {\"x\": [0.0, 1.0], \"y\": [0.0, 1.0]}, \"xaxis\": {\"backgroundcolor\": \"rgb(200,200,230)\", \"nticks\": 8, \"range\": [0.007539870156857132, 0.3893662679016376], \"title\": {\"text\": \"Speed (m/sec)\"}}, \"yaxis\": {\"backgroundcolor\": \"rgb(200,200,230)\", \"nticks\": 8, \"range\": [0.027941978003324642, 0.06973043430892341], \"title\": {\"text\": \"Body length (m)\"}}, \"zaxis\": {\"backgroundcolor\": \"rgb(200,200,230)\", \"nticks\": 8, \"range\": [-1.242047943593212, 1.1334702927233553], \"title\": {\"text\": \"Yaw (radians)\"}}}, \"template\": {\"data\": {\"bar\": [{\"error_x\": {\"color\": \"#2a3f5f\"}, \"error_y\": {\"color\": \"#2a3f5f\"}, \"marker\": {\"line\": {\"color\": \"#E5ECF6\", \"width\": 0.5}}, \"type\": \"bar\"}], \"barpolar\": [{\"marker\": {\"line\": {\"color\": \"#E5ECF6\", \"width\": 0.5}}, \"type\": \"barpolar\"}], \"carpet\": [{\"aaxis\": {\"endlinecolor\": \"#2a3f5f\", \"gridcolor\": \"white\", \"linecolor\": \"white\", \"minorgridcolor\": \"white\", \"startlinecolor\": \"#2a3f5f\"}, \"baxis\": {\"endlinecolor\": \"#2a3f5f\", \"gridcolor\": \"white\", \"linecolor\": \"white\", \"minorgridcolor\": \"white\", \"startlinecolor\": \"#2a3f5f\"}, \"type\": \"carpet\"}], \"choropleth\": [{\"colorbar\": {\"outlinewidth\": 0, \"ticks\": \"\"}, \"type\": \"choropleth\"}], \"contour\": [{\"colorbar\": {\"outlinewidth\": 0, \"ticks\": \"\"}, \"colorscale\": [[0.0, \"#0d0887\"], [0.1111111111111111, \"#46039f\"], [0.2222222222222222, \"#7201a8\"], [0.3333333333333333, \"#9c179e\"], [0.4444444444444444, \"#bd3786\"], [0.5555555555555556, \"#d8576b\"], [0.6666666666666666, \"#ed7953\"], [0.7777777777777778, \"#fb9f3a\"], [0.8888888888888888, \"#fdca26\"], [1.0, \"#f0f921\"]], \"type\": \"contour\"}], \"contourcarpet\": [{\"colorbar\": {\"outlinewidth\": 0, \"ticks\": \"\"}, \"type\": \"contourcarpet\"}], \"heatmap\": [{\"colorbar\": {\"outlinewidth\": 0, \"ticks\": \"\"}, \"colorscale\": [[0.0, \"#0d0887\"], [0.1111111111111111, \"#46039f\"], [0.2222222222222222, \"#7201a8\"], [0.3333333333333333, \"#9c179e\"], [0.4444444444444444, \"#bd3786\"], [0.5555555555555556, \"#d8576b\"], [0.6666666666666666, \"#ed7953\"], [0.7777777777777778, \"#fb9f3a\"], [0.8888888888888888, \"#fdca26\"], [1.0, \"#f0f921\"]], \"type\": \"heatmap\"}], \"heatmapgl\": [{\"colorbar\": {\"outlinewidth\": 0, \"ticks\": \"\"}, \"colorscale\": [[0.0, \"#0d0887\"], [0.1111111111111111, \"#46039f\"], [0.2222222222222222, \"#7201a8\"], [0.3333333333333333, \"#9c179e\"], [0.4444444444444444, \"#bd3786\"], [0.5555555555555556, \"#d8576b\"], [0.6666666666666666, \"#ed7953\"], [0.7777777777777778, \"#fb9f3a\"], [0.8888888888888888, \"#fdca26\"], [1.0, \"#f0f921\"]], \"type\": \"heatmapgl\"}], \"histogram\": [{\"marker\": {\"colorbar\": {\"outlinewidth\": 0, \"ticks\": \"\"}}, \"type\": \"histogram\"}], \"histogram2d\": [{\"colorbar\": {\"outlinewidth\": 0, \"ticks\": \"\"}, \"colorscale\": [[0.0, \"#0d0887\"], [0.1111111111111111, \"#46039f\"], [0.2222222222222222, \"#7201a8\"], [0.3333333333333333, \"#9c179e\"], [0.4444444444444444, \"#bd3786\"], [0.5555555555555556, \"#d8576b\"], [0.6666666666666666, \"#ed7953\"], [0.7777777777777778, \"#fb9f3a\"], [0.8888888888888888, \"#fdca26\"], [1.0, \"#f0f921\"]], \"type\": \"histogram2d\"}], \"histogram2dcontour\": [{\"colorbar\": {\"outlinewidth\": 0, \"ticks\": \"\"}, \"colorscale\": [[0.0, \"#0d0887\"], [0.1111111111111111, \"#46039f\"], [0.2222222222222222, \"#7201a8\"], [0.3333333333333333, \"#9c179e\"], [0.4444444444444444, \"#bd3786\"], [0.5555555555555556, \"#d8576b\"], [0.6666666666666666, \"#ed7953\"], [0.7777777777777778, \"#fb9f3a\"], [0.8888888888888888, \"#fdca26\"], [1.0, \"#f0f921\"]], \"type\": \"histogram2dcontour\"}], \"mesh3d\": [{\"colorbar\": {\"outlinewidth\": 0, \"ticks\": \"\"}, \"type\": \"mesh3d\"}], \"parcoords\": [{\"line\": {\"colorbar\": {\"outlinewidth\": 0, \"ticks\": \"\"}}, \"type\": \"parcoords\"}], \"pie\": [{\"automargin\": true, \"type\": \"pie\"}], \"scatter\": [{\"marker\": {\"colorbar\": {\"outlinewidth\": 0, \"ticks\": \"\"}}, \"type\": \"scatter\"}], \"scatter3d\": [{\"line\": {\"colorbar\": {\"outlinewidth\": 0, \"ticks\": \"\"}}, \"marker\": {\"colorbar\": {\"outlinewidth\": 0, \"ticks\": \"\"}}, \"type\": \"scatter3d\"}], \"scattercarpet\": [{\"marker\": {\"colorbar\": {\"outlinewidth\": 0, \"ticks\": \"\"}}, \"type\": \"scattercarpet\"}], \"scattergeo\": [{\"marker\": {\"colorbar\": {\"outlinewidth\": 0, \"ticks\": \"\"}}, \"type\": \"scattergeo\"}], \"scattergl\": [{\"marker\": {\"colorbar\": {\"outlinewidth\": 0, \"ticks\": \"\"}}, \"type\": \"scattergl\"}], \"scattermapbox\": [{\"marker\": {\"colorbar\": {\"outlinewidth\": 0, \"ticks\": \"\"}}, \"type\": \"scattermapbox\"}], \"scatterpolar\": [{\"marker\": {\"colorbar\": {\"outlinewidth\": 0, \"ticks\": \"\"}}, \"type\": \"scatterpolar\"}], \"scatterpolargl\": [{\"marker\": {\"colorbar\": {\"outlinewidth\": 0, \"ticks\": \"\"}}, \"type\": \"scatterpolargl\"}], \"scatterternary\": [{\"marker\": {\"colorbar\": {\"outlinewidth\": 0, \"ticks\": \"\"}}, \"type\": \"scatterternary\"}], \"surface\": [{\"colorbar\": {\"outlinewidth\": 0, \"ticks\": \"\"}, \"colorscale\": [[0.0, \"#0d0887\"], [0.1111111111111111, \"#46039f\"], [0.2222222222222222, \"#7201a8\"], [0.3333333333333333, \"#9c179e\"], [0.4444444444444444, \"#bd3786\"], [0.5555555555555556, \"#d8576b\"], [0.6666666666666666, \"#ed7953\"], [0.7777777777777778, \"#fb9f3a\"], [0.8888888888888888, \"#fdca26\"], [1.0, \"#f0f921\"]], \"type\": \"surface\"}], \"table\": [{\"cells\": {\"fill\": {\"color\": \"#EBF0F8\"}, \"line\": {\"color\": \"white\"}}, \"header\": {\"fill\": {\"color\": \"#C8D4E3\"}, \"line\": {\"color\": \"white\"}}, \"type\": \"table\"}]}, \"layout\": {\"annotationdefaults\": {\"arrowcolor\": \"#2a3f5f\", \"arrowhead\": 0, \"arrowwidth\": 1}, \"coloraxis\": {\"colorbar\": {\"outlinewidth\": 0, \"ticks\": \"\"}}, \"colorscale\": {\"diverging\": [[0, \"#8e0152\"], [0.1, \"#c51b7d\"], [0.2, \"#de77ae\"], [0.3, \"#f1b6da\"], [0.4, \"#fde0ef\"], [0.5, \"#f7f7f7\"], [0.6, \"#e6f5d0\"], [0.7, \"#b8e186\"], [0.8, \"#7fbc41\"], [0.9, \"#4d9221\"], [1, \"#276419\"]], \"sequential\": [[0.0, \"#0d0887\"], [0.1111111111111111, \"#46039f\"], [0.2222222222222222, \"#7201a8\"], [0.3333333333333333, \"#9c179e\"], [0.4444444444444444, \"#bd3786\"], [0.5555555555555556, \"#d8576b\"], [0.6666666666666666, \"#ed7953\"], [0.7777777777777778, \"#fb9f3a\"], [0.8888888888888888, \"#fdca26\"], [1.0, \"#f0f921\"]], \"sequentialminus\": [[0.0, \"#0d0887\"], [0.1111111111111111, \"#46039f\"], [0.2222222222222222, \"#7201a8\"], [0.3333333333333333, \"#9c179e\"], [0.4444444444444444, \"#bd3786\"], [0.5555555555555556, \"#d8576b\"], [0.6666666666666666, \"#ed7953\"], [0.7777777777777778, \"#fb9f3a\"], [0.8888888888888888, \"#fdca26\"], [1.0, \"#f0f921\"]]}, \"colorway\": [\"#636efa\", \"#EF553B\", \"#00cc96\", \"#ab63fa\", \"#FFA15A\", \"#19d3f3\", \"#FF6692\", \"#B6E880\", \"#FF97FF\", \"#FECB52\"], \"font\": {\"color\": \"#2a3f5f\"}, \"geo\": {\"bgcolor\": \"white\", \"lakecolor\": \"white\", \"landcolor\": \"#E5ECF6\", \"showlakes\": true, \"showland\": true, \"subunitcolor\": \"white\"}, \"hoverlabel\": {\"align\": \"left\"}, \"hovermode\": \"closest\", \"mapbox\": {\"style\": \"light\"}, \"paper_bgcolor\": \"white\", \"plot_bgcolor\": \"#E5ECF6\", \"polar\": {\"angularaxis\": {\"gridcolor\": \"white\", \"linecolor\": \"white\", \"ticks\": \"\"}, \"bgcolor\": \"#E5ECF6\", \"radialaxis\": {\"gridcolor\": \"white\", \"linecolor\": \"white\", \"ticks\": \"\"}}, \"scene\": {\"xaxis\": {\"backgroundcolor\": \"#E5ECF6\", \"gridcolor\": \"white\", \"gridwidth\": 2, \"linecolor\": \"white\", \"showbackground\": true, \"ticks\": \"\", \"zerolinecolor\": \"white\"}, \"yaxis\": {\"backgroundcolor\": \"#E5ECF6\", \"gridcolor\": \"white\", \"gridwidth\": 2, \"linecolor\": \"white\", \"showbackground\": true, \"ticks\": \"\", \"zerolinecolor\": \"white\"}, \"zaxis\": {\"backgroundcolor\": \"#E5ECF6\", \"gridcolor\": \"white\", \"gridwidth\": 2, \"linecolor\": \"white\", \"showbackground\": true, \"ticks\": \"\", \"zerolinecolor\": \"white\"}}, \"shapedefaults\": {\"line\": {\"color\": \"#2a3f5f\"}}, \"ternary\": {\"aaxis\": {\"gridcolor\": \"white\", \"linecolor\": \"white\", \"ticks\": \"\"}, \"baxis\": {\"gridcolor\": \"white\", \"linecolor\": \"white\", \"ticks\": \"\"}, \"bgcolor\": \"#E5ECF6\", \"caxis\": {\"gridcolor\": \"white\", \"linecolor\": \"white\", \"ticks\": \"\"}}, \"title\": {\"x\": 0.05}, \"xaxis\": {\"automargin\": true, \"gridcolor\": \"white\", \"linecolor\": \"white\", \"ticks\": \"\", \"title\": {\"standoff\": 15}, \"zerolinecolor\": \"white\", \"zerolinewidth\": 2}, \"yaxis\": {\"automargin\": true, \"gridcolor\": \"white\", \"linecolor\": \"white\", \"ticks\": \"\", \"title\": {\"standoff\": 15}, \"zerolinecolor\": \"white\", \"zerolinewidth\": 2}}}},                        {\"responsive\": true}                    ).then(function(){\n",
       "                            \n",
       "var gd = document.getElementById('70af0832-9f01-462a-800c-b6c82ffc73e3');\n",
       "var x = new MutationObserver(function (mutations, observer) {{\n",
       "        var display = window.getComputedStyle(gd).display;\n",
       "        if (!display || display === 'none') {{\n",
       "            console.log([gd, 'removed!']);\n",
       "            Plotly.purge(gd);\n",
       "            observer.disconnect();\n",
       "        }}\n",
       "}});\n",
       "\n",
       "// Listen for the removal of the full notebook cells\n",
       "var notebookContainer = gd.closest('#notebook-container');\n",
       "if (notebookContainer) {{\n",
       "    x.observe(notebookContainer, {childList: true});\n",
       "}}\n",
       "\n",
       "// Listen for the clearing of the current output cell\n",
       "var outputEl = gd.closest('.output');\n",
       "if (outputEl) {{\n",
       "    x.observe(outputEl, {childList: true});\n",
       "}}\n",
       "\n",
       "                        })                };                });            </script>        </div>"
      ]
     },
     "metadata": {},
     "output_type": "display_data"
    }
   ],
   "source": [
    "fig"
   ]
  },
  {
   "cell_type": "code",
   "execution_count": null,
   "metadata": {},
   "outputs": [],
   "source": []
  }
 ],
 "metadata": {
  "kernelspec": {
   "display_name": "Python [conda env:DLC-GPU] *",
   "language": "python",
   "name": "conda-env-DLC-GPU-py"
  },
  "language_info": {
   "codemirror_mode": {
    "name": "ipython",
    "version": 3
   },
   "file_extension": ".py",
   "mimetype": "text/x-python",
   "name": "python",
   "nbconvert_exporter": "python",
   "pygments_lexer": "ipython3",
   "version": "3.7.7"
  }
 },
 "nbformat": 4,
 "nbformat_minor": 4
}
