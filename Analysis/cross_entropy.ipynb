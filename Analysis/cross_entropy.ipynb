{
 "cells": [
  {
   "cell_type": "code",
   "execution_count": 2,
   "metadata": {},
   "outputs": [],
   "source": [
    "import numpy as np\n",
    "import seaborn as sns\n",
    "import matplotlib.pyplot as plt\n",
    "import pandas as pd\n",
    "import csv , os ,  tqdm , time , ssm , json\n",
    "import plotly.express as px\n",
    "from plotly.subplots import make_subplots\n",
    "import plotly.graph_objects as go\n",
    "from pathlib import Path\n",
    "from plotly import tools\n",
    "from matplotlib import cm\n",
    "from ARHMM_utils import *\n",
    "from DataSnipper import DataSnipper\n",
    "from sklearn.model_selection import train_test_split\n",
    "from ARHMM_wo_test import fit_ARHMM"
   ]
  },
  {
   "cell_type": "code",
   "execution_count": 161,
   "metadata": {},
   "outputs": [],
   "source": [
    "# Frans vid\n",
    "#data_csv = r'c:\\Users\\magnu\\OneDrive\\Dokument\\KI\\KI2020\\New_data_201120\\Mouse_frans\\20201120_behaviour2020_v_frans_1_pose_data.csv'\n",
    "#vid_name = r'c:\\Users\\magnu\\OneDrive\\Dokument\\KI\\KI2020\\New_data_201120\\Mouse_frans\\20201120_behaviour2020_v_frans_1_recordingDLC_resnet50_KI2020_TrainingSep19shuffle1_400000_labeled.mp4'\n",
    "#dlc_csv = r'c:\\Users\\magnu\\OneDrive\\Dokument\\KI\\KI2020\\New_data_201120\\Mouse_frans\\20201120_behaviour2020_v_frans_1_recordingDLC_resnet50_KI2020_TrainingSep19shuffle1_400000.csv'\n",
    "\n",
    "# 2050 vid\n",
    "data_csv = r'c:\\Users\\magnu\\OneDrive\\Dokument\\KI\\KI2020\\New_data_201120\\Mouse_2050\\20201120_behaviour2020_v_2050_for_frans_1_pose_data.csv'\n",
    "vid_name = r'c:\\Users\\magnu\\OneDrive\\Dokument\\KI\\KI2020\\New_data_201120\\Mouse_2050\\20201120_behaviour2020_v_2050_for_frans_1_recording.avi'\n",
    "dlc_csv = r'c:\\Users\\magnu\\OneDrive\\Dokument\\KI\\KI2020\\New_data_201120\\Mouse_2050\\20201120_behaviour2020_v_2050_for_frans_1_recordingDLC_resnet50_KI2020_TrainingSep19shuffle1_400000.csv'\n",
    "\n",
    "# 2053 vid\n",
    "#data_csv = r'c:\\Users\\magnu\\OneDrive\\Dokument\\KTH\\2020HT\\DD2430_-_Project_Course_in_Data_Science\\sharing\\New_data_201120\\Mouse_2053\\20201120_behaviour2020_v_2053_for_frans_1_pose_data.csv'\n",
    "#vid_name = r'c:\\Users\\magnu\\OneDrive\\Dokument\\KTH\\2020HT\\DD2430_-_Project_Course_in_Data_Science\\sharing\\New_data_201120\\Mouse_2053\\20201120_behaviour2020_v_2053_for_frans_1_recordingDLC_resnet50_KI2020_TrainingSep19shuffle1_400000_labeled.mp4'\n",
    "#dlc_csv = r'c:\\Users\\magnu\\OneDrive\\Dokument\\KTH\\2020HT\\DD2430_-_Project_Course_in_Data_Science\\sharing\\New_data_201120\\Mouse_2053\\20201120_behaviour2020_v_2053_for_frans_1_recordingDLC_resnet50_KI2020_TrainingSep19shuffle1_400000.csv'\n",
    "\n",
    "#interval_start = 233694 - 220000\n",
    "interval_start = 0\n",
    "interval_end = 220000\n",
    "div = 10\n",
    "\n",
    "ARHMM_kwargs={  'kappa':2500,\n",
    "                'use_best_K':True, \n",
    "                'K':11,\n",
    "                'epochs':50,\n",
    "                'start_K':1,\n",
    "                'end_K':30}\n",
    "threshold = 0.01\n",
    "\n",
    "make_vid = True\n",
    "smooth = True\n",
    "box_size = 0.6\n",
    "box_pixel = 400\n",
    "T = 2e-3\n",
    "d = 5\n",
    "seed = 1337\n",
    "early_stopping = True"
   ]
  },
  {
   "cell_type": "code",
   "execution_count": 162,
   "metadata": {},
   "outputs": [
    {
     "name": "stdout",
     "output_type": "stream",
     "text": [
      "Number of outliers removed: 38 (0.009295499021526418 %)\n"
     ]
    },
    {
     "name": "stderr",
     "output_type": "stream",
     "text": [
      "C:\\Users\\magnu\\OneDrive\\Dokument\\KI\\KI2020\\Analysis\\ARHMM_utils.py:94: SettingWithCopyWarning:\n",
      "\n",
      "\n",
      "A value is trying to be set on a copy of a slice from a DataFrame.\n",
      "Try using .loc[row_indexer,col_indexer] = value instead\n",
      "\n",
      "See the caveats in the documentation: https://pandas.pydata.org/pandas-docs/stable/user_guide/indexing.html#returning-a-view-versus-a-copy\n",
      "\n",
      "C:\\Users\\magnu\\OneDrive\\Dokument\\KI\\KI2020\\Analysis\\ARHMM_utils.py:95: SettingWithCopyWarning:\n",
      "\n",
      "\n",
      "A value is trying to be set on a copy of a slice from a DataFrame.\n",
      "Try using .loc[row_indexer,col_indexer] = value instead\n",
      "\n",
      "See the caveats in the documentation: https://pandas.pydata.org/pandas-docs/stable/user_guide/indexing.html#returning-a-view-versus-a-copy\n",
      "\n"
     ]
    }
   ],
   "source": [
    "\n",
    "timestr = time.strftime(\"%Y%m%d-%H%M%S\")\n",
    "p = os.path.normpath(data_csv)\n",
    "newpath = os.sep.join([os.sep.join(p.split(os.sep)[:-1]), 'results',timestr])\n",
    "\n",
    "Path(newpath).mkdir(parents=True, exist_ok=True)\n",
    "\n",
    "kappa = ARHMM_kwargs['kappa']\n",
    "\n",
    "\n",
    "data_frame2 = pd.read_csv(data_csv)\n",
    "\n",
    "if interval_end in ['end',-1]:\n",
    "    interval_end = len(data_frame2) - 1\n",
    "\n",
    "interval = range(interval_start,interval_end)\n",
    "\n",
    "# Preprocess data\n",
    "data_to_use , df , speed , head_body_angle , body_len , outliers = preprocess_data(data_frame2, interval, div, smooth, box_size, box_pixel, d, T)\n",
    "\n",
    "interval = np.linspace(interval_start + d,interval_end-len(outliers),len(speed))\n"
   ]
  },
  {
   "cell_type": "code",
   "execution_count": 163,
   "metadata": {},
   "outputs": [
    {
     "name": "stdout",
     "output_type": "stream",
     "text": [
      "Early stopped at epoch  11\n"
     ]
    }
   ],
   "source": [
    "\n",
    "\n",
    "#¤¤ Produce ARHMM data! ¤¤¤\n",
    "#best_hmm , best_train_lls , best_val_lls , best_K_AIC , best_K_ll , val_lls , train_lls , AIC\n",
    "hmm , best_train_lls , best_val_lls , best_K , best_K_ll , val_lls , train_lls , AIC = produce_ARHMM_data(data_to_use, ARHMM_kwargs, seed, early_stopping=early_stopping,threshold=threshold)\n",
    "\n",
    "hmm_z = hmm.most_likely_states(data_to_use,)\n"
   ]
  },
  {
   "cell_type": "code",
   "execution_count": 164,
   "metadata": {},
   "outputs": [
    {
     "data": {
      "text/plain": [
       "11"
      ]
     },
     "execution_count": 164,
     "metadata": {},
     "output_type": "execute_result"
    }
   ],
   "source": [
    "best_K"
   ]
  },
  {
   "cell_type": "code",
   "execution_count": 165,
   "metadata": {},
   "outputs": [],
   "source": [
    "df = pd.DataFrame(data_to_use,columns=['speed','yaw','bl'])"
   ]
  },
  {
   "cell_type": "code",
   "execution_count": 166,
   "metadata": {},
   "outputs": [],
   "source": [
    "df['states'] = hmm_z"
   ]
  },
  {
   "cell_type": "code",
   "execution_count": 167,
   "metadata": {},
   "outputs": [
    {
     "data": {
      "text/plain": [
       "<matplotlib.image.AxesImage at 0x2b16920fdc8>"
      ]
     },
     "execution_count": 167,
     "metadata": {},
     "output_type": "execute_result"
    },
    {
     "data": {
      "image/png": "[encoded data removed]",
      "text/plain": [
       "<Figure size 432x288 with 1 Axes>"
      ]
     },
     "metadata": {
      "needs_background": "light"
     },
     "output_type": "display_data"
    }
   ],
   "source": [
    "plt.imshow(hmm_z[None,],cmap='viridis',aspect='auto')"
   ]
  },
  {
   "cell_type": "code",
   "execution_count": 181,
   "metadata": {},
   "outputs": [
    {
     "ename": "AttributeError",
     "evalue": "'numpy.ndarray' object has no attribute 'unique'",
     "output_type": "error",
     "traceback": [
      "\u001b[1;31m---------------------------------------------------------------------------\u001b[0m",
      "\u001b[1;31mAttributeError\u001b[0m                            Traceback (most recent call last)",
      "\u001b[1;32m<ipython-input-181-eef7138b905c>\u001b[0m in \u001b[0;36m<module>\u001b[1;34m\u001b[0m\n\u001b[1;32m----> 1\u001b[1;33m \u001b[0mCL\u001b[0m\u001b[1;33m.\u001b[0m\u001b[0munique\u001b[0m\u001b[1;33m\u001b[0m\u001b[1;33m\u001b[0m\u001b[0m\n\u001b[0m",
      "\u001b[1;31mAttributeError\u001b[0m: 'numpy.ndarray' object has no attribute 'unique'"
     ]
    }
   ],
   "source": [
    "CL.unique"
   ]
  },
  {
   "cell_type": "code",
   "execution_count": 168,
   "metadata": {},
   "outputs": [],
   "source": [
    "from matplotlib.colors import Normalize\n",
    "\n",
    "df['state_consec'] = (df.states.diff(1) != 0).astype('int')\n",
    "\n",
    "df['state_appearence'] = df.groupby('states')['state_consec'].cumsum()\n",
    "\n",
    "CL = np.zeros((best_K,best_K))\n",
    "\n",
    "for k in range(best_K):\n",
    "    #print(k)\n",
    "    N_k = df.loc[df['states'] == k]['state_appearence'].max()\n",
    "    #print(N_k)\n",
    "    \n",
    "    if N_k is np.nan:\n",
    "        continue\n",
    "        \n",
    "    for i in range(1,N_k):\n",
    "        tmp_data = df.loc[(df['states'] == k) & (df['state_appearence'] == i)].values[:,:3]\n",
    "        # N_k x K\n",
    "        probs = hmm.filter(tmp_data)\n",
    "\n",
    "        # Product over time to get sequence prob (1 x K)\n",
    "        # Each col is p(data | theta_k) (i think)\n",
    "        res = probs.prod(axis=0) + sys.float_info.min\n",
    "\n",
    "        # This entry gives cross entropy between all states i=1,...,K and the true state k\n",
    "        logprobs = np.log(res/res[k])\n",
    "        CL[:,k] += logprobs / len(tmp_data)\n",
    "      "
   ]
  },
  {
   "cell_type": "code",
   "execution_count": 209,
   "metadata": {},
   "outputs": [
    {
     "data": {
      "text/plain": [
       "Text(0, 0.5, 'Nats')"
      ]
     },
     "execution_count": 209,
     "metadata": {},
     "output_type": "execute_result"
    },
    {
     "data": {
      "image/png": "[encoded data removed]",
      "text/plain": [
       "<Figure size 432x288 with 2 Axes>"
      ]
     },
     "metadata": {
      "needs_background": "light"
     },
     "output_type": "display_data"
    },
    {
     "data": {
      "image/png": "[encoded data removed]",
      "text/plain": [
       "<Figure size 432x288 with 2 Axes>"
      ]
     },
     "metadata": {
      "needs_background": "light"
     },
     "output_type": "display_data"
    }
   ],
   "source": [
    "from matplotlib.colors import Normalize , LogNorm\n",
    "\n",
    "# Create Truncated plot\n",
    "CL_new = np.minimum(np.maximum(CL,-200),200)\n",
    "\n",
    "min_val_CL = CL.min()\n",
    "max_val_CL = CL.max()\n",
    "\n",
    "min_val = CL_new.min()\n",
    "max_val = CL_new.max()\n",
    "\n",
    "max_mag = np.max([np.abs(CL_new.min()),np.abs(CL_new.max())])\n",
    "\n",
    "min_val = -max_mag\n",
    "max_val = max_mag\n",
    "\n",
    "norm=Normalize(vmin=min_val, vmax=max_val)\n",
    "\n",
    "fig , ax = plt.subplots(1,1)\n",
    "im = ax.imshow(CL_new,norm=norm,cmap='RdBu_r')\n",
    "cbar = fig.colorbar(im,ax=ax)\n",
    "ax.set_title('Clamped Cross-Likelihoods')\n",
    "ax.set_ylabel('State')\n",
    "ax.set_xlabel('State')\n",
    "cbar.ax.set_ylabel('Nats', rotation=270)\n",
    "max_mag = np.max([np.abs(CL.min()),np.abs(CL.max())])\n",
    "\n",
    "min_val = -max_mag\n",
    "max_val = max_mag\n",
    "\n",
    "norm2 = Normalize(vmin=min_val,vmax=max_val)\n",
    "\n",
    "fig2 , ax = plt.subplots(1,1)\n",
    "im = ax.imshow(CL,norm=norm2,cmap='RdBu_r')\n",
    "cbar = fig2.colorbar(im,ax=ax)\n",
    "ax.set_title('Cross-Likelihoods')\n",
    "ax.set_ylabel('State')\n",
    "ax.set_xlabel('State')\n",
    "cbar.ax.set_ylabel('Nats', rotation=270)\n"
   ]
  },
  {
   "cell_type": "code",
   "execution_count": 223,
   "metadata": {},
   "outputs": [
    {
     "name": "stderr",
     "output_type": "stream",
     "text": [
      "C:\\Users\\magnu\\anaconda3\\envs\\DLC-GPU\\lib\\site-packages\\ipykernel_launcher.py:1: DeprecationWarning:\n",
      "\n",
      "elementwise comparison failed; this will raise an error in the future.\n",
      "\n"
     ]
    },
    {
     "data": {
      "text/plain": [
       "True"
      ]
     },
     "execution_count": 223,
     "metadata": {},
     "output_type": "execute_result"
    }
   ],
   "source": [
    "hmm_new = [val if val in [1,2,3] for ]"
   ]
  },
  {
   "cell_type": "code",
   "execution_count": 160,
   "metadata": {},
   "outputs": [
    {
     "data": {
      "text/plain": [
       "array([[ 0.07913858, -0.47921963,  0.05713078],\n",
       "       [ 0.09702809, -1.44888511,  0.0551695 ]])"
      ]
     },
     "execution_count": 160,
     "metadata": {},
     "output_type": "execute_result"
    }
   ],
   "source": [
    "tmp_data"
   ]
  },
  {
   "cell_type": "code",
   "execution_count": 92,
   "metadata": {},
   "outputs": [
    {
     "data": {
      "text/plain": [
       "20"
      ]
     },
     "execution_count": 92,
     "metadata": {},
     "output_type": "execute_result"
    }
   ],
   "source": [
    "len(As)"
   ]
  },
  {
   "cell_type": "code",
   "execution_count": 94,
   "metadata": {},
   "outputs": [
    {
     "data": {
      "text/plain": [
       "array([ 0.07463442, -9.41598575,  0.05736902])"
      ]
     },
     "execution_count": 94,
     "metadata": {},
     "output_type": "execute_result"
    }
   ],
   "source": [
    "As[0].dot(data_to_use[0]) + bs[0] + Vs[0]"
   ]
  },
  {
   "cell_type": "code",
   "execution_count": 95,
   "metadata": {},
   "outputs": [
    {
     "data": {
      "text/plain": [
       "array([], shape=(3, 0), dtype=float64)"
      ]
     },
     "execution_count": 95,
     "metadata": {},
     "output_type": "execute_result"
    }
   ],
   "source": [
    "Vs[0]"
   ]
  },
  {
   "cell_type": "code",
   "execution_count": 96,
   "metadata": {},
   "outputs": [
    {
     "data": {
      "text/plain": [
       "array([], shape=(20, 3, 0), dtype=float64)"
      ]
     },
     "execution_count": 96,
     "metadata": {},
     "output_type": "execute_result"
    }
   ],
   "source": [
    "Vs"
   ]
  },
  {
   "cell_type": "code",
   "execution_count": 5,
   "metadata": {},
   "outputs": [],
   "source": [
    "tll , vll , hmm2 = fit_ARHMM(train_data, val_data, obs_kwargs={'lags':10},num_states=5, epochs=5, transitions='sticky', transition_kwargs={'kappa':500},seed=1337,early_stopping=True,)"
   ]
  },
  {
   "cell_type": "code",
   "execution_count": 13,
   "metadata": {},
   "outputs": [
    {
     "data": {
      "text/plain": [
       "array([], shape=(5, 3, 0), dtype=float64)"
      ]
     },
     "execution_count": 13,
     "metadata": {},
     "output_type": "execute_result"
    }
   ],
   "source": [
    "hmm2.observations.Vs"
   ]
  },
  {
   "cell_type": "code",
   "execution_count": 108,
   "metadata": {},
   "outputs": [],
   "source": [
    "from ssm.model_selection import cross_val_scores"
   ]
  },
  {
   "cell_type": "code",
   "execution_count": 14,
   "metadata": {},
   "outputs": [
    {
     "data": {
      "text/plain": [
       "[16167.002451372224,\n",
       " 16169.660251223617,\n",
       " 16298.697023636432,\n",
       " 16396.580775974133,\n",
       " 16469.945305945625,\n",
       " 16505.943282076572,\n",
       " 16532.52879129245,\n",
       " 16551.734864441325,\n",
       " 16562.937557976977,\n",
       " 16566.663343427375,\n",
       " 16570.67384725511]"
      ]
     },
     "execution_count": 14,
     "metadata": {},
     "output_type": "execute_result"
    }
   ],
   "source": [
    "hmm2.fit(train_data, method='em',num_iters=10,initialize=False,verbose=1)"
   ]
  },
  {
   "cell_type": "code",
   "execution_count": 30,
   "metadata": {},
   "outputs": [
    {
     "data": {
      "text/plain": [
       "((array([-7.03714734e+00, -9.92012072e-04, -1.10322581e+01, -9.24380422e+00,\n",
       "         -1.83962958e+01]),),\n",
       " (array([[-3.06973397e-02, -3.64437025e+00, -5.74247521e+00,\n",
       "          -7.02848338e+00, -3.68406947e+01],\n",
       "         [-3.82455299e+00, -3.03886432e-02, -5.79481329e+00,\n",
       "          -5.39958247e+00, -7.52099420e+00],\n",
       "         [-4.65019037e+00, -4.61918617e+00, -2.33230200e-02,\n",
       "          -5.67302035e+00, -8.54213336e+00],\n",
       "         [-5.00828882e+00, -5.19787716e+00, -5.45890710e+00,\n",
       "          -1.78483270e-02, -6.70794902e+00],\n",
       "         [-2.10689270e+01, -6.29438704e+00, -3.68280982e+01,\n",
       "          -6.29134587e+00, -3.70576480e-03]]),),\n",
       " (array([[[ 8.03118865e-01, -2.45002960e-04, -1.53188395e+00,\n",
       "           -9.66001873e-02,  4.41424775e-04,  4.95296361e+00,\n",
       "           -5.53606133e-02, -5.26664036e-04, -6.02384014e+00,\n",
       "            9.08044575e-03,  6.24240542e-04,  4.19604935e+00,\n",
       "            2.98011567e-02, -3.55908641e-04, -2.37887617e+00,\n",
       "           -3.56372005e-02, -2.13167351e-04,  9.57888689e-01,\n",
       "            3.63962174e-02,  4.29320564e-04, -2.78512753e-01,\n",
       "            4.15942382e-03, -4.95602407e-04,  1.26929625e+00,\n",
       "            3.19553503e-02,  4.96807504e-04, -1.34862458e+00,\n",
       "           -1.71343887e-02, -2.22794709e-04,  1.66142495e-01],\n",
       "          [ 3.74391897e+00,  1.83619304e+00, -1.17738718e+02,\n",
       "           -4.17252439e+00, -1.13118334e+00,  1.50931471e+02,\n",
       "           -3.84366344e+00,  2.89073579e-01, -2.71410868e+02,\n",
       "           -2.43634238e+00, -1.45169660e-02,  5.44760362e+02,\n",
       "            6.43429724e+00,  2.17893500e-02, -4.59203609e+02,\n",
       "           -2.39912053e+00, -1.09156264e-01,  1.31558392e+02,\n",
       "           -3.83025559e+00,  2.40313019e-01,  1.07751916e+02,\n",
       "           -1.51287191e-01, -2.43273599e-01, -1.78760530e+02,\n",
       "            6.48765420e+00,  1.03292269e-01,  1.68316159e+02,\n",
       "           -5.39309935e+00,  2.20785590e-03, -7.14614527e+01],\n",
       "          [ 1.51151808e-03,  8.13398089e-06,  1.97529111e+00,\n",
       "           -1.21016506e-03, -1.43453513e-05, -1.33137442e+00,\n",
       "            1.02765001e-03,  8.01348594e-06,  4.28232185e-01,\n",
       "           -1.20135271e-03,  6.59308843e-06, -1.56684062e-01,\n",
       "            9.70971103e-04, -1.02183033e-05,  1.94779101e-01,\n",
       "            4.62750977e-04, -5.31946006e-06, -2.65544647e-01,\n",
       "           -2.64551719e-03,  2.02019637e-05,  2.11925342e-01,\n",
       "            2.76521197e-03, -1.91027133e-05, -4.58125463e-02,\n",
       "           -2.77165319e-03,  8.94041750e-06, -4.03348683e-02,\n",
       "            3.80144426e-04, -3.41387170e-06,  2.67076144e-02]],\n",
       "  \n",
       "         [[ 1.12539776e+00,  6.14034534e-04,  1.44065592e+00,\n",
       "           -2.68949166e-01, -9.60340368e-04,  4.49869629e-01,\n",
       "            1.74826768e-02,  1.10116992e-03,  2.93884163e+00,\n",
       "           -1.86302006e-02, -1.39997451e-03, -8.12283443e+00,\n",
       "           -1.52137708e-02,  1.04465801e-03,  7.95621447e+00,\n",
       "           -2.99806316e-02, -9.26888014e-04, -5.70875482e+00,\n",
       "            4.60107399e-02,  1.34803609e-03,  2.37139599e+00,\n",
       "            7.35950371e-02, -1.17145865e-03, -3.02302214e-01,\n",
       "           -3.91841901e-02,  6.90571871e-04,  1.98827534e-01,\n",
       "            1.43756905e-02, -3.60597477e-04, -7.58485324e-01],\n",
       "          [-3.68915403e+00,  2.05491780e+00,  4.82544217e+00,\n",
       "            5.52539519e+00, -1.62753683e+00,  2.00507195e+01,\n",
       "           -9.99018777e+00,  7.85149683e-01,  1.74357585e+02,\n",
       "            9.27081442e+00, -3.83072692e-01, -3.30380388e+02,\n",
       "           -4.69995007e+00,  2.11333220e-01,  2.78415641e+02,\n",
       "           -2.36392244e+00, -9.67612577e-02, -2.91296189e+02,\n",
       "            3.73159502e+00,  1.38506036e-03,  3.50600570e+02,\n",
       "            3.43364699e+00,  8.87886730e-02, -2.36775201e+02,\n",
       "           -9.49579792e+00, -7.72907557e-02,  5.41743342e+01,\n",
       "            6.54034875e+00,  2.55093010e-02,  1.38678561e+01],\n",
       "          [ 7.04538454e-04,  5.93470362e-06,  1.97564238e+00,\n",
       "           -1.03715137e-03, -1.23521848e-05, -1.44236684e+00,\n",
       "           -6.56374779e-04,  1.38110408e-05,  5.99902240e-01,\n",
       "            9.05203991e-04, -1.83298599e-05, -2.04449620e-01,\n",
       "           -1.09035198e-04,  7.84975628e-06,  1.14137592e-01,\n",
       "           -5.64420217e-04,  1.44995118e-05, -1.30795008e-01,\n",
       "            3.37775148e-03, -2.04858106e-05,  6.99522298e-02,\n",
       "           -2.75987533e-03,  1.13181702e-05,  6.37358928e-03,\n",
       "            1.81848512e-03, -2.78559506e-06, -6.11096954e-02,\n",
       "           -1.06761743e-03,  3.91063869e-07,  4.42886405e-02]],\n",
       "  \n",
       "         [[ 6.75728814e-01,  2.10479162e-04,  1.14988151e+01,\n",
       "            1.79299749e-01, -9.31468936e-04, -1.64603549e+01,\n",
       "           -1.26144536e-01,  2.14114726e-03,  6.34129112e+00,\n",
       "            2.03394627e-01, -2.69852353e-03,  1.28129172e+00,\n",
       "           -1.93274679e-01,  6.33089185e-04, -7.52873898e-01,\n",
       "            3.30436545e-01,  2.05493997e-03, -5.73490223e+00,\n",
       "           -2.29308070e-01, -2.97959995e-03,  8.32657374e+00,\n",
       "            1.97836374e-01,  2.43752294e-03, -4.36507146e+00,\n",
       "            3.07847459e-02, -5.16330351e-04, -5.61801608e+00,\n",
       "           -1.68841061e-01, -4.76818834e-04,  6.00223525e+00],\n",
       "          [ 5.06731628e+00,  1.64628741e+00, -9.23523352e+02,\n",
       "           -2.13175923e+01, -8.78790504e-01,  1.05630133e+03,\n",
       "            5.30812488e+01,  1.99277739e-01,  9.12696504e+02,\n",
       "            1.60323125e+01, -2.51687710e-01, -1.87653035e+03,\n",
       "           -6.56549067e+01,  4.53903516e-01,  1.36884574e+03,\n",
       "            7.14281251e+00, -5.18338979e-01,  6.06524511e+01,\n",
       "            1.83671914e+01,  2.70592392e-01, -1.34882256e+03,\n",
       "            4.03250371e+00,  1.07520215e-01,  8.22414921e+02,\n",
       "            2.43660131e+01, -1.99825420e-01,  7.02150845e+02,\n",
       "           -3.54618147e+01,  3.00674323e-02, -9.04591801e+02],\n",
       "          [-1.78085023e-03, -8.20941971e-06,  1.68627247e+00,\n",
       "            1.14557888e-02,  1.65031188e-05, -1.04939316e+00,\n",
       "           -9.06974524e-03,  7.66034889e-06,  2.14641404e-01,\n",
       "            3.55652309e-03, -3.69007279e-05,  4.10462176e-01,\n",
       "            7.57950244e-04,  5.44419107e-06, -8.01681888e-01,\n",
       "           -6.15789430e-03,  4.33144758e-05,  5.56855503e-01,\n",
       "            4.71209315e-03, -4.72141429e-05,  9.03240673e-02,\n",
       "            2.13945109e-03,  3.15497856e-05, -3.08696530e-01,\n",
       "           -3.09863434e-03, -4.05093536e-05,  2.03695955e-01,\n",
       "           -9.38088726e-04,  3.72203692e-05, -4.12641444e-02]],\n",
       "  \n",
       "         [[ 1.11327474e+00,  2.58663699e-03,  7.26463281e+00,\n",
       "           -2.04689256e-01, -5.59260665e-03, -7.96377024e+00,\n",
       "           -2.95348554e-01,  3.68603310e-03,  8.58549972e+00,\n",
       "            1.33644141e-01, -1.88168847e-03, -7.77140641e+00,\n",
       "            2.59297344e-01,  4.15637962e-04,  3.20378668e+00,\n",
       "           -2.16930842e-01,  9.65367813e-04, -3.38140926e+00,\n",
       "            1.70415784e-02,  2.87813810e-05,  1.87339595e+00,\n",
       "            1.34888345e-01,  8.19787549e-04, -3.50376718e+00,\n",
       "           -1.94791313e-02, -3.00962557e-03,  2.95065759e+00,\n",
       "           -3.52112549e-02,  2.08765333e-03, -1.91098812e-01],\n",
       "          [-1.52972662e+01,  1.92413379e+00, -6.91357296e+01,\n",
       "            1.86497401e+01, -1.57432246e+00, -2.04765488e+02,\n",
       "           -4.42662121e+00,  1.17328634e+00,  9.76507038e+02,\n",
       "           -8.28009334e+00, -1.01368187e+00, -1.63242379e+03,\n",
       "            1.62587500e+01,  9.33620829e-01,  1.80688341e+03,\n",
       "           -1.25176539e+01, -9.73434300e-01, -1.23659875e+03,\n",
       "            1.86300544e+01,  8.46999958e-01,  6.55316132e+02,\n",
       "           -3.00887003e+01, -6.20346498e-01, -4.94577879e+02,\n",
       "            2.57529714e+01,  4.23071578e-01,  3.82551650e+02,\n",
       "           -8.30374900e+00, -1.53501947e-01, -2.45283286e+02],\n",
       "          [ 3.83419338e-03,  6.16492703e-05,  1.79128496e+00,\n",
       "            3.18391307e-03, -1.66603034e-04, -1.38110558e+00,\n",
       "           -8.18191560e-03,  1.89866239e-04,  5.42067592e-01,\n",
       "            1.36426104e-04, -1.18761767e-04,  4.09817974e-02,\n",
       "            6.27846756e-03,  7.29426059e-06, -1.23454793e-01,\n",
       "           -8.94099658e-03,  6.02986738e-05, -9.22192157e-02,\n",
       "            1.82474325e-03, -4.78334118e-05,  3.56408625e-01,\n",
       "            5.43004847e-03,  4.59372122e-06, -3.07123312e-01,\n",
       "           -4.58715783e-03,  9.74680489e-06,  9.19993467e-02,\n",
       "            2.42363568e-03,  5.11170136e-06,  3.79078891e-02]],\n",
       "  \n",
       "         [[ 7.96638582e-01, -6.52509518e-03,  6.82257323e-01,\n",
       "            1.97824581e-01,  8.43080445e-03,  2.86060237e+01,\n",
       "           -1.58363486e+00,  5.53570039e-03,  1.86029685e+01,\n",
       "            1.88000777e-01, -7.35753554e-04, -4.18257940e+01,\n",
       "            9.44315507e-01, -2.06280212e-02,  1.27388097e+01,\n",
       "           -7.45429452e-01,  2.44997394e-02,  9.42592524e+00,\n",
       "           -1.49099834e-01, -4.62479989e-04,  1.38528891e+01,\n",
       "           -6.39707554e-01, -5.89843334e-03, -3.57532370e+01,\n",
       "            2.48545605e-01, -7.86544853e-03,  3.55614938e+01,\n",
       "            4.37639770e-01,  5.18377166e-03, -1.67070926e+01],\n",
       "          [ 1.94962036e+01,  1.52127365e+00,  1.18410291e+03,\n",
       "           -3.33749200e+01, -5.97615489e-01,  7.71575333e+02,\n",
       "           -2.78050824e+01,  4.07354374e-02, -2.00467783e+03,\n",
       "            4.61390402e+01, -7.36165027e-01,  5.69147539e+02,\n",
       "            1.19240831e+00,  7.65355385e-01,  1.11827463e+03,\n",
       "           -4.63163320e+01,  1.70596359e-01,  6.35192879e+01,\n",
       "           -1.15580103e+01, -2.92888857e-01, -5.25773207e+01,\n",
       "            1.19716584e+01, -2.95628242e-01, -3.10991709e+02,\n",
       "            1.23835915e+01,  1.40484293e-01,  8.35686162e+02,\n",
       "           -2.20938950e+01,  1.92068161e-01, -4.19611409e+02],\n",
       "          [ 1.48465976e-02, -1.94081611e-04,  1.21722003e+00,\n",
       "           -1.03310000e-02,  3.06190123e-04, -1.96400207e-01,\n",
       "            2.87957527e-03, -8.97096385e-05, -7.34895290e-02,\n",
       "            9.60033663e-03, -2.36460739e-04, -4.15262339e-01,\n",
       "            1.38576210e-03,  1.90984220e-04,  3.77869598e-01,\n",
       "            5.75938031e-04,  1.15975053e-04,  1.25989580e-01,\n",
       "           -1.67431861e-02, -1.76562227e-04, -2.16959187e-01,\n",
       "            8.85584385e-04,  1.50946306e-04,  5.06367960e-01,\n",
       "            6.00096449e-03, -3.61397885e-04, -1.14352716e-02,\n",
       "           -7.11995568e-03,  2.89715035e-04,  9.96300744e-02]]]),\n",
       "  array([[ 8.50328777e-03, -5.31066231e-02,  1.68804566e-04],\n",
       "         [-1.42331605e-02, -2.06909562e+00,  1.67447416e-03],\n",
       "         [-1.49821518e-02,  6.71137268e+00,  1.89071718e-03],\n",
       "         [-4.65199243e-02,  3.64209602e+00,  2.48974737e-03],\n",
       "         [-1.31480273e+00, -9.72567342e+01, -2.62734010e-02]]),\n",
       "  array([], shape=(5, 3, 0), dtype=float64),\n",
       "  array([[[ 1.09800750e-02,  0.00000000e+00,  0.00000000e+00],\n",
       "          [ 1.10630587e-02,  1.32446355e+00,  0.00000000e+00],\n",
       "          [-2.64845090e-05,  3.65768885e-05,  5.51187098e-04]],\n",
       "  \n",
       "         [[ 2.39682281e-02,  0.00000000e+00,  0.00000000e+00],\n",
       "          [-1.26538548e-01,  2.39840931e+00,  0.00000000e+00],\n",
       "          [ 1.59272865e-04,  3.92513914e-06,  7.11903627e-04]],\n",
       "  \n",
       "         [[ 3.07039923e-02,  0.00000000e+00,  0.00000000e+00],\n",
       "          [ 5.45247613e-01,  4.75352182e+00,  0.00000000e+00],\n",
       "          [-1.79149643e-04, -4.86720827e-05,  1.26066867e-03]],\n",
       "  \n",
       "         [[ 2.01746279e-02,  0.00000000e+00,  0.00000000e+00],\n",
       "          [ 3.47235411e-02,  1.69565606e+00,  0.00000000e+00],\n",
       "          [-5.32167857e-05, -1.50779676e-04,  9.97648322e-04]],\n",
       "  \n",
       "         [[ 9.19673177e-03,  0.00000000e+00,  0.00000000e+00],\n",
       "          [ 3.16708214e-01,  7.76523760e-01,  0.00000000e+00],\n",
       "          [-7.55007171e-05,  1.81376108e-04,  1.55153096e-03]]])))"
      ]
     },
     "execution_count": 30,
     "metadata": {},
     "output_type": "execute_result"
    }
   ],
   "source": [
    "hmm2.params"
   ]
  },
  {
   "cell_type": "code",
   "execution_count": 31,
   "metadata": {},
   "outputs": [
    {
     "data": {
      "text/plain": [
       "(array([[[ 8.03118865e-01, -2.45002960e-04, -1.53188395e+00,\n",
       "          -9.66001873e-02,  4.41424775e-04,  4.95296361e+00,\n",
       "          -5.53606133e-02, -5.26664036e-04, -6.02384014e+00,\n",
       "           9.08044575e-03,  6.24240542e-04,  4.19604935e+00,\n",
       "           2.98011567e-02, -3.55908641e-04, -2.37887617e+00,\n",
       "          -3.56372005e-02, -2.13167351e-04,  9.57888689e-01,\n",
       "           3.63962174e-02,  4.29320564e-04, -2.78512753e-01,\n",
       "           4.15942382e-03, -4.95602407e-04,  1.26929625e+00,\n",
       "           3.19553503e-02,  4.96807504e-04, -1.34862458e+00,\n",
       "          -1.71343887e-02, -2.22794709e-04,  1.66142495e-01],\n",
       "         [ 3.74391897e+00,  1.83619304e+00, -1.17738718e+02,\n",
       "          -4.17252439e+00, -1.13118334e+00,  1.50931471e+02,\n",
       "          -3.84366344e+00,  2.89073579e-01, -2.71410868e+02,\n",
       "          -2.43634238e+00, -1.45169660e-02,  5.44760362e+02,\n",
       "           6.43429724e+00,  2.17893500e-02, -4.59203609e+02,\n",
       "          -2.39912053e+00, -1.09156264e-01,  1.31558392e+02,\n",
       "          -3.83025559e+00,  2.40313019e-01,  1.07751916e+02,\n",
       "          -1.51287191e-01, -2.43273599e-01, -1.78760530e+02,\n",
       "           6.48765420e+00,  1.03292269e-01,  1.68316159e+02,\n",
       "          -5.39309935e+00,  2.20785590e-03, -7.14614527e+01],\n",
       "         [ 1.51151808e-03,  8.13398089e-06,  1.97529111e+00,\n",
       "          -1.21016506e-03, -1.43453513e-05, -1.33137442e+00,\n",
       "           1.02765001e-03,  8.01348594e-06,  4.28232185e-01,\n",
       "          -1.20135271e-03,  6.59308843e-06, -1.56684062e-01,\n",
       "           9.70971103e-04, -1.02183033e-05,  1.94779101e-01,\n",
       "           4.62750977e-04, -5.31946006e-06, -2.65544647e-01,\n",
       "          -2.64551719e-03,  2.02019637e-05,  2.11925342e-01,\n",
       "           2.76521197e-03, -1.91027133e-05, -4.58125463e-02,\n",
       "          -2.77165319e-03,  8.94041750e-06, -4.03348683e-02,\n",
       "           3.80144426e-04, -3.41387170e-06,  2.67076144e-02]],\n",
       " \n",
       "        [[ 1.12539776e+00,  6.14034534e-04,  1.44065592e+00,\n",
       "          -2.68949166e-01, -9.60340368e-04,  4.49869629e-01,\n",
       "           1.74826768e-02,  1.10116992e-03,  2.93884163e+00,\n",
       "          -1.86302006e-02, -1.39997451e-03, -8.12283443e+00,\n",
       "          -1.52137708e-02,  1.04465801e-03,  7.95621447e+00,\n",
       "          -2.99806316e-02, -9.26888014e-04, -5.70875482e+00,\n",
       "           4.60107399e-02,  1.34803609e-03,  2.37139599e+00,\n",
       "           7.35950371e-02, -1.17145865e-03, -3.02302214e-01,\n",
       "          -3.91841901e-02,  6.90571871e-04,  1.98827534e-01,\n",
       "           1.43756905e-02, -3.60597477e-04, -7.58485324e-01],\n",
       "         [-3.68915403e+00,  2.05491780e+00,  4.82544217e+00,\n",
       "           5.52539519e+00, -1.62753683e+00,  2.00507195e+01,\n",
       "          -9.99018777e+00,  7.85149683e-01,  1.74357585e+02,\n",
       "           9.27081442e+00, -3.83072692e-01, -3.30380388e+02,\n",
       "          -4.69995007e+00,  2.11333220e-01,  2.78415641e+02,\n",
       "          -2.36392244e+00, -9.67612577e-02, -2.91296189e+02,\n",
       "           3.73159502e+00,  1.38506036e-03,  3.50600570e+02,\n",
       "           3.43364699e+00,  8.87886730e-02, -2.36775201e+02,\n",
       "          -9.49579792e+00, -7.72907557e-02,  5.41743342e+01,\n",
       "           6.54034875e+00,  2.55093010e-02,  1.38678561e+01],\n",
       "         [ 7.04538454e-04,  5.93470362e-06,  1.97564238e+00,\n",
       "          -1.03715137e-03, -1.23521848e-05, -1.44236684e+00,\n",
       "          -6.56374779e-04,  1.38110408e-05,  5.99902240e-01,\n",
       "           9.05203991e-04, -1.83298599e-05, -2.04449620e-01,\n",
       "          -1.09035198e-04,  7.84975628e-06,  1.14137592e-01,\n",
       "          -5.64420217e-04,  1.44995118e-05, -1.30795008e-01,\n",
       "           3.37775148e-03, -2.04858106e-05,  6.99522298e-02,\n",
       "          -2.75987533e-03,  1.13181702e-05,  6.37358928e-03,\n",
       "           1.81848512e-03, -2.78559506e-06, -6.11096954e-02,\n",
       "          -1.06761743e-03,  3.91063869e-07,  4.42886405e-02]],\n",
       " \n",
       "        [[ 6.75728814e-01,  2.10479162e-04,  1.14988151e+01,\n",
       "           1.79299749e-01, -9.31468936e-04, -1.64603549e+01,\n",
       "          -1.26144536e-01,  2.14114726e-03,  6.34129112e+00,\n",
       "           2.03394627e-01, -2.69852353e-03,  1.28129172e+00,\n",
       "          -1.93274679e-01,  6.33089185e-04, -7.52873898e-01,\n",
       "           3.30436545e-01,  2.05493997e-03, -5.73490223e+00,\n",
       "          -2.29308070e-01, -2.97959995e-03,  8.32657374e+00,\n",
       "           1.97836374e-01,  2.43752294e-03, -4.36507146e+00,\n",
       "           3.07847459e-02, -5.16330351e-04, -5.61801608e+00,\n",
       "          -1.68841061e-01, -4.76818834e-04,  6.00223525e+00],\n",
       "         [ 5.06731628e+00,  1.64628741e+00, -9.23523352e+02,\n",
       "          -2.13175923e+01, -8.78790504e-01,  1.05630133e+03,\n",
       "           5.30812488e+01,  1.99277739e-01,  9.12696504e+02,\n",
       "           1.60323125e+01, -2.51687710e-01, -1.87653035e+03,\n",
       "          -6.56549067e+01,  4.53903516e-01,  1.36884574e+03,\n",
       "           7.14281251e+00, -5.18338979e-01,  6.06524511e+01,\n",
       "           1.83671914e+01,  2.70592392e-01, -1.34882256e+03,\n",
       "           4.03250371e+00,  1.07520215e-01,  8.22414921e+02,\n",
       "           2.43660131e+01, -1.99825420e-01,  7.02150845e+02,\n",
       "          -3.54618147e+01,  3.00674323e-02, -9.04591801e+02],\n",
       "         [-1.78085023e-03, -8.20941971e-06,  1.68627247e+00,\n",
       "           1.14557888e-02,  1.65031188e-05, -1.04939316e+00,\n",
       "          -9.06974524e-03,  7.66034889e-06,  2.14641404e-01,\n",
       "           3.55652309e-03, -3.69007279e-05,  4.10462176e-01,\n",
       "           7.57950244e-04,  5.44419107e-06, -8.01681888e-01,\n",
       "          -6.15789430e-03,  4.33144758e-05,  5.56855503e-01,\n",
       "           4.71209315e-03, -4.72141429e-05,  9.03240673e-02,\n",
       "           2.13945109e-03,  3.15497856e-05, -3.08696530e-01,\n",
       "          -3.09863434e-03, -4.05093536e-05,  2.03695955e-01,\n",
       "          -9.38088726e-04,  3.72203692e-05, -4.12641444e-02]],\n",
       " \n",
       "        [[ 1.11327474e+00,  2.58663699e-03,  7.26463281e+00,\n",
       "          -2.04689256e-01, -5.59260665e-03, -7.96377024e+00,\n",
       "          -2.95348554e-01,  3.68603310e-03,  8.58549972e+00,\n",
       "           1.33644141e-01, -1.88168847e-03, -7.77140641e+00,\n",
       "           2.59297344e-01,  4.15637962e-04,  3.20378668e+00,\n",
       "          -2.16930842e-01,  9.65367813e-04, -3.38140926e+00,\n",
       "           1.70415784e-02,  2.87813810e-05,  1.87339595e+00,\n",
       "           1.34888345e-01,  8.19787549e-04, -3.50376718e+00,\n",
       "          -1.94791313e-02, -3.00962557e-03,  2.95065759e+00,\n",
       "          -3.52112549e-02,  2.08765333e-03, -1.91098812e-01],\n",
       "         [-1.52972662e+01,  1.92413379e+00, -6.91357296e+01,\n",
       "           1.86497401e+01, -1.57432246e+00, -2.04765488e+02,\n",
       "          -4.42662121e+00,  1.17328634e+00,  9.76507038e+02,\n",
       "          -8.28009334e+00, -1.01368187e+00, -1.63242379e+03,\n",
       "           1.62587500e+01,  9.33620829e-01,  1.80688341e+03,\n",
       "          -1.25176539e+01, -9.73434300e-01, -1.23659875e+03,\n",
       "           1.86300544e+01,  8.46999958e-01,  6.55316132e+02,\n",
       "          -3.00887003e+01, -6.20346498e-01, -4.94577879e+02,\n",
       "           2.57529714e+01,  4.23071578e-01,  3.82551650e+02,\n",
       "          -8.30374900e+00, -1.53501947e-01, -2.45283286e+02],\n",
       "         [ 3.83419338e-03,  6.16492703e-05,  1.79128496e+00,\n",
       "           3.18391307e-03, -1.66603034e-04, -1.38110558e+00,\n",
       "          -8.18191560e-03,  1.89866239e-04,  5.42067592e-01,\n",
       "           1.36426104e-04, -1.18761767e-04,  4.09817974e-02,\n",
       "           6.27846756e-03,  7.29426059e-06, -1.23454793e-01,\n",
       "          -8.94099658e-03,  6.02986738e-05, -9.22192157e-02,\n",
       "           1.82474325e-03, -4.78334118e-05,  3.56408625e-01,\n",
       "           5.43004847e-03,  4.59372122e-06, -3.07123312e-01,\n",
       "          -4.58715783e-03,  9.74680489e-06,  9.19993467e-02,\n",
       "           2.42363568e-03,  5.11170136e-06,  3.79078891e-02]],\n",
       " \n",
       "        [[ 7.96638582e-01, -6.52509518e-03,  6.82257323e-01,\n",
       "           1.97824581e-01,  8.43080445e-03,  2.86060237e+01,\n",
       "          -1.58363486e+00,  5.53570039e-03,  1.86029685e+01,\n",
       "           1.88000777e-01, -7.35753554e-04, -4.18257940e+01,\n",
       "           9.44315507e-01, -2.06280212e-02,  1.27388097e+01,\n",
       "          -7.45429452e-01,  2.44997394e-02,  9.42592524e+00,\n",
       "          -1.49099834e-01, -4.62479989e-04,  1.38528891e+01,\n",
       "          -6.39707554e-01, -5.89843334e-03, -3.57532370e+01,\n",
       "           2.48545605e-01, -7.86544853e-03,  3.55614938e+01,\n",
       "           4.37639770e-01,  5.18377166e-03, -1.67070926e+01],\n",
       "         [ 1.94962036e+01,  1.52127365e+00,  1.18410291e+03,\n",
       "          -3.33749200e+01, -5.97615489e-01,  7.71575333e+02,\n",
       "          -2.78050824e+01,  4.07354374e-02, -2.00467783e+03,\n",
       "           4.61390402e+01, -7.36165027e-01,  5.69147539e+02,\n",
       "           1.19240831e+00,  7.65355385e-01,  1.11827463e+03,\n",
       "          -4.63163320e+01,  1.70596359e-01,  6.35192879e+01,\n",
       "          -1.15580103e+01, -2.92888857e-01, -5.25773207e+01,\n",
       "           1.19716584e+01, -2.95628242e-01, -3.10991709e+02,\n",
       "           1.23835915e+01,  1.40484293e-01,  8.35686162e+02,\n",
       "          -2.20938950e+01,  1.92068161e-01, -4.19611409e+02],\n",
       "         [ 1.48465976e-02, -1.94081611e-04,  1.21722003e+00,\n",
       "          -1.03310000e-02,  3.06190123e-04, -1.96400207e-01,\n",
       "           2.87957527e-03, -8.97096385e-05, -7.34895290e-02,\n",
       "           9.60033663e-03, -2.36460739e-04, -4.15262339e-01,\n",
       "           1.38576210e-03,  1.90984220e-04,  3.77869598e-01,\n",
       "           5.75938031e-04,  1.15975053e-04,  1.25989580e-01,\n",
       "          -1.67431861e-02, -1.76562227e-04, -2.16959187e-01,\n",
       "           8.85584385e-04,  1.50946306e-04,  5.06367960e-01,\n",
       "           6.00096449e-03, -3.61397885e-04, -1.14352716e-02,\n",
       "          -7.11995568e-03,  2.89715035e-04,  9.96300744e-02]]]),\n",
       " array([[ 8.50328777e-03, -5.31066231e-02,  1.68804566e-04],\n",
       "        [-1.42331605e-02, -2.06909562e+00,  1.67447416e-03],\n",
       "        [-1.49821518e-02,  6.71137268e+00,  1.89071718e-03],\n",
       "        [-4.65199243e-02,  3.64209602e+00,  2.48974737e-03],\n",
       "        [-1.31480273e+00, -9.72567342e+01, -2.62734010e-02]]),\n",
       " array([], shape=(5, 3, 0), dtype=float64),\n",
       " array([[[ 1.09800750e-02,  0.00000000e+00,  0.00000000e+00],\n",
       "         [ 1.10630587e-02,  1.32446355e+00,  0.00000000e+00],\n",
       "         [-2.64845090e-05,  3.65768885e-05,  5.51187098e-04]],\n",
       " \n",
       "        [[ 2.39682281e-02,  0.00000000e+00,  0.00000000e+00],\n",
       "         [-1.26538548e-01,  2.39840931e+00,  0.00000000e+00],\n",
       "         [ 1.59272865e-04,  3.92513914e-06,  7.11903627e-04]],\n",
       " \n",
       "        [[ 3.07039923e-02,  0.00000000e+00,  0.00000000e+00],\n",
       "         [ 5.45247613e-01,  4.75352182e+00,  0.00000000e+00],\n",
       "         [-1.79149643e-04, -4.86720827e-05,  1.26066867e-03]],\n",
       " \n",
       "        [[ 2.01746279e-02,  0.00000000e+00,  0.00000000e+00],\n",
       "         [ 3.47235411e-02,  1.69565606e+00,  0.00000000e+00],\n",
       "         [-5.32167857e-05, -1.50779676e-04,  9.97648322e-04]],\n",
       " \n",
       "        [[ 9.19673177e-03,  0.00000000e+00,  0.00000000e+00],\n",
       "         [ 3.16708214e-01,  7.76523760e-01,  0.00000000e+00],\n",
       "         [-7.55007171e-05,  1.81376108e-04,  1.55153096e-03]]]))"
      ]
     },
     "execution_count": 31,
     "metadata": {},
     "output_type": "execute_result"
    }
   ],
   "source": [
    "hmm2.observations.params"
   ]
  },
  {
   "cell_type": "code",
   "execution_count": 39,
   "metadata": {},
   "outputs": [
    {
     "data": {
      "text/plain": [
       "16634.54294531979"
      ]
     },
     "execution_count": 39,
     "metadata": {},
     "output_type": "execute_result"
    }
   ],
   "source": [
    "hmm2.log_likelihood(train_data)"
   ]
  },
  {
   "cell_type": "code",
   "execution_count": 34,
   "metadata": {},
   "outputs": [
    {
     "data": {
      "text/plain": [
       "array([8.78629424e-04, 9.99008480e-01, 1.61715330e-05, 9.67089872e-05,\n",
       "       1.02468471e-08])"
      ]
     },
     "execution_count": 34,
     "metadata": {},
     "output_type": "execute_result"
    }
   ],
   "source": [
    "hmm2.init_state_distn.initial_state_distn"
   ]
  },
  {
   "cell_type": "code",
   "execution_count": 35,
   "metadata": {},
   "outputs": [
    {
     "data": {
      "text/plain": [
       "16581.56139794502"
      ]
     },
     "execution_count": 35,
     "metadata": {},
     "output_type": "execute_result"
    }
   ],
   "source": [
    "hmm2.log_probability(train_data)"
   ]
  },
  {
   "cell_type": "code",
   "execution_count": 41,
   "metadata": {},
   "outputs": [
    {
     "data": {
      "text/plain": [
       "{'K': 5,\n",
       " 'D': 3,\n",
       " 'M': 0,\n",
       " 'init_state_distn': <ssm.init_state_distns.InitialStateDistribution at 0x2d948f26ec8>,\n",
       " 'transitions': <ssm.transitions.StickyTransitions at 0x2d948f26a88>,\n",
       " 'observations': <ssm.observations.AutoRegressiveObservations at 0x2d948f26d88>}"
      ]
     },
     "execution_count": 41,
     "metadata": {},
     "output_type": "execute_result"
    }
   ],
   "source": [
    "hmm2.__dict__"
   ]
  },
  {
   "cell_type": "code",
   "execution_count": 44,
   "metadata": {},
   "outputs": [
    {
     "data": {
      "text/plain": [
       "(array([[[ 8.03118865e-01, -2.45002960e-04, -1.53188395e+00,\n",
       "          -9.66001873e-02,  4.41424775e-04,  4.95296361e+00,\n",
       "          -5.53606133e-02, -5.26664036e-04, -6.02384014e+00,\n",
       "           9.08044575e-03,  6.24240542e-04,  4.19604935e+00,\n",
       "           2.98011567e-02, -3.55908641e-04, -2.37887617e+00,\n",
       "          -3.56372005e-02, -2.13167351e-04,  9.57888689e-01,\n",
       "           3.63962174e-02,  4.29320564e-04, -2.78512753e-01,\n",
       "           4.15942382e-03, -4.95602407e-04,  1.26929625e+00,\n",
       "           3.19553503e-02,  4.96807504e-04, -1.34862458e+00,\n",
       "          -1.71343887e-02, -2.22794709e-04,  1.66142495e-01],\n",
       "         [ 3.74391897e+00,  1.83619304e+00, -1.17738718e+02,\n",
       "          -4.17252439e+00, -1.13118334e+00,  1.50931471e+02,\n",
       "          -3.84366344e+00,  2.89073579e-01, -2.71410868e+02,\n",
       "          -2.43634238e+00, -1.45169660e-02,  5.44760362e+02,\n",
       "           6.43429724e+00,  2.17893500e-02, -4.59203609e+02,\n",
       "          -2.39912053e+00, -1.09156264e-01,  1.31558392e+02,\n",
       "          -3.83025559e+00,  2.40313019e-01,  1.07751916e+02,\n",
       "          -1.51287191e-01, -2.43273599e-01, -1.78760530e+02,\n",
       "           6.48765420e+00,  1.03292269e-01,  1.68316159e+02,\n",
       "          -5.39309935e+00,  2.20785590e-03, -7.14614527e+01],\n",
       "         [ 1.51151808e-03,  8.13398089e-06,  1.97529111e+00,\n",
       "          -1.21016506e-03, -1.43453513e-05, -1.33137442e+00,\n",
       "           1.02765001e-03,  8.01348594e-06,  4.28232185e-01,\n",
       "          -1.20135271e-03,  6.59308843e-06, -1.56684062e-01,\n",
       "           9.70971103e-04, -1.02183033e-05,  1.94779101e-01,\n",
       "           4.62750977e-04, -5.31946006e-06, -2.65544647e-01,\n",
       "          -2.64551719e-03,  2.02019637e-05,  2.11925342e-01,\n",
       "           2.76521197e-03, -1.91027133e-05, -4.58125463e-02,\n",
       "          -2.77165319e-03,  8.94041750e-06, -4.03348683e-02,\n",
       "           3.80144426e-04, -3.41387170e-06,  2.67076144e-02]],\n",
       " \n",
       "        [[ 1.12539776e+00,  6.14034534e-04,  1.44065592e+00,\n",
       "          -2.68949166e-01, -9.60340368e-04,  4.49869629e-01,\n",
       "           1.74826768e-02,  1.10116992e-03,  2.93884163e+00,\n",
       "          -1.86302006e-02, -1.39997451e-03, -8.12283443e+00,\n",
       "          -1.52137708e-02,  1.04465801e-03,  7.95621447e+00,\n",
       "          -2.99806316e-02, -9.26888014e-04, -5.70875482e+00,\n",
       "           4.60107399e-02,  1.34803609e-03,  2.37139599e+00,\n",
       "           7.35950371e-02, -1.17145865e-03, -3.02302214e-01,\n",
       "          -3.91841901e-02,  6.90571871e-04,  1.98827534e-01,\n",
       "           1.43756905e-02, -3.60597477e-04, -7.58485324e-01],\n",
       "         [-3.68915403e+00,  2.05491780e+00,  4.82544217e+00,\n",
       "           5.52539519e+00, -1.62753683e+00,  2.00507195e+01,\n",
       "          -9.99018777e+00,  7.85149683e-01,  1.74357585e+02,\n",
       "           9.27081442e+00, -3.83072692e-01, -3.30380388e+02,\n",
       "          -4.69995007e+00,  2.11333220e-01,  2.78415641e+02,\n",
       "          -2.36392244e+00, -9.67612577e-02, -2.91296189e+02,\n",
       "           3.73159502e+00,  1.38506036e-03,  3.50600570e+02,\n",
       "           3.43364699e+00,  8.87886730e-02, -2.36775201e+02,\n",
       "          -9.49579792e+00, -7.72907557e-02,  5.41743342e+01,\n",
       "           6.54034875e+00,  2.55093010e-02,  1.38678561e+01],\n",
       "         [ 7.04538454e-04,  5.93470362e-06,  1.97564238e+00,\n",
       "          -1.03715137e-03, -1.23521848e-05, -1.44236684e+00,\n",
       "          -6.56374779e-04,  1.38110408e-05,  5.99902240e-01,\n",
       "           9.05203991e-04, -1.83298599e-05, -2.04449620e-01,\n",
       "          -1.09035198e-04,  7.84975628e-06,  1.14137592e-01,\n",
       "          -5.64420217e-04,  1.44995118e-05, -1.30795008e-01,\n",
       "           3.37775148e-03, -2.04858106e-05,  6.99522298e-02,\n",
       "          -2.75987533e-03,  1.13181702e-05,  6.37358928e-03,\n",
       "           1.81848512e-03, -2.78559506e-06, -6.11096954e-02,\n",
       "          -1.06761743e-03,  3.91063869e-07,  4.42886405e-02]],\n",
       " \n",
       "        [[ 6.75728814e-01,  2.10479162e-04,  1.14988151e+01,\n",
       "           1.79299749e-01, -9.31468936e-04, -1.64603549e+01,\n",
       "          -1.26144536e-01,  2.14114726e-03,  6.34129112e+00,\n",
       "           2.03394627e-01, -2.69852353e-03,  1.28129172e+00,\n",
       "          -1.93274679e-01,  6.33089185e-04, -7.52873898e-01,\n",
       "           3.30436545e-01,  2.05493997e-03, -5.73490223e+00,\n",
       "          -2.29308070e-01, -2.97959995e-03,  8.32657374e+00,\n",
       "           1.97836374e-01,  2.43752294e-03, -4.36507146e+00,\n",
       "           3.07847459e-02, -5.16330351e-04, -5.61801608e+00,\n",
       "          -1.68841061e-01, -4.76818834e-04,  6.00223525e+00],\n",
       "         [ 5.06731628e+00,  1.64628741e+00, -9.23523352e+02,\n",
       "          -2.13175923e+01, -8.78790504e-01,  1.05630133e+03,\n",
       "           5.30812488e+01,  1.99277739e-01,  9.12696504e+02,\n",
       "           1.60323125e+01, -2.51687710e-01, -1.87653035e+03,\n",
       "          -6.56549067e+01,  4.53903516e-01,  1.36884574e+03,\n",
       "           7.14281251e+00, -5.18338979e-01,  6.06524511e+01,\n",
       "           1.83671914e+01,  2.70592392e-01, -1.34882256e+03,\n",
       "           4.03250371e+00,  1.07520215e-01,  8.22414921e+02,\n",
       "           2.43660131e+01, -1.99825420e-01,  7.02150845e+02,\n",
       "          -3.54618147e+01,  3.00674323e-02, -9.04591801e+02],\n",
       "         [-1.78085023e-03, -8.20941971e-06,  1.68627247e+00,\n",
       "           1.14557888e-02,  1.65031188e-05, -1.04939316e+00,\n",
       "          -9.06974524e-03,  7.66034889e-06,  2.14641404e-01,\n",
       "           3.55652309e-03, -3.69007279e-05,  4.10462176e-01,\n",
       "           7.57950244e-04,  5.44419107e-06, -8.01681888e-01,\n",
       "          -6.15789430e-03,  4.33144758e-05,  5.56855503e-01,\n",
       "           4.71209315e-03, -4.72141429e-05,  9.03240673e-02,\n",
       "           2.13945109e-03,  3.15497856e-05, -3.08696530e-01,\n",
       "          -3.09863434e-03, -4.05093536e-05,  2.03695955e-01,\n",
       "          -9.38088726e-04,  3.72203692e-05, -4.12641444e-02]],\n",
       " \n",
       "        [[ 1.11327474e+00,  2.58663699e-03,  7.26463281e+00,\n",
       "          -2.04689256e-01, -5.59260665e-03, -7.96377024e+00,\n",
       "          -2.95348554e-01,  3.68603310e-03,  8.58549972e+00,\n",
       "           1.33644141e-01, -1.88168847e-03, -7.77140641e+00,\n",
       "           2.59297344e-01,  4.15637962e-04,  3.20378668e+00,\n",
       "          -2.16930842e-01,  9.65367813e-04, -3.38140926e+00,\n",
       "           1.70415784e-02,  2.87813810e-05,  1.87339595e+00,\n",
       "           1.34888345e-01,  8.19787549e-04, -3.50376718e+00,\n",
       "          -1.94791313e-02, -3.00962557e-03,  2.95065759e+00,\n",
       "          -3.52112549e-02,  2.08765333e-03, -1.91098812e-01],\n",
       "         [-1.52972662e+01,  1.92413379e+00, -6.91357296e+01,\n",
       "           1.86497401e+01, -1.57432246e+00, -2.04765488e+02,\n",
       "          -4.42662121e+00,  1.17328634e+00,  9.76507038e+02,\n",
       "          -8.28009334e+00, -1.01368187e+00, -1.63242379e+03,\n",
       "           1.62587500e+01,  9.33620829e-01,  1.80688341e+03,\n",
       "          -1.25176539e+01, -9.73434300e-01, -1.23659875e+03,\n",
       "           1.86300544e+01,  8.46999958e-01,  6.55316132e+02,\n",
       "          -3.00887003e+01, -6.20346498e-01, -4.94577879e+02,\n",
       "           2.57529714e+01,  4.23071578e-01,  3.82551650e+02,\n",
       "          -8.30374900e+00, -1.53501947e-01, -2.45283286e+02],\n",
       "         [ 3.83419338e-03,  6.16492703e-05,  1.79128496e+00,\n",
       "           3.18391307e-03, -1.66603034e-04, -1.38110558e+00,\n",
       "          -8.18191560e-03,  1.89866239e-04,  5.42067592e-01,\n",
       "           1.36426104e-04, -1.18761767e-04,  4.09817974e-02,\n",
       "           6.27846756e-03,  7.29426059e-06, -1.23454793e-01,\n",
       "          -8.94099658e-03,  6.02986738e-05, -9.22192157e-02,\n",
       "           1.82474325e-03, -4.78334118e-05,  3.56408625e-01,\n",
       "           5.43004847e-03,  4.59372122e-06, -3.07123312e-01,\n",
       "          -4.58715783e-03,  9.74680489e-06,  9.19993467e-02,\n",
       "           2.42363568e-03,  5.11170136e-06,  3.79078891e-02]],\n",
       " \n",
       "        [[ 7.96638582e-01, -6.52509518e-03,  6.82257323e-01,\n",
       "           1.97824581e-01,  8.43080445e-03,  2.86060237e+01,\n",
       "          -1.58363486e+00,  5.53570039e-03,  1.86029685e+01,\n",
       "           1.88000777e-01, -7.35753554e-04, -4.18257940e+01,\n",
       "           9.44315507e-01, -2.06280212e-02,  1.27388097e+01,\n",
       "          -7.45429452e-01,  2.44997394e-02,  9.42592524e+00,\n",
       "          -1.49099834e-01, -4.62479989e-04,  1.38528891e+01,\n",
       "          -6.39707554e-01, -5.89843334e-03, -3.57532370e+01,\n",
       "           2.48545605e-01, -7.86544853e-03,  3.55614938e+01,\n",
       "           4.37639770e-01,  5.18377166e-03, -1.67070926e+01],\n",
       "         [ 1.94962036e+01,  1.52127365e+00,  1.18410291e+03,\n",
       "          -3.33749200e+01, -5.97615489e-01,  7.71575333e+02,\n",
       "          -2.78050824e+01,  4.07354374e-02, -2.00467783e+03,\n",
       "           4.61390402e+01, -7.36165027e-01,  5.69147539e+02,\n",
       "           1.19240831e+00,  7.65355385e-01,  1.11827463e+03,\n",
       "          -4.63163320e+01,  1.70596359e-01,  6.35192879e+01,\n",
       "          -1.15580103e+01, -2.92888857e-01, -5.25773207e+01,\n",
       "           1.19716584e+01, -2.95628242e-01, -3.10991709e+02,\n",
       "           1.23835915e+01,  1.40484293e-01,  8.35686162e+02,\n",
       "          -2.20938950e+01,  1.92068161e-01, -4.19611409e+02],\n",
       "         [ 1.48465976e-02, -1.94081611e-04,  1.21722003e+00,\n",
       "          -1.03310000e-02,  3.06190123e-04, -1.96400207e-01,\n",
       "           2.87957527e-03, -8.97096385e-05, -7.34895290e-02,\n",
       "           9.60033663e-03, -2.36460739e-04, -4.15262339e-01,\n",
       "           1.38576210e-03,  1.90984220e-04,  3.77869598e-01,\n",
       "           5.75938031e-04,  1.15975053e-04,  1.25989580e-01,\n",
       "          -1.67431861e-02, -1.76562227e-04, -2.16959187e-01,\n",
       "           8.85584385e-04,  1.50946306e-04,  5.06367960e-01,\n",
       "           6.00096449e-03, -3.61397885e-04, -1.14352716e-02,\n",
       "          -7.11995568e-03,  2.89715035e-04,  9.96300744e-02]]]),\n",
       " array([[ 8.50328777e-03, -5.31066231e-02,  1.68804566e-04],\n",
       "        [-1.42331605e-02, -2.06909562e+00,  1.67447416e-03],\n",
       "        [-1.49821518e-02,  6.71137268e+00,  1.89071718e-03],\n",
       "        [-4.65199243e-02,  3.64209602e+00,  2.48974737e-03],\n",
       "        [-1.31480273e+00, -9.72567342e+01, -2.62734010e-02]]),\n",
       " array([], shape=(5, 3, 0), dtype=float64),\n",
       " array([[[ 1.09800750e-02,  0.00000000e+00,  0.00000000e+00],\n",
       "         [ 1.10630587e-02,  1.32446355e+00,  0.00000000e+00],\n",
       "         [-2.64845090e-05,  3.65768885e-05,  5.51187098e-04]],\n",
       " \n",
       "        [[ 2.39682281e-02,  0.00000000e+00,  0.00000000e+00],\n",
       "         [-1.26538548e-01,  2.39840931e+00,  0.00000000e+00],\n",
       "         [ 1.59272865e-04,  3.92513914e-06,  7.11903627e-04]],\n",
       " \n",
       "        [[ 3.07039923e-02,  0.00000000e+00,  0.00000000e+00],\n",
       "         [ 5.45247613e-01,  4.75352182e+00,  0.00000000e+00],\n",
       "         [-1.79149643e-04, -4.86720827e-05,  1.26066867e-03]],\n",
       " \n",
       "        [[ 2.01746279e-02,  0.00000000e+00,  0.00000000e+00],\n",
       "         [ 3.47235411e-02,  1.69565606e+00,  0.00000000e+00],\n",
       "         [-5.32167857e-05, -1.50779676e-04,  9.97648322e-04]],\n",
       " \n",
       "        [[ 9.19673177e-03,  0.00000000e+00,  0.00000000e+00],\n",
       "         [ 3.16708214e-01,  7.76523760e-01,  0.00000000e+00],\n",
       "         [-7.55007171e-05,  1.81376108e-04,  1.55153096e-03]]]))"
      ]
     },
     "execution_count": 44,
     "metadata": {},
     "output_type": "execute_result"
    }
   ],
   "source": [
    "hmm2.observations.params"
   ]
  },
  {
   "cell_type": "code",
   "execution_count": 46,
   "metadata": {},
   "outputs": [],
   "source": [
    "res = hmm2.filter(train_data[:10])"
   ]
  },
  {
   "cell_type": "code",
   "execution_count": 47,
   "metadata": {},
   "outputs": [
    {
     "data": {
      "text/plain": [
       "(10, 5)"
      ]
     },
     "execution_count": 47,
     "metadata": {},
     "output_type": "execute_result"
    }
   ],
   "source": [
    "res.shape"
   ]
  },
  {
   "cell_type": "code",
   "execution_count": 57,
   "metadata": {},
   "outputs": [
    {
     "data": {
      "text/plain": [
       "-2.3201085426156816"
      ]
     },
     "execution_count": 57,
     "metadata": {},
     "output_type": "execute_result"
    }
   ],
   "source": [
    "np.log(res[0]/res[1]).sum()/10"
   ]
  },
  {
   "cell_type": "code",
   "execution_count": null,
   "metadata": {},
   "outputs": [],
   "source": []
  },
  {
   "cell_type": "code",
   "execution_count": 63,
   "metadata": {},
   "outputs": [
    {
     "data": {
      "text/plain": [
       "array([1, 1, 1, ..., 0, 0, 0])"
      ]
     },
     "execution_count": 63,
     "metadata": {},
     "output_type": "execute_result"
    }
   ],
   "source": [
    "hmm2.most_likely_states(train_data)"
   ]
  },
  {
   "cell_type": "code",
   "execution_count": 61,
   "metadata": {},
   "outputs": [],
   "source": [
    "df = pd.DataFrame(train_data,columns=['speed','yaw','bl'])"
   ]
  },
  {
   "cell_type": "code",
   "execution_count": 62,
   "metadata": {},
   "outputs": [
    {
     "data": {
      "text/html": [
       "<div>\n",
       "<style scoped>\n",
       "    .dataframe tbody tr th:only-of-type {\n",
       "        vertical-align: middle;\n",
       "    }\n",
       "\n",
       "    .dataframe tbody tr th {\n",
       "        vertical-align: top;\n",
       "    }\n",
       "\n",
       "    .dataframe thead th {\n",
       "        text-align: right;\n",
       "    }\n",
       "</style>\n",
       "<table border=\"1\" class=\"dataframe\">\n",
       "  <thead>\n",
       "    <tr style=\"text-align: right;\">\n",
       "      <th></th>\n",
       "      <th>speed</th>\n",
       "      <th>yaw</th>\n",
       "      <th>bl</th>\n",
       "    </tr>\n",
       "  </thead>\n",
       "  <tbody>\n",
       "    <tr>\n",
       "      <th>0</th>\n",
       "      <td>0.106955</td>\n",
       "      <td>-9.971930</td>\n",
       "      <td>0.057102</td>\n",
       "    </tr>\n",
       "    <tr>\n",
       "      <th>1</th>\n",
       "      <td>0.110504</td>\n",
       "      <td>-14.377134</td>\n",
       "      <td>0.058410</td>\n",
       "    </tr>\n",
       "    <tr>\n",
       "      <th>2</th>\n",
       "      <td>0.108359</td>\n",
       "      <td>-19.472044</td>\n",
       "      <td>0.059020</td>\n",
       "    </tr>\n",
       "    <tr>\n",
       "      <th>3</th>\n",
       "      <td>0.095086</td>\n",
       "      <td>-22.816790</td>\n",
       "      <td>0.058169</td>\n",
       "    </tr>\n",
       "    <tr>\n",
       "      <th>4</th>\n",
       "      <td>0.099718</td>\n",
       "      <td>-22.789645</td>\n",
       "      <td>0.056445</td>\n",
       "    </tr>\n",
       "    <tr>\n",
       "      <th>...</th>\n",
       "      <td>...</td>\n",
       "      <td>...</td>\n",
       "      <td>...</td>\n",
       "    </tr>\n",
       "    <tr>\n",
       "      <th>2853</th>\n",
       "      <td>0.015785</td>\n",
       "      <td>0.654214</td>\n",
       "      <td>0.049863</td>\n",
       "    </tr>\n",
       "    <tr>\n",
       "      <th>2854</th>\n",
       "      <td>0.006008</td>\n",
       "      <td>0.626518</td>\n",
       "      <td>0.049545</td>\n",
       "    </tr>\n",
       "    <tr>\n",
       "      <th>2855</th>\n",
       "      <td>0.005138</td>\n",
       "      <td>1.433516</td>\n",
       "      <td>0.049305</td>\n",
       "    </tr>\n",
       "    <tr>\n",
       "      <th>2856</th>\n",
       "      <td>0.007924</td>\n",
       "      <td>1.953950</td>\n",
       "      <td>0.049367</td>\n",
       "    </tr>\n",
       "    <tr>\n",
       "      <th>2857</th>\n",
       "      <td>0.007819</td>\n",
       "      <td>1.243540</td>\n",
       "      <td>0.049702</td>\n",
       "    </tr>\n",
       "  </tbody>\n",
       "</table>\n",
       "<p>2858 rows × 3 columns</p>\n",
       "</div>"
      ],
      "text/plain": [
       "         speed        yaw        bl\n",
       "0     0.106955  -9.971930  0.057102\n",
       "1     0.110504 -14.377134  0.058410\n",
       "2     0.108359 -19.472044  0.059020\n",
       "3     0.095086 -22.816790  0.058169\n",
       "4     0.099718 -22.789645  0.056445\n",
       "...        ...        ...       ...\n",
       "2853  0.015785   0.654214  0.049863\n",
       "2854  0.006008   0.626518  0.049545\n",
       "2855  0.005138   1.433516  0.049305\n",
       "2856  0.007924   1.953950  0.049367\n",
       "2857  0.007819   1.243540  0.049702\n",
       "\n",
       "[2858 rows x 3 columns]"
      ]
     },
     "execution_count": 62,
     "metadata": {},
     "output_type": "execute_result"
    }
   ],
   "source": [
    "df"
   ]
  },
  {
   "cell_type": "code",
   "execution_count": null,
   "metadata": {},
   "outputs": [],
   "source": []
  }
 ],
 "metadata": {
  "kernelspec": {
   "display_name": "Python [conda env:DLC-GPU] *",
   "language": "python",
   "name": "conda-env-DLC-GPU-py"
  },
  "language_info": {
   "codemirror_mode": {
    "name": "ipython",
    "version": 3
   },
   "file_extension": ".py",
   "mimetype": "text/x-python",
   "name": "python",
   "nbconvert_exporter": "python",
   "pygments_lexer": "ipython3",
   "version": "3.7.7"
  }
 },
 "nbformat": 4,
 "nbformat_minor": 4
}
