{
 "cells": [
  {
   "cell_type": "code",
   "execution_count": 1,
   "metadata": {},
   "outputs": [],
   "source": [
    "import deeplabcut as dlc\n",
    "import tensorflow as tf\n",
    "import os\n",
    "import numpy as np"
   ]
  },
  {
   "cell_type": "code",
   "execution_count": null,
   "metadata": {},
   "outputs": [],
   "source": []
  },
  {
   "cell_type": "code",
   "execution_count": 3,
   "metadata": {},
   "outputs": [],
   "source": [
    "sess = tf.Session(config=tf.ConfigProto(log_device_placement=True))"
   ]
  },
  {
   "cell_type": "code",
   "execution_count": 2,
   "metadata": {},
   "outputs": [],
   "source": [
    "config_path = '/home/titan/KI2020/DLC/KI2020_Project-Magnus-2020-08-28/config.yaml'"
   ]
  },
  {
   "cell_type": "code",
   "execution_count": 6,
   "metadata": {},
   "outputs": [
    {
     "name": "stdout",
     "output_type": "stream",
     "text": [
      "You can now check the labels, using 'check_labels' before proceeding. Then, you can use the function 'create_training_dataset' to create the training dataset.\n"
     ]
    }
   ],
   "source": [
    "#dlc.label_frames(config_path)"
   ]
  },
  {
   "cell_type": "code",
   "execution_count": 4,
   "metadata": {},
   "outputs": [
    {
     "name": "stdout",
     "output_type": "stream",
     "text": [
      "/home/titan/KI2020/DLC/KI2020_Project-Magnus-2020-08-28/evaluation-results/  already exists!\n",
      "/home/titan/KI2020/DLC/KI2020_Project-Magnus-2020-08-28/evaluation-results/iteration-0/KI2020_ProjectAug28-trainset80shuffle1  already exists!\n",
      "Running  DLC_resnet50_KI2020_ProjectAug28shuffle1_300000  with # of trainingiterations: 300000\n",
      "Initializing ResNet\n",
      "WARNING:tensorflow:From /home/titan/anaconda3/envs/DLC-GPU/lib/python3.7/site-packages/tensorflow/python/framework/op_def_library.py:263: colocate_with (from tensorflow.python.framework.ops) is deprecated and will be removed in a future version.\n",
      "Instructions for updating:\n",
      "Colocations handled automatically by placer.\n"
     ]
    },
    {
     "name": "stderr",
     "output_type": "stream",
     "text": [
      "WARNING:tensorflow:From /home/titan/anaconda3/envs/DLC-GPU/lib/python3.7/site-packages/tensorflow/python/framework/op_def_library.py:263: colocate_with (from tensorflow.python.framework.ops) is deprecated and will be removed in a future version.\n",
      "Instructions for updating:\n",
      "Colocations handled automatically by placer.\n"
     ]
    },
    {
     "name": "stdout",
     "output_type": "stream",
     "text": [
      "WARNING:tensorflow:From /home/titan/anaconda3/envs/DLC-GPU/lib/python3.7/site-packages/tensorflow/python/training/saver.py:1266: checkpoint_exists (from tensorflow.python.training.checkpoint_management) is deprecated and will be removed in a future version.\n",
      "Instructions for updating:\n",
      "Use standard file APIs to check for files with this prefix.\n"
     ]
    },
    {
     "name": "stderr",
     "output_type": "stream",
     "text": [
      "WARNING:tensorflow:From /home/titan/anaconda3/envs/DLC-GPU/lib/python3.7/site-packages/tensorflow/python/training/saver.py:1266: checkpoint_exists (from tensorflow.python.training.checkpoint_management) is deprecated and will be removed in a future version.\n",
      "Instructions for updating:\n",
      "Use standard file APIs to check for files with this prefix.\n"
     ]
    },
    {
     "name": "stdout",
     "output_type": "stream",
     "text": [
      "INFO:tensorflow:Restoring parameters from /home/titan/KI2020/DLC/KI2020_Project-Magnus-2020-08-28/dlc-models/iteration-0/KI2020_ProjectAug28-trainset80shuffle1/train/snapshot-300000\n"
     ]
    },
    {
     "name": "stderr",
     "output_type": "stream",
     "text": [
      "INFO:tensorflow:Restoring parameters from /home/titan/KI2020/DLC/KI2020_Project-Magnus-2020-08-28/dlc-models/iteration-0/KI2020_ProjectAug28-trainset80shuffle1/train/snapshot-300000\n",
      "0it [00:00, ?it/s]"
     ]
    },
    {
     "name": "stdout",
     "output_type": "stream",
     "text": [
      "Analyzing data...\n"
     ]
    },
    {
     "name": "stderr",
     "output_type": "stream",
     "text": [
      "250it [00:04, 59.04it/s]\n",
      "  0%|          | 0/250 [00:00<?, ?it/s]"
     ]
    },
    {
     "name": "stdout",
     "output_type": "stream",
     "text": [
      "Done and results stored for snapshot:  snapshot-300000\n",
      "Results for 300000  training iterations: 80 1 train error: 1.27 pixels. Test error: 2.57  pixels.\n",
      "With pcutoff of 0.6  train error: 1.27 pixels. Test error: 2.51 pixels\n",
      "Thereby, the errors are given by the average distances between the labels by DLC and the scorer.\n",
      "Plotting...\n"
     ]
    },
    {
     "name": "stderr",
     "output_type": "stream",
     "text": [
      "100%|██████████| 250/250 [14:25<00:00,  3.46s/it]"
     ]
    },
    {
     "name": "stdout",
     "output_type": "stream",
     "text": [
      "The network is evaluated and the results are stored in the subdirectory 'evaluation_results'.\n",
      "If it generalizes well, choose the best model for prediction and update the config file with the appropriate index for the 'snapshotindex'.\n",
      "Use the function 'analyze_video' to make predictions on new videos.\n",
      "Otherwise consider retraining the network (see DeepLabCut workflow Fig 2)\n"
     ]
    },
    {
     "name": "stderr",
     "output_type": "stream",
     "text": [
      "\n"
     ]
    }
   ],
   "source": [
    "#dlc.evaluate_network(config_path, plotting=True)"
   ]
  },
  {
   "cell_type": "code",
   "execution_count": 4,
   "metadata": {},
   "outputs": [],
   "source": [
    "#vidname_analyze = '/home/titan/KI2020/ExperimentalResults/20200828/Mouse_29525on5off40hz50pulses6intensity/20200828_behaviour2020_v_29525on5off40hz50pulses6intensity_1/20200828_behaviour2020_v_29525on5off40hz50pulses6intensity_1_recording.avi'\n",
    "#vidname_analyze = '/home/titan/KI2020/ExperimentalResults/20200911/Mouse_0411_10intensity_10on_15off_20/20200911_behaviour2020_v_0411_10intensity_10on_15off_20_1/20200911_behaviour2020_v_0411_10intensity_10on_15off_20_1_recording.avi'\n",
    "vidname_analyze = '/home/titan/KI2020/ExperimentalResults/20200911/Mouse_2029_10intensity_10on_15off/20200911_behaviour2020_v_2029_10intensity_10on_15off_1/20200911_behaviour2020_v_2029_10intensity_10on_15off_1_recording.avi'"
   ]
  },
  {
   "cell_type": "code",
   "execution_count": 5,
   "metadata": {},
   "outputs": [
    {
     "name": "stdout",
     "output_type": "stream",
     "text": [
      "Using snapshot-300000 for model /home/titan/KI2020/DLC/KI2020_Project-Magnus-2020-08-28/dlc-models/iteration-0/KI2020_ProjectAug28-trainset80shuffle1\n",
      "Initializing ResNet\n",
      "WARNING:tensorflow:From /home/titan/anaconda3/envs/DLC-GPU-live/lib/python3.7/site-packages/tensorflow/python/framework/op_def_library.py:263: colocate_with (from tensorflow.python.framework.ops) is deprecated and will be removed in a future version.\n",
      "Instructions for updating:\n",
      "Colocations handled automatically by placer.\n"
     ]
    },
    {
     "name": "stderr",
     "output_type": "stream",
     "text": [
      "WARNING:tensorflow:From /home/titan/anaconda3/envs/DLC-GPU-live/lib/python3.7/site-packages/tensorflow/python/framework/op_def_library.py:263: colocate_with (from tensorflow.python.framework.ops) is deprecated and will be removed in a future version.\n",
      "Instructions for updating:\n",
      "Colocations handled automatically by placer.\n"
     ]
    },
    {
     "name": "stdout",
     "output_type": "stream",
     "text": [
      "WARNING:tensorflow:From /home/titan/anaconda3/envs/DLC-GPU-live/lib/python3.7/site-packages/tensorflow/python/training/saver.py:1266: checkpoint_exists (from tensorflow.python.training.checkpoint_management) is deprecated and will be removed in a future version.\n",
      "Instructions for updating:\n",
      "Use standard file APIs to check for files with this prefix.\n"
     ]
    },
    {
     "name": "stderr",
     "output_type": "stream",
     "text": [
      "WARNING:tensorflow:From /home/titan/anaconda3/envs/DLC-GPU-live/lib/python3.7/site-packages/tensorflow/python/training/saver.py:1266: checkpoint_exists (from tensorflow.python.training.checkpoint_management) is deprecated and will be removed in a future version.\n",
      "Instructions for updating:\n",
      "Use standard file APIs to check for files with this prefix.\n"
     ]
    },
    {
     "name": "stdout",
     "output_type": "stream",
     "text": [
      "INFO:tensorflow:Restoring parameters from /home/titan/KI2020/DLC/KI2020_Project-Magnus-2020-08-28/dlc-models/iteration-0/KI2020_ProjectAug28-trainset80shuffle1/train/snapshot-300000\n"
     ]
    },
    {
     "name": "stderr",
     "output_type": "stream",
     "text": [
      "INFO:tensorflow:Restoring parameters from /home/titan/KI2020/DLC/KI2020_Project-Magnus-2020-08-28/dlc-models/iteration-0/KI2020_ProjectAug28-trainset80shuffle1/train/snapshot-300000\n",
      "  0%|          | 0/40500 [00:00<?, ?it/s]"
     ]
    },
    {
     "name": "stdout",
     "output_type": "stream",
     "text": [
      "Starting to analyze %  /home/titan/KI2020/ExperimentalResults/20200911/Mouse_2029_10intensity_10on_15off/20200911_behaviour2020_v_2029_10intensity_10on_15off_1/20200911_behaviour2020_v_2029_10intensity_10on_15off_1_recording.avi\n",
      "Loading  /home/titan/KI2020/ExperimentalResults/20200911/Mouse_2029_10intensity_10on_15off/20200911_behaviour2020_v_2029_10intensity_10on_15off_1/20200911_behaviour2020_v_2029_10intensity_10on_15off_1_recording.avi\n",
      "Duration of video [s]:  623.08 , recorded with  65.0 fps!\n",
      "Overall # of frames:  40500  found with (before cropping) frame dimensions:  448 448\n",
      "Starting to extract posture\n"
     ]
    },
    {
     "name": "stderr",
     "output_type": "stream",
     "text": [
      "40905it [05:57, 114.30it/s]                           \n"
     ]
    },
    {
     "name": "stdout",
     "output_type": "stream",
     "text": [
      "Detected frames:  40500\n",
      "Saving results in /home/titan/KI2020/ExperimentalResults/20200911/Mouse_2029_10intensity_10on_15off/20200911_behaviour2020_v_2029_10intensity_10on_15off_1...\n",
      "Saving csv poses!\n",
      "The videos are analyzed. Now your research can truly start! \n",
      " You can create labeled videos with 'create_labeled_video'.\n",
      "If the tracking is not satisfactory for some videos, consider expanding the training set. You can use the function 'extract_outlier_frames' to extract any outlier frames!\n"
     ]
    }
   ],
   "source": [
    "\n",
    "savefile = dlc.analyze_videos(config_path, [vidname_analyze], save_as_csv=True)"
   ]
  },
  {
   "cell_type": "code",
   "execution_count": 6,
   "metadata": {},
   "outputs": [
    {
     "data": {
      "text/plain": [
       "'DLC_resnet50_KI2020_ProjectAug28shuffle1_300000'"
      ]
     },
     "execution_count": 6,
     "metadata": {},
     "output_type": "execute_result"
    }
   ],
   "source": []
  },
  {
   "cell_type": "code",
   "execution_count": 15,
   "metadata": {},
   "outputs": [
    {
     "name": "stderr",
     "output_type": "stream",
     "text": [
      "  0%|          | 62/90049 [00:00<02:25, 617.59it/s]"
     ]
    },
    {
     "name": "stdout",
     "output_type": "stream",
     "text": [
      "Starting %  /home/titan/KI2020/ExperimentalResults/20200828/Mouse_29525on5off40hz50pulses6intensity/20200828_behaviour2020_v_29525on5off40hz50pulses6intensity_1 ['/home/titan/KI2020/ExperimentalResults/20200828/Mouse_29525on5off40hz50pulses6intensity/20200828_behaviour2020_v_29525on5off40hz50pulses6intensity_1/20200828_behaviour2020_v_29525on5off40hz50pulses6intensity_1_recording.avi']\n",
      "Loading  /home/titan/KI2020/ExperimentalResults/20200828/Mouse_29525on5off40hz50pulses6intensity/20200828_behaviour2020_v_29525on5off40hz50pulses6intensity_1/20200828_behaviour2020_v_29525on5off40hz50pulses6intensity_1_recording.avi and data.\n",
      "90049\n",
      "Duration of video [s]:  1385.37 , recorded with  65.0 fps!\n",
      "Overall # of frames:  90049 with cropped frame dimensions:  448 448\n",
      "Generating frames and creating video.\n"
     ]
    },
    {
     "name": "stderr",
     "output_type": "stream",
     "text": [
      "100%|██████████| 90049/90049 [02:21<00:00, 634.80it/s]\n"
     ]
    }
   ],
   "source": [
    "dlc.create_labeled_video(config_path, [vidname_analyze], trailpoints=1, draw_skeleton=True, videotype='.avi')"
   ]
  },
  {
   "cell_type": "code",
   "execution_count": 8,
   "metadata": {},
   "outputs": [
    {
     "name": "stdout",
     "output_type": "stream",
     "text": [
      "Initializing ResNet\n",
      "WARNING:tensorflow:From /home/titan/anaconda3/envs/DLC-GPU-live/lib/python3.7/site-packages/tensorflow/python/framework/op_def_library.py:263: colocate_with (from tensorflow.python.framework.ops) is deprecated and will be removed in a future version.\n",
      "Instructions for updating:\n",
      "Colocations handled automatically by placer.\n"
     ]
    },
    {
     "name": "stderr",
     "output_type": "stream",
     "text": [
      "WARNING:tensorflow:From /home/titan/anaconda3/envs/DLC-GPU-live/lib/python3.7/site-packages/tensorflow/python/framework/op_def_library.py:263: colocate_with (from tensorflow.python.framework.ops) is deprecated and will be removed in a future version.\n",
      "Instructions for updating:\n",
      "Colocations handled automatically by placer.\n"
     ]
    },
    {
     "name": "stdout",
     "output_type": "stream",
     "text": [
      "WARNING:tensorflow:From /home/titan/anaconda3/envs/DLC-GPU-live/lib/python3.7/site-packages/tensorflow/python/training/saver.py:1266: checkpoint_exists (from tensorflow.python.training.checkpoint_management) is deprecated and will be removed in a future version.\n",
      "Instructions for updating:\n",
      "Use standard file APIs to check for files with this prefix.\n"
     ]
    },
    {
     "name": "stderr",
     "output_type": "stream",
     "text": [
      "WARNING:tensorflow:From /home/titan/anaconda3/envs/DLC-GPU-live/lib/python3.7/site-packages/tensorflow/python/training/saver.py:1266: checkpoint_exists (from tensorflow.python.training.checkpoint_management) is deprecated and will be removed in a future version.\n",
      "Instructions for updating:\n",
      "Use standard file APIs to check for files with this prefix.\n"
     ]
    },
    {
     "name": "stdout",
     "output_type": "stream",
     "text": [
      "INFO:tensorflow:Restoring parameters from /home/titan/KI2020/DLC/KI2020_Project-Magnus-2020-08-28/dlc-models/iteration-0/KI2020_ProjectAug28-trainset80shuffle1/train/snapshot-300000\n"
     ]
    },
    {
     "name": "stderr",
     "output_type": "stream",
     "text": [
      "INFO:tensorflow:Restoring parameters from /home/titan/KI2020/DLC/KI2020_Project-Magnus-2020-08-28/dlc-models/iteration-0/KI2020_ProjectAug28-trainset80shuffle1/train/snapshot-300000\n"
     ]
    },
    {
     "name": "stdout",
     "output_type": "stream",
     "text": [
      "WARNING:tensorflow:From /home/titan/anaconda3/envs/DLC-GPU-live/lib/python3.7/site-packages/tensorflow/python/tools/freeze_graph.py:249: FastGFile.__init__ (from tensorflow.python.platform.gfile) is deprecated and will be removed in a future version.\n",
      "Instructions for updating:\n",
      "Use tf.gfile.GFile.\n"
     ]
    },
    {
     "name": "stderr",
     "output_type": "stream",
     "text": [
      "WARNING:tensorflow:From /home/titan/anaconda3/envs/DLC-GPU-live/lib/python3.7/site-packages/tensorflow/python/tools/freeze_graph.py:249: FastGFile.__init__ (from tensorflow.python.platform.gfile) is deprecated and will be removed in a future version.\n",
      "Instructions for updating:\n",
      "Use tf.gfile.GFile.\n"
     ]
    },
    {
     "name": "stdout",
     "output_type": "stream",
     "text": [
      "INFO:tensorflow:Restoring parameters from /home/titan/KI2020/DLC/KI2020_Project-Magnus-2020-08-28/dlc-models/iteration-0/KI2020_ProjectAug28-trainset80shuffle1/train/snapshot-300000\n"
     ]
    },
    {
     "name": "stderr",
     "output_type": "stream",
     "text": [
      "INFO:tensorflow:Restoring parameters from /home/titan/KI2020/DLC/KI2020_Project-Magnus-2020-08-28/dlc-models/iteration-0/KI2020_ProjectAug28-trainset80shuffle1/train/snapshot-300000\n"
     ]
    },
    {
     "name": "stdout",
     "output_type": "stream",
     "text": [
      "WARNING:tensorflow:From /home/titan/anaconda3/envs/DLC-GPU-live/lib/python3.7/site-packages/tensorflow/python/tools/freeze_graph.py:232: convert_variables_to_constants (from tensorflow.python.framework.graph_util_impl) is deprecated and will be removed in a future version.\n",
      "Instructions for updating:\n",
      "Use tf.compat.v1.graph_util.convert_variables_to_constants\n"
     ]
    },
    {
     "name": "stderr",
     "output_type": "stream",
     "text": [
      "WARNING:tensorflow:From /home/titan/anaconda3/envs/DLC-GPU-live/lib/python3.7/site-packages/tensorflow/python/tools/freeze_graph.py:232: convert_variables_to_constants (from tensorflow.python.framework.graph_util_impl) is deprecated and will be removed in a future version.\n",
      "Instructions for updating:\n",
      "Use tf.compat.v1.graph_util.convert_variables_to_constants\n"
     ]
    },
    {
     "name": "stdout",
     "output_type": "stream",
     "text": [
      "WARNING:tensorflow:From /home/titan/anaconda3/envs/DLC-GPU-live/lib/python3.7/site-packages/tensorflow/python/framework/graph_util_impl.py:245: extract_sub_graph (from tensorflow.python.framework.graph_util_impl) is deprecated and will be removed in a future version.\n",
      "Instructions for updating:\n",
      "Use tf.compat.v1.graph_util.extract_sub_graph\n"
     ]
    },
    {
     "name": "stderr",
     "output_type": "stream",
     "text": [
      "WARNING:tensorflow:From /home/titan/anaconda3/envs/DLC-GPU-live/lib/python3.7/site-packages/tensorflow/python/framework/graph_util_impl.py:245: extract_sub_graph (from tensorflow.python.framework.graph_util_impl) is deprecated and will be removed in a future version.\n",
      "Instructions for updating:\n",
      "Use tf.compat.v1.graph_util.extract_sub_graph\n"
     ]
    },
    {
     "name": "stdout",
     "output_type": "stream",
     "text": [
      "INFO:tensorflow:Froze 269 variables.\n"
     ]
    },
    {
     "name": "stderr",
     "output_type": "stream",
     "text": [
      "INFO:tensorflow:Froze 269 variables.\n"
     ]
    },
    {
     "name": "stdout",
     "output_type": "stream",
     "text": [
      "INFO:tensorflow:Converted 269 variables to const ops.\n"
     ]
    },
    {
     "name": "stderr",
     "output_type": "stream",
     "text": [
      "INFO:tensorflow:Converted 269 variables to const ops.\n"
     ]
    }
   ],
   "source": [
    "#dlc.export_model(config_path)"
   ]
  },
  {
   "cell_type": "code",
   "execution_count": 13,
   "metadata": {},
   "outputs": [
    {
     "data": {
      "text/plain": [
       "'/home/titan/KI2020/Code/DLC'"
      ]
     },
     "execution_count": 13,
     "metadata": {},
     "output_type": "execute_result"
    }
   ],
   "source": [
    "from dlclive import DLCLive, Processor\n",
    "import cv2"
   ]
  },
  {
   "cell_type": "code",
   "execution_count": 16,
   "metadata": {},
   "outputs": [],
   "source": [
    "dlc_proc = Processor()\n",
    "modelfile = \"/home/titan/KI2020/DLC/KI2020_Project-Magnus-2020-08-28/exported-models/DLC_KI2020_Project_resnet_50_iteration-0_shuffle-1/\"\n",
    "\n",
    "dlc_live = DLCLive(modelfile)\n"
   ]
  },
  {
   "cell_type": "code",
   "execution_count": 17,
   "metadata": {},
   "outputs": [],
   "source": [
    "vidfile = '/home/titan/KI2020/ExperimentalResults/20200827/Mouse_29510on15off40hz5intensity/20200827_behaviour2020_v_29510on15off40hz5intensity_1/20200827_behaviour2020_v_29510on15off40hz5intensity_1_recording.avi'\n",
    "cap = cv2.VideoCapture(vidfile)\n"
   ]
  },
  {
   "cell_type": "code",
   "execution_count": 18,
   "metadata": {},
   "outputs": [],
   "source": [
    "succ , img = cap.read()"
   ]
  },
  {
   "cell_type": "code",
   "execution_count": 22,
   "metadata": {},
   "outputs": [],
   "source": [
    "dlc_live.init_inference()"
   ]
  },
  {
   "cell_type": "code",
   "execution_count": 23,
   "metadata": {},
   "outputs": [
    {
     "data": {
      "text/plain": [
       "array([[ 65.23773 ,  79.535255,   1.      ],\n",
       "       [ 66.89993 ,  89.122604,   1.      ],\n",
       "       [ 76.04325 ,  84.95593 ,   1.      ],\n",
       "       [ 81.654945, 113.27029 ,   1.      ]], dtype=float32)"
      ]
     },
     "execution_count": 23,
     "metadata": {},
     "output_type": "execute_result"
    }
   ],
   "source": [
    "dlc_live.get_pose(img)"
   ]
  },
  {
   "cell_type": "code",
   "execution_count": null,
   "metadata": {},
   "outputs": [],
   "source": []
  }
 ],
 "metadata": {
  "kernelspec": {
   "display_name": "Python [conda env:DLC-GPU-live] *",
   "language": "python",
   "name": "conda-env-DLC-GPU-live-py"
  },
  "language_info": {
   "codemirror_mode": {
    "name": "ipython",
    "version": 3
   },
   "file_extension": ".py",
   "mimetype": "text/x-python",
   "name": "python",
   "nbconvert_exporter": "python",
   "pygments_lexer": "ipython3",
   "version": "3.7.7"
  }
 },
 "nbformat": 4,
 "nbformat_minor": 4
}
