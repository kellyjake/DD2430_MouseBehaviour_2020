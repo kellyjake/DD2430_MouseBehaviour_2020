{
 "cells": [
  {
   "cell_type": "code",
   "execution_count": 22,
   "metadata": {},
   "outputs": [],
   "source": [
    "import deeplabcut as dlc\n",
    "import numpy as np\n",
    "import csv , os\n",
    "\n",
    "import cv2\n",
    "\n",
    "dlc_config_path = '/home/titan/KI2020/DLC/KI2020_Project-Magnus-2020-08-28/config.yaml'\n",
    "video_filename = '/home/titan/KI2020/ExperimentalResults/20200911/Mouse_0411_10intensity_10on_15off_20/20200911_behaviour2020_v_0411_10intensity_10on_15off_20_1/20200911_behaviour2020_v_0411_10intensity_10on_15off_20_1_recording.avi'\n",
    "model_name='DLC_resnet50_KI2020_ProjectAug28shuffle1_300000'\n",
    "csv_filename = '/home/titan/KI2020/ExperimentalResults/20200911/Mouse_0411_10intensity_10on_15off_20/20200911_behaviour2020_v_0411_10intensity_10on_15off_20_1/20200911_behaviour2020_v_0411_10intensity_10on_15off_20_1_recording' + model_name + '.csv'\n"
   ]
  },
  {
   "cell_type": "code",
   "execution_count": null,
   "metadata": {},
   "outputs": [],
   "source": []
  }
 ],
 "metadata": {
  "kernelspec": {
   "display_name": "Python [conda env:DLC-GPU-live] *",
   "language": "python",
   "name": "conda-env-DLC-GPU-live-py"
  },
  "language_info": {
   "codemirror_mode": {
    "name": "ipython",
    "version": 3
   },
   "file_extension": ".py",
   "mimetype": "text/x-python",
   "name": "python",
   "nbconvert_exporter": "python",
   "pygments_lexer": "ipython3",
   "version": "3.7.7"
  }
 },
 "nbformat": 4,
 "nbformat_minor": 4
}
